{
 "cells": [
  {
   "cell_type": "code",
   "execution_count": 1,
   "metadata": {},
   "outputs": [],
   "source": [
    "import pandas as pd \n",
    "from collections import Counter"
   ]
  },
  {
   "cell_type": "code",
   "execution_count": 17,
   "metadata": {},
   "outputs": [
    {
     "name": "stdout",
     "output_type": "stream",
     "text": [
      "[('John', 174), ('Jack', 161), ('Emily', 138), ('Sarah', 130), ('Andrew', 129), ('William', 128), ('Ryan', 118), ('Matthew', 116), ('James', 104), ('Nicholas', 104), ('Elizabeth', 102), ('Emma', 102), ('Grace', 100), ('Julia', 100), ('Michael', 98), ('Thomas', 95), ('Hannah', 93), ('Anna', 91), ('Benjamin', 91), ('Alexander', 89), ('Caroline', 86), ('Daniel', 84), ('Lauren', 83), ('Olivia', 82), ('David', 81), ('Alex', 79), ('Katherine', 76), ('Christopher', 75), ('Ian', 75), ('Jacob', 72), ('Robert', 70), ('Joseph', 69), ('Connor', 67), ('Peter', 65), ('Samuel', 65), ('Mary', 64), ('Charles', 63), ('Sophia', 63), ('Patrick', 61), ('Sam', 61), ('Claire', 60), ('Nathan', 58), ('Luke', 56), ('Rachel', 55), ('Megan', 54), ('Sean', 54), ('Ben', 53), ('Ethan', 53), ('Aidan', 52), ('Henry', 52), ('Noah', 52), ('Tyler', 51), ('Zachary', 51), ('Kyle', 50), ('Liam', 50), ('Kate', 49), ('Max', 49), ('Adam', 48), ('Alexandra', 47), ('Jessica', 46), ('Taylor', 46), ('Jonathan', 45), ('Madeline', 45), ('Natalie', 45), ('Katie', 44), ('Lucas', 44), ('Samantha', 44), ('Abigail', 43), ('Ella', 43), ('Morgan', 43), ('Sydney', 42), ('Kevin', 42), ('Catherine', 40), ('Dylan', 40), ('Owen', 40), ('Brian', 39), ('Sophie', 39), ('Will', 39), ('Cameron', 38), ('Charlotte', 38), ('Eric', 38), ('Nick', 38), ('Joshua', 38), ('Austin', 37), ('Colin', 36), ('Erin', 36), ('Molly', 36), ('Ava', 35), ('Zoe', 35), ('Audrey', 34), ('Christian', 34), ('Evan', 34), ('Laura', 34), ('Lily', 34), ('Nicole', 34), ('Sara', 34), ('Allison', 33), ('Brendan', 33), ('Victoria', 33), ('Chris', 31), ('Madison', 31), ('Amelia', 30), ('Jackson', 30), ('Ashley', 29), ('Isabella', 29), ('Gavin', 28), ('Margaret', 28), ('Brooke', 27), ('Charlie', 27), ('George', 27), ('Grant', 27), ('Harrison', 27), ('Kayla', 27), ('Lucy', 27), ('Mason', 27), ('Maya', 27), ('Oliver', 27), ('Jordan', 26), ('Justin', 26), ('Maggie', 26), ('Kathryn', 26), ('Gabriel', 25), ('Hunter', 25), ('Jake', 25), ('Jennifer', 25), ('Sofia', 25), ('Rebecca', 25), ('Aaron', 24), ('Amanda', 24), ('Anthony', 24), ('Carter', 24), ('Chloe', 24), ('Gabrielle', 24), ('Isabel', 24), ('Parker', 24), ('Scott', 24), ('Brandon', 23), ('Haley', 23), ('Jenna', 23), ('Logan', 23), ('Maria', 23), ('Paige', 23), ('Stephen', 23), ('Timothy', 23), ('Avery', 22), ('Caitlin', 22), ('Casey', 22), ('Danielle', 22), ('Hayden', 22), ('Paul', 22), ('Spencer', 22), ('Kelly', 22), ('Annika', 21), ('Cole', 21), ('Isabelle', 21), ('Julian', 21), ('Quinn', 21), ('Ellie', 21), ('Alyssa', 20), ('Jason', 20), ('Josh', 20), ('Madeleine', 20), ('Nicolas', 20), ('Riley', 20), ('Abby', 19), ('Blake', 19), ('Edward', 19), ('Garrett', 19), ('Maxwell', 19), ('Meghan', 19), ('Nathaniel', 19), ('Caleb', 19), ('Meredith', 19), ('Mitchell', 19), ('Alec', 18), ('Alexa', 18), ('Griffin', 18), ('Jane', 18), ('Mia', 18), ('Richard', 18), ('Alexis', 17), ('Jamie', 17), ('Matt', 17), ('Jacqueline', 17), ('Annie', 16), ('Bryce', 16), ('Eleanor', 16), ('Isaac', 16), ('Jeffrey', 16), ('Kaitlyn', 16), ('Nora', 16), ('Trevor', 16), ('Fiona', 16), ('Bailey', 15), ('Brett', 15), ('Carly', 15), ('Chase', 15), ('Jeremy', 15), ('Joe', 15), ('Kathleen', 15), ('Kelsey', 15), ('Kristen', 15), ('Lindsey', 15), ('Maddie', 15), ('Mark', 15), ('Theodore', 15), ('Cecilia', 15), ('Jonah', 15), ('Tristan', 15), ('Amy', 14), ('Anne', 14), ('Brianna', 14), ('Carolyn', 14), ('Cooper', 14), ('Courtney', 14), ('Gabriella', 14), ('Leah', 14), ('Michelle', 14), ('Miles', 14), ('Oscar', 14), ('Shannon', 14), ('Victor', 14), ('Clare', 14), ('Jillian', 14), ('Lillian', 14), ('Bridget', 13), ('Drew', 13), ('Evelyn', 13), ('Graham', 13), ('Hailey', 13), ('Joey', 13), ('Maeve', 13), ('Savannah', 13), ('Erik', 13), ('Eva', 13), ('Marina', 13), ('Alice', 12), ('Alison', 12), ('Carson', 12), ('Christina', 12), ('Conor', 12), ('Helen', 12), ('Nolan', 12), ('Sierra', 12), ('Stephanie', 12), ('Steven', 12), ('Zach', 12), ('Ana', 12), ('Simon', 12), ('Bradley', 11), ('Calvin', 11), ('Eli', 11), ('Genevieve', 11), ('Juliana', 11), ('Julie', 11), ('Kieran', 11), ('Lisa', 11), ('Marissa', 11), ('Michaela', 11), ('Nina', 11), ('Camille', 11), ('Juan', 11), ('Mackenzie', 11), ('Rowan', 11), ('Walter', 11), ('Clara', 10), ('Declan', 10), ('Devin', 10), ('Elliot', 10), ('Emilia', 10), ('Gillian', 10), ('Jay', 10), ('Kai', 10), ('Katelyn', 10), ('Kira', 10), ('Phoebe', 10), ('Reid', 10), ('Sadie', 10), ('Sebastian', 10), ('Ariana', 10), ('Delaney', 10), ('Elliott', 10), ('Marcus', 10), ('Raymond', 10), ('Shelby', 10), ('Alejandro', 9), ('Andy', 9), ('Annabelle', 9), ('Collin', 9), ('Davis', 9), ('Erica', 9), ('Felix', 9), ('Francis', 9), ('Geoffrey', 9), ('Georgia', 9), ('Hayley', 9), ('Iain', 9), ('Jesse', 9), ('Kimberly', 9), ('Leo', 9), ('Lindsay', 9), ('Miranda', 9), ('Natalia', 9), ('Nate', 9), ('Robin', 9), ('Soren', 9), ('Tara', 9), ('Virginia', 9), ('Wyatt', 9), ('Adrian', 9), ('Andrea', 9), ('Brady', 9), ('Cassandra', 9), ('Christine', 9), ('Dana', 9), ('Ellen', 9), ('Jackie', 9), ('Lilly', 9), ('Madelyn', 9), ('Maximilian', 9), ('Piper', 9), ('Sabrina', 9), ('Shane', 9), ('Shea', 9), ('Stella', 9), ('Vincent', 9), ('Aiden', 8), ('Ali', 8), ('Cody', 8), ('Dan', 8), ('Dane', 8), ('Devon', 8), ('Dillon', 8), ('Duncan', 8), ('Eliza', 8), ('Elle', 8), ('Faith', 8), ('Finn', 8), ('Frances', 8), ('Frank', 8), ('Greg', 8), ('Gregory', 8), ('Harry', 8), ('Heather', 8), ('Holly', 8), ('Jared', 8), ('Josephine', 8), ('Julien', 8), ('Kendall', 8), ('Kylie', 8), ('Lara', 8), ('Louis', 8), ('Lukas', 8), ('Marco', 8), ('Martha', 8), ('Noelle', 8), ('Preston', 8), ('Sally', 8), ('Teddy', 8), ('Tess', 8), ('Theo', 8), ('Tom', 8), ('Alden', 8), ('Allie', 8), ('Anastasia', 8), ('Bennett', 8), ('Kaitlin', 8), ('Maddy', 8), ('Malcolm', 8), ('Marisa', 8), ('Melissa', 8), ('Philip', 8), ('Tanner', 8), ('Addison', 7), ('Annabel', 7), ('Bobby', 7), ('Elena', 7), ('Elijah', 7), ('Eloise', 7), ('Francesca', 7), ('Gordon', 7), ('Gretchen', 7), ('Jonas', 7), ('Laurel', 7), ('Luca', 7), ('Maia', 7), ('Marley', 7), ('Mateo', 7), ('Phillip', 7), ('Pierre', 7), ('Rory', 7), ('Sage', 7), ('Shawn', 7), ('Simone', 7), ('Ted', 7), ('Alana', 7), ('Arthur', 7), ('Bryan', 7), ('Caden', 7), ('Cassidy', 7), ('Chad', 7), ('Colleen', 7), ('Drake', 7), ('Elise', 7), ('Katharine', 7), ('Kyra', 7), ('Lila', 7), ('Lydia', 7), ('Macy', 7), ('Margot', 7), ('Martin', 7), ('Neil', 7), ('Payton', 7), ('Summer', 7), ('Abbie', 6), ('Andreas', 6), ('Anya', 6), ('August', 6), ('Axel', 6), ('Caitlyn', 6), ('Camden', 6), ('Cara', 6), ('Chandler', 6), ('Clark', 6), ('Dalton', 6), ('Dante', 6), ('Darcy', 6), ('Dominic', 6), ('Dorothy', 6), ('Elsa', 6), ('Holden', 6), ('Jan', 6), ('Jasper', 6), ('Kristin', 6), ('Kurt', 6), ('Mallory', 6), ('Marc', 6), ('Marshall', 6), ('McKenzie', 6), ('Mikaela', 6), ('Mike', 6), ('Mira', 6), ('Paula', 6), ('Rafael', 6), ('Renee', 6), ('Rob', 6), ('Sammy', 6), ('Tucker', 6), ('Xavier', 6), ('Angelina', 6), ('Claudia', 6), ('Colby', 6), ('Colton', 6), ('Conner', 6), ('Conrad', 6), ('Corinne', 6), ('Darby', 6), ('Elisabeth', 6), ('Erika', 6), ('Hope', 6), ('Hudson', 6), ('Hugh', 6), ('Jose', 6), ('Karl', 6), ('Kenneth', 6), ('Louisa', 6), ('Marguerite', 6), ('Marie', 6), ('Maura', 6), ('McKenna', 6), ('Natasha', 6), ('Patricia', 6), ('Peyton', 6), ('Reed', 6), ('Reese', 6), ('Ruby', 6), ('Sawyer', 6), ('Seth', 6), ('Talia', 6), ('Tim', 6), ('Albert', 5), ('Alina', 5), ('Ally', 5), ('Alyson', 5), ('Amber', 5), ('Antonio', 5), ('Bella', 5), ('Brad', 5), ('Carlos', 5), ('Cassie', 5), ('Dean', 5), ('Diana', 5), ('Diego', 5), ('Douglas', 5), ('Gage', 5), ('Hanna', 5), ('Heidi', 5), ('Helena', 5), ('Izzy', 5), ('Jessie', 5), ('Katy', 5), ('Kirsten', 5), ('Lena', 5), ('Madalyn', 5), ('Miguel', 5), ('Milo', 5), ('Nelson', 5), ('Rachael', 5), ('Ross', 5), ('Ruth', 5), ('Serena', 5), ('Toby', 5), ('Tony', 5), ('Vanessa', 5), ('Wade', 5), ('Autumn', 5), ('Braden', 5), ('Brent', 5), ('Brittany', 5), ('Carmen', 5), ('Cheyenne', 5), ('Clayton', 5), ('Cora', 5), ('Curtis', 5), ('Danny', 5), ('Derek', 5), ('Dominique', 5), ('Eddie', 5), ('Emerson', 5), ('Everett', 5), ('Gabby', 5), ('Grayson', 5), ('Hali', 5), ('Jaden', 5), ('Javier', 5), ('Karina', 5), ('Kaylee', 5), ('Landon', 5), ('Linnea', 5), ('Lucia', 5), ('Manuel', 5), ('Myles', 5), ('Nigel', 5), ('Rebekah', 5), ('Rose', 5), ('Seamus', 5), ('Skyler', 5), ('Travis', 5), ('Veronica', 5), ('Vivian', 5), ('Abraham', 4), ('Aditya', 4), ('Alan', 4), ('Alix', 4), ('Andres', 4), ('Ann', 4), ('Aoife', 4), ('Arden', 4), ('Ariel', 4), ('Aurora', 4), ('Ayden', 4), ('Becca', 4), ('Cam', 4), ('Daniella', 4), ('Donald', 4), ('Eilis', 4), ('Frederick', 4), ('Garrison', 4), ('Gianna', 4), ('Gina', 4), ('Hadley', 4), ('Halle', 4), ('Hana', 4), ('Jenny', 4), ('Jocelyn', 4), ('Johnny', 4), ('Jonathon', 4), ('Josie', 4), ('Keith', 4), ('Kit', 4), ('Kylee', 4), ('Lachlan', 4), ('Leopold', 4), ('Levi', 4), ('Lizzie', 4), ('Meg', 4), ('Murphy', 4), ('Nikolas', 4), ('Reagan', 4), ('Roman', 4), ('Sabina', 4), ('Tori', 4), ('Ty', 4), ('Valerie', 4), ('Wesley', 4), ('Whitney', 4), ('Abbey', 4), ('Adriana', 4), ('Adrien', 4), ('Alanna', 4), ('Andre', 4), ('Anika', 4), ('Anneliese', 4), ('Antoine', 4), ('Asha', 4), ('Ashton', 4), ('Barrett', 4), ('Blair', 4), ('Cade', 4), ('Caelan', 4), ('Celia', 4), ('Ciara', 4), ('Corey', 4), ('Cristina', 4), ('Dakota', 4), ('Gray', 4), ('Emmett', 4), ('Enzo', 4), ('Flora', 4), ('Greta', 4), ('Gwendolyn', 4), ('Hazel', 4), ('Iris', 4), ('Jasmine', 4), ('Jeremiah', 4), ('Joaquin', 4), ('Johanna', 4), ('Julianna', 4), ('Kara', 4), ('Kasey', 4), ('Keegan', 4), ('Kennedy', 4), ('Kristina', 4), ('Kyla', 4), ('Lewis', 4), ('Liz', 4), ('Lola', 4), ('Makayla', 4), ('Margo', 4), ('Mariana', 4), ('Mathew', 4), ('Mercedes', 4), ('Miriam', 4), ('Nellie', 4), ('Niall', 4), ('Pierce', 4), ('Porter', 4), ('Reilly', 4), ('Ricky', 4), ('River', 4), ('Sandra', 4), ('Sasha', 4), ('Sebastien', 4), ('Shay', 4), ('Sidney', 4), ('Silas', 4), ('Skylar', 4), ('Stuart', 4), ('Sullivan', 4), ('Susan', 4), ('Thea', 4), ('Tiffany', 4), ('Walker', 4), ('Warren', 4), ('Addie', 3), ('Angus', 3), ('Annette', 3), ('Antonia', 3), ('Ash', 3), ('Austen', 3), ('Beau', 3), ('Brigid', 3), ('Bryson', 3), ('Cal', 3), ('Callie', 3), ('Callum', 3), ('Can', 3), ('Carina', 3), ('Carissa', 3), ('Carla', 3), ('Chelsea', 3), ('Daisy', 3), ('Duke', 3), ('Edmund', 3), ('Edwin', 3), ('Elias', 3), ('Esteban', 3), ('Eugene', 3), ('Francesco', 3), ('Gabe', 3), ('Gabriela', 3), ('Giovanna', 3), ('Hamilton', 3), ('Hans', 3), ('Jean', 3), ('Jeff', 3), ('Jill', 3), ('Joel', 3), ('Jon', 3), ('Juliette', 3), ('Katerina', 3), ('Katrina', 3), ('Kaylie', 3), ('Kelsie', 3), ('Konrad', 3), ('Liza', 3), ('Luc', 3), ('Lyndsey', 3), ('Maclain', 3), ('Mae', 3), ('Mara', 3), ('Maren', 3), ('Mariel', 3), ('Mathieu', 3), ('Maxine', 3), ('Nadia', 3), ('Ned', 3), ('Orion', 3), ('Philippe', 3), ('Quincy', 3), ('Roger', 3), ('Ronan', 3), ('Russell', 3), ('Santiago', 3), ('Skye', 3), ('Solomon', 3), ('Stewart', 3), ('Suzanne', 3), ('Terry', 3), ('Tillie', 3), ('Trent', 3), ('Viola', 3), ('Weston', 3), ('Willem', 3), ('Zoey', 3), ('Zuzanna', 3), ('Abe', 3), ('Acadia', 3), ('Adelaide', 3), ('Adeline', 3), ('Adrianna', 3), ('AJ', 3), ('Alexandre', 3), ('Alexandria', 3), ('Alissa', 3), ('Aliyah', 3), ('Anders', 3), ('Angela', 3), ('Anton', 3), ('Arturo', 3), ('Asher', 3), ('Beatrice', 3), ('Bianca', 3), ('Breanna', 3), ('Brianne', 3), ('Brock', 3), ('Brooklyn', 3), ('Caila', 3), ('Cailin', 3), ('Camryn', 3), ('Carolina', 3), ('CJ', 3), ('Clifford', 3), ('Corbin', 3), ('Cory', 3), ('Cynthia', 3), ('Damien', 3), ('Dario', 3), ('Dennis', 3), ('Eden', 3), ('Elaina', 3), ('Emery', 3), ('Emil', 3), ('Emilie', 3), ('Gracie', 3), ('Guillaume', 3), ('Gus', 3), ('Hallie', 3), ('Hugo', 3), ('Irene', 3), ('Ivan', 3), ('Jade', 3), ('Jemma', 3), ('Jensen', 3), ('Jesus', 3), ('JJ', 3), ('Joanna', 3), ('Kailey', 3), ('Kayleigh', 3), ('Keira', 3), ('Keiran', 3), ('Kent', 3), ('Kiara', 3), ('Kiera', 3), ('Kiki', 3), ('Kiley', 3), ('Kristopher', 3), ('Lance', 3), ('Lane', 3), ('Lexi', 3), ('Libby', 3), ('Liliana', 3), ('Lucie', 3), ('Lucien', 3), ('Luna', 3), ('Lynn', 3), ('Makena', 3), ('Makenzie', 3), ('Margaux', 3), ('Mariah', 3), ('Marion', 3), ('Markus', 3), ('Martina', 3), ('Matias', 3), ('matthew', 3), ('Maureen', 3), ('Micah', 3), ('Michal', 3), ('Mo', 3), ('Naomi', 3), ('Nicolai', 3), ('Priscilla', 3), ('Ragna', 3), ('Rahul', 3), ('Regina', 3), ('Robby', 3), ('Roberto', 3), ('Rylie', 3), ('Schuyler', 3), ('Sonia', 3), ('Stanley', 3), ('Stefano', 3), ('Sterling', 3), ('Sunny', 3), ('Sylvia', 3), ('Teagan', 3), ('Teresa', 3), ('Theresa', 3), ('Torin', 3), ('Torrey', 3), ('Troy', 3), ('Valentina', 3), ('Vaughn', 3), ('Vera', 3), ('Zander', 3), ('Adalia', 2), ('Addy', 2), ('Aike', 2), ('Ainsley', 2), ('Alek', 2), ('Alp', 2), ('Ansgar', 2), ('Arielle', 2), ('Arin', 2), ('Arseniy', 2), ('Ashlyn', 2), ('Bekah', 2), ('Bill', 2), ('Bogdan', 2), ('Bracklinn', 2), ('Brenden', 2), ('Bryn', 2), ('Burke', 2), ('Caidan', 2), ('Calli', 2), ('Cason', 2), ('Celeste', 2), ('Chip', 2), ('Christy', 2), ('Clea', 2), ('Coby', 2), ('Damian', 2), ('Defne', 2), ('Diya', 2), ('Eileen', 2), ('Elisa', 2), ('Ellis', 2), ('Emileigh', 2), ('Emmeline', 2), ('Fabio', 2), ('Filip', 2), ('Florian', 2), ('Gary', 2), ('Ginger', 2), ('Gregg', 2), ('Heyward', 2), ('Iona', 2), ('Jayson', 2), ('Jess', 2), ('Jim', 2), ('Jude', 2), ('Jules', 2), ('Kahler', 2), ('Kalee', 2), ('Karen', 2), ('Karla', 2), ('Kenny', 2), ('Kerry', 2), ('Kim', 2), ('Kristian', 2), ('Leyla', 2), ('Lincoln', 2), ('Linor', 2), ('Liv', 2), ('Lizzy', 2), ('Macon', 2), ('Madysen', 2), ('Maisy', 2), ('Marianna', 2), ('Marin', 2), ('Marty', 2), ('Matthieu', 2), ('Nicola', 2), ('Nihal', 2), ('Pablo', 2), ('Paulo', 2), ('Pete', 2), ('Rebekka', 2), ('Riccardo', 2), ('Rocco', 2), ('SCYC', 2), ('Seraphee', 2), ('Shaan', 2), ('Shep', 2), ('Tate', 2), ('Theodor', 2), ('Thibault', 2), ('Tomas', 2), ('Wells', 2), ('Willow', 2), ('Yelena', 2), ('Yolanda', 2), ('Zara', 2), ('Ada', 2), ('Adele', 2), ('Adrienne', 2), ('Aedan', 2), ('Aine', 2), ('Alaina', 2), ('Alecsander', 2), ('Alejandra', 2), ('Aleks', 2), ('Aleksandra', 2), ('Alfonso', 2), ('Alicia', 2), ('Alise', 2), ('Allegra', 2), ('Allen', 2), ('Allyson', 2), ('Alya', 2), ('Amalia', 2), ('Amir', 2), ('Anish', 2), ('Anisha', 2), ('Anita', 2), ('Anjali', 2), ('April', 2), ('Ari', 2), ('Arianna', 2), ('Aryaman', 2), ('Aston', 2), ('Aubrey', 2), ('Audra', 2), ('Augie', 2), ('Bartholomew', 2), ('Bastien', 2), ('Bay', 2), ('Bayard', 2), ('Beatriz', 2), ('Beck', 2), ('Benita', 2), ('Benton', 2), ('Beth', 2), ('Braedon', 2), ('Branden', 2), ('Brayden', 2), ('Brendon', 2), ('Brenna', 2), ('Brennan', 2), ('Briana', 2), ('Bridgette', 2), ('Brigette', 2), ('Brittney', 2), ('Brody', 2), ('Bronwyn', 2), ('Brooks', 2), ('Cailyn', 2), ('Campbell', 2), ('Carl', 2), ('Carley', 2), ('Carlyn', 2), ('Carrie', 2), ('Carsten', 2), ('Catalina', 2), ('Cate', 2), ('Cathleen', 2), ('Catie', 2), ('Celine', 2), ('Chiara', 2), ('Christa', 2), ('Christiana', 2), ('Christophe', 2), ('Cindy', 2), ('Claude', 2), ('Clay', 2), ('Clementine', 2), ('Cliff', 2), ('Clinton', 2), ('Cortney', 2), ('Craig', 2), ('Crispin', 2), ('Cully', 2), ('Dahlia', 2), ('Daniela', 2), ('Danyte', 2), ('Dawson', 2), ('Deborah', 2), ('Delilah', 2), ('Delphine', 2), ('Denise', 2), ('Dexter', 2), ('Eduardo', 2), ('Eliot', 2), ('Eliott', 2), ('Elissa', 2), ('Lulu', 2), ('Elyssa', 2), ('Emelia', 2), ('Emi', 2), ('Emmet', 2), ('Emmy', 2), ('Emre', 2), ('Erich', 2), ('Ernest', 2), ('Etienne', 2), ('Eve', 2), ('Ezra', 2), ('Fabian', 2), ('Fernando', 2), ('Finian', 2), ('Finley', 2), ('Phineas', 2), ('Florence', 2), ('Francine', 2), ('Franco', 2), ('Franklin', 2), ('Fraser', 2), ('Fritz', 2), ('Gaby', 2), ('Gemma', 2), ('Giancarlo', 2), ('Giselle', 2), ('Giulianna', 2), ('Glen', 2), ('Grayden', 2), ('Greer', 2), ('Guilherme', 2), ('Gunnar', 2), ('Gustav', 2), ('Gwenyth', 2), ('Gwynie', 2), ('Hal', 2), ('Hank', 2), ('Harland', 2), ('Harley', 2), ('Harper', 2), ('Harris', 2), ('Hattie', 2), ('Hector', 2), ('Henri', 2), ('Hollis', 2), ('Ilya', 2), ('Imogene', 2), ('Inga', 2), ('Isabela', 2), ('Isaiah', 2), ('Izabella', 2), ('Izaiah', 2), ('jacob', 2), ('Jana', 2), ('Jaqueline', 2), ('Jarret', 2), ('Jean-Luc', 2), ('Jed', 2), ('Jessi', 2), ('Jewel', 2), ('Jimmy', 2), ('Jin', 2), ('Johnathan', 2), ('Josiah', 2), ('Julio', 2), ('Kaden', 2), ('Kaiden', 2), ('Kaili', 2), ('Kaiya', 2), ('Kalea', 2), ('Kaleb', 2), ('Kamran', 2), ('Karma', 2), ('katherine', 2), ('Katja', 2), ('Kay', 2), ('Keaton', 2), ('Keenan', 2), ('Kellen', 2), ('Kellie', 2), ('Kendra', 2), ('Kerem', 2), ('Kerri', 2), ('Kerstin', 2), ('Khushi', 2), ('Kia', 2), ('Kian', 2), ('Kiana', 2), ('Kirill', 2), ('Kolby', 2), ('Korbin', 2), ('Laila', 2), ('Lars', 2), ('Lauryn', 2), ('Lawson', 2), ('Lea', 2), ('Lee', 2), ('Leila', 2), ('Leon', 2), ('Leslie', 2), ('Lexie', 2), ('Lina', 2), ('Livia', 2), ('Lois', 2), ('Louise', 2), ('Luisa', 2), ('Maartje', 2), ('Macey', 2), ('Mack', 2), ('Madi', 2), ('Magnus', 2), ('Makenna', 2), ('Mandy', 2), ('Marcelo', 2), ('Marian', 2), ('Marika', 2), ('Marleigh', 2), ('Marta', 2), ('Mathias', 2), ('Matteo', 2), ('Matthias', 2), ('Mauricio', 2), ('Maximus', 2), ('Meagan', 2), ('Meara', 2), ('Melanie', 2), ('Meri', 2), ('Merrick', 2), ('Mika', 2), ('Mikasa', 2), ('Mikayla', 2), ('Mikhail', 2), ('Millie', 2), ('Mina', 2), ('Mitchel', 2), ('Moira', 2), ('Mollie', 2), ('Monika', 2), ('Nagisa', 2), ('Nalu', 2), ('Nat', 2), ('Natalya', 2), ('Nevin', 2), ('Nikhil', 2), ('Nikita', 2), ('Nikki', 2), ('Nils', 2), ('Noa', 2), ('Noora', 2), ('Norah', 2), ('Octavio', 2), ('Olga', 2), ('Paris', 2), ('Paulina', 2), ('Pauline', 2), ('Pearce', 2), ('Pearl', 2), ('Penelope', 2), ('Quinten', 2), ('Raam', 2), ('Rakesh', 2), ('Raquel', 2), ('Remy', 2), ('Rio', 2), ('Robyn', 2), ('Rohan', 2), ('Rohit', 2), ('Romain', 2), ('Rosie', 2), ('Roxanne', 2), ('Roy', 2), ('Rufus', 2), ('Rushil', 2), ('Rylee', 2), ('Ryosuke', 2), ('Sailor', 2), ('Samara', 2), ('Sanjana', 2), ('Sarra', 2), ('Scarlett', 2), ('Sergio', 2), ('Seton', 2), ('Siena', 2), ('Siobhan', 2), ('Siri', 2), ('Skylor', 2), ('Sloane', 2), ('Stacey', 2), ('Stefan', 2), ('Stephan', 2), ('Sudi', 2), ('Susie', 2), ('Tammy', 2), ('Tamryn', 2), ('Taryn', 2), ('Tatiana', 2), ('Teague', 2), ('Tegan', 2), ('Tessa', 2), ('Tia', 2), ('Tiernan', 2), ('Tina', 2), ('TJ', 2), ('Tobias', 2), ('Tommaso', 2), ('Tor', 2), ('Trenton', 2), ('Triston', 2), ('Trixie', 2), ('Turner', 2), ('Ursula', 2), ('Veronika', 2), ('Vidar', 2), ('Viktor', 2), ('Violet', 2), ('Wataru', 2), ('Wiktoria', 2), ('Wiley', 2), ('Wilson', 2), ('Winston', 2), ('Wynne', 2), ('Xander', 2), ('Ximena', 2), ('Yanni', 2), ('Yitian', 2), ('Young', 2), ('Zack', 2), ('Zak', 2), ('Zane', 2), ('A.J.', 1), ('Aayush', 1), ('Abagail', 1), ('Abigael', 1), ('Addisyn', 1), ('Aevyn', 1), ('Ainslie', 1), ('Alba', 1), ('Alena', 1), ('Alexey', 1), ('Alexus', 1), ('Aliris', 1), ('Allan', 1), ('Ambika', 1), ('Anabelle', 1), ('Andi', 1), ('Angel', 1), ('Annalise', 1), ('Annesley', 1), ('Anshul', 1), ('Apollo', 1), ('Aram', 1), ('Arul', 1), ('Aryeh', 1), ('Aryya', 1), ('Astrid', 1), ('Atticus', 1), ('Aylee', 1), ('Ayush', 1), ('Ba-Doung', 1), ('Baker', 1), ('Bales', 1), ('Bear', 1), ('Benan', 1), ('Berg', 1), ('Bob', 1), ('Bolin', 1), ('Bradford', 1), ('Britton', 1), ('Brogan', 1), ('Buttler', 1), ('Byron', 1), ('CONNOR', 1), ('Camila', 1), ('Cardwell', 1), ('Carli', 1), ('Carol', 1), ('Chanley', 1), ('Chrissy', 1), ('Christiaan', 1), ('Clarice', 1), ('Conlan', 1), ('Cori', 1), ('Danicka', 1), ('Dariush', 1), ('Dave', 1), ('Dayna', 1), ('Deane', 1), ('Derin', 1), ('Destin', 1), ('Doga', 1), ('Duru', 1), ('Edgard', 1), ('Egemen', 1), ('Emelie', 1), ('Emmanuella', 1), ('Emmilee', 1), ('Emory', 1), ('Erinn', 1), ('Ery', 1), ('Esther', 1), ('Fakie', 1), ('Feiyang', 1), ('Ferdinand', 1), ('Fill', 1), ('Forrest', 1), ('Fox', 1), ('Gai', 1), ('Gissell', 1), ('Giuditta', 1), ('Graicen', 1), ('Guillermo', 1), ('Hatcher', 1), ('Heath', 1), ('Helmut', 1), ('Holt', 1), ('Howie', 1), ('Humzah', 1), ('Hurley', 1), ('Ingrid', 1), ('J.R.', 1), ('JB', 1), ('Jago', 1), ('Jairo', 1), ('Jakob', 1), ('Jamyka', 1), ('Jaron', 1), ('Jean-Baptiste', 1), ('Jeffery', 1), ('Jen', 1), ('Jichi', 1), ('Joeseph', 1), ('Jom', 1), ('Jono', 1), ('Jowelle', 1), ('Judge', 1), ('Juhi', 1), ('Junya', 1), ('Kadie', 1), ('Kaity', 1), ('Kaj', 1), ('Kamron', 1), ('Karissa', 1), ('Kata', 1), ('Keily', 1), ('Kenji', 1), ('Kiri', 1), ('Laith', 1), ('Lana', 1), ('Langdon', 1), ('Laug', 1), ('Laurin', 1), ('Law', 1), ('Lawrence', 1), ('Leana', 1), ('Leanna', 1), ('Lianne', 1), ('Lisandro', 1), ('Lloyd', 1), ('Loren', 1), ('Louis-Philipe', 1), ('Maddline', 1), ('Makar', 1), ('Manas', 1), ('Maran', 1), ('Mariam', 1), ('Marlie', 1), ('Marni', 1), ('Massimo', 1), ('Mati', 1), ('McLean', 1), ('Mei', 1), ('Meimei', 1), ('Midori', 1), ('Ming', 1), ('Mya', 1), ('Newt', 1), ('Nikolo', 1), ('Oceana', 1), ('Paisleigh', 1), ('Pam', 1), ('Pax', 1), ('Presten', 1), ('Quin', 1), ('Rae', 1), ('Rajshibhu', 1), ('Ramsay', 1), ('Reagen', 1), ('Rebeccca', 1), ('Rennaisance', 1), ('Rich', 1), ('Ridgeway', 1), ('Roddy', 1), ('Roni', 1), ('Rony', 1), ('Rowen', 1), ('Ruairi', 1), ('Satya', 1), ('Serik', 1), ('Shrey', 1), ('Shrikar', 1), ('Shuchen', 1), ('Siddhant', 1), ('Siha', 1), ('Simmi', 1), ('Sloan', 1), ('Steve', 1), ('Stony', 1), ('Sultan', 1), ('T.', 1), ('Tabathia', 1), ('Tarragh', 1), ('Thompson', 1), ('Tiegan', 1), ('Tobermory', 1), ('Todd', 1), ('Tomasso', 1), ('Toni', 1), ('Treacy', 1), ('Umberto', 1), ('Valarie', 1), ('Valeriia', 1), ('Varda', 1), ('Virginie', 1), ('Waldo', 1), ('Weber', 1), ('Wyndham', 1), ('Ya\\\\xc3\\\\xabl', 1), ('Yasminna', 1), ('Yinjin', 1), ('Youseff', 1), ('Yuvan', 1), ('Yuwen', 1), ('Zachery', 1), ('Zhitao', 1), ('Zhonghan', 1), ('Zoie', 1), ('aadvika', 1), ('Abbi', 1), ('Abdel', 1), ('Abdulkarim', 1), ('Abhijeet', 1), ('Abhishek', 1), ('Abigale', 1), ('Abigayle', 1), ('abraham', 1), ('Abrianna', 1), ('adam', 1), ('Addi', 1), ('Addyson', 1), ('Ade', 1), ('Adelia', 1), ('Adelyn', 1), ('Adem', 1), ('Aden', 1), ('Adilah', 1), ('Adithya', 1), ('Adityavardhan', 1), ('Adler', 1), ('Adora', 1), ('Adra', 1), ('Adriane', 1), ('Advik', 1), ('Aekam', 1), ('Aengus', 1), ('Aerin', 1), ('Agija', 1), ('Ahitagni', 1), ('Aiana', 1), ('Aicha', 1), ('aiden', 1), ('Aiesha', 1), ('Ailey', 1), ('Aili', 1), ('Ailish', 1), ('Aimee', 1), ('Aine-maire', 1), ('Ainesh', 1), ('Aisling', 1), ('Aislinn', 1), ('Aitana', 1), ('Aitor', 1), ('Aivan', 1), ('Ajita', 1), ('Akash', 1), ('Aki', 1), ('Akshit', 1), ('Alair', 1), ('Alannah', 1), ('Alara', 1), ('Alasdair', 1), ('Alaya', 1), ('Alberto', 1), ('Aleix', 1), ('Aleksander', 1), ('Alesha', 1), ('Alessandra', 1), ('alex', 1), ('Alexandro', 1), ('Alexandros', 1), ('Alexia', 1), ('Alexie', 1), ('Alexina', 1), ('Alexx', 1), ('Algis', 1), ('Alie', 1), ('Aliki', 1), ('Alim', 1), ('Alinoe', 1), ('Alisher', 1), ('Alisia', 1), ('Alistair', 1), ('Alivia', 1), ('alix', 1), ('Aliya', 1), ('Alli', 1), ('Alliana', 1), ('Allysen', 1), ('Alphia', 1), ('Altea', 1), ('Althea', 1), ('Alvaro', 1), ('Alvin', 1), ('Alyan', 1), ('alyssa', 1), ('Alyssandra', 1), ('amanda', 1), ('amelia', 1), ('Amelie', 1), ('Amelka', 1), ('Amina', 1), ('Amira', 1), ('An', 1), ('Ana-Maria', 1), ('AnaClare', 1), ('AnaLucia', 1), ('Anastasiya', 1), ('Andalucia', 1), ('Andela', 1), ('Ander', 1), ('anderson', 1), ('Andoni', 1), ('Andreea', 1), ('andrew', 1), ('Andries', 1), ('Anen', 1), ('anindita', 1), ('Anjella', 1), ('Ankit', 1), ('AnnaClaire', 1), ('Annaliese', 1), ('AnnaMarie', 1), ('Annarose', 1), ('Annecy', 1), ('Annelies', 1), ('Annelisa', 1), ('Annemarie', 1), ('AnnMarie', 1), ('Annmarie', 1), ('Annslee', 1), ('Anny', 1), ('Anselm', 1), ('Anson', 1), ('Anthon', 1), ('Antoinette', 1), ('Aragorn', 1), ('Arantxa', 1), ('Archie', 1), ('Ardumus', 1), ('Aren', 1), ('Ariadne', 1), ('Ariane', 1), ('Aric', 1), ('Arjun', 1), ('Arkin', 1), ('Arlo', 1), ('Aron', 1), ('Arosh', 1), ('Arrieta', 1), ('Artem', 1), ('Artemis', 1), ('Artie', 1), ('Arun', 1), ('Arwen', 1), ('Aryana', 1), ('aryanna', 1), ('Asa', 1), ('Ashlee', 1), ('Ashleigh', 1), ('Ashley-Belle', 1), ('Ashlynd', 1), ('Ashtyn', 1), ('Asia', 1), ('Asianna', 1), ('Aspasia', 1), ('Aspen', 1), ('Athena', 1), ('Athina', 1), ('Atlee', 1), ('Attallah', 1), ('Aubin', 1), ('Auguste', 1), ('Augustina', 1), ('Augustine', 1), ('Augustus', 1), ('Aurelia', 1), ('AUSTIN', 1), ('ava', 1), ('Avalon', 1), ('Avie', 1), ('Aviva', 1), ('Avonna', 1), ('AXCELLE', 1), ('Ayaan', 1), ('Ayana', 1), ('Aydin', 1), ('Ayesha', 1), ('Ayisi', 1), ('Ayla', 1), ('Aylla', 1), ('Azim', 1), ('Azzam', 1), ('Bahda', 1), ('Bale', 1), ('Bamboo', 1), ('Banks', 1), ('Baptiste', 1), ('Barbara', 1), ('Barnabas', 1), ('Barrie', 1), ('Baxter', 1), ('Bayley', 1), ('Beale', 1), ('Beata', 1), ('Beatrix', 1), ('Beckett', 1), ('bella', 1), ('Belle', 1), ('Benedict', 1), ('Benjaim', 1), ('benjamin', 1), ('BENJAMIN', 1), ('Berend', 1), ('Bergen', 1), ('Berkeley', 1), ('Berkley', 1), ('Berta', 1), ('Bethany', 1), ('Bettina', 1), ('Beverly', 1), ('Birgitta', 1), ('Bjarke', 1), ('Blaine', 1), ('Blaire', 1), ('Blaise', 1), ('Bleiz', 1), ('Blossom', 1), ('Bo', 1), ('Boaz', 1), ('Bobbie', 1), ('Bodhi', 1), ('Bonnie', 1), ('Bootsie', 1), ('Boris', 1), ('Bowton', 1), ('Boyd', 1), ('Bradlee', 1), ('Bradyn', 1), ('Braelan', 1), ('Braeton', 1), ('Bram', 1), ('brandon', 1), ('Bre', 1), ('Breanne', 1), ('Breeze', 1), ('Brennah', 1), ('Bret', 1), ('Bri', 1), ('Brielle', 1), ('Brigit', 1), ('Brigitte', 1), ('Brilan', 1), ('Brily', 1), ('Britni', 1), ('Britt', 1), ('Brittni', 1), ('brock', 1), ('Bronson', 1), ('Brook', 1), ('Bruce', 1), ('bryan', 1), ('Bryana', 1), ('bryce', 1), ('Brylie', 1), ('Bryndin', 1), ('Brynna', 1), ('Bryon', 1), ('Bubakar', 1), ('Buck', 1), ('Bug', 1), ('Burak', 1), ('Burleigh', 1), ('Burton', 1), ('Buster', 1), ('Butterfly', 1), ('Cabot', 1), ('Cadence', 1), ('Cady', 1), ('Cailan', 1), ('Cailey', 1), ('Cailie', 1), ('Cala', 1), ('Caledonia', 1), ('Caleigh', 1), ('Cali', 1), ('Calif', 1), ('Calistoga', 1), ('Callanish', 1), ('Calum', 1), ('Calyn', 1), ('campbell', 1), ('Camren', 1), ('can', 1), ('Candace', 1), ('Cansin', 1), ('Cantlen', 1), ('Canyon', 1), ('Caoilinn', 1), ('Caressa', 1), ('Cari', 1), ('Carlota', 1), ('Carmela', 1), ('Caro', 1), ('caroline', 1), ('CarolineS', 1), ('Carrington', 1), ('Carrson', 1), ('Cary', 1), ('Casada', 1), ('Cash', 1), ('Caspar', 1), ('Cass', 1), ('Cassia', 1), ('Cassius', 1), ('Cassondra', 1), ('Caswell', 1), ('Cat', 1), ('Cates', 1), ('Catey', 1), ('Cathal', 1), ('catherine', 1), ('Cathryn', 1), ('Catryn', 1), ('Caya', 1), ('Caylee', 1), ('Cayley', 1), ('Caylin', 1), ('Caz', 1), ('Ce', 1), ('Ceara', 1), ('Cece', 1), ('cecilia', 1), ('Cecilie', 1), ('Cecillia', 1), ('Cecily', 1), ('Ceila', 1), ('Celesta', 1), ('Cesar', 1), ('Chace', 1), ('Chai', 1), ('Chance', 1), ('Changtaj', 1), ('Chapman', 1), ('Charis', 1), ('Charlene', 1), ('Charlotte-Emilie', 1), ('Chas', 1), ('Chaz', 1), ('Chester', 1), ('Chet', 1), ('Chi-Chun', 1), ('Chi', 1), ('Chia-Yun', 1), ('Chieko', 1), ('Chih-Yu', 1), ('Ching', 1), ('Chirag', 1), ('Chlo\\\\xc3\\\\xa9', 1), ('chloe', 1), ('Cho-Cho', 1), ('Chon', 1), ('Chonghao', 1), ('ChrisJon', 1), ('Chrislyn', 1), ('Christelle', 1), ('christian', 1), ('Christie', 1), ('Christin', 1), ('Christofor', 1), ('Christos', 1), ('Chuan', 1), ('Chuck', 1), ('Chun', 1), ('Cianna', 1), ('Cicely', 1), ('Cierra', 1), ('Cirrus', 1), ('Claedon', 1), ('Claree', 1), ('Clarence', 1), ('Clemens', 1), ('Clifton', 1), ('Clover', 1), ('Cobi', 1), ('Codie', 1), ('cole', 1), ('Coleen', 1), ('Coleman', 1), ('Coline', 1), ('Collette', 1), ('Collettte', 1), ('Colman', 1), ('Colston', 1), ('Conall', 1), ('Connell', 1), ('Constant', 1), ('Constantin', 1), ('Constantyn', 1), ('Corbett', 1), ('Cordelia', 1), ('Corie', 1), ('Corinna', 1), ('Cormac', 1), ('Cornell', 1), ('Corrinn', 1), ('Courtland', 1), ('Crawford', 1), ('Crete', 1), ('Crew', 1), ('Crown', 1), ('Crystal', 1), ('Cullen', 1), ('Cutter', 1), ('Cuylar', 1), ('Cuyler', 1), ('Cypress', 1), ('Cyrus', 1), ('Dae', 1), ('Dagny', 1), ('Dale', 1), ('Dalia', 1), ('Dallas', 1), ('Dalyan', 1), ('Damiana', 1), ('Daniarely', 1), ('Daniil', 1), ('Danna', 1), ('Darden', 1), ('Daren', 1), ('Daria', 1), ('Darian', 1), ('Darrian', 1), ('Dasha', 1), ('Dashel', 1), ('Davi', 1), ('Davide', 1), ('Davidson', 1), ('Dax', 1), ('Daydeon', 1), ('Deana', 1), ('Deaton', 1), ('Decklyn', 1), ('Dee', 1), ('Deepak', 1), ('Delanie', 1), ('Delaynie', 1), ('Delia', 1), ('Della', 1), ('Demetry', 1), ('Demitrios', 1), ('Denali', 1), ('Denby', 1), ('Denys', 1), ('Dereck', 1), ('Destini', 1), ('Devan', 1), ('Deven', 1), ('Devyn', 1), ('Dhruv', 1), ('Diba', 1), ('Dick', 1), ('Dillan', 1), ('Dima', 1), ('Ding', 1), ('Dino', 1), ('Diogenes', 1), ('Diogo', 1), ('Dirk', 1), ('Divine', 1), ('Divya', 1), ('DJ', 1), ('Dom', 1), ('Domenico', 1), ('Dominick', 1), ('Dominik', 1), ('Dominika', 1), ('Dominoe', 1), ('Donal', 1), ('Dong', 1), ('Donny', 1), ('Dora', 1), ('Dory', 1), ('Doug', 1), ('Dougie', 1), ('Dren', 1), ('Dreugh', 1), ('drew', 1), ('Dru', 1), ('Dustin', 1), ('Dutch', 1), ('Dyson', 1), ('Eamonn', 1), ('Earl', 1), ('Ed', 1), ('Eddy', 1), ('Edie', 1), ('Efe', 1), ('Ege', 1), ('Ekaterina', 1), ('Elaine', 1), ('Eleanore', 1), ('Eliana', 1), ('Elin', 1), ('Elinor', 1), ('Elio', 1), ('Elizaveta', 1), ('Elize', 1), ('ella', 1), ('Ellary', 1), ('Elleanor', 1), ('Ellena', 1), ('Ellison', 1), ('Elmeri', 1), ('Elodie', 1), ('Elo\\\\xc3\\\\xafse', 1), ('Elyse', 1), ('Elysia', 1), ('Em', 1), ('Emaline', 1), ('Emalyn', 1), ('Emanuel', 1), ('emilia', 1), ('emma', 1), ('Emmah', 1), ('Emmalyn', 1), ('Emmanuel', 1), ('Emme', 1), ('Emmi', 1), ('Enis', 1), ('Ennis', 1), ('Enoc', 1), ('Eoghan', 1), ('Erez', 1), ('erik', 1), ('Eryn', 1), ('Eshan', 1), ('Esme', 1), ('Esperance', 1), ('Essie', 1), ('Etain', 1), ('Eug\\\\xc3\\\\xa9nie', 1), ('Euseekers', 1), ('EVAN', 1), ('Evangeline', 1), ('Evann', 1), ('Everitt', 1), ('Evgeniia', 1), ('evie', 1), ('Evon', 1), ('Evren', 1), ('Ezekiel', 1), ('Ezri', 1), ('Fadia', 1), ('Fan', 1), ('Fanny', 1), ('Faolan', 1), ('Farrell', 1), ('Farzana', 1), ('Faviola', 1), ('Fay', 1), ('Faye', 1), ('Federico', 1), ('Felicity', 1), ('Felipe', 1), ('Fergus', 1), ('Ferid', 1), ('Fernand', 1), ('Filippo', 1), ('Finnegan', 1), ('Finnian', 1), ('Fisher', 1), ('Fletcher', 1), ('Flynn', 1), ('Fordham', 1), ('Foster', 1), ('Francisco', 1), ('Frankie', 1), ('frannie', 1), ('Franny', 1), ('Frederik', 1), ('Fredrikke', 1), ('Freeman', 1), ('Freyja', 1), ('Friedrich', 1), ('Frixos', 1), ('FUYUKA', 1), ('Gabbi', 1), ('Gabi', 1), ('Gabriele', 1), ('Gabriella-Marie', 1), ('Gail', 1), ('Galen', 1), ('Gannon', 1), ('Gardiner', 1), ('garrett', 1), ('Gaston', 1), ('Gaura', 1), ('Gayatri', 1), ('Genaro', 1), ('Gene', 1), ('Genna', 1), ('Gennis', 1), ('Georg', 1), ('Georgios', 1), ('Gerald', 1), ('Gerard', 1), ('Gerrit', 1), ('Ghislaine', 1), ('Giacomo', 1), ('Gianmarco', 1), ('Gideon', 1), ('GiGi', 1), ('Gigi', 1), ('Gil', 1), ('Gilda', 1), ('Giles', 1), ('Gillie', 1), ('Ginny', 1), ('Giovanni', 1), ('Giulio', 1), ('Giuseppe', 1), ('Gizela', 1), ('Gloria', 1), ('Gokce', 1), ('Gonzalo', 1), ('Gordan', 1), ('Gorham', 1), ('Gorkem', 1), ('GRACE', 1), ('grace', 1), ('Graceann', 1), ('Grafton', 1), ('Graydon', 1), ('Greiner', 1), ('Greyson', 1), ('Grier', 1), ('Griffen', 1), ('G\\\\xc3\\\\x83\\\\xc2\\\\xb6rkem', 1), ('Guiliana', 1), ('Gustavus', 1), ('Guthrie', 1), ('Guy', 1), ('Gwen', 1), ('Gwyn', 1), ('Haber', 1), ('Haddon', 1), ('Haines', 1), ('Hairuo', 1), ('Hala', 1), ('Halee', 1), ('Halie', 1), ('Haluk', 1), ('Hamza', 1), ('Hanil', 1), ('hannah', 1), ('Hanna-Sophia', 1), ('Hannes', 1), ('Hanno', 1), ('Hanora', 1), ('Hanqi', 1), ('Haoran', 1), ('Harpoon', 1), ('Harriet', 1), ('harriet', 1), ('Harsshitha', 1), ('Hartley', 1), ('heath', 1), ('Heera', 1), ('Hella', 1), ('Hendrik', 1), ('Henriette', 1), ('Henrik', 1), ('Henrique', 1), ('Henryk', 1), ('Herbert', 1), ('Hermann', 1), ('Herminio', 1), ('Herm\\\\xc3\\\\xa8s', 1), ('Herwin', 1), ('Hillary', 1), ('Hilton', 1), ('Hitesh', 1), ('H\\\\xc3\\\\xa9l\\\\xc3\\\\xa8na', 1), ('Hobie', 1), ('Hogan', 1), ('Holliss', 1), ('Hollister', 1), ('Hongzhen', 1), ('Honore', 1), ('Hopper', 1), ('Hosni', 1), ('Humberto', 1), ('Huxley', 1), ('Ibrahim', 1), ('Icey', 1), ('Iesha', 1), ('Ignacio', 1), ('Iliana', 1), ('Ilinca', 1), ('Imani', 1), ('Inbar', 1), ('India', 1), ('Indiana', 1), ('Indigo', 1), ('Ines', 1), ('Ingemar', 1), ('Irmak', 1), ('Irving', 1), ('Isa', 1), ('Isha', 1), ('Ishani', 1), ('Ishita', 1), ('Iskandar', 1), ('Islay', 1), ('Isobel', 1), ('Israel', 1), ('Iulianna', 1), ('Ivana', 1), ('Ivanna', 1), ('Ivanni', 1), ('Iv\\\\xc3\\\\xa1n', 1), ('Ivy', 1), ('Jordin', 1), ('J', 1), ('jack', 1), ('jackie', 1), ('Jaclyn', 1), ('Jacqualynn', 1), ('Jada', 1), ('Jadyn', 1), ('Jaeda', 1), ('Jaggert', 1), ('Jaia', 1), ('Jaime', 1), ('Jaimie', 1), ('Jakeb', 1), ('Jakub', 1), ('Jalynn', 1), ('james', 1), ('Jameson', 1), ('Jamila', 1), ('Jan-philipp', 1), ('Jancy', 1), ('Janel', 1), ('Janelle', 1), ('Janet', 1), ('Janika', 1), ('Janine', 1), ('Jansen', 1), ('Jaquelyn', 1), ('Jaret', 1), ('Jarred', 1), ('jasiri', 1), ('Jasmijn', 1), ('Javi', 1), ('Jaxon', 1), ('JAXXON', 1), ('Jaya', 1), ('Jayden', 1), ('Jazlyne', 1), ('Jazlyner', 1), ('Jean-Michel', 1), ('Jean-Philippe', 1), ('Jeanelle', 1), ('Jeanette', 1), ('Jeanin', 1), ('Jedidiah', 1), ('Jee', 1), ('Jefferson', 1), ('Jeneshia', 1), ('Jenn', 1), ('Jennie', 1), ('Jeppe', 1), ('Jeremy-Miles', 1), ('Jerod', 1), ('Jeron', 1), ('jessica', 1), ('Jett', 1), ('Jette', 1), ('Jewelnguyen', 1), ('JiaLiAn', 1), ('Jiandu', 1), ('Jieming', 1), ('Jilani', 1), ('Jing', 1), ('Jinge', 1), ('Jinyi(Angela)', 1), ('Jithnuka', 1), ('J.J.', 1), ('Joanie', 1), ('Joanne', 1), ('Jodi', 1), ('Jodie', 1), ('JC', 1), ('Johann', 1), ('Johannah', 1), ('Johannes', 1), ('Johnna', 1), ('Joleen', 1), ('Jolene', 1), ('Jolie', 1), ('Jondall', 1), ('Jonnie', 1), ('JORDAN', 1), ('Jordanne', 1), ('Jordi', 1), ('Jordon', 1), ('Jordyn', 1), ('Jordynn', 1), ('Joren', 1), ('Jorge', 1), ('Jorlyn', 1), ('Jos\\\\xc3\\\\xa9', 1), ('Josefina', 1), ('Josep', 1), ('joseph', 1), ('Josey', 1), ('Jospeh', 1), ('Josselyn', 1), ('Joy', 1), ('Joyce', 1), ('JT', 1), ('Juanita', 1), ('Judah', 1), ('Judson', 1), ('Judyanna', 1), ('Julianne', 1), ('Julieanne', 1), ('Juliet', 1), ('Julius', 1), ('June', 1), ('Juni', 1), ('Junyi', 1), ('Justine', 1), ('Justus', 1), ('Jyalu', 1), ('KA', 1), ('Kaan', 1), ('Kadi', 1), ('Kaela', 1), ('Kaelin', 1), ('Kahala', 1), ('Kahlia', 1), ('kai', 1), ('Kaia', 1), ('Kaila', 1), ('Kaile', 1), ('Kailee', 1), ('kailyn', 1), ('Kailyn', 1), ('Kaisey', 1), ('Kait', 1), ('Kaixin', 1), ('Kaja', 1), ('Kaleigh', 1), ('Kalen', 1), ('Kaler', 1), ('Kaleth', 1), ('Kalina', 1), ('Kalli', 1), ('Kallie', 1), ('Kallista', 1), ('Kaloyan', 1), ('Kalvin', 1), ('Kalvyn', 1), ('Kameron', 1), ('Kamila', 1), ('Kamille', 1), ('Kannon', 1), ('Karaline', 1), ('Karan', 1), ('Karel', 1), ('Karey', 1), ('karl', 1), ('Karlei', 1), ('Karlie', 1), ('Karly', 1), ('Karlyn', 1), ('Karmen', 1), ('Karolina', 1), ('Karoline', 1), ('Karthik', 1), ('Kartikye', 1), ('Karya', 1), ('Kassidy', 1), ('Kasym', 1), ('Katarina', 1), ('kate', 1), ('Katelon', 1), ('Katey', 1), ('Katharina', 1), ('Katheryn', 1), ('kathleen', 1), ('Kathy', 1), ('Kati', 1), ('Katinka', 1), ('Katrin', 1), ('Katsuhito', 1), ('Kawika', 1), ('Kayden', 1), ('Kaylena', 1), ('Kean', 1), ('Keane', 1), ('Keanu', 1), ('Keara', 1), ('Kediel', 1), ('Keelin', 1), ('Keely', 1), ('Keen', 1), ('Kees', 1), ('Keevan', 1), ('Kegan', 1), ('Keifer', 1), ('Keilah', 1), ('Keir', 1), ('Kejing', 1), ('Kekoa', 1), ('Kela', 1), ('Kelaan', 1), ('Keller', 1), ('Kelley', 1), ('Kelli', 1), ('Kelly-Ann', 1), ('Kellyn', 1), ('Kelsy', 1), ('Kelvin', 1), ('Ken', 1), ('Kenan', 1), ('Kendal', 1), ('Kendolyn', 1), ('Kenia', 1), ('Kenna', 1), ('Kennard', 1), ('kenneth', 1), ('Kensie', 1), ('Kensuke', 1), ('Kenya', 1), ('Kevan', 1), ('Keyton', 1), ('Khalia', 1), ('Khari', 1), ('Kiara-Lee', 1), ('Kiefer', 1), ('Kiersa', 1), ('Kimmie', 1), ('Kingsland', 1), ('Kingsley', 1), ('Kinsey', 1), ('Kip', 1), ('Kique', 1), ('Kirin', 1), ('Kirstin', 1), ('Kitana', 1), ('KIUJOY', 1), ('Kohl', 1), ('Kole', 1), ('Korina', 1), ('Korynn', 1), ('Kostiantyn', 1), ('KOTARO', 1), ('Kris', 1), ('Krista', 1), ('Kristan', 1), ('Kristi', 1), ('Kristiana', 1), ('Kristine', 1), ('kristofer', 1), ('Kristoffer', 1), ('Krysten', 1), ('Ksenia', 1), ('Kurban', 1), ('Kurran', 1), ('Kurtis', 1), ('Kush', 1), ('Kwame', 1), ('Kyelee', 1), ('Kytalin', 1), ('Lachlain', 1), ('Lan', 1), ('Lanie', 1), ('Larissa', 1), ('Laureana', 1), ('Laurence', 1), ('Laurens', 1), ('Laurentiu', 1), ('Lauri', 1), ('Laurie', 1), ('Layton', 1), ('Lea-Karoline', 1), ('Leahi', 1), ('Leanne', 1), ('Learon', 1), ('Ledyard', 1), ('LeeAnn', 1), ('Leela', 1), ('Leeland', 1), ('Leena', 1), ('Leh', 1), ('leif', 1), ('Leif', 1), ('Leigh', 1), ('Leigha', 1), ('Leilani', 1), ('Lekha', 1), ('Leland', 1), ('Lennox', 1), ('Lenox', 1), ('Leonard', 1), ('Leonardo', 1), ('Leonhard', 1), ('Leonora', 1), ('Lera', 1), ('Lexus', 1), ('Leyton', 1), ('Lhotse', 1), ('Lia', 1), ('Liesl', 1), ('Likhil', 1), ('Lilah', 1), ('lilah', 1), ('Lilia', 1), ('Lilianna', 1), ('Lilla', 1), ('Lilliana', 1), ('Lillie', 1), ('Linda', 1), ('Lindsea', 1), ('Lisanne', 1), ('Lisette', 1), ('Liviu', 1), ('Lizette', 1), ('Lochlann', 1), ('logan', 1), ('Lok', 1), ('Lolly', 1), ('London', 1), ('Lorea', 1), ('Lorelei', 1), ('Lori', 1), ('Lorin', 1), ('Lorinf', 1), ('Loring', 1), ('Lourdes', 1), ('Lowell', 1), ('lucas', 1), ('lucca', 1), ('Lucian', 1), ('Luciana', 1), ('Lucija', 1), ('Lucinda', 1), ('Luella', 1), ('Luiza', 1), ('Luka', 1), ('luke', 1), ('Luqman', 1), ('Lyla', 1), ('Lynne', 1), ('Maasai', 1), ('Maaya', 1), ('Mabel', 1), ('Mac', 1), ('Macaela', 1), ('Macguire', 1), ('Macie', 1), ('Mackenna', 1), ('MacKenzie', 1), ('Mackey', 1), ('Macklin', 1), ('Maddalena', 1), ('Maddison', 1), ('madeline', 1), ('Madelinne', 1), ('Madelynn', 1), ('Madisen', 1), ('Madisson', 1), ('Magdalena', 1), ('Magdelaina', 1), ('Magnolia', 1), ('Maguire', 1), ('Mahib', 1), ('Mahika', 1), ('Mai', 1), ('Zi', 1), ('Maila', 1), ('Maile', 1), ('Maille', 1), ('Mair\\\\xc3\\\\xa9ad', 1), ('Mairead', 1), ('Maisey', 1), ('Maisie', 1), ('Maison', 1), ('Maiya', 1), ('Maizie', 1), ('Maja', 1), ('Major', 1), ('Makalynne', 1), ('Maks', 1), ('Malachi', 1), ('Malakai', 1), ('Malia', 1), ('Malich', 1), ('Malik', 1), ('Maloney', 1), ('Malte', 1), ('Malu', 1), ('Malvina', 1), ('Manali', 1), ('Mandi', 1), ('Manish', 1), ('Manon', 1), ('Mansvi', 1), ('Manthan', 1), ('Maple', 1), ('Marah', 1), ('Marbella', 1), ('Marcel', 1), ('Marcin', 1), ('Marcos', 1), ('Marek', 1), ('Marelie', 1), ('margaret', 1), ('Mari', 1), ('Maria-Elena', 1), ('Marianne', 1), ('Maribeth', 1), ('Marie-Laure', 1), ('Marie-Louise', 1), ('Mariela', 1), ('Marijke', 1), ('Marilie', 1), ('Mariner', 1), ('Marit', 1), ('Mariya', 1), ('Marlena', 1), ('Marlo', 1), ('Marlon', 1), ('Marly', 1), ('Marten', 1), ('Martim', 1), ('Martine', 1), ('Martinique', 1), ('Martino', 1), ('Martins', 1), ('Maryanne', 1), ('MaryCatherine', 1), ('MaryClaire', 1), ('MaryKate', 1), ('Marykate', 1), ('Maryn', 1), ('Matheo', 1), ('Mathis', 1), ('Matilda', 1), ('Mats', 1), ('Matteson', 1), ('Matti', 1), ('Maud', 1), ('Maxim', 1), ('Maxime', 1), ('May', 1), ('Mayalin', 1), ('Maylis', 1), ('McCaslin', 1), ('McCloy', 1), ('McKinley', 1), ('McQuaid', 1), ('Meaghan', 1), ('Medina', 1), ('MEG', 1), ('megan', 1), ('Megha', 1), ('Mehmet', 1), ('Meiling', 1), ('Mejak', 1), ('Melania', 1), ('Meleana', 1), ('Melina', 1), ('Melinda', 1), ('Melody', 1), ('Melvin', 1), ('Menasha', 1), ('Mengcheng', 1), ('Menya', 1), ('Meral', 1), ('Mercy', 1), ('meredith', 1), ('Meriah', 1), ('Merrill', 1), ('Mete', 1), ('Micaela', 1), ('Micahel', 1), ('Micalah', 1), ('Micayla', 1), ('michael', 1), ('Michalla', 1), ('Micheal', 1), ('Michel', 1), ('Michelangelo', 1), ('Michelena', 1), ('Micky', 1), ('Mihika', 1), ('Miia', 1), ('Mikecia', 1), ('Mila', 1), ('Millan', 1), ('Millay', 1), ('Mimi', 1), ('Mindy', 1), ('Mingyi', 1), ('Minji', 1), ('Minoti', 1), ('Mirra', 1), ('Mitzi', 1), ('Miya', 1), ('Miyako', 1), ('molly', 1), ('Mona', 1), ('Monica', 1), ('Montserrat', 1), ('Morgana', 1), ('Moriah', 1), ('Morrgan', 1), ('Mott', 1), ('Mridhula', 1), ('Mufei', 1), ('Muhammad', 1), ('Muriel', 1), ('Murray', 1), ('Murtaza', 1), ('Muskaan', 1), ('MyKha', 1), ('Nadine', 1), ('Naitik', 1), ('Nakshatra', 1), ('Nakul', 1), ('Nalin', 1), ('Nancy', 1), ('Naru', 1), ('Nash', 1), ('Nassim', 1), ('natalie', 1), ('Nataly', 1), ('natasha', 1), ('Nathalie', 1), ('Nathanael', 1), ('Naveen', 1), ('Naya', 1), ('Nayeli', 1), ('Naylan', 1), ('Neda', 1), ('Neftali', 1), ('Neha', 1), ('Nejan', 1), ('Neomi', 1), ('Nerissa', 1), ('Nestor', 1), ('Neva', 1), ('Niah', 1), ('Nic', 1), ('Nichole', 1), ('Nicklas', 1), ('Nickolas', 1), ('Nicolette', 1), ('Nicols', 1), ('Nielsen', 1), ('Niko', 1), ('Nikole', 1), ('Nikoline', 1), ('Nilah', 1), ('Nilias', 1), ('Nina-Katreen', 1), ('Nisha', 1), ('Nita', 1), ('Nithya', 1), ('Nitsa', 1), ('no', 1), ('Noam', 1), ('Noel', 1), ('Noemie', 1), ('Nok', 1), ('Nolani', 1), ('Nomin-Erdene', 1), ('Nonny', 1), ('Norman', 1), ('Noyl', 1), ('Oakley', 1), ('Obinnaya', 1), ('Ocean', 1), ('Ochithya', 1), ('Odey', 1), ('Okyanus', 1), ('Olek', 1), ('Olin', 1), ('Olivera', 1), ('olivia', 1), ('Olyn', 1), ('Omar', 1), ('Oona', 1), ('Oran', 1), ('Orrin', 1), ('Ossian', 1), ('Ota', 1), ('Ozel', 1), ('Ozgur', 1), ('Page', 1), ('Pal', 1), ('Paloma', 1), ('Paolo', 1), ('Pascal', 1), ('Pascale', 1), ('Patience', 1), ('Patricio', 1), ('PAUL', 1), ('Pavel', 1), ('Pavlina', 1), ('Paxton', 1), ('Payden', 1), ('Payne', 1), ('Payten', 1), ('Pealer', 1), ('Pearson', 1), ('Peder', 1), ('Pedro', 1), ('Pelin', 1), ('Pelle', 1), ('Peninah', 1), ('Penny', 1), ('Pere', 1), ('Perham', 1), ('Perrine', 1), ('Perry', 1), ('Petar', 1), ('Petru', 1), ('Phil', 1), ('Phoung', 1), ('Phyllip', 1), ('Picasso', 1), ('Pierfrancesco', 1), ('Pierson', 1), ('Pike', 1), ('Pilar', 1), ('Pj', 1), ('Polk', 1), (\"Pomaika'i\", 1), ('Poshu', 1), ('Posie', 1), ('Prabhav', 1), ('Praniti', 1), ('Pranjal', 1), ('Preksha', 1), ('Priyah', 1), ('Pryiscilla', 1), ('Puiyee', 1), ('Pyper', 1), ('Quanah', 1), ('Quinton', 1), ('Raaghuv', 1), ('Race', 1), ('Raegan', 1), ('Raemie', 1), ('Rafaela', 1), ('Raider', 1), ('Raif', 1), ('Rain', 1), ('Ralitsa', 1), ('Ralph', 1), ('Rami', 1), ('Ramsey', 1), ('Randolph', 1), ('Raphael', 1), ('Raul', 1), ('Raven', 1), ('Ravi', 1), ('Raya', 1), ('raymond', 1), ('Rayne', 1), ('Reade', 1), ('Reanna', 1), ('Rebeca', 1), ('rebecca', 1), ('Reddin', 1), ('Reema', 1), ('Reinier', 1), ('Rem', 1), ('Remi', 1), ('Remington', 1), ('Renata', 1), ('Renato', 1), ('Renbourn', 1), ('Renwick', 1), ('Rey', 1), ('Rhea', 1), ('Rhett', 1), ('Rhodes', 1), ('Ria', 1), ('Rian', 1), ('Ricardo', 1), ('richard', 1), ('Richie', 1), ('Rigel', 1), ('Rilee', 1), ('Risa', 1), ('Rishab', 1), ('Rishi', 1), ('Rishij', 1), ('Rita', 1), ('Ritwik', 1), ('river', 1), ('Roan', 1), ('Robbie', 1), ('Roberta', 1), ('Robinson', 1), ('Roch', 1), ('ROCIO', 1), ('Rodion', 1), ('Rodman', 1), ('Rogelio', 1), ('Roisin', 1), ('Romana', 1), ('Romanos', 1), ('Romy', 1), ('Ron', 1), ('Rona', 1), ('Ronak', 1), ('Ronald', 1), ('Ronnie', 1), ('Rori', 1), ('Rosalind', 1), ('Rosemary', 1), ('Roslyn', 1), ('Rowena', 1), ('Roxy', 1), ('Ruben', 1), ('Rudi', 1), ('Rudolf', 1), ('Rudolph', 1), ('Rudy', 1), ('Ruiqi', 1), ('Ruochen', 1), ('Ruohan', 1), ('Russ', 1), ('Ruth-Riley', 1), ('Ryder', 1), ('Rylan', 1), ('Ryleigh', 1), ('Ryutaro', 1), ('Ryuto', 1), ('Ryyan', 1), ('Sabine', 1), ('Safari', 1), ('Sahil', 1), ('Saige', 1), ('Sajan', 1), ('Sal', 1), ('Saleta', 1), ('Salom\\\\xc3\\\\xa9', 1), ('Sameena', 1), ('Sami', 1), ('Sampson', 1), ('Samson', 1), ('samson', 1), ('Samyel', 1), ('Sanam', 1), ('Sanchita', 1), ('Sander', 1), ('Sandor', 1), ('Sandy', 1), ('sarah', 1), ('Sarina', 1), ('Sasirat', 1), ('Saurabh', 1), ('savannah', 1), ('scarlett', 1), ('Sebby', 1), ('Serelle', 1), ('SERRA', 1), ('Sevanna', 1), ('Severin', 1), ('Shaanti', 1), ('Shahryar', 1), ('Shailja', 1), ('Shalis', 1), ('Shalom', 1), ('Shana', 1), ('Shanay', 1), ('Shani', 1), ('Shannie', 1), ('Shannyn', 1), ('Sharon', 1), ('Shaughnessy', 1), ('Shaun', 1), ('Shawna', 1), ('Shayna', 1), ('Shaynah', 1), ('Shaynan', 1), ('Shayne', 1), ('Shefali', 1), ('Sherman', 1), ('Sheyenn', 1), ('Shira', 1), ('Boone', 1), ('Shreya', 1), ('Shrika', 1), ('Shriya', 1), ('Shyon', 1), ('Siddharth', 1), ('Sidnie', 1), ('Sienna', 1), ('Signe', 1), ('Sigrid', 1), ('Sinead', 1), ('Sireen', 1), ('Sirine', 1), ('Sisi', 1), ('Sixtine', 1), ('Soenke', 1), ('Sofie', 1), ('Sofiya', 1), ('Sofya', 1), ('Soleh', 1), ('Solene', 1), ('Solomiiia', 1), ('Sonali', 1), ('Sonja', 1), ('Sonny', 1), ('Sophi', 1), ('Sorcha', 1), ('SOTARO', 1), ('Soumya', 1), ('Sovisal', 1), ('Sparsh', 1), ('Sri', 1), ('Sriskandha', 1), ('Stacy', 1), ('Stefanie', 1), ('Stefanos', 1), ('Stephane', 1), ('Stephany', 1), ('Stevie', 1), ('Stew', 1), ('Stian', 1), ('Storm', 1), ('Stormie', 1), ('Stuti', 1), ('Suhas', 1), ('sumner', 1), ('Sunrae', 1), ('Susanna', 1), ('Susannah', 1), ('Sutter', 1), ('Sutton', 1), ('Suwan', 1), ('Suzie', 1), ('Svea', 1), ('Sven', 1), ('Svenja', 1), ('syed', 1), ('Tabatha', 1), ('Taber', 1), ('Tabitha', 1), ('Tacy', 1), ('Taft', 1), ('taima', 1), ('Tain', 1), ('Taiyo', 1), ('Talena', 1), ('Tamsin', 1), ('Tan', 1), ('Tancredi', 1), ('Tansy', 1), ('Tanvi', 1), ('Tanya', 1), ('Taren', 1), ('Tarkan', 1), ('Tatem', 1), ('Tatum', 1), ('Tavia', 1), ('Taya', 1), ('TAYLOR', 1), ('Tean', 1), ('Telis', 1), ('Telmo', 1), ('Teo', 1), ('tess', 1), ('Teya', 1), ('Thad', 1), ('Thalia', 1), ('Thelonious', 1), ('Harriss', 1), ('Thornton', 1), ('Thu', 1), ('tia', 1), ('Tiago', 1), ('Tiare', 1), ('Tiernaur', 1), ('Tijani', 1), ('Tily', 1), ('Timmy', 1), ('Tiree', 1), ('Tobie', 1), ('Tolly', 1), ('Tomasz', 1), ('Tommy', 1), ('Tonya', 1), ('Tory', 1), ('Townsend', 1), ('Trace', 1), ('Tracy', 1), ('Treasa', 1), ('Trevin', 1), ('Trey', 1), ('Truc', 1), ('Tryg', 1), ('A.', 1), ('Tuckerman', 1), ('Tung', 1), ('Tye', 1), ('Tyla', 1), ('Tylar', 1), ('Tyson', 1), ('UMD', 1), ('Umi', 1), ('Una', 1), ('Upamanyu', 1), ('Usman', 1), ('UVM', 1), ('Valeria', 1), ('Valerio', 1), ('Valexja', 1), ('Valor', 1), ('Valyn', 1), ('Vamshi', 1), ('Van', 1), ('Varoon', 1), ('Varya', 1), ('Vassiliki', 1), ('Vaughan', 1), ('Veja', 1), ('Venesh', 1), ('Venice', 1), ('Vibhas', 1), ('Vick', 1), ('victor', 1), ('Victroia', 1), ('Vienna', 1), ('Viki', 1), ('Vikram', 1), ('Viktoria', 1), ('Vinicius', 1), ('Vir', 1), ('Visesh', 1), ('Vish', 1), ('Vita', 1), ('Viviana', 1), ('Viviane', 1), ('Vivianna', 1), ('Vivin', 1), ('Vlada', 1), ('Vojtech', 1), ('Wake', 1), ('Walden', 1), ('Waverlee', 1), ('Weatherley', 1), ('Weisa', 1), ('Wen', 1), ('Wendy', 1), ('Wenli', 1), ('Weronika', 1), ('Wes', 1), ('weston', 1), ('Whitman', 1), ('Wilfred', 1), ('will', 1), ('Willard', 1), ('william', 1), ('Billy', 1), ('Wilton', 1), ('Winborne', 1), ('Wing', 1), ('Winifred', 1), ('Winni', 1), ('Wyle', 1), ('Wynant', 1), ('Wynn', 1), ('Xan', 1), ('Xana', 1), ('Xi', 1), ('ximena', 1), ('Xinshi', 1), ('Xinyu', 1), ('Yaakov', 1), ('Yagmur', 1), ('Yan', 1), ('Yang', 1), ('Yangyang', 1), ('Yasar', 1), ('Yash', 1), ('Ye', 1), ('Yili', 1), ('yiting', 1), ('Yiyang', 1), ('YOKO', 1), ('Youmans', 1), ('Yousef', 1), ('Yuchen', 1), ('Yui', 1), ('Yuka', 1), ('Yuki', 1), ('Yulia', 1), ('Yumi-Shika', 1), ('Yumi', 1), ('Yunus', 1), ('Yunwen', 1), ('Yuri', 1), ('Yusuf', 1), ('Yuxin', 1), ('Zacarias', 1), ('Zachariah', 1), ('Zackary', 1), ('Zackery', 1), ('Zaeem', 1), ('Zakary', 1), ('Zechariah', 1), ('Zelda', 1), ('Zelun', 1), ('Zennie', 1), ('Zephyr', 1), ('Zhaohui', 1), ('Zhenyu', 1), ('Zhi', 1), ('Zijian', 1), ('Zikuan', 1), ('Zimo', 1), ('ZIYUE', 1), ('Zoeanne', 1), ('Zohar', 1), ('Zola', 1)]\n"
     ]
    }
   ],
   "source": [
    "df_sailors = pd.read_json(\"sailorsexperiment19.json\")\n",
    "first_names = df_sailors['Sailor'].apply(lambda x: x.split(\" \")[0])\n",
    "\n",
    "counts = Counter(list(first_names)).most_common()\n",
    "print(counts)"
   ]
  },
  {
   "cell_type": "code",
   "execution_count": 18,
   "metadata": {},
   "outputs": [
    {
     "data": {
      "application/vnd.plotly.v1+json": {
       "config": {
        "plotlyServerURL": "https://plot.ly"
       },
       "data": [
        {
         "marker": {
          "color": [
           "#fde725",
           "#b5de2b",
           "#35b779",
           "#1f9e89",
           "#1f9e89",
           "#1f9e89",
           "#26828e",
           "#26828e",
           "#31688e",
           "#31688e",
           "#31688e",
           "#31688e",
           "#31688e",
           "#31688e",
           "#31688e",
           "#31688e",
           "#31688e",
           "#3e4989",
           "#3e4989",
           "#3e4989",
           "#3e4989",
           "#3e4989",
           "#3e4989",
           "#3e4989",
           "#3e4989",
           "#482878",
           "#482878",
           "#482878",
           "#482878",
           "#482878",
           "#482878",
           "#482878",
           "#482878",
           "#440154",
           "#440154",
           "#440154",
           "#440154",
           "#440154",
           "#440154",
           "#440154",
           "#440154",
           "#440154",
           "#440154",
           "#440154",
           "#440154",
           "#440154",
           "#440154",
           "#440154",
           "#440154",
           "#440154"
          ]
         },
         "type": "bar",
         "x": [
          "John",
          "Jack",
          "Emily",
          "Sarah",
          "Andrew",
          "William",
          "Ryan",
          "Matthew",
          "James",
          "Nicholas",
          "Elizabeth",
          "Emma",
          "Grace",
          "Julia",
          "Michael",
          "Thomas",
          "Hannah",
          "Anna",
          "Benjamin",
          "Alexander",
          "Caroline",
          "Daniel",
          "Lauren",
          "Olivia",
          "David",
          "Alex",
          "Katherine",
          "Christopher",
          "Ian",
          "Jacob",
          "Robert",
          "Joseph",
          "Connor",
          "Peter",
          "Samuel",
          "Mary",
          "Charles",
          "Sophia",
          "Patrick",
          "Sam",
          "Claire",
          "Nathan",
          "Luke",
          "Rachel",
          "Megan",
          "Sean",
          "Ben",
          "Ethan",
          "Aidan",
          "Henry"
         ],
         "y": [
          174,
          161,
          138,
          130,
          129,
          128,
          118,
          116,
          104,
          104,
          102,
          102,
          100,
          100,
          98,
          95,
          93,
          91,
          91,
          89,
          86,
          84,
          83,
          82,
          81,
          79,
          76,
          75,
          75,
          72,
          70,
          69,
          67,
          65,
          65,
          64,
          63,
          63,
          61,
          61,
          60,
          58,
          56,
          55,
          54,
          54,
          53,
          53,
          52,
          52
         ]
        }
       ],
       "layout": {
        "showlegend": false,
        "template": {
         "data": {
          "bar": [
           {
            "error_x": {
             "color": "#2a3f5f"
            },
            "error_y": {
             "color": "#2a3f5f"
            },
            "marker": {
             "line": {
              "color": "#E5ECF6",
              "width": 0.5
             },
             "pattern": {
              "fillmode": "overlay",
              "size": 10,
              "solidity": 0.2
             }
            },
            "type": "bar"
           }
          ],
          "barpolar": [
           {
            "marker": {
             "line": {
              "color": "#E5ECF6",
              "width": 0.5
             },
             "pattern": {
              "fillmode": "overlay",
              "size": 10,
              "solidity": 0.2
             }
            },
            "type": "barpolar"
           }
          ],
          "carpet": [
           {
            "aaxis": {
             "endlinecolor": "#2a3f5f",
             "gridcolor": "white",
             "linecolor": "white",
             "minorgridcolor": "white",
             "startlinecolor": "#2a3f5f"
            },
            "baxis": {
             "endlinecolor": "#2a3f5f",
             "gridcolor": "white",
             "linecolor": "white",
             "minorgridcolor": "white",
             "startlinecolor": "#2a3f5f"
            },
            "type": "carpet"
           }
          ],
          "choropleth": [
           {
            "colorbar": {
             "outlinewidth": 0,
             "ticks": ""
            },
            "type": "choropleth"
           }
          ],
          "contour": [
           {
            "colorbar": {
             "outlinewidth": 0,
             "ticks": ""
            },
            "colorscale": [
             [
              0,
              "#0d0887"
             ],
             [
              0.1111111111111111,
              "#46039f"
             ],
             [
              0.2222222222222222,
              "#7201a8"
             ],
             [
              0.3333333333333333,
              "#9c179e"
             ],
             [
              0.4444444444444444,
              "#bd3786"
             ],
             [
              0.5555555555555556,
              "#d8576b"
             ],
             [
              0.6666666666666666,
              "#ed7953"
             ],
             [
              0.7777777777777778,
              "#fb9f3a"
             ],
             [
              0.8888888888888888,
              "#fdca26"
             ],
             [
              1,
              "#f0f921"
             ]
            ],
            "type": "contour"
           }
          ],
          "contourcarpet": [
           {
            "colorbar": {
             "outlinewidth": 0,
             "ticks": ""
            },
            "type": "contourcarpet"
           }
          ],
          "heatmap": [
           {
            "colorbar": {
             "outlinewidth": 0,
             "ticks": ""
            },
            "colorscale": [
             [
              0,
              "#0d0887"
             ],
             [
              0.1111111111111111,
              "#46039f"
             ],
             [
              0.2222222222222222,
              "#7201a8"
             ],
             [
              0.3333333333333333,
              "#9c179e"
             ],
             [
              0.4444444444444444,
              "#bd3786"
             ],
             [
              0.5555555555555556,
              "#d8576b"
             ],
             [
              0.6666666666666666,
              "#ed7953"
             ],
             [
              0.7777777777777778,
              "#fb9f3a"
             ],
             [
              0.8888888888888888,
              "#fdca26"
             ],
             [
              1,
              "#f0f921"
             ]
            ],
            "type": "heatmap"
           }
          ],
          "heatmapgl": [
           {
            "colorbar": {
             "outlinewidth": 0,
             "ticks": ""
            },
            "colorscale": [
             [
              0,
              "#0d0887"
             ],
             [
              0.1111111111111111,
              "#46039f"
             ],
             [
              0.2222222222222222,
              "#7201a8"
             ],
             [
              0.3333333333333333,
              "#9c179e"
             ],
             [
              0.4444444444444444,
              "#bd3786"
             ],
             [
              0.5555555555555556,
              "#d8576b"
             ],
             [
              0.6666666666666666,
              "#ed7953"
             ],
             [
              0.7777777777777778,
              "#fb9f3a"
             ],
             [
              0.8888888888888888,
              "#fdca26"
             ],
             [
              1,
              "#f0f921"
             ]
            ],
            "type": "heatmapgl"
           }
          ],
          "histogram": [
           {
            "marker": {
             "pattern": {
              "fillmode": "overlay",
              "size": 10,
              "solidity": 0.2
             }
            },
            "type": "histogram"
           }
          ],
          "histogram2d": [
           {
            "colorbar": {
             "outlinewidth": 0,
             "ticks": ""
            },
            "colorscale": [
             [
              0,
              "#0d0887"
             ],
             [
              0.1111111111111111,
              "#46039f"
             ],
             [
              0.2222222222222222,
              "#7201a8"
             ],
             [
              0.3333333333333333,
              "#9c179e"
             ],
             [
              0.4444444444444444,
              "#bd3786"
             ],
             [
              0.5555555555555556,
              "#d8576b"
             ],
             [
              0.6666666666666666,
              "#ed7953"
             ],
             [
              0.7777777777777778,
              "#fb9f3a"
             ],
             [
              0.8888888888888888,
              "#fdca26"
             ],
             [
              1,
              "#f0f921"
             ]
            ],
            "type": "histogram2d"
           }
          ],
          "histogram2dcontour": [
           {
            "colorbar": {
             "outlinewidth": 0,
             "ticks": ""
            },
            "colorscale": [
             [
              0,
              "#0d0887"
             ],
             [
              0.1111111111111111,
              "#46039f"
             ],
             [
              0.2222222222222222,
              "#7201a8"
             ],
             [
              0.3333333333333333,
              "#9c179e"
             ],
             [
              0.4444444444444444,
              "#bd3786"
             ],
             [
              0.5555555555555556,
              "#d8576b"
             ],
             [
              0.6666666666666666,
              "#ed7953"
             ],
             [
              0.7777777777777778,
              "#fb9f3a"
             ],
             [
              0.8888888888888888,
              "#fdca26"
             ],
             [
              1,
              "#f0f921"
             ]
            ],
            "type": "histogram2dcontour"
           }
          ],
          "mesh3d": [
           {
            "colorbar": {
             "outlinewidth": 0,
             "ticks": ""
            },
            "type": "mesh3d"
           }
          ],
          "parcoords": [
           {
            "line": {
             "colorbar": {
              "outlinewidth": 0,
              "ticks": ""
             }
            },
            "type": "parcoords"
           }
          ],
          "pie": [
           {
            "automargin": true,
            "type": "pie"
           }
          ],
          "scatter": [
           {
            "fillpattern": {
             "fillmode": "overlay",
             "size": 10,
             "solidity": 0.2
            },
            "type": "scatter"
           }
          ],
          "scatter3d": [
           {
            "line": {
             "colorbar": {
              "outlinewidth": 0,
              "ticks": ""
             }
            },
            "marker": {
             "colorbar": {
              "outlinewidth": 0,
              "ticks": ""
             }
            },
            "type": "scatter3d"
           }
          ],
          "scattercarpet": [
           {
            "marker": {
             "colorbar": {
              "outlinewidth": 0,
              "ticks": ""
             }
            },
            "type": "scattercarpet"
           }
          ],
          "scattergeo": [
           {
            "marker": {
             "colorbar": {
              "outlinewidth": 0,
              "ticks": ""
             }
            },
            "type": "scattergeo"
           }
          ],
          "scattergl": [
           {
            "marker": {
             "colorbar": {
              "outlinewidth": 0,
              "ticks": ""
             }
            },
            "type": "scattergl"
           }
          ],
          "scattermapbox": [
           {
            "marker": {
             "colorbar": {
              "outlinewidth": 0,
              "ticks": ""
             }
            },
            "type": "scattermapbox"
           }
          ],
          "scatterpolar": [
           {
            "marker": {
             "colorbar": {
              "outlinewidth": 0,
              "ticks": ""
             }
            },
            "type": "scatterpolar"
           }
          ],
          "scatterpolargl": [
           {
            "marker": {
             "colorbar": {
              "outlinewidth": 0,
              "ticks": ""
             }
            },
            "type": "scatterpolargl"
           }
          ],
          "scatterternary": [
           {
            "marker": {
             "colorbar": {
              "outlinewidth": 0,
              "ticks": ""
             }
            },
            "type": "scatterternary"
           }
          ],
          "surface": [
           {
            "colorbar": {
             "outlinewidth": 0,
             "ticks": ""
            },
            "colorscale": [
             [
              0,
              "#0d0887"
             ],
             [
              0.1111111111111111,
              "#46039f"
             ],
             [
              0.2222222222222222,
              "#7201a8"
             ],
             [
              0.3333333333333333,
              "#9c179e"
             ],
             [
              0.4444444444444444,
              "#bd3786"
             ],
             [
              0.5555555555555556,
              "#d8576b"
             ],
             [
              0.6666666666666666,
              "#ed7953"
             ],
             [
              0.7777777777777778,
              "#fb9f3a"
             ],
             [
              0.8888888888888888,
              "#fdca26"
             ],
             [
              1,
              "#f0f921"
             ]
            ],
            "type": "surface"
           }
          ],
          "table": [
           {
            "cells": {
             "fill": {
              "color": "#EBF0F8"
             },
             "line": {
              "color": "white"
             }
            },
            "header": {
             "fill": {
              "color": "#C8D4E3"
             },
             "line": {
              "color": "white"
             }
            },
            "type": "table"
           }
          ]
         },
         "layout": {
          "annotationdefaults": {
           "arrowcolor": "#2a3f5f",
           "arrowhead": 0,
           "arrowwidth": 1
          },
          "autotypenumbers": "strict",
          "coloraxis": {
           "colorbar": {
            "outlinewidth": 0,
            "ticks": ""
           }
          },
          "colorscale": {
           "diverging": [
            [
             0,
             "#8e0152"
            ],
            [
             0.1,
             "#c51b7d"
            ],
            [
             0.2,
             "#de77ae"
            ],
            [
             0.3,
             "#f1b6da"
            ],
            [
             0.4,
             "#fde0ef"
            ],
            [
             0.5,
             "#f7f7f7"
            ],
            [
             0.6,
             "#e6f5d0"
            ],
            [
             0.7,
             "#b8e186"
            ],
            [
             0.8,
             "#7fbc41"
            ],
            [
             0.9,
             "#4d9221"
            ],
            [
             1,
             "#276419"
            ]
           ],
           "sequential": [
            [
             0,
             "#0d0887"
            ],
            [
             0.1111111111111111,
             "#46039f"
            ],
            [
             0.2222222222222222,
             "#7201a8"
            ],
            [
             0.3333333333333333,
             "#9c179e"
            ],
            [
             0.4444444444444444,
             "#bd3786"
            ],
            [
             0.5555555555555556,
             "#d8576b"
            ],
            [
             0.6666666666666666,
             "#ed7953"
            ],
            [
             0.7777777777777778,
             "#fb9f3a"
            ],
            [
             0.8888888888888888,
             "#fdca26"
            ],
            [
             1,
             "#f0f921"
            ]
           ],
           "sequentialminus": [
            [
             0,
             "#0d0887"
            ],
            [
             0.1111111111111111,
             "#46039f"
            ],
            [
             0.2222222222222222,
             "#7201a8"
            ],
            [
             0.3333333333333333,
             "#9c179e"
            ],
            [
             0.4444444444444444,
             "#bd3786"
            ],
            [
             0.5555555555555556,
             "#d8576b"
            ],
            [
             0.6666666666666666,
             "#ed7953"
            ],
            [
             0.7777777777777778,
             "#fb9f3a"
            ],
            [
             0.8888888888888888,
             "#fdca26"
            ],
            [
             1,
             "#f0f921"
            ]
           ]
          },
          "colorway": [
           "#636efa",
           "#EF553B",
           "#00cc96",
           "#ab63fa",
           "#FFA15A",
           "#19d3f3",
           "#FF6692",
           "#B6E880",
           "#FF97FF",
           "#FECB52"
          ],
          "font": {
           "color": "#2a3f5f"
          },
          "geo": {
           "bgcolor": "white",
           "lakecolor": "white",
           "landcolor": "#E5ECF6",
           "showlakes": true,
           "showland": true,
           "subunitcolor": "white"
          },
          "hoverlabel": {
           "align": "left"
          },
          "hovermode": "closest",
          "mapbox": {
           "style": "light"
          },
          "paper_bgcolor": "white",
          "plot_bgcolor": "#E5ECF6",
          "polar": {
           "angularaxis": {
            "gridcolor": "white",
            "linecolor": "white",
            "ticks": ""
           },
           "bgcolor": "#E5ECF6",
           "radialaxis": {
            "gridcolor": "white",
            "linecolor": "white",
            "ticks": ""
           }
          },
          "scene": {
           "xaxis": {
            "backgroundcolor": "#E5ECF6",
            "gridcolor": "white",
            "gridwidth": 2,
            "linecolor": "white",
            "showbackground": true,
            "ticks": "",
            "zerolinecolor": "white"
           },
           "yaxis": {
            "backgroundcolor": "#E5ECF6",
            "gridcolor": "white",
            "gridwidth": 2,
            "linecolor": "white",
            "showbackground": true,
            "ticks": "",
            "zerolinecolor": "white"
           },
           "zaxis": {
            "backgroundcolor": "#E5ECF6",
            "gridcolor": "white",
            "gridwidth": 2,
            "linecolor": "white",
            "showbackground": true,
            "ticks": "",
            "zerolinecolor": "white"
           }
          },
          "shapedefaults": {
           "line": {
            "color": "#2a3f5f"
           }
          },
          "ternary": {
           "aaxis": {
            "gridcolor": "white",
            "linecolor": "white",
            "ticks": ""
           },
           "baxis": {
            "gridcolor": "white",
            "linecolor": "white",
            "ticks": ""
           },
           "bgcolor": "#E5ECF6",
           "caxis": {
            "gridcolor": "white",
            "linecolor": "white",
            "ticks": ""
           }
          },
          "title": {
           "x": 0.05
          },
          "xaxis": {
           "automargin": true,
           "gridcolor": "white",
           "linecolor": "white",
           "ticks": "",
           "title": {
            "standoff": 15
           },
           "zerolinecolor": "white",
           "zerolinewidth": 2
          },
          "yaxis": {
           "automargin": true,
           "gridcolor": "white",
           "linecolor": "white",
           "ticks": "",
           "title": {
            "standoff": 15
           },
           "zerolinecolor": "white",
           "zerolinewidth": 2
          }
         }
        },
        "title": {
         "text": "Bar Graph of Names vs Numbers"
        },
        "xaxis": {
         "tickangle": -45,
         "title": {
          "text": "Names"
         }
        },
        "yaxis": {
         "title": {
          "text": "Number"
         }
        }
       }
      }
     },
     "metadata": {},
     "output_type": "display_data"
    }
   ],
   "source": [
    "import plotly.graph_objects as go\n",
    "import plotly.express as px\n",
    "import random\n",
    "\n",
    "color_list = ['#FF6347', '#4682B4', '#32CD32', '#FFD700', '#8A2BE2', '#FF1493', '#00FA9A', '#F4A300']\n",
    "\n",
    "# Sort the list by the second element in each tuple (the number) in descending order\n",
    "sorted_data = sorted(counts, key=lambda x: x[1], reverse=True)[:50]\n",
    "\n",
    "color_scale = px.colors.sequential.Viridis  # You can choose any color scale\n",
    "\n",
    "names = [item[0] for item in sorted_data]\n",
    "numbers = [item[1] for item in sorted_data]\n",
    "\n",
    "# Create a color map by normalizing the values and mapping them to the color scale\n",
    "min_value = min(numbers)\n",
    "max_value = max(numbers)\n",
    "\n",
    "# Normalize the sorted_data to the range [0, 1] to fit the color scale\n",
    "normalized_values = [(num - min_value) / (max_value - min_value) for num in numbers]\n",
    "\n",
    "# Map the normalized values to the color scale\n",
    "bar_colors = [color_scale[int(val * (len(color_scale) - 1))] for val in normalized_values]\n",
    "\n",
    "\n",
    "# Separate the sorted data into names and numbers\n",
    "names = [item[0] for item in sorted_data]\n",
    "numbers = [item[1] for item in sorted_data]\n",
    "\n",
    "# Create the bar chart\n",
    "fig = go.Figure([go.Bar(x=names, y=numbers, marker_color=bar_colors)])\n",
    "\n",
    "# Update layout for better display\n",
    "fig.update_layout(\n",
    "    title='Bar Graph of Names vs Numbers',\n",
    "    xaxis_title='Names',\n",
    "    yaxis_title='Number',\n",
    "    xaxis_tickangle=-45,  # Rotate the x-axis labels to make them more readable\n",
    "    showlegend=False\n",
    ")\n",
    "\n",
    "# Show the plot\n",
    "fig.show()"
   ]
  }
 ],
 "metadata": {
  "kernelspec": {
   "display_name": "Python 3",
   "language": "python",
   "name": "python3"
  },
  "language_info": {
   "codemirror_mode": {
    "name": "ipython",
    "version": 3
   },
   "file_extension": ".py",
   "mimetype": "text/x-python",
   "name": "python",
   "nbconvert_exporter": "python",
   "pygments_lexer": "ipython3",
   "version": "3.13.1"
  }
 },
 "nbformat": 4,
 "nbformat_minor": 2
}
