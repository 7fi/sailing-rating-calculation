{
 "cells": [
  {
   "cell_type": "code",
   "execution_count": 2,
   "metadata": {},
   "outputs": [],
   "source": [
    "import matplotlib.pyplot as plt\n",
    "import pandas as pd\n",
    "import numpy as np\n",
    "from scipy.stats import norm\n",
    "from openskill.models import PlackettLuce"
   ]
  },
  {
   "cell_type": "code",
   "execution_count": null,
   "metadata": {},
   "outputs": [
    {
     "name": "stdout",
     "output_type": "stream",
     "text": [
      "[0.8586254029903088, 0.14137459700969124]\n",
      "[1418, 1313, 1274]\n",
      "[1606, 1568, 1545]\n"
     ]
    }
   ],
   "source": [
    "model = PlackettLuce(beta=25.0/120.0)\n",
    "\n",
    "\n",
    "teamA = [model.create_rating([33.12768461284079, 5.463934691332124]),\n",
    "         model.create_rating([32.748743338463136, 6.747616870039725]),\n",
    "         model.create_rating([30.120552427300684, 6.392412847414389])]\n",
    "teamB = [model.create_rating([29.05527791129905, 1.6096444279123752]),\n",
    "         model.create_rating([28.01958023631609, 1.7693547788151567]),\n",
    "         model.create_rating([26.91504500354296, 1.7008684555470728])]\n",
    "print(model.predict_win([teamA, teamB]))\n",
    "print([round(r.ordinal(target=1000, alpha=25)) for r in teamA])\n",
    "print([round(r.ordinal(target=1000, alpha=25)) for r in teamB])"
   ]
  },
  {
   "cell_type": "code",
   "execution_count": 11,
   "metadata": {},
   "outputs": [
    {
     "data": {
      "application/vnd.microsoft.datawrangler.viewer.v0+json": {
       "columns": [
        {
         "name": "index",
         "rawType": "int64",
         "type": "integer"
        },
        {
         "name": "mu",
         "rawType": "float64",
         "type": "float"
        },
        {
         "name": "sigma",
         "rawType": "float64",
         "type": "float"
        },
        {
         "name": "ordinal",
         "rawType": "float64",
         "type": "float"
        }
       ],
       "conversionMethod": "pd.DataFrame",
       "ref": "c7394815-6c77-40e2-92d3-0f96c09aac6e",
       "rows": [
        [
         "0",
         "33.12768461284079",
         "5.463934691332124",
         "16.735880538844416"
        ],
        [
         "1",
         "32.748743338463136",
         "6.747616870039725",
         "12.505892728343959"
        ],
        [
         "2",
         "30.120552427300684",
         "6.392412847414389",
         "10.943313885057517"
        ],
        [
         "3",
         "29.05527791129905",
         "1.6096444279123752",
         "24.226344627561925"
        ],
        [
         "4",
         "28.01958023631609",
         "1.7693547788151567",
         "22.71151589987062"
        ],
        [
         "5",
         "26.91504500354296",
         "1.7008684555470728",
         "21.812439636901743"
        ]
       ],
       "shape": {
        "columns": 3,
        "rows": 6
       }
      },
      "text/html": [
       "<div>\n",
       "<style scoped>\n",
       "    .dataframe tbody tr th:only-of-type {\n",
       "        vertical-align: middle;\n",
       "    }\n",
       "\n",
       "    .dataframe tbody tr th {\n",
       "        vertical-align: top;\n",
       "    }\n",
       "\n",
       "    .dataframe thead th {\n",
       "        text-align: right;\n",
       "    }\n",
       "</style>\n",
       "<table border=\"1\" class=\"dataframe\">\n",
       "  <thead>\n",
       "    <tr style=\"text-align: right;\">\n",
       "      <th></th>\n",
       "      <th>mu</th>\n",
       "      <th>sigma</th>\n",
       "      <th>ordinal</th>\n",
       "    </tr>\n",
       "  </thead>\n",
       "  <tbody>\n",
       "    <tr>\n",
       "      <th>0</th>\n",
       "      <td>33.127685</td>\n",
       "      <td>5.463935</td>\n",
       "      <td>16.735881</td>\n",
       "    </tr>\n",
       "    <tr>\n",
       "      <th>1</th>\n",
       "      <td>32.748743</td>\n",
       "      <td>6.747617</td>\n",
       "      <td>12.505893</td>\n",
       "    </tr>\n",
       "    <tr>\n",
       "      <th>2</th>\n",
       "      <td>30.120552</td>\n",
       "      <td>6.392413</td>\n",
       "      <td>10.943314</td>\n",
       "    </tr>\n",
       "    <tr>\n",
       "      <th>3</th>\n",
       "      <td>29.055278</td>\n",
       "      <td>1.609644</td>\n",
       "      <td>24.226345</td>\n",
       "    </tr>\n",
       "    <tr>\n",
       "      <th>4</th>\n",
       "      <td>28.019580</td>\n",
       "      <td>1.769355</td>\n",
       "      <td>22.711516</td>\n",
       "    </tr>\n",
       "    <tr>\n",
       "      <th>5</th>\n",
       "      <td>26.915045</td>\n",
       "      <td>1.700868</td>\n",
       "      <td>21.812440</td>\n",
       "    </tr>\n",
       "  </tbody>\n",
       "</table>\n",
       "</div>"
      ],
      "text/plain": [
       "          mu     sigma    ordinal\n",
       "0  33.127685  5.463935  16.735881\n",
       "1  32.748743  6.747617  12.505893\n",
       "2  30.120552  6.392413  10.943314\n",
       "3  29.055278  1.609644  24.226345\n",
       "4  28.019580  1.769355  22.711516\n",
       "5  26.915045  1.700868  21.812440"
      ]
     },
     "execution_count": 11,
     "metadata": {},
     "output_type": "execute_result"
    }
   ],
   "source": [
    "df = pd.DataFrame([{'mu': p.mu, 'sigma': p.sigma} for p in teamA + teamB])\n",
    "df[\"ordinal\"] = [p.ordinal() for p in teamA + teamB]\n",
    "df"
   ]
  },
  {
   "cell_type": "code",
   "execution_count": null,
   "metadata": {},
   "outputs": [],
   "source": [
    "visualization_data = np.arange(-25, 75, 0.001)\n",
    "plt.style.use(\"dark_background\")\n",
    "fig, ax = plt.subplots(figsize=(12, 9), dpi=100)\n",
    "fig.patch.set_facecolor(\"#1E1E1E\")\n",
    "ax.set_facecolor(\"#2E2E2E\")\n",
    "\n",
    "df.apply(\n",
    "    lambda row: ax.plot(\n",
    "        visualization_data,\n",
    "        norm.pdf(visualization_data, row[\"mu\"], row[\"sigma\"]),\n",
    "        label=f\"μ: {row['mu']:.2f}, σ: {row['sigma']:.2f}\",\n",
    "        linewidth=2,\n",
    "    ),\n",
    "    axis=1,\n",
    ")\n",
    "\n",
    "ax.set_title(\"Normal Distributions\", fontsize=20, color=\"white\", fontweight=\"bold\")\n",
    "ax.set_xlabel(\"X\", fontsize=14, color=\"white\")\n",
    "ax.set_ylabel(\"Probability Density\", fontsize=14, color=\"white\")\n",
    "ax.tick_params(colors=\"white\", which=\"both\")\n",
    "ax.grid(True, linestyle=\"--\", alpha=0.3)\n",
    "\n",
    "legend = ax.legend(title=\"Parameters\", title_fontsize=14, fontsize=12)\n",
    "legend.get_frame().set_facecolor(\"#3E3E3E\")\n",
    "legend.get_frame().set_edgecolor(\"white\")\n",
    "plt.setp(legend.get_texts(), color=\"white\")\n",
    "plt.setp(legend.get_title(), color=\"white\")\n",
    "plt.tight_layout()\n",
    "plt.show()"
   ]
  }
 ],
 "metadata": {
  "kernelspec": {
   "display_name": "Python 3",
   "language": "python",
   "name": "python3"
  },
  "language_info": {
   "codemirror_mode": {
    "name": "ipython",
    "version": 3
   },
   "file_extension": ".py",
   "mimetype": "text/x-python",
   "name": "python",
   "nbconvert_exporter": "python",
   "pygments_lexer": "ipython3",
   "version": "3.13.1"
  }
 },
 "nbformat": 4,
 "nbformat_minor": 2
}
