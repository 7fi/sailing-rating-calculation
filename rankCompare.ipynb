{
 "cells": [
  {
   "cell_type": "code",
   "execution_count": 1,
   "metadata": {},
   "outputs": [],
   "source": [
    "import pandas as pd\n",
    "import plotly.graph_objs as go"
   ]
  },
  {
   "cell_type": "code",
   "execution_count": 79,
   "metadata": {},
   "outputs": [
    {
     "name": "stdout",
     "output_type": "stream",
     "text": [
      "16 16\n"
     ]
    }
   ],
   "source": [
    "crowsnestTR = ['Yale', 'Roger Williams', 'Harvard', 'Boston College', 'Dartmouth', 'Brown', 'Stanford', 'Navy', 'Georgetown', 'Coast Guard', 'Tufts', 'Rhode Island', 'Tulane', 'MIT', 'Bowdoin', \"St. Mary's\", \"Charleston\",'Michigan']\n",
    "\n",
    "crowsnestWTR = ['Yale', 'Stanford', 'Brown', 'Cornell', 'Harvard', 'MIT', 'Dartmouth', 'Charleston', 'Georgetown', 'Tulane', 'Boston College', 'Pennsylvania', 'Roger Williams', 'Hobart & William', 'Tufts', 'Old Dominion']\n",
    "\n",
    "crowsnestWFR = ['Stanford', 'Yale', 'Cornell', 'Georgetown', 'Dartmouth', 'Brown', 'Harvard', 'Charleston', 'Boston College', 'MIT', 'Tulane', 'Navy', 'Pennsylvania', 'Northeastern', 'Roger Williams', 'Jacksonville']\n",
    "\n",
    "# as of 04-15\n",
    "sail1designTR = [ 'Harvard', 'Yale', 'Roger Williams', 'Stanford', 'Boston College', 'Navy', 'Georgetown', 'Tulane', \"St. Mary's\", 'Dartmouth', 'Brown', 'Tufts', 'MIT', 'Coast Guard', 'Charleston', 'Pennsylvania', 'Rhode Island']\n",
    "sail1designWTR = [ 'Yale', 'Stanford', 'Brown', 'Cornell', 'Georgetown', 'Harvard', 'Charleston', 'MIT', 'Dartmouth', 'Boston College', 'Tulane', 'Roger Williams', 'Tufts', 'Pennsylvania', 'Bowdoin', 'Navy']\n",
    "\n",
    "# as of 4-15\n",
    "WCSR = [ \"Yale\", 'Cornell', 'Georgetown', 'Brown', 'Harvard', 'MIT', 'Stanford', 'Northeastern', 'Dartmouth', 'Navy', 'Pennsylvania', 'Roger Williams', 'Charleston', 'George Washington' 'Old Dominion', 'Hobart & William']\n",
    "\n",
    "TRnationals = ['Harvard', 'Yale', 'Roger Williams', 'Stanford', 'Navy', 'Boston College', 'Georgetown', 'Dartmouth', 'Brown', \"St. Mary's\",'Charleston', 'Tulane', 'Tufts', 'Coast Guard', 'Bowdoin', 'Michigan']\n",
    "TRnationalsAfter = ['Harvard', 'Yale', 'Roger Williams', 'Stanford', 'Brown', 'Boston College', 'Dartmouth', 'Tulane','Navy',\"St. Mary's\", 'Georgetown','Tufts', 'Coast Guard',  'Charleston', 'Bowdoin', 'Michigan']\n",
    "WTRnationals = [ 'Yale', 'Stanford', 'Brown', 'Harvard', 'Cornell', 'MIT', 'Georgetown', 'Charleston', 'Dartmouth', 'Tulane', 'Tufts', 'Pennsylvania']\n",
    "WTRnationalsAfter = ['Stanford', 'Yale',  'Harvard', 'Cornell', 'Dartmouth', 'Tulane', 'Brown', 'Georgetown','Charleston','MIT', 'Tufts', 'Pennsylvania']\n",
    "\n",
    "actual = TRnationalsAfter\n",
    "# crowsnest = [t for t in crowsnestWTR if t in actual]\n",
    "crowsnest = [t for t in crowsnestTR if t in actual]\n",
    "print(len(crowsnest), len(actual))\n",
    "# http://localhost:3000/rankings/simulator?teams=Harvard,Yale,Roger%20Williams,Stanford,Navy,Boston%20College,Georgetown,Dartmouth,Brown,St.%20Mary's,Charleston,Tulane,Tufts,Coast%20Guard,Bowdoin,Michigan"
   ]
  },
  {
   "cell_type": "code",
   "execution_count": 81,
   "metadata": {},
   "outputs": [
    {
     "data": {
      "application/vnd.plotly.v1+json": {
       "config": {
        "plotlyServerURL": "https://plot.ly"
       },
       "data": [
        {
         "marker": {
          "color": "blue",
          "size": 10
         },
         "mode": "markers+text",
         "name": "Teams",
         "text": [
          "Tufts",
          "Yale",
          "Coast Guard",
          "Tulane",
          "Roger Williams",
          "Navy",
          "Georgetown",
          "Stanford",
          "Bowdoin",
          "Michigan",
          "Brown",
          "St. Mary's",
          "Boston College",
          "Dartmouth",
          "Harvard",
          "Charleston"
         ],
         "textposition": "top center",
         "type": "scatter",
         "x": [
          10,
          0,
          9,
          11,
          1,
          7,
          8,
          6,
          12,
          15,
          5,
          13,
          3,
          4,
          2,
          14
         ],
         "y": [
          11,
          1,
          12,
          7,
          2,
          8,
          10,
          3,
          14,
          15,
          4,
          9,
          5,
          6,
          0,
          13
         ]
        },
        {
         "line": {
          "color": "red",
          "dash": "dash"
         },
         "mode": "lines",
         "name": "Same rank",
         "type": "scatter",
         "x": [
          0,
          15
         ],
         "y": [
          0,
          15
         ]
        }
       ],
       "layout": {
        "height": 700,
        "template": {
         "data": {
          "bar": [
           {
            "error_x": {
             "color": "#2a3f5f"
            },
            "error_y": {
             "color": "#2a3f5f"
            },
            "marker": {
             "line": {
              "color": "#E5ECF6",
              "width": 0.5
             },
             "pattern": {
              "fillmode": "overlay",
              "size": 10,
              "solidity": 0.2
             }
            },
            "type": "bar"
           }
          ],
          "barpolar": [
           {
            "marker": {
             "line": {
              "color": "#E5ECF6",
              "width": 0.5
             },
             "pattern": {
              "fillmode": "overlay",
              "size": 10,
              "solidity": 0.2
             }
            },
            "type": "barpolar"
           }
          ],
          "carpet": [
           {
            "aaxis": {
             "endlinecolor": "#2a3f5f",
             "gridcolor": "white",
             "linecolor": "white",
             "minorgridcolor": "white",
             "startlinecolor": "#2a3f5f"
            },
            "baxis": {
             "endlinecolor": "#2a3f5f",
             "gridcolor": "white",
             "linecolor": "white",
             "minorgridcolor": "white",
             "startlinecolor": "#2a3f5f"
            },
            "type": "carpet"
           }
          ],
          "choropleth": [
           {
            "colorbar": {
             "outlinewidth": 0,
             "ticks": ""
            },
            "type": "choropleth"
           }
          ],
          "contour": [
           {
            "colorbar": {
             "outlinewidth": 0,
             "ticks": ""
            },
            "colorscale": [
             [
              0,
              "#0d0887"
             ],
             [
              0.1111111111111111,
              "#46039f"
             ],
             [
              0.2222222222222222,
              "#7201a8"
             ],
             [
              0.3333333333333333,
              "#9c179e"
             ],
             [
              0.4444444444444444,
              "#bd3786"
             ],
             [
              0.5555555555555556,
              "#d8576b"
             ],
             [
              0.6666666666666666,
              "#ed7953"
             ],
             [
              0.7777777777777778,
              "#fb9f3a"
             ],
             [
              0.8888888888888888,
              "#fdca26"
             ],
             [
              1,
              "#f0f921"
             ]
            ],
            "type": "contour"
           }
          ],
          "contourcarpet": [
           {
            "colorbar": {
             "outlinewidth": 0,
             "ticks": ""
            },
            "type": "contourcarpet"
           }
          ],
          "heatmap": [
           {
            "colorbar": {
             "outlinewidth": 0,
             "ticks": ""
            },
            "colorscale": [
             [
              0,
              "#0d0887"
             ],
             [
              0.1111111111111111,
              "#46039f"
             ],
             [
              0.2222222222222222,
              "#7201a8"
             ],
             [
              0.3333333333333333,
              "#9c179e"
             ],
             [
              0.4444444444444444,
              "#bd3786"
             ],
             [
              0.5555555555555556,
              "#d8576b"
             ],
             [
              0.6666666666666666,
              "#ed7953"
             ],
             [
              0.7777777777777778,
              "#fb9f3a"
             ],
             [
              0.8888888888888888,
              "#fdca26"
             ],
             [
              1,
              "#f0f921"
             ]
            ],
            "type": "heatmap"
           }
          ],
          "heatmapgl": [
           {
            "colorbar": {
             "outlinewidth": 0,
             "ticks": ""
            },
            "colorscale": [
             [
              0,
              "#0d0887"
             ],
             [
              0.1111111111111111,
              "#46039f"
             ],
             [
              0.2222222222222222,
              "#7201a8"
             ],
             [
              0.3333333333333333,
              "#9c179e"
             ],
             [
              0.4444444444444444,
              "#bd3786"
             ],
             [
              0.5555555555555556,
              "#d8576b"
             ],
             [
              0.6666666666666666,
              "#ed7953"
             ],
             [
              0.7777777777777778,
              "#fb9f3a"
             ],
             [
              0.8888888888888888,
              "#fdca26"
             ],
             [
              1,
              "#f0f921"
             ]
            ],
            "type": "heatmapgl"
           }
          ],
          "histogram": [
           {
            "marker": {
             "pattern": {
              "fillmode": "overlay",
              "size": 10,
              "solidity": 0.2
             }
            },
            "type": "histogram"
           }
          ],
          "histogram2d": [
           {
            "colorbar": {
             "outlinewidth": 0,
             "ticks": ""
            },
            "colorscale": [
             [
              0,
              "#0d0887"
             ],
             [
              0.1111111111111111,
              "#46039f"
             ],
             [
              0.2222222222222222,
              "#7201a8"
             ],
             [
              0.3333333333333333,
              "#9c179e"
             ],
             [
              0.4444444444444444,
              "#bd3786"
             ],
             [
              0.5555555555555556,
              "#d8576b"
             ],
             [
              0.6666666666666666,
              "#ed7953"
             ],
             [
              0.7777777777777778,
              "#fb9f3a"
             ],
             [
              0.8888888888888888,
              "#fdca26"
             ],
             [
              1,
              "#f0f921"
             ]
            ],
            "type": "histogram2d"
           }
          ],
          "histogram2dcontour": [
           {
            "colorbar": {
             "outlinewidth": 0,
             "ticks": ""
            },
            "colorscale": [
             [
              0,
              "#0d0887"
             ],
             [
              0.1111111111111111,
              "#46039f"
             ],
             [
              0.2222222222222222,
              "#7201a8"
             ],
             [
              0.3333333333333333,
              "#9c179e"
             ],
             [
              0.4444444444444444,
              "#bd3786"
             ],
             [
              0.5555555555555556,
              "#d8576b"
             ],
             [
              0.6666666666666666,
              "#ed7953"
             ],
             [
              0.7777777777777778,
              "#fb9f3a"
             ],
             [
              0.8888888888888888,
              "#fdca26"
             ],
             [
              1,
              "#f0f921"
             ]
            ],
            "type": "histogram2dcontour"
           }
          ],
          "mesh3d": [
           {
            "colorbar": {
             "outlinewidth": 0,
             "ticks": ""
            },
            "type": "mesh3d"
           }
          ],
          "parcoords": [
           {
            "line": {
             "colorbar": {
              "outlinewidth": 0,
              "ticks": ""
             }
            },
            "type": "parcoords"
           }
          ],
          "pie": [
           {
            "automargin": true,
            "type": "pie"
           }
          ],
          "scatter": [
           {
            "fillpattern": {
             "fillmode": "overlay",
             "size": 10,
             "solidity": 0.2
            },
            "type": "scatter"
           }
          ],
          "scatter3d": [
           {
            "line": {
             "colorbar": {
              "outlinewidth": 0,
              "ticks": ""
             }
            },
            "marker": {
             "colorbar": {
              "outlinewidth": 0,
              "ticks": ""
             }
            },
            "type": "scatter3d"
           }
          ],
          "scattercarpet": [
           {
            "marker": {
             "colorbar": {
              "outlinewidth": 0,
              "ticks": ""
             }
            },
            "type": "scattercarpet"
           }
          ],
          "scattergeo": [
           {
            "marker": {
             "colorbar": {
              "outlinewidth": 0,
              "ticks": ""
             }
            },
            "type": "scattergeo"
           }
          ],
          "scattergl": [
           {
            "marker": {
             "colorbar": {
              "outlinewidth": 0,
              "ticks": ""
             }
            },
            "type": "scattergl"
           }
          ],
          "scattermapbox": [
           {
            "marker": {
             "colorbar": {
              "outlinewidth": 0,
              "ticks": ""
             }
            },
            "type": "scattermapbox"
           }
          ],
          "scatterpolar": [
           {
            "marker": {
             "colorbar": {
              "outlinewidth": 0,
              "ticks": ""
             }
            },
            "type": "scatterpolar"
           }
          ],
          "scatterpolargl": [
           {
            "marker": {
             "colorbar": {
              "outlinewidth": 0,
              "ticks": ""
             }
            },
            "type": "scatterpolargl"
           }
          ],
          "scatterternary": [
           {
            "marker": {
             "colorbar": {
              "outlinewidth": 0,
              "ticks": ""
             }
            },
            "type": "scatterternary"
           }
          ],
          "surface": [
           {
            "colorbar": {
             "outlinewidth": 0,
             "ticks": ""
            },
            "colorscale": [
             [
              0,
              "#0d0887"
             ],
             [
              0.1111111111111111,
              "#46039f"
             ],
             [
              0.2222222222222222,
              "#7201a8"
             ],
             [
              0.3333333333333333,
              "#9c179e"
             ],
             [
              0.4444444444444444,
              "#bd3786"
             ],
             [
              0.5555555555555556,
              "#d8576b"
             ],
             [
              0.6666666666666666,
              "#ed7953"
             ],
             [
              0.7777777777777778,
              "#fb9f3a"
             ],
             [
              0.8888888888888888,
              "#fdca26"
             ],
             [
              1,
              "#f0f921"
             ]
            ],
            "type": "surface"
           }
          ],
          "table": [
           {
            "cells": {
             "fill": {
              "color": "#EBF0F8"
             },
             "line": {
              "color": "white"
             }
            },
            "header": {
             "fill": {
              "color": "#C8D4E3"
             },
             "line": {
              "color": "white"
             }
            },
            "type": "table"
           }
          ]
         },
         "layout": {
          "annotationdefaults": {
           "arrowcolor": "#2a3f5f",
           "arrowhead": 0,
           "arrowwidth": 1
          },
          "autotypenumbers": "strict",
          "coloraxis": {
           "colorbar": {
            "outlinewidth": 0,
            "ticks": ""
           }
          },
          "colorscale": {
           "diverging": [
            [
             0,
             "#8e0152"
            ],
            [
             0.1,
             "#c51b7d"
            ],
            [
             0.2,
             "#de77ae"
            ],
            [
             0.3,
             "#f1b6da"
            ],
            [
             0.4,
             "#fde0ef"
            ],
            [
             0.5,
             "#f7f7f7"
            ],
            [
             0.6,
             "#e6f5d0"
            ],
            [
             0.7,
             "#b8e186"
            ],
            [
             0.8,
             "#7fbc41"
            ],
            [
             0.9,
             "#4d9221"
            ],
            [
             1,
             "#276419"
            ]
           ],
           "sequential": [
            [
             0,
             "#0d0887"
            ],
            [
             0.1111111111111111,
             "#46039f"
            ],
            [
             0.2222222222222222,
             "#7201a8"
            ],
            [
             0.3333333333333333,
             "#9c179e"
            ],
            [
             0.4444444444444444,
             "#bd3786"
            ],
            [
             0.5555555555555556,
             "#d8576b"
            ],
            [
             0.6666666666666666,
             "#ed7953"
            ],
            [
             0.7777777777777778,
             "#fb9f3a"
            ],
            [
             0.8888888888888888,
             "#fdca26"
            ],
            [
             1,
             "#f0f921"
            ]
           ],
           "sequentialminus": [
            [
             0,
             "#0d0887"
            ],
            [
             0.1111111111111111,
             "#46039f"
            ],
            [
             0.2222222222222222,
             "#7201a8"
            ],
            [
             0.3333333333333333,
             "#9c179e"
            ],
            [
             0.4444444444444444,
             "#bd3786"
            ],
            [
             0.5555555555555556,
             "#d8576b"
            ],
            [
             0.6666666666666666,
             "#ed7953"
            ],
            [
             0.7777777777777778,
             "#fb9f3a"
            ],
            [
             0.8888888888888888,
             "#fdca26"
            ],
            [
             1,
             "#f0f921"
            ]
           ]
          },
          "colorway": [
           "#636efa",
           "#EF553B",
           "#00cc96",
           "#ab63fa",
           "#FFA15A",
           "#19d3f3",
           "#FF6692",
           "#B6E880",
           "#FF97FF",
           "#FECB52"
          ],
          "font": {
           "color": "#2a3f5f"
          },
          "geo": {
           "bgcolor": "white",
           "lakecolor": "white",
           "landcolor": "#E5ECF6",
           "showlakes": true,
           "showland": true,
           "subunitcolor": "white"
          },
          "hoverlabel": {
           "align": "left"
          },
          "hovermode": "closest",
          "mapbox": {
           "style": "light"
          },
          "paper_bgcolor": "white",
          "plot_bgcolor": "#E5ECF6",
          "polar": {
           "angularaxis": {
            "gridcolor": "white",
            "linecolor": "white",
            "ticks": ""
           },
           "bgcolor": "#E5ECF6",
           "radialaxis": {
            "gridcolor": "white",
            "linecolor": "white",
            "ticks": ""
           }
          },
          "scene": {
           "xaxis": {
            "backgroundcolor": "#E5ECF6",
            "gridcolor": "white",
            "gridwidth": 2,
            "linecolor": "white",
            "showbackground": true,
            "ticks": "",
            "zerolinecolor": "white"
           },
           "yaxis": {
            "backgroundcolor": "#E5ECF6",
            "gridcolor": "white",
            "gridwidth": 2,
            "linecolor": "white",
            "showbackground": true,
            "ticks": "",
            "zerolinecolor": "white"
           },
           "zaxis": {
            "backgroundcolor": "#E5ECF6",
            "gridcolor": "white",
            "gridwidth": 2,
            "linecolor": "white",
            "showbackground": true,
            "ticks": "",
            "zerolinecolor": "white"
           }
          },
          "shapedefaults": {
           "line": {
            "color": "#2a3f5f"
           }
          },
          "ternary": {
           "aaxis": {
            "gridcolor": "white",
            "linecolor": "white",
            "ticks": ""
           },
           "baxis": {
            "gridcolor": "white",
            "linecolor": "white",
            "ticks": ""
           },
           "bgcolor": "#E5ECF6",
           "caxis": {
            "gridcolor": "white",
            "linecolor": "white",
            "ticks": ""
           }
          },
          "title": {
           "x": 0.05
          },
          "xaxis": {
           "automargin": true,
           "gridcolor": "white",
           "linecolor": "white",
           "ticks": "",
           "title": {
            "standoff": 15
           },
           "zerolinecolor": "white",
           "zerolinewidth": 2
          },
          "yaxis": {
           "automargin": true,
           "gridcolor": "white",
           "linecolor": "white",
           "ticks": "",
           "title": {
            "standoff": 15
           },
           "zerolinecolor": "white",
           "zerolinewidth": 2
          }
         }
        },
        "title": {
         "text": "Crowsnest VS Nationals Comittee"
        },
        "width": 700,
        "xaxis": {
         "dtick": 1,
         "ticktext": [
          "1",
          "2",
          "3",
          "4",
          "5",
          "6",
          "7",
          "8",
          "9",
          "10",
          "11",
          "12",
          "13",
          "14",
          "15",
          "16"
         ],
         "tickvals": [
          0,
          1,
          2,
          3,
          4,
          5,
          6,
          7,
          8,
          9,
          10,
          11,
          12,
          13,
          14,
          15
         ],
         "title": {
          "text": "CrowsNest Rank"
         }
        },
        "yaxis": {
         "dtick": 1,
         "ticktext": [
          "1",
          "2",
          "3",
          "4",
          "5",
          "6",
          "7",
          "8",
          "9",
          "10",
          "11",
          "12",
          "13",
          "14",
          "15",
          "16"
         ],
         "tickvals": [
          0,
          1,
          2,
          3,
          4,
          5,
          6,
          7,
          8,
          9,
          10,
          11,
          12,
          13,
          14,
          15
         ],
         "title": {
          "text": "Actual Result"
         }
        }
       }
      }
     },
     "metadata": {},
     "output_type": "display_data"
    }
   ],
   "source": [
    "# Create mappings from string to index for each list\n",
    "order1 = {item: idx for idx, item in enumerate(crowsnest)}\n",
    "order2 = {item: idx for idx, item in enumerate(actual)}\n",
    "\n",
    "# Find common items\n",
    "common_items = set(crowsnest) & set(actual)\n",
    "\n",
    "# Create coordinates for scatter plot\n",
    "x_vals = [order1[item] for item in common_items]\n",
    "y_vals = [order2[item] for item in common_items]\n",
    "labels = list(common_items)\n",
    "\n",
    "# Create scatter plot trace\n",
    "scatter = go.Scatter(\n",
    "    x=x_vals,\n",
    "    y=y_vals,\n",
    "    mode='markers+text',\n",
    "    text=labels,\n",
    "    textposition='top center',\n",
    "    marker=dict(size=10, color='blue'),\n",
    "    name='Teams'\n",
    ")\n",
    "\n",
    "# Diagonal line (x = y)\n",
    "diagonal = go.Scatter(\n",
    "    x=[0, max(len(crowsnest), len(actual)) - 1],\n",
    "    y=[0, max(len(crowsnest), len(actual)) - 1],\n",
    "    mode='lines',\n",
    "    line=dict(color='red', dash='dash'),\n",
    "    name='Same rank'\n",
    ")\n",
    "\n",
    "# Create the figure\n",
    "fig = go.Figure(data=[scatter, diagonal])\n",
    "fig.update_layout(\n",
    "    title=\"Crowsnest VS Nationals Comittee\",\n",
    "    xaxis_title=\"CrowsNest Rank\",\n",
    "    yaxis_title=\"Actual Result\",\n",
    "    xaxis=dict(\n",
    "        dtick=1,\n",
    "        tickvals=[i for i in range(len(crowsnest)) if i != -1],  # Exclude -1\n",
    "        ticktext=[str(i + 1) for i in range(len(crowsnest)) if i != -1]  # Label other tick values\n",
    "    ),\n",
    "    yaxis=dict(\n",
    "        dtick=1,\n",
    "        tickvals=[i for i in range(len(actual)) if i != -1],  # Exclude -1\n",
    "        ticktext=[str(i + 1) for i in range(len(actual)) if i != -1]  # Label other tick values\n",
    "    ),\n",
    "    width=700,\n",
    "    height=700\n",
    ")\n",
    "\n",
    "fig.show()"
   ]
  },
  {
   "cell_type": "code",
   "execution_count": 1,
   "metadata": {},
   "outputs": [
    {
     "data": {
      "application/vnd.microsoft.datawrangler.viewer.v0+json": {
       "columns": [
        {
         "name": "index",
         "rawType": "int64",
         "type": "integer"
        },
        {
         "name": "Score",
         "rawType": "float64",
         "type": "float"
        },
        {
         "name": "Div",
         "rawType": "object",
         "type": "string"
        },
        {
         "name": "Sailor",
         "rawType": "object",
         "type": "string"
        },
        {
         "name": "Link",
         "rawType": "object",
         "type": "unknown"
        },
        {
         "name": "GradYear",
         "rawType": "object",
         "type": "string"
        },
        {
         "name": "Position",
         "rawType": "object",
         "type": "string"
        },
        {
         "name": "Partner",
         "rawType": "object",
         "type": "string"
        },
        {
         "name": "Venue",
         "rawType": "object",
         "type": "string"
        },
        {
         "name": "Regatta",
         "rawType": "object",
         "type": "string"
        },
        {
         "name": "Scoring",
         "rawType": "object",
         "type": "string"
        },
        {
         "name": "raceID",
         "rawType": "object",
         "type": "string"
        },
        {
         "name": "Date",
         "rawType": "datetime64[ns]",
         "type": "datetime"
        },
        {
         "name": "Team",
         "rawType": "object",
         "type": "string"
        },
        {
         "name": "Teamlink",
         "rawType": "object",
         "type": "string"
        },
        {
         "name": "PartnerLink",
         "rawType": "object",
         "type": "unknown"
        }
       ],
       "ref": "591b3cb4-2f22-4189-9215-a507e589e26f",
       "rows": [
        [
         "0",
         "1.0",
         "A",
         "Campbell D'Eliscu",
         "campbell-deliscu",
         "19",
         "Skipper",
         "Meaghan MacRae",
         "Southern Cal",
         "f16/rose-bowl-backup",
         "2 Divisions",
         "f16/rose-bowl-backup/1A",
         "2017-01-07 00:00:00",
         "Georgetown",
         "/schools/georgetown/f16/",
         "meaghan-macrae"
        ],
        [
         "1",
         "2.0",
         "A",
         "Campbell D'Eliscu",
         "campbell-deliscu",
         "19",
         "Skipper",
         "Meaghan MacRae",
         "Southern Cal",
         "f16/rose-bowl-backup",
         "2 Divisions",
         "f16/rose-bowl-backup/2A",
         "2017-01-07 00:00:00",
         "Georgetown",
         "/schools/georgetown/f16/",
         "meaghan-macrae"
        ],
        [
         "2",
         "1.0",
         "A",
         "Campbell D'Eliscu",
         "campbell-deliscu",
         "19",
         "Skipper",
         "Meaghan MacRae",
         "Southern Cal",
         "f16/rose-bowl-backup",
         "2 Divisions",
         "f16/rose-bowl-backup/3A",
         "2017-01-07 00:00:00",
         "Georgetown",
         "/schools/georgetown/f16/",
         "meaghan-macrae"
        ],
        [
         "3",
         "3.0",
         "B",
         "Sean Segerblom",
         "sean-segerblom",
         "20",
         "Skipper",
         "Claire Mohun",
         "Southern Cal",
         "f16/rose-bowl-backup",
         "2 Divisions",
         "f16/rose-bowl-backup/1B",
         "2017-01-07 00:00:00",
         "Georgetown",
         "/schools/georgetown/f16/",
         "claire-mohun"
        ],
        [
         "4",
         "16.0",
         "B",
         "Sean Segerblom",
         "sean-segerblom",
         "20",
         "Skipper",
         "Claire Mohun",
         "Southern Cal",
         "f16/rose-bowl-backup",
         "2 Divisions",
         "f16/rose-bowl-backup/2B",
         "2017-01-07 00:00:00",
         "Georgetown",
         "/schools/georgetown/f16/",
         "claire-mohun"
        ],
        [
         "5",
         "1.0",
         "B",
         "Sean Segerblom",
         "sean-segerblom",
         "20",
         "Skipper",
         "Claire Mohun",
         "Southern Cal",
         "f16/rose-bowl-backup",
         "2 Divisions",
         "f16/rose-bowl-backup/3B",
         "2017-01-07 00:00:00",
         "Georgetown",
         "/schools/georgetown/f16/",
         "claire-mohun"
        ],
        [
         "6",
         "1.0",
         "A",
         "Meaghan MacRae",
         "meaghan-macrae",
         "18",
         "Crew",
         "Campbell D'Eliscu",
         "Southern Cal",
         "f16/rose-bowl-backup",
         "2 Divisions",
         "f16/rose-bowl-backup/1A",
         "2017-01-07 00:00:00",
         "Georgetown",
         "/schools/georgetown/f16/",
         "campbell-deliscu"
        ],
        [
         "7",
         "2.0",
         "A",
         "Meaghan MacRae",
         "meaghan-macrae",
         "18",
         "Crew",
         "Campbell D'Eliscu",
         "Southern Cal",
         "f16/rose-bowl-backup",
         "2 Divisions",
         "f16/rose-bowl-backup/2A",
         "2017-01-07 00:00:00",
         "Georgetown",
         "/schools/georgetown/f16/",
         "campbell-deliscu"
        ],
        [
         "8",
         "1.0",
         "A",
         "Meaghan MacRae",
         "meaghan-macrae",
         "18",
         "Crew",
         "Campbell D'Eliscu",
         "Southern Cal",
         "f16/rose-bowl-backup",
         "2 Divisions",
         "f16/rose-bowl-backup/3A",
         "2017-01-07 00:00:00",
         "Georgetown",
         "/schools/georgetown/f16/",
         "campbell-deliscu"
        ],
        [
         "9",
         "3.0",
         "B",
         "Claire Mohun",
         "claire-mohun",
         "19",
         "Crew",
         "Sean Segerblom",
         "Southern Cal",
         "f16/rose-bowl-backup",
         "2 Divisions",
         "f16/rose-bowl-backup/1B",
         "2017-01-07 00:00:00",
         "Georgetown",
         "/schools/georgetown/f16/",
         "sean-segerblom"
        ],
        [
         "10",
         "16.0",
         "B",
         "Claire Mohun",
         "claire-mohun",
         "19",
         "Crew",
         "Sean Segerblom",
         "Southern Cal",
         "f16/rose-bowl-backup",
         "2 Divisions",
         "f16/rose-bowl-backup/2B",
         "2017-01-07 00:00:00",
         "Georgetown",
         "/schools/georgetown/f16/",
         "sean-segerblom"
        ],
        [
         "11",
         "1.0",
         "B",
         "Claire Mohun",
         "claire-mohun",
         "19",
         "Crew",
         "Sean Segerblom",
         "Southern Cal",
         "f16/rose-bowl-backup",
         "2 Divisions",
         "f16/rose-bowl-backup/3B",
         "2017-01-07 00:00:00",
         "Georgetown",
         "/schools/georgetown/f16/",
         "sean-segerblom"
        ],
        [
         "12",
         "2.0",
         "A",
         "Steven Leuck",
         "steven-leuck",
         "20",
         "Skipper",
         "Grace McCarthy",
         "Southern Cal",
         "f16/rose-bowl-backup",
         "2 Divisions",
         "f16/rose-bowl-backup/1A",
         "2017-01-07 00:00:00",
         "Charleston",
         "/schools/charleston/f16/",
         "grace-mccarthy"
        ],
        [
         "13",
         "5.0",
         "A",
         "Steven Leuck",
         "steven-leuck",
         "20",
         "Skipper",
         "Grace McCarthy",
         "Southern Cal",
         "f16/rose-bowl-backup",
         "2 Divisions",
         "f16/rose-bowl-backup/2A",
         "2017-01-07 00:00:00",
         "Charleston",
         "/schools/charleston/f16/",
         "grace-mccarthy"
        ],
        [
         "14",
         "8.0",
         "A",
         "Steven Leuck",
         "steven-leuck",
         "20",
         "Skipper",
         "Grace McCarthy",
         "Southern Cal",
         "f16/rose-bowl-backup",
         "2 Divisions",
         "f16/rose-bowl-backup/3A",
         "2017-01-07 00:00:00",
         "Charleston",
         "/schools/charleston/f16/",
         "grace-mccarthy"
        ],
        [
         "15",
         "16.0",
         "B",
         "Patrick Shannon",
         "patrick-shannon",
         "20",
         "Skipper",
         "Madison Nadelman",
         "Southern Cal",
         "f16/rose-bowl-backup",
         "2 Divisions",
         "f16/rose-bowl-backup/1B",
         "2017-01-07 00:00:00",
         "Charleston",
         "/schools/charleston/f16/",
         "madison-nadelman"
        ],
        [
         "16",
         "1.0",
         "B",
         "Patrick Shannon",
         "patrick-shannon",
         "20",
         "Skipper",
         "Madison Nadelman",
         "Southern Cal",
         "f16/rose-bowl-backup",
         "2 Divisions",
         "f16/rose-bowl-backup/2B",
         "2017-01-07 00:00:00",
         "Charleston",
         "/schools/charleston/f16/",
         "madison-nadelman"
        ],
        [
         "17",
         "3.0",
         "B",
         "Patrick Shannon",
         "patrick-shannon",
         "20",
         "Skipper",
         "Madison Nadelman",
         "Southern Cal",
         "f16/rose-bowl-backup",
         "2 Divisions",
         "f16/rose-bowl-backup/3B",
         "2017-01-07 00:00:00",
         "Charleston",
         "/schools/charleston/f16/",
         "madison-nadelman"
        ],
        [
         "18",
         "2.0",
         "A",
         "Grace McCarthy",
         "grace-mccarthy",
         "18",
         "Crew",
         "Steven Leuck",
         "Southern Cal",
         "f16/rose-bowl-backup",
         "2 Divisions",
         "f16/rose-bowl-backup/1A",
         "2017-01-07 00:00:00",
         "Charleston",
         "/schools/charleston/f16/",
         "steven-leuck"
        ],
        [
         "19",
         "5.0",
         "A",
         "Grace McCarthy",
         "grace-mccarthy",
         "18",
         "Crew",
         "Steven Leuck",
         "Southern Cal",
         "f16/rose-bowl-backup",
         "2 Divisions",
         "f16/rose-bowl-backup/2A",
         "2017-01-07 00:00:00",
         "Charleston",
         "/schools/charleston/f16/",
         "steven-leuck"
        ],
        [
         "20",
         "8.0",
         "A",
         "Grace McCarthy",
         "grace-mccarthy",
         "18",
         "Crew",
         "Steven Leuck",
         "Southern Cal",
         "f16/rose-bowl-backup",
         "2 Divisions",
         "f16/rose-bowl-backup/3A",
         "2017-01-07 00:00:00",
         "Charleston",
         "/schools/charleston/f16/",
         "steven-leuck"
        ],
        [
         "21",
         "16.0",
         "B",
         "Madison Nadelman",
         "madison-nadelman",
         "20",
         "Crew",
         "Patrick Shannon",
         "Southern Cal",
         "f16/rose-bowl-backup",
         "2 Divisions",
         "f16/rose-bowl-backup/1B",
         "2017-01-07 00:00:00",
         "Charleston",
         "/schools/charleston/f16/",
         "patrick-shannon"
        ],
        [
         "22",
         "1.0",
         "B",
         "Madison Nadelman",
         "madison-nadelman",
         "20",
         "Crew",
         "Patrick Shannon",
         "Southern Cal",
         "f16/rose-bowl-backup",
         "2 Divisions",
         "f16/rose-bowl-backup/2B",
         "2017-01-07 00:00:00",
         "Charleston",
         "/schools/charleston/f16/",
         "patrick-shannon"
        ],
        [
         "23",
         "3.0",
         "B",
         "Madison Nadelman",
         "madison-nadelman",
         "20",
         "Crew",
         "Patrick Shannon",
         "Southern Cal",
         "f16/rose-bowl-backup",
         "2 Divisions",
         "f16/rose-bowl-backup/3B",
         "2017-01-07 00:00:00",
         "Charleston",
         "/schools/charleston/f16/",
         "patrick-shannon"
        ],
        [
         "24",
         "6.0",
         "A",
         "Matthew Long",
         "matthew-long",
         "20",
         "Skipper",
         "Theodore Bascom",
         "Southern Cal",
         "f16/rose-bowl-backup",
         "2 Divisions",
         "f16/rose-bowl-backup/1A",
         "2017-01-07 00:00:00",
         "Santa Barbara City",
         "/schools/santa-barbara-city/f16/",
         "theodore-bascom"
        ],
        [
         "25",
         "8.0",
         "A",
         "Matthew Long",
         "matthew-long",
         "20",
         "Skipper",
         "Theodore Bascom",
         "Southern Cal",
         "f16/rose-bowl-backup",
         "2 Divisions",
         "f16/rose-bowl-backup/2A",
         "2017-01-07 00:00:00",
         "Santa Barbara City",
         "/schools/santa-barbara-city/f16/",
         "theodore-bascom"
        ],
        [
         "26",
         "3.0",
         "A",
         "Matthew Long",
         "matthew-long",
         "20",
         "Skipper",
         "Theodore Bascom",
         "Southern Cal",
         "f16/rose-bowl-backup",
         "2 Divisions",
         "f16/rose-bowl-backup/3A",
         "2017-01-07 00:00:00",
         "Santa Barbara City",
         "/schools/santa-barbara-city/f16/",
         "theodore-bascom"
        ],
        [
         "27",
         "2.0",
         "B",
         "Silas Barton",
         "silas-barton",
         "18",
         "Skipper",
         "Cameron Gibson",
         "Southern Cal",
         "f16/rose-bowl-backup",
         "2 Divisions",
         "f16/rose-bowl-backup/1B",
         "2017-01-07 00:00:00",
         "Santa Barbara City",
         "/schools/santa-barbara-city/f16/",
         "cameron-gibson"
        ],
        [
         "28",
         "10.0",
         "B",
         "Silas Barton",
         "silas-barton",
         "18",
         "Skipper",
         "Cameron Gibson",
         "Southern Cal",
         "f16/rose-bowl-backup",
         "2 Divisions",
         "f16/rose-bowl-backup/2B",
         "2017-01-07 00:00:00",
         "Santa Barbara City",
         "/schools/santa-barbara-city/f16/",
         "cameron-gibson"
        ],
        [
         "29",
         "6.0",
         "B",
         "Silas Barton",
         "silas-barton",
         "18",
         "Skipper",
         "Cameron Gibson",
         "Southern Cal",
         "f16/rose-bowl-backup",
         "2 Divisions",
         "f16/rose-bowl-backup/3B",
         "2017-01-07 00:00:00",
         "Santa Barbara City",
         "/schools/santa-barbara-city/f16/",
         "cameron-gibson"
        ],
        [
         "30",
         "6.0",
         "A",
         "Theodore Bascom",
         "theodore-bascom",
         "20",
         "Crew",
         "Matthew Long",
         "Southern Cal",
         "f16/rose-bowl-backup",
         "2 Divisions",
         "f16/rose-bowl-backup/1A",
         "2017-01-07 00:00:00",
         "Santa Barbara City",
         "/schools/santa-barbara-city/f16/",
         "matthew-long"
        ],
        [
         "31",
         "8.0",
         "A",
         "Theodore Bascom",
         "theodore-bascom",
         "20",
         "Crew",
         "Matthew Long",
         "Southern Cal",
         "f16/rose-bowl-backup",
         "2 Divisions",
         "f16/rose-bowl-backup/2A",
         "2017-01-07 00:00:00",
         "Santa Barbara City",
         "/schools/santa-barbara-city/f16/",
         "matthew-long"
        ],
        [
         "32",
         "3.0",
         "A",
         "Theodore Bascom",
         "theodore-bascom",
         "20",
         "Crew",
         "Matthew Long",
         "Southern Cal",
         "f16/rose-bowl-backup",
         "2 Divisions",
         "f16/rose-bowl-backup/3A",
         "2017-01-07 00:00:00",
         "Santa Barbara City",
         "/schools/santa-barbara-city/f16/",
         "matthew-long"
        ],
        [
         "33",
         "2.0",
         "B",
         "Cameron Gibson",
         "cameron-gibson",
         "19",
         "Crew",
         "Silas Barton",
         "Southern Cal",
         "f16/rose-bowl-backup",
         "2 Divisions",
         "f16/rose-bowl-backup/1B",
         "2017-01-07 00:00:00",
         "Santa Barbara City",
         "/schools/santa-barbara-city/f16/",
         "silas-barton"
        ],
        [
         "34",
         "10.0",
         "B",
         "Cameron Gibson",
         "cameron-gibson",
         "19",
         "Crew",
         "Silas Barton",
         "Southern Cal",
         "f16/rose-bowl-backup",
         "2 Divisions",
         "f16/rose-bowl-backup/2B",
         "2017-01-07 00:00:00",
         "Santa Barbara City",
         "/schools/santa-barbara-city/f16/",
         "silas-barton"
        ],
        [
         "35",
         "6.0",
         "B",
         "Cameron Gibson",
         "cameron-gibson",
         "19",
         "Crew",
         "Silas Barton",
         "Southern Cal",
         "f16/rose-bowl-backup",
         "2 Divisions",
         "f16/rose-bowl-backup/3B",
         "2017-01-07 00:00:00",
         "Santa Barbara City",
         "/schools/santa-barbara-city/f16/",
         "silas-barton"
        ],
        [
         "36",
         "17.0",
         "A",
         "Karl Rasmus Sayre",
         "karl-rasmus-sayre",
         "19",
         "Skipper",
         "Caroline Puckette",
         "Southern Cal",
         "f16/rose-bowl-backup",
         "2 Divisions",
         "f16/rose-bowl-backup/1A",
         "2017-01-07 00:00:00",
         "Eckerd",
         "/schools/eckerd/f16/",
         "caroline-puckette"
        ],
        [
         "37",
         "3.0",
         "A",
         "Karl Rasmus Sayre",
         "karl-rasmus-sayre",
         "19",
         "Skipper",
         "Caroline Puckette",
         "Southern Cal",
         "f16/rose-bowl-backup",
         "2 Divisions",
         "f16/rose-bowl-backup/2A",
         "2017-01-07 00:00:00",
         "Eckerd",
         "/schools/eckerd/f16/",
         "caroline-puckette"
        ],
        [
         "38",
         "5.0",
         "A",
         "Karl Rasmus Sayre",
         "karl-rasmus-sayre",
         "19",
         "Skipper",
         "Caroline Puckette",
         "Southern Cal",
         "f16/rose-bowl-backup",
         "2 Divisions",
         "f16/rose-bowl-backup/3A",
         "2017-01-07 00:00:00",
         "Eckerd",
         "/schools/eckerd/f16/",
         "caroline-puckette"
        ],
        [
         "39",
         "1.0",
         "B",
         "Samuel Peirson",
         "samuel-peirson",
         "17",
         "Skipper",
         "Jane Anne Donovan",
         "Southern Cal",
         "f16/rose-bowl-backup",
         "2 Divisions",
         "f16/rose-bowl-backup/1B",
         "2017-01-07 00:00:00",
         "Eckerd",
         "/schools/eckerd/f16/",
         "jane-anne-donovan"
        ],
        [
         "40",
         "3.0",
         "B",
         "Samuel Peirson",
         "samuel-peirson",
         "17",
         "Skipper",
         "Jane Anne Donovan",
         "Southern Cal",
         "f16/rose-bowl-backup",
         "2 Divisions",
         "f16/rose-bowl-backup/2B",
         "2017-01-07 00:00:00",
         "Eckerd",
         "/schools/eckerd/f16/",
         "jane-anne-donovan"
        ],
        [
         "41",
         "8.0",
         "B",
         "Samuel Peirson",
         "samuel-peirson",
         "17",
         "Skipper",
         "Jane Anne Donovan",
         "Southern Cal",
         "f16/rose-bowl-backup",
         "2 Divisions",
         "f16/rose-bowl-backup/3B",
         "2017-01-07 00:00:00",
         "Eckerd",
         "/schools/eckerd/f16/",
         "jane-anne-donovan"
        ],
        [
         "42",
         "17.0",
         "A",
         "Caroline Puckette",
         "caroline-puckette",
         "20",
         "Crew",
         "Karl Rasmus Sayre",
         "Southern Cal",
         "f16/rose-bowl-backup",
         "2 Divisions",
         "f16/rose-bowl-backup/1A",
         "2017-01-07 00:00:00",
         "Eckerd",
         "/schools/eckerd/f16/",
         "karl-rasmus-sayre"
        ],
        [
         "43",
         "3.0",
         "A",
         "Caroline Puckette",
         "caroline-puckette",
         "20",
         "Crew",
         "Karl Rasmus Sayre",
         "Southern Cal",
         "f16/rose-bowl-backup",
         "2 Divisions",
         "f16/rose-bowl-backup/2A",
         "2017-01-07 00:00:00",
         "Eckerd",
         "/schools/eckerd/f16/",
         "karl-rasmus-sayre"
        ],
        [
         "44",
         "5.0",
         "A",
         "Caroline Puckette",
         "caroline-puckette",
         "20",
         "Crew",
         "Karl Rasmus Sayre",
         "Southern Cal",
         "f16/rose-bowl-backup",
         "2 Divisions",
         "f16/rose-bowl-backup/3A",
         "2017-01-07 00:00:00",
         "Eckerd",
         "/schools/eckerd/f16/",
         "karl-rasmus-sayre"
        ],
        [
         "45",
         "1.0",
         "B",
         "Jane Anne Donovan",
         "jane-anne-donovan",
         "18",
         "Crew",
         "Samuel Peirson",
         "Southern Cal",
         "f16/rose-bowl-backup",
         "2 Divisions",
         "f16/rose-bowl-backup/1B",
         "2017-01-07 00:00:00",
         "Eckerd",
         "/schools/eckerd/f16/",
         "samuel-peirson"
        ],
        [
         "46",
         "3.0",
         "B",
         "Jane Anne Donovan",
         "jane-anne-donovan",
         "18",
         "Crew",
         "Samuel Peirson",
         "Southern Cal",
         "f16/rose-bowl-backup",
         "2 Divisions",
         "f16/rose-bowl-backup/2B",
         "2017-01-07 00:00:00",
         "Eckerd",
         "/schools/eckerd/f16/",
         "samuel-peirson"
        ],
        [
         "47",
         "8.0",
         "B",
         "Jane Anne Donovan",
         "jane-anne-donovan",
         "18",
         "Crew",
         "Samuel Peirson",
         "Southern Cal",
         "f16/rose-bowl-backup",
         "2 Divisions",
         "f16/rose-bowl-backup/3B",
         "2017-01-07 00:00:00",
         "Eckerd",
         "/schools/eckerd/f16/",
         "samuel-peirson"
        ],
        [
         "48",
         "3.0",
         "A",
         "Clark Uhl",
         "clark-uhl",
         "19",
         "Skipper",
         "Kimberly Wong",
         "Southern Cal",
         "f16/rose-bowl-backup",
         "2 Divisions",
         "f16/rose-bowl-backup/1A",
         "2017-01-07 00:00:00",
         "Cornell",
         "/schools/cornell/f16/",
         "kimberly-wong"
        ],
        [
         "49",
         "9.0",
         "A",
         "Clark Uhl",
         "clark-uhl",
         "19",
         "Skipper",
         "Kimberly Wong",
         "Southern Cal",
         "f16/rose-bowl-backup",
         "2 Divisions",
         "f16/rose-bowl-backup/2A",
         "2017-01-07 00:00:00",
         "Cornell",
         "/schools/cornell/f16/",
         "kimberly-wong"
        ]
       ],
       "shape": {
        "columns": 15,
        "rows": 826446
       }
      },
      "text/html": [
       "<div>\n",
       "<style scoped>\n",
       "    .dataframe tbody tr th:only-of-type {\n",
       "        vertical-align: middle;\n",
       "    }\n",
       "\n",
       "    .dataframe tbody tr th {\n",
       "        vertical-align: top;\n",
       "    }\n",
       "\n",
       "    .dataframe thead th {\n",
       "        text-align: right;\n",
       "    }\n",
       "</style>\n",
       "<table border=\"1\" class=\"dataframe\">\n",
       "  <thead>\n",
       "    <tr style=\"text-align: right;\">\n",
       "      <th></th>\n",
       "      <th>Score</th>\n",
       "      <th>Div</th>\n",
       "      <th>Sailor</th>\n",
       "      <th>Link</th>\n",
       "      <th>GradYear</th>\n",
       "      <th>Position</th>\n",
       "      <th>Partner</th>\n",
       "      <th>Venue</th>\n",
       "      <th>Regatta</th>\n",
       "      <th>Scoring</th>\n",
       "      <th>raceID</th>\n",
       "      <th>Date</th>\n",
       "      <th>Team</th>\n",
       "      <th>Teamlink</th>\n",
       "      <th>PartnerLink</th>\n",
       "    </tr>\n",
       "  </thead>\n",
       "  <tbody>\n",
       "    <tr>\n",
       "      <th>0</th>\n",
       "      <td>1.0</td>\n",
       "      <td>A</td>\n",
       "      <td>Campbell D'Eliscu</td>\n",
       "      <td>campbell-deliscu</td>\n",
       "      <td>19</td>\n",
       "      <td>Skipper</td>\n",
       "      <td>Meaghan MacRae</td>\n",
       "      <td>Southern Cal</td>\n",
       "      <td>f16/rose-bowl-backup</td>\n",
       "      <td>2 Divisions</td>\n",
       "      <td>f16/rose-bowl-backup/1A</td>\n",
       "      <td>2017-01-07</td>\n",
       "      <td>Georgetown</td>\n",
       "      <td>/schools/georgetown/f16/</td>\n",
       "      <td>meaghan-macrae</td>\n",
       "    </tr>\n",
       "    <tr>\n",
       "      <th>1</th>\n",
       "      <td>2.0</td>\n",
       "      <td>A</td>\n",
       "      <td>Campbell D'Eliscu</td>\n",
       "      <td>campbell-deliscu</td>\n",
       "      <td>19</td>\n",
       "      <td>Skipper</td>\n",
       "      <td>Meaghan MacRae</td>\n",
       "      <td>Southern Cal</td>\n",
       "      <td>f16/rose-bowl-backup</td>\n",
       "      <td>2 Divisions</td>\n",
       "      <td>f16/rose-bowl-backup/2A</td>\n",
       "      <td>2017-01-07</td>\n",
       "      <td>Georgetown</td>\n",
       "      <td>/schools/georgetown/f16/</td>\n",
       "      <td>meaghan-macrae</td>\n",
       "    </tr>\n",
       "    <tr>\n",
       "      <th>2</th>\n",
       "      <td>1.0</td>\n",
       "      <td>A</td>\n",
       "      <td>Campbell D'Eliscu</td>\n",
       "      <td>campbell-deliscu</td>\n",
       "      <td>19</td>\n",
       "      <td>Skipper</td>\n",
       "      <td>Meaghan MacRae</td>\n",
       "      <td>Southern Cal</td>\n",
       "      <td>f16/rose-bowl-backup</td>\n",
       "      <td>2 Divisions</td>\n",
       "      <td>f16/rose-bowl-backup/3A</td>\n",
       "      <td>2017-01-07</td>\n",
       "      <td>Georgetown</td>\n",
       "      <td>/schools/georgetown/f16/</td>\n",
       "      <td>meaghan-macrae</td>\n",
       "    </tr>\n",
       "    <tr>\n",
       "      <th>3</th>\n",
       "      <td>3.0</td>\n",
       "      <td>B</td>\n",
       "      <td>Sean Segerblom</td>\n",
       "      <td>sean-segerblom</td>\n",
       "      <td>20</td>\n",
       "      <td>Skipper</td>\n",
       "      <td>Claire Mohun</td>\n",
       "      <td>Southern Cal</td>\n",
       "      <td>f16/rose-bowl-backup</td>\n",
       "      <td>2 Divisions</td>\n",
       "      <td>f16/rose-bowl-backup/1B</td>\n",
       "      <td>2017-01-07</td>\n",
       "      <td>Georgetown</td>\n",
       "      <td>/schools/georgetown/f16/</td>\n",
       "      <td>claire-mohun</td>\n",
       "    </tr>\n",
       "    <tr>\n",
       "      <th>4</th>\n",
       "      <td>16.0</td>\n",
       "      <td>B</td>\n",
       "      <td>Sean Segerblom</td>\n",
       "      <td>sean-segerblom</td>\n",
       "      <td>20</td>\n",
       "      <td>Skipper</td>\n",
       "      <td>Claire Mohun</td>\n",
       "      <td>Southern Cal</td>\n",
       "      <td>f16/rose-bowl-backup</td>\n",
       "      <td>2 Divisions</td>\n",
       "      <td>f16/rose-bowl-backup/2B</td>\n",
       "      <td>2017-01-07</td>\n",
       "      <td>Georgetown</td>\n",
       "      <td>/schools/georgetown/f16/</td>\n",
       "      <td>claire-mohun</td>\n",
       "    </tr>\n",
       "    <tr>\n",
       "      <th>...</th>\n",
       "      <td>...</td>\n",
       "      <td>...</td>\n",
       "      <td>...</td>\n",
       "      <td>...</td>\n",
       "      <td>...</td>\n",
       "      <td>...</td>\n",
       "      <td>...</td>\n",
       "      <td>...</td>\n",
       "      <td>...</td>\n",
       "      <td>...</td>\n",
       "      <td>...</td>\n",
       "      <td>...</td>\n",
       "      <td>...</td>\n",
       "      <td>...</td>\n",
       "      <td>...</td>\n",
       "    </tr>\n",
       "    <tr>\n",
       "      <th>826441</th>\n",
       "      <td>11.0</td>\n",
       "      <td>A</td>\n",
       "      <td>Caswell Kern</td>\n",
       "      <td>caswell-kern</td>\n",
       "      <td>26</td>\n",
       "      <td>Skipper</td>\n",
       "      <td>Unknown</td>\n",
       "      <td>UNC Wilmington</td>\n",
       "      <td>f25/saisa-north-fall-tournament</td>\n",
       "      <td>2 Divisions</td>\n",
       "      <td>f25/saisa-north-fall-tournament/2A</td>\n",
       "      <td>2025-09-07</td>\n",
       "      <td>UNC Wilmington</td>\n",
       "      <td>/schools/unc-wilmington/f25/</td>\n",
       "      <td>Unknown</td>\n",
       "    </tr>\n",
       "    <tr>\n",
       "      <th>826442</th>\n",
       "      <td>11.0</td>\n",
       "      <td>A</td>\n",
       "      <td>Caswell Kern</td>\n",
       "      <td>caswell-kern</td>\n",
       "      <td>26</td>\n",
       "      <td>Skipper</td>\n",
       "      <td>Unknown</td>\n",
       "      <td>UNC Wilmington</td>\n",
       "      <td>f25/saisa-north-fall-tournament</td>\n",
       "      <td>2 Divisions</td>\n",
       "      <td>f25/saisa-north-fall-tournament/3A</td>\n",
       "      <td>2025-09-07</td>\n",
       "      <td>UNC Wilmington</td>\n",
       "      <td>/schools/unc-wilmington/f25/</td>\n",
       "      <td>Unknown</td>\n",
       "    </tr>\n",
       "    <tr>\n",
       "      <th>826443</th>\n",
       "      <td>9.0</td>\n",
       "      <td>B</td>\n",
       "      <td>Ben Kearney</td>\n",
       "      <td>ben-kearney</td>\n",
       "      <td>26</td>\n",
       "      <td>Skipper</td>\n",
       "      <td>Unknown</td>\n",
       "      <td>UNC Wilmington</td>\n",
       "      <td>f25/saisa-north-fall-tournament</td>\n",
       "      <td>2 Divisions</td>\n",
       "      <td>f25/saisa-north-fall-tournament/1B</td>\n",
       "      <td>2025-09-07</td>\n",
       "      <td>UNC Wilmington</td>\n",
       "      <td>/schools/unc-wilmington/f25/</td>\n",
       "      <td>Unknown</td>\n",
       "    </tr>\n",
       "    <tr>\n",
       "      <th>826444</th>\n",
       "      <td>9.0</td>\n",
       "      <td>B</td>\n",
       "      <td>Ben Kearney</td>\n",
       "      <td>ben-kearney</td>\n",
       "      <td>26</td>\n",
       "      <td>Skipper</td>\n",
       "      <td>Unknown</td>\n",
       "      <td>UNC Wilmington</td>\n",
       "      <td>f25/saisa-north-fall-tournament</td>\n",
       "      <td>2 Divisions</td>\n",
       "      <td>f25/saisa-north-fall-tournament/2B</td>\n",
       "      <td>2025-09-07</td>\n",
       "      <td>UNC Wilmington</td>\n",
       "      <td>/schools/unc-wilmington/f25/</td>\n",
       "      <td>Unknown</td>\n",
       "    </tr>\n",
       "    <tr>\n",
       "      <th>826445</th>\n",
       "      <td>8.0</td>\n",
       "      <td>B</td>\n",
       "      <td>Ben Kearney</td>\n",
       "      <td>ben-kearney</td>\n",
       "      <td>26</td>\n",
       "      <td>Skipper</td>\n",
       "      <td>Unknown</td>\n",
       "      <td>UNC Wilmington</td>\n",
       "      <td>f25/saisa-north-fall-tournament</td>\n",
       "      <td>2 Divisions</td>\n",
       "      <td>f25/saisa-north-fall-tournament/3B</td>\n",
       "      <td>2025-09-07</td>\n",
       "      <td>UNC Wilmington</td>\n",
       "      <td>/schools/unc-wilmington/f25/</td>\n",
       "      <td>Unknown</td>\n",
       "    </tr>\n",
       "  </tbody>\n",
       "</table>\n",
       "<p>826446 rows × 15 columns</p>\n",
       "</div>"
      ],
      "text/plain": [
       "        Score Div             Sailor              Link GradYear Position  \\\n",
       "0         1.0   A  Campbell D'Eliscu  campbell-deliscu       19  Skipper   \n",
       "1         2.0   A  Campbell D'Eliscu  campbell-deliscu       19  Skipper   \n",
       "2         1.0   A  Campbell D'Eliscu  campbell-deliscu       19  Skipper   \n",
       "3         3.0   B     Sean Segerblom    sean-segerblom       20  Skipper   \n",
       "4        16.0   B     Sean Segerblom    sean-segerblom       20  Skipper   \n",
       "...       ...  ..                ...               ...      ...      ...   \n",
       "826441   11.0   A       Caswell Kern      caswell-kern       26  Skipper   \n",
       "826442   11.0   A       Caswell Kern      caswell-kern       26  Skipper   \n",
       "826443    9.0   B        Ben Kearney       ben-kearney       26  Skipper   \n",
       "826444    9.0   B        Ben Kearney       ben-kearney       26  Skipper   \n",
       "826445    8.0   B        Ben Kearney       ben-kearney       26  Skipper   \n",
       "\n",
       "               Partner           Venue                          Regatta  \\\n",
       "0       Meaghan MacRae    Southern Cal             f16/rose-bowl-backup   \n",
       "1       Meaghan MacRae    Southern Cal             f16/rose-bowl-backup   \n",
       "2       Meaghan MacRae    Southern Cal             f16/rose-bowl-backup   \n",
       "3         Claire Mohun    Southern Cal             f16/rose-bowl-backup   \n",
       "4         Claire Mohun    Southern Cal             f16/rose-bowl-backup   \n",
       "...                ...             ...                              ...   \n",
       "826441         Unknown  UNC Wilmington  f25/saisa-north-fall-tournament   \n",
       "826442         Unknown  UNC Wilmington  f25/saisa-north-fall-tournament   \n",
       "826443         Unknown  UNC Wilmington  f25/saisa-north-fall-tournament   \n",
       "826444         Unknown  UNC Wilmington  f25/saisa-north-fall-tournament   \n",
       "826445         Unknown  UNC Wilmington  f25/saisa-north-fall-tournament   \n",
       "\n",
       "            Scoring                              raceID       Date  \\\n",
       "0       2 Divisions             f16/rose-bowl-backup/1A 2017-01-07   \n",
       "1       2 Divisions             f16/rose-bowl-backup/2A 2017-01-07   \n",
       "2       2 Divisions             f16/rose-bowl-backup/3A 2017-01-07   \n",
       "3       2 Divisions             f16/rose-bowl-backup/1B 2017-01-07   \n",
       "4       2 Divisions             f16/rose-bowl-backup/2B 2017-01-07   \n",
       "...             ...                                 ...        ...   \n",
       "826441  2 Divisions  f25/saisa-north-fall-tournament/2A 2025-09-07   \n",
       "826442  2 Divisions  f25/saisa-north-fall-tournament/3A 2025-09-07   \n",
       "826443  2 Divisions  f25/saisa-north-fall-tournament/1B 2025-09-07   \n",
       "826444  2 Divisions  f25/saisa-north-fall-tournament/2B 2025-09-07   \n",
       "826445  2 Divisions  f25/saisa-north-fall-tournament/3B 2025-09-07   \n",
       "\n",
       "                  Team                      Teamlink     PartnerLink  \n",
       "0           Georgetown      /schools/georgetown/f16/  meaghan-macrae  \n",
       "1           Georgetown      /schools/georgetown/f16/  meaghan-macrae  \n",
       "2           Georgetown      /schools/georgetown/f16/  meaghan-macrae  \n",
       "3           Georgetown      /schools/georgetown/f16/    claire-mohun  \n",
       "4           Georgetown      /schools/georgetown/f16/    claire-mohun  \n",
       "...                ...                           ...             ...  \n",
       "826441  UNC Wilmington  /schools/unc-wilmington/f25/         Unknown  \n",
       "826442  UNC Wilmington  /schools/unc-wilmington/f25/         Unknown  \n",
       "826443  UNC Wilmington  /schools/unc-wilmington/f25/         Unknown  \n",
       "826444  UNC Wilmington  /schools/unc-wilmington/f25/         Unknown  \n",
       "826445  UNC Wilmington  /schools/unc-wilmington/f25/         Unknown  \n",
       "\n",
       "[826446 rows x 15 columns]"
      ]
     },
     "execution_count": 1,
     "metadata": {},
     "output_type": "execute_result"
    }
   ],
   "source": [
    "import pandas as pd\n",
    "temp = pd.read_json(\"racesfr.json\")\n",
    "temp"
   ]
  }
 ],
 "metadata": {
  "kernelspec": {
   "display_name": "3.13.1",
   "language": "python",
   "name": "python3"
  },
  "language_info": {
   "codemirror_mode": {
    "name": "ipython",
    "version": 3
   },
   "file_extension": ".py",
   "mimetype": "text/x-python",
   "name": "python",
   "nbconvert_exporter": "python",
   "pygments_lexer": "ipython3",
   "version": "3.13.1"
  }
 },
 "nbformat": 4,
 "nbformat_minor": 2
}
