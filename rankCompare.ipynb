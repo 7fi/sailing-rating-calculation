{
 "cells": [
  {
   "cell_type": "code",
   "execution_count": 1,
   "metadata": {},
   "outputs": [],
   "source": [
    "import pandas as pd\n",
    "import plotly.graph_objs as go"
   ]
  },
  {
   "cell_type": "code",
   "execution_count": 79,
   "metadata": {},
   "outputs": [
    {
     "name": "stdout",
     "output_type": "stream",
     "text": [
      "16 16\n"
     ]
    }
   ],
   "source": [
    "crowsnestTR = ['Yale', 'Roger Williams', 'Harvard', 'Boston College', 'Dartmouth', 'Brown', 'Stanford', 'Navy', 'Georgetown', 'Coast Guard', 'Tufts', 'Rhode Island', 'Tulane', 'MIT', 'Bowdoin', \"St. Mary's\", \"Charleston\",'Michigan']\n",
    "\n",
    "crowsnestWTR = ['Yale', 'Stanford', 'Brown', 'Cornell', 'Harvard', 'MIT', 'Dartmouth', 'Charleston', 'Georgetown', 'Tulane', 'Boston College', 'Pennsylvania', 'Roger Williams', 'Hobart & William', 'Tufts', 'Old Dominion']\n",
    "\n",
    "crowsnestWFR = ['Stanford', 'Yale', 'Cornell', 'Georgetown', 'Dartmouth', 'Brown', 'Harvard', 'Charleston', 'Boston College', 'MIT', 'Tulane', 'Navy', 'Pennsylvania', 'Northeastern', 'Roger Williams', 'Jacksonville']\n",
    "\n",
    "# as of 04-15\n",
    "sail1designTR = [ 'Harvard', 'Yale', 'Roger Williams', 'Stanford', 'Boston College', 'Navy', 'Georgetown', 'Tulane', \"St. Mary's\", 'Dartmouth', 'Brown', 'Tufts', 'MIT', 'Coast Guard', 'Charleston', 'Pennsylvania', 'Rhode Island']\n",
    "sail1designWTR = [ 'Yale', 'Stanford', 'Brown', 'Cornell', 'Georgetown', 'Harvard', 'Charleston', 'MIT', 'Dartmouth', 'Boston College', 'Tulane', 'Roger Williams', 'Tufts', 'Pennsylvania', 'Bowdoin', 'Navy']\n",
    "\n",
    "# as of 4-15\n",
    "WCSR = [ \"Yale\", 'Cornell', 'Georgetown', 'Brown', 'Harvard', 'MIT', 'Stanford', 'Northeastern', 'Dartmouth', 'Navy', 'Pennsylvania', 'Roger Williams', 'Charleston', 'George Washington' 'Old Dominion', 'Hobart & William']\n",
    "\n",
    "TRnationals = ['Harvard', 'Yale', 'Roger Williams', 'Stanford', 'Navy', 'Boston College', 'Georgetown', 'Dartmouth', 'Brown', \"St. Mary's\",'Charleston', 'Tulane', 'Tufts', 'Coast Guard', 'Bowdoin', 'Michigan']\n",
    "TRnationalsAfter = ['Harvard', 'Yale', 'Roger Williams', 'Stanford', 'Brown', 'Boston College', 'Dartmouth', 'Tulane','Navy',\"St. Mary's\", 'Georgetown','Tufts', 'Coast Guard',  'Charleston', 'Bowdoin', 'Michigan']\n",
    "WTRnationals = [ 'Yale', 'Stanford', 'Brown', 'Harvard', 'Cornell', 'MIT', 'Georgetown', 'Charleston', 'Dartmouth', 'Tulane', 'Tufts', 'Pennsylvania']\n",
    "WTRnationalsAfter = ['Stanford', 'Yale',  'Harvard', 'Cornell', 'Dartmouth', 'Tulane', 'Brown', 'Georgetown','Charleston','MIT', 'Tufts', 'Pennsylvania']\n",
    "\n",
    "actual = TRnationalsAfter\n",
    "# crowsnest = [t for t in crowsnestWTR if t in actual]\n",
    "crowsnest = [t for t in crowsnestTR if t in actual]\n",
    "print(len(crowsnest), len(actual))\n",
    "# http://localhost:3000/rankings/simulator?teams=Harvard,Yale,Roger%20Williams,Stanford,Navy,Boston%20College,Georgetown,Dartmouth,Brown,St.%20Mary's,Charleston,Tulane,Tufts,Coast%20Guard,Bowdoin,Michigan"
   ]
  },
  {
   "cell_type": "code",
   "execution_count": 81,
   "metadata": {},
   "outputs": [
    {
     "data": {
      "application/vnd.plotly.v1+json": {
       "config": {
        "plotlyServerURL": "https://plot.ly"
       },
       "data": [
        {
         "marker": {
          "color": "blue",
          "size": 10
         },
         "mode": "markers+text",
         "name": "Teams",
         "text": [
          "Tufts",
          "Yale",
          "Coast Guard",
          "Tulane",
          "Roger Williams",
          "Navy",
          "Georgetown",
          "Stanford",
          "Bowdoin",
          "Michigan",
          "Brown",
          "St. Mary's",
          "Boston College",
          "Dartmouth",
          "Harvard",
          "Charleston"
         ],
         "textposition": "top center",
         "type": "scatter",
         "x": [
          10,
          0,
          9,
          11,
          1,
          7,
          8,
          6,
          12,
          15,
          5,
          13,
          3,
          4,
          2,
          14
         ],
         "y": [
          11,
          1,
          12,
          7,
          2,
          8,
          10,
          3,
          14,
          15,
          4,
          9,
          5,
          6,
          0,
          13
         ]
        },
        {
         "line": {
          "color": "red",
          "dash": "dash"
         },
         "mode": "lines",
         "name": "Same rank",
         "type": "scatter",
         "x": [
          0,
          15
         ],
         "y": [
          0,
          15
         ]
        }
       ],
       "layout": {
        "height": 700,
        "template": {
         "data": {
          "bar": [
           {
            "error_x": {
             "color": "#2a3f5f"
            },
            "error_y": {
             "color": "#2a3f5f"
            },
            "marker": {
             "line": {
              "color": "#E5ECF6",
              "width": 0.5
             },
             "pattern": {
              "fillmode": "overlay",
              "size": 10,
              "solidity": 0.2
             }
            },
            "type": "bar"
           }
          ],
          "barpolar": [
           {
            "marker": {
             "line": {
              "color": "#E5ECF6",
              "width": 0.5
             },
             "pattern": {
              "fillmode": "overlay",
              "size": 10,
              "solidity": 0.2
             }
            },
            "type": "barpolar"
           }
          ],
          "carpet": [
           {
            "aaxis": {
             "endlinecolor": "#2a3f5f",
             "gridcolor": "white",
             "linecolor": "white",
             "minorgridcolor": "white",
             "startlinecolor": "#2a3f5f"
            },
            "baxis": {
             "endlinecolor": "#2a3f5f",
             "gridcolor": "white",
             "linecolor": "white",
             "minorgridcolor": "white",
             "startlinecolor": "#2a3f5f"
            },
            "type": "carpet"
           }
          ],
          "choropleth": [
           {
            "colorbar": {
             "outlinewidth": 0,
             "ticks": ""
            },
            "type": "choropleth"
           }
          ],
          "contour": [
           {
            "colorbar": {
             "outlinewidth": 0,
             "ticks": ""
            },
            "colorscale": [
             [
              0,
              "#0d0887"
             ],
             [
              0.1111111111111111,
              "#46039f"
             ],
             [
              0.2222222222222222,
              "#7201a8"
             ],
             [
              0.3333333333333333,
              "#9c179e"
             ],
             [
              0.4444444444444444,
              "#bd3786"
             ],
             [
              0.5555555555555556,
              "#d8576b"
             ],
             [
              0.6666666666666666,
              "#ed7953"
             ],
             [
              0.7777777777777778,
              "#fb9f3a"
             ],
             [
              0.8888888888888888,
              "#fdca26"
             ],
             [
              1,
              "#f0f921"
             ]
            ],
            "type": "contour"
           }
          ],
          "contourcarpet": [
           {
            "colorbar": {
             "outlinewidth": 0,
             "ticks": ""
            },
            "type": "contourcarpet"
           }
          ],
          "heatmap": [
           {
            "colorbar": {
             "outlinewidth": 0,
             "ticks": ""
            },
            "colorscale": [
             [
              0,
              "#0d0887"
             ],
             [
              0.1111111111111111,
              "#46039f"
             ],
             [
              0.2222222222222222,
              "#7201a8"
             ],
             [
              0.3333333333333333,
              "#9c179e"
             ],
             [
              0.4444444444444444,
              "#bd3786"
             ],
             [
              0.5555555555555556,
              "#d8576b"
             ],
             [
              0.6666666666666666,
              "#ed7953"
             ],
             [
              0.7777777777777778,
              "#fb9f3a"
             ],
             [
              0.8888888888888888,
              "#fdca26"
             ],
             [
              1,
              "#f0f921"
             ]
            ],
            "type": "heatmap"
           }
          ],
          "heatmapgl": [
           {
            "colorbar": {
             "outlinewidth": 0,
             "ticks": ""
            },
            "colorscale": [
             [
              0,
              "#0d0887"
             ],
             [
              0.1111111111111111,
              "#46039f"
             ],
             [
              0.2222222222222222,
              "#7201a8"
             ],
             [
              0.3333333333333333,
              "#9c179e"
             ],
             [
              0.4444444444444444,
              "#bd3786"
             ],
             [
              0.5555555555555556,
              "#d8576b"
             ],
             [
              0.6666666666666666,
              "#ed7953"
             ],
             [
              0.7777777777777778,
              "#fb9f3a"
             ],
             [
              0.8888888888888888,
              "#fdca26"
             ],
             [
              1,
              "#f0f921"
             ]
            ],
            "type": "heatmapgl"
           }
          ],
          "histogram": [
           {
            "marker": {
             "pattern": {
              "fillmode": "overlay",
              "size": 10,
              "solidity": 0.2
             }
            },
            "type": "histogram"
           }
          ],
          "histogram2d": [
           {
            "colorbar": {
             "outlinewidth": 0,
             "ticks": ""
            },
            "colorscale": [
             [
              0,
              "#0d0887"
             ],
             [
              0.1111111111111111,
              "#46039f"
             ],
             [
              0.2222222222222222,
              "#7201a8"
             ],
             [
              0.3333333333333333,
              "#9c179e"
             ],
             [
              0.4444444444444444,
              "#bd3786"
             ],
             [
              0.5555555555555556,
              "#d8576b"
             ],
             [
              0.6666666666666666,
              "#ed7953"
             ],
             [
              0.7777777777777778,
              "#fb9f3a"
             ],
             [
              0.8888888888888888,
              "#fdca26"
             ],
             [
              1,
              "#f0f921"
             ]
            ],
            "type": "histogram2d"
           }
          ],
          "histogram2dcontour": [
           {
            "colorbar": {
             "outlinewidth": 0,
             "ticks": ""
            },
            "colorscale": [
             [
              0,
              "#0d0887"
             ],
             [
              0.1111111111111111,
              "#46039f"
             ],
             [
              0.2222222222222222,
              "#7201a8"
             ],
             [
              0.3333333333333333,
              "#9c179e"
             ],
             [
              0.4444444444444444,
              "#bd3786"
             ],
             [
              0.5555555555555556,
              "#d8576b"
             ],
             [
              0.6666666666666666,
              "#ed7953"
             ],
             [
              0.7777777777777778,
              "#fb9f3a"
             ],
             [
              0.8888888888888888,
              "#fdca26"
             ],
             [
              1,
              "#f0f921"
             ]
            ],
            "type": "histogram2dcontour"
           }
          ],
          "mesh3d": [
           {
            "colorbar": {
             "outlinewidth": 0,
             "ticks": ""
            },
            "type": "mesh3d"
           }
          ],
          "parcoords": [
           {
            "line": {
             "colorbar": {
              "outlinewidth": 0,
              "ticks": ""
             }
            },
            "type": "parcoords"
           }
          ],
          "pie": [
           {
            "automargin": true,
            "type": "pie"
           }
          ],
          "scatter": [
           {
            "fillpattern": {
             "fillmode": "overlay",
             "size": 10,
             "solidity": 0.2
            },
            "type": "scatter"
           }
          ],
          "scatter3d": [
           {
            "line": {
             "colorbar": {
              "outlinewidth": 0,
              "ticks": ""
             }
            },
            "marker": {
             "colorbar": {
              "outlinewidth": 0,
              "ticks": ""
             }
            },
            "type": "scatter3d"
           }
          ],
          "scattercarpet": [
           {
            "marker": {
             "colorbar": {
              "outlinewidth": 0,
              "ticks": ""
             }
            },
            "type": "scattercarpet"
           }
          ],
          "scattergeo": [
           {
            "marker": {
             "colorbar": {
              "outlinewidth": 0,
              "ticks": ""
             }
            },
            "type": "scattergeo"
           }
          ],
          "scattergl": [
           {
            "marker": {
             "colorbar": {
              "outlinewidth": 0,
              "ticks": ""
             }
            },
            "type": "scattergl"
           }
          ],
          "scattermapbox": [
           {
            "marker": {
             "colorbar": {
              "outlinewidth": 0,
              "ticks": ""
             }
            },
            "type": "scattermapbox"
           }
          ],
          "scatterpolar": [
           {
            "marker": {
             "colorbar": {
              "outlinewidth": 0,
              "ticks": ""
             }
            },
            "type": "scatterpolar"
           }
          ],
          "scatterpolargl": [
           {
            "marker": {
             "colorbar": {
              "outlinewidth": 0,
              "ticks": ""
             }
            },
            "type": "scatterpolargl"
           }
          ],
          "scatterternary": [
           {
            "marker": {
             "colorbar": {
              "outlinewidth": 0,
              "ticks": ""
             }
            },
            "type": "scatterternary"
           }
          ],
          "surface": [
           {
            "colorbar": {
             "outlinewidth": 0,
             "ticks": ""
            },
            "colorscale": [
             [
              0,
              "#0d0887"
             ],
             [
              0.1111111111111111,
              "#46039f"
             ],
             [
              0.2222222222222222,
              "#7201a8"
             ],
             [
              0.3333333333333333,
              "#9c179e"
             ],
             [
              0.4444444444444444,
              "#bd3786"
             ],
             [
              0.5555555555555556,
              "#d8576b"
             ],
             [
              0.6666666666666666,
              "#ed7953"
             ],
             [
              0.7777777777777778,
              "#fb9f3a"
             ],
             [
              0.8888888888888888,
              "#fdca26"
             ],
             [
              1,
              "#f0f921"
             ]
            ],
            "type": "surface"
           }
          ],
          "table": [
           {
            "cells": {
             "fill": {
              "color": "#EBF0F8"
             },
             "line": {
              "color": "white"
             }
            },
            "header": {
             "fill": {
              "color": "#C8D4E3"
             },
             "line": {
              "color": "white"
             }
            },
            "type": "table"
           }
          ]
         },
         "layout": {
          "annotationdefaults": {
           "arrowcolor": "#2a3f5f",
           "arrowhead": 0,
           "arrowwidth": 1
          },
          "autotypenumbers": "strict",
          "coloraxis": {
           "colorbar": {
            "outlinewidth": 0,
            "ticks": ""
           }
          },
          "colorscale": {
           "diverging": [
            [
             0,
             "#8e0152"
            ],
            [
             0.1,
             "#c51b7d"
            ],
            [
             0.2,
             "#de77ae"
            ],
            [
             0.3,
             "#f1b6da"
            ],
            [
             0.4,
             "#fde0ef"
            ],
            [
             0.5,
             "#f7f7f7"
            ],
            [
             0.6,
             "#e6f5d0"
            ],
            [
             0.7,
             "#b8e186"
            ],
            [
             0.8,
             "#7fbc41"
            ],
            [
             0.9,
             "#4d9221"
            ],
            [
             1,
             "#276419"
            ]
           ],
           "sequential": [
            [
             0,
             "#0d0887"
            ],
            [
             0.1111111111111111,
             "#46039f"
            ],
            [
             0.2222222222222222,
             "#7201a8"
            ],
            [
             0.3333333333333333,
             "#9c179e"
            ],
            [
             0.4444444444444444,
             "#bd3786"
            ],
            [
             0.5555555555555556,
             "#d8576b"
            ],
            [
             0.6666666666666666,
             "#ed7953"
            ],
            [
             0.7777777777777778,
             "#fb9f3a"
            ],
            [
             0.8888888888888888,
             "#fdca26"
            ],
            [
             1,
             "#f0f921"
            ]
           ],
           "sequentialminus": [
            [
             0,
             "#0d0887"
            ],
            [
             0.1111111111111111,
             "#46039f"
            ],
            [
             0.2222222222222222,
             "#7201a8"
            ],
            [
             0.3333333333333333,
             "#9c179e"
            ],
            [
             0.4444444444444444,
             "#bd3786"
            ],
            [
             0.5555555555555556,
             "#d8576b"
            ],
            [
             0.6666666666666666,
             "#ed7953"
            ],
            [
             0.7777777777777778,
             "#fb9f3a"
            ],
            [
             0.8888888888888888,
             "#fdca26"
            ],
            [
             1,
             "#f0f921"
            ]
           ]
          },
          "colorway": [
           "#636efa",
           "#EF553B",
           "#00cc96",
           "#ab63fa",
           "#FFA15A",
           "#19d3f3",
           "#FF6692",
           "#B6E880",
           "#FF97FF",
           "#FECB52"
          ],
          "font": {
           "color": "#2a3f5f"
          },
          "geo": {
           "bgcolor": "white",
           "lakecolor": "white",
           "landcolor": "#E5ECF6",
           "showlakes": true,
           "showland": true,
           "subunitcolor": "white"
          },
          "hoverlabel": {
           "align": "left"
          },
          "hovermode": "closest",
          "mapbox": {
           "style": "light"
          },
          "paper_bgcolor": "white",
          "plot_bgcolor": "#E5ECF6",
          "polar": {
           "angularaxis": {
            "gridcolor": "white",
            "linecolor": "white",
            "ticks": ""
           },
           "bgcolor": "#E5ECF6",
           "radialaxis": {
            "gridcolor": "white",
            "linecolor": "white",
            "ticks": ""
           }
          },
          "scene": {
           "xaxis": {
            "backgroundcolor": "#E5ECF6",
            "gridcolor": "white",
            "gridwidth": 2,
            "linecolor": "white",
            "showbackground": true,
            "ticks": "",
            "zerolinecolor": "white"
           },
           "yaxis": {
            "backgroundcolor": "#E5ECF6",
            "gridcolor": "white",
            "gridwidth": 2,
            "linecolor": "white",
            "showbackground": true,
            "ticks": "",
            "zerolinecolor": "white"
           },
           "zaxis": {
            "backgroundcolor": "#E5ECF6",
            "gridcolor": "white",
            "gridwidth": 2,
            "linecolor": "white",
            "showbackground": true,
            "ticks": "",
            "zerolinecolor": "white"
           }
          },
          "shapedefaults": {
           "line": {
            "color": "#2a3f5f"
           }
          },
          "ternary": {
           "aaxis": {
            "gridcolor": "white",
            "linecolor": "white",
            "ticks": ""
           },
           "baxis": {
            "gridcolor": "white",
            "linecolor": "white",
            "ticks": ""
           },
           "bgcolor": "#E5ECF6",
           "caxis": {
            "gridcolor": "white",
            "linecolor": "white",
            "ticks": ""
           }
          },
          "title": {
           "x": 0.05
          },
          "xaxis": {
           "automargin": true,
           "gridcolor": "white",
           "linecolor": "white",
           "ticks": "",
           "title": {
            "standoff": 15
           },
           "zerolinecolor": "white",
           "zerolinewidth": 2
          },
          "yaxis": {
           "automargin": true,
           "gridcolor": "white",
           "linecolor": "white",
           "ticks": "",
           "title": {
            "standoff": 15
           },
           "zerolinecolor": "white",
           "zerolinewidth": 2
          }
         }
        },
        "title": {
         "text": "Crowsnest VS Nationals Comittee"
        },
        "width": 700,
        "xaxis": {
         "dtick": 1,
         "ticktext": [
          "1",
          "2",
          "3",
          "4",
          "5",
          "6",
          "7",
          "8",
          "9",
          "10",
          "11",
          "12",
          "13",
          "14",
          "15",
          "16"
         ],
         "tickvals": [
          0,
          1,
          2,
          3,
          4,
          5,
          6,
          7,
          8,
          9,
          10,
          11,
          12,
          13,
          14,
          15
         ],
         "title": {
          "text": "CrowsNest Rank"
         }
        },
        "yaxis": {
         "dtick": 1,
         "ticktext": [
          "1",
          "2",
          "3",
          "4",
          "5",
          "6",
          "7",
          "8",
          "9",
          "10",
          "11",
          "12",
          "13",
          "14",
          "15",
          "16"
         ],
         "tickvals": [
          0,
          1,
          2,
          3,
          4,
          5,
          6,
          7,
          8,
          9,
          10,
          11,
          12,
          13,
          14,
          15
         ],
         "title": {
          "text": "Actual Result"
         }
        }
       }
      }
     },
     "metadata": {},
     "output_type": "display_data"
    }
   ],
   "source": [
    "# Create mappings from string to index for each list\n",
    "order1 = {item: idx for idx, item in enumerate(crowsnest)}\n",
    "order2 = {item: idx for idx, item in enumerate(actual)}\n",
    "\n",
    "# Find common items\n",
    "common_items = set(crowsnest) & set(actual)\n",
    "\n",
    "# Create coordinates for scatter plot\n",
    "x_vals = [order1[item] for item in common_items]\n",
    "y_vals = [order2[item] for item in common_items]\n",
    "labels = list(common_items)\n",
    "\n",
    "# Create scatter plot trace\n",
    "scatter = go.Scatter(\n",
    "    x=x_vals,\n",
    "    y=y_vals,\n",
    "    mode='markers+text',\n",
    "    text=labels,\n",
    "    textposition='top center',\n",
    "    marker=dict(size=10, color='blue'),\n",
    "    name='Teams'\n",
    ")\n",
    "\n",
    "# Diagonal line (x = y)\n",
    "diagonal = go.Scatter(\n",
    "    x=[0, max(len(crowsnest), len(actual)) - 1],\n",
    "    y=[0, max(len(crowsnest), len(actual)) - 1],\n",
    "    mode='lines',\n",
    "    line=dict(color='red', dash='dash'),\n",
    "    name='Same rank'\n",
    ")\n",
    "\n",
    "# Create the figure\n",
    "fig = go.Figure(data=[scatter, diagonal])\n",
    "fig.update_layout(\n",
    "    title=\"Crowsnest VS Nationals Comittee\",\n",
    "    xaxis_title=\"CrowsNest Rank\",\n",
    "    yaxis_title=\"Actual Result\",\n",
    "    xaxis=dict(\n",
    "        dtick=1,\n",
    "        tickvals=[i for i in range(len(crowsnest)) if i != -1],  # Exclude -1\n",
    "        ticktext=[str(i + 1) for i in range(len(crowsnest)) if i != -1]  # Label other tick values\n",
    "    ),\n",
    "    yaxis=dict(\n",
    "        dtick=1,\n",
    "        tickvals=[i for i in range(len(actual)) if i != -1],  # Exclude -1\n",
    "        ticktext=[str(i + 1) for i in range(len(actual)) if i != -1]  # Label other tick values\n",
    "    ),\n",
    "    width=700,\n",
    "    height=700\n",
    ")\n",
    "\n",
    "fig.show()"
   ]
  },
  {
   "cell_type": "code",
   "execution_count": 14,
   "metadata": {},
   "outputs": [
    {
     "data": {
      "application/vnd.microsoft.datawrangler.viewer.v0+json": {
       "columns": [
        {
         "name": "index",
         "rawType": "int64",
         "type": "integer"
        },
        {
         "name": "Score",
         "rawType": "float64",
         "type": "float"
        },
        {
         "name": "Div",
         "rawType": "object",
         "type": "string"
        },
        {
         "name": "Sailor",
         "rawType": "object",
         "type": "string"
        },
        {
         "name": "Link",
         "rawType": "object",
         "type": "unknown"
        },
        {
         "name": "GradYear",
         "rawType": "object",
         "type": "string"
        },
        {
         "name": "Position",
         "rawType": "object",
         "type": "string"
        },
        {
         "name": "Partner",
         "rawType": "object",
         "type": "string"
        },
        {
         "name": "Venue",
         "rawType": "object",
         "type": "string"
        },
        {
         "name": "Regatta",
         "rawType": "object",
         "type": "string"
        },
        {
         "name": "Scoring",
         "rawType": "object",
         "type": "string"
        },
        {
         "name": "raceID",
         "rawType": "object",
         "type": "string"
        },
        {
         "name": "Date",
         "rawType": "datetime64[ns]",
         "type": "datetime"
        },
        {
         "name": "Team",
         "rawType": "object",
         "type": "string"
        },
        {
         "name": "Teamlink",
         "rawType": "object",
         "type": "string"
        },
        {
         "name": "PartnerLink",
         "rawType": "object",
         "type": "unknown"
        }
       ],
       "ref": "33f652a9-0972-4d61-8403-958eb969ae5b",
       "rows": [
        [
         "0",
         "1.0",
         "A",
         "Ty Ingram",
         "ty-ingram",
         "18",
         "Skipper",
         "Sameena Shaffeeullah",
         "MIT",
         "f16/43rd-atlantic-coast-dinghy-backup",
         "2 Divisions",
         "f16/43rd-atlantic-coast-dinghy-backup/1A",
         "2016-11-12 00:00:00",
         "MIT",
         "/schools/mit/f16/",
         "sameena-shaffeeullah"
        ],
        [
         "1",
         "4.0",
         "A",
         "Ty Ingram",
         "ty-ingram",
         "18",
         "Skipper",
         "Sameena Shaffeeullah",
         "MIT",
         "f16/43rd-atlantic-coast-dinghy-backup",
         "2 Divisions",
         "f16/43rd-atlantic-coast-dinghy-backup/2A",
         "2016-11-12 00:00:00",
         "MIT",
         "/schools/mit/f16/",
         "sameena-shaffeeullah"
        ],
        [
         "2",
         "15.0",
         "A",
         "Ty Ingram",
         "ty-ingram",
         "18",
         "Skipper",
         "Sameena Shaffeeullah",
         "MIT",
         "f16/43rd-atlantic-coast-dinghy-backup",
         "2 Divisions",
         "f16/43rd-atlantic-coast-dinghy-backup/3A",
         "2016-11-12 00:00:00",
         "MIT",
         "/schools/mit/f16/",
         "sameena-shaffeeullah"
        ],
        [
         "3",
         "9.0",
         "A",
         "Ty Ingram",
         "ty-ingram",
         "18",
         "Skipper",
         "Sameena Shaffeeullah",
         "MIT",
         "f16/43rd-atlantic-coast-dinghy-backup",
         "2 Divisions",
         "f16/43rd-atlantic-coast-dinghy-backup/4A",
         "2016-11-12 00:00:00",
         "MIT",
         "/schools/mit/f16/",
         "sameena-shaffeeullah"
        ],
        [
         "4",
         "14.0",
         "A",
         "Ty Ingram",
         "ty-ingram",
         "18",
         "Skipper",
         "Sameena Shaffeeullah",
         "MIT",
         "f16/43rd-atlantic-coast-dinghy-backup",
         "2 Divisions",
         "f16/43rd-atlantic-coast-dinghy-backup/5A",
         "2016-11-12 00:00:00",
         "MIT",
         "/schools/mit/f16/",
         "sameena-shaffeeullah"
        ],
        [
         "5",
         "6.0",
         "A",
         "Ty Ingram",
         "ty-ingram",
         "18",
         "Skipper",
         "Sameena Shaffeeullah",
         "MIT",
         "f16/43rd-atlantic-coast-dinghy-backup",
         "2 Divisions",
         "f16/43rd-atlantic-coast-dinghy-backup/6A",
         "2016-11-12 00:00:00",
         "MIT",
         "/schools/mit/f16/",
         "sameena-shaffeeullah"
        ],
        [
         "6",
         "8.0",
         "A",
         "Ty Ingram",
         "ty-ingram",
         "18",
         "Skipper",
         "Sameena Shaffeeullah",
         "MIT",
         "f16/43rd-atlantic-coast-dinghy-backup",
         "2 Divisions",
         "f16/43rd-atlantic-coast-dinghy-backup/7A",
         "2016-11-12 00:00:00",
         "MIT",
         "/schools/mit/f16/",
         "sameena-shaffeeullah"
        ],
        [
         "7",
         "1.0",
         "A",
         "Ty Ingram",
         "ty-ingram",
         "18",
         "Skipper",
         "Sameena Shaffeeullah",
         "MIT",
         "f16/43rd-atlantic-coast-dinghy-backup",
         "2 Divisions",
         "f16/43rd-atlantic-coast-dinghy-backup/8A",
         "2016-11-12 00:00:00",
         "MIT",
         "/schools/mit/f16/",
         "sameena-shaffeeullah"
        ],
        [
         "8",
         "7.0",
         "A",
         "Ty Ingram",
         "ty-ingram",
         "18",
         "Skipper",
         "Sameena Shaffeeullah",
         "MIT",
         "f16/43rd-atlantic-coast-dinghy-backup",
         "2 Divisions",
         "f16/43rd-atlantic-coast-dinghy-backup/9A",
         "2016-11-12 00:00:00",
         "MIT",
         "/schools/mit/f16/",
         "sameena-shaffeeullah"
        ],
        [
         "9",
         "3.0",
         "A",
         "Ty Ingram",
         "ty-ingram",
         "18",
         "Skipper",
         "Sameena Shaffeeullah",
         "MIT",
         "f16/43rd-atlantic-coast-dinghy-backup",
         "2 Divisions",
         "f16/43rd-atlantic-coast-dinghy-backup/10A",
         "2016-11-12 00:00:00",
         "MIT",
         "/schools/mit/f16/",
         "sameena-shaffeeullah"
        ],
        [
         "10",
         "1.0",
         "A",
         "Ty Ingram",
         "ty-ingram",
         "18",
         "Skipper",
         "Sameena Shaffeeullah",
         "MIT",
         "f16/43rd-atlantic-coast-dinghy-backup",
         "2 Divisions",
         "f16/43rd-atlantic-coast-dinghy-backup/11A",
         "2016-11-12 00:00:00",
         "MIT",
         "/schools/mit/f16/",
         "sameena-shaffeeullah"
        ],
        [
         "11",
         "4.0",
         "A",
         "Ty Ingram",
         "ty-ingram",
         "18",
         "Skipper",
         "Sameena Shaffeeullah",
         "MIT",
         "f16/43rd-atlantic-coast-dinghy-backup",
         "2 Divisions",
         "f16/43rd-atlantic-coast-dinghy-backup/12A",
         "2016-11-12 00:00:00",
         "MIT",
         "/schools/mit/f16/",
         "sameena-shaffeeullah"
        ],
        [
         "12",
         "4.0",
         "A",
         "Ty Ingram",
         "ty-ingram",
         "18",
         "Skipper",
         "Sameena Shaffeeullah",
         "MIT",
         "f16/43rd-atlantic-coast-dinghy-backup",
         "2 Divisions",
         "f16/43rd-atlantic-coast-dinghy-backup/13A",
         "2016-11-12 00:00:00",
         "MIT",
         "/schools/mit/f16/",
         "sameena-shaffeeullah"
        ],
        [
         "13",
         "9.0",
         "A",
         "Ty Ingram",
         "ty-ingram",
         "18",
         "Skipper",
         "Sameena Shaffeeullah",
         "MIT",
         "f16/43rd-atlantic-coast-dinghy-backup",
         "2 Divisions",
         "f16/43rd-atlantic-coast-dinghy-backup/14A",
         "2016-11-12 00:00:00",
         "MIT",
         "/schools/mit/f16/",
         "sameena-shaffeeullah"
        ],
        [
         "14",
         "14.0",
         "A",
         "Ty Ingram",
         "ty-ingram",
         "18",
         "Skipper",
         "Sameena Shaffeeullah",
         "MIT",
         "f16/43rd-atlantic-coast-dinghy-backup",
         "2 Divisions",
         "f16/43rd-atlantic-coast-dinghy-backup/15A",
         "2016-11-12 00:00:00",
         "MIT",
         "/schools/mit/f16/",
         "sameena-shaffeeullah"
        ],
        [
         "15",
         "8.0",
         "A",
         "Ty Ingram",
         "ty-ingram",
         "18",
         "Skipper",
         "Sameena Shaffeeullah",
         "MIT",
         "f16/43rd-atlantic-coast-dinghy-backup",
         "2 Divisions",
         "f16/43rd-atlantic-coast-dinghy-backup/16A",
         "2016-11-12 00:00:00",
         "MIT",
         "/schools/mit/f16/",
         "sameena-shaffeeullah"
        ],
        [
         "16",
         "2.0",
         "A",
         "Ty Ingram",
         "ty-ingram",
         "18",
         "Skipper",
         "Sameena Shaffeeullah",
         "MIT",
         "f16/43rd-atlantic-coast-dinghy-backup",
         "2 Divisions",
         "f16/43rd-atlantic-coast-dinghy-backup/17A",
         "2016-11-12 00:00:00",
         "MIT",
         "/schools/mit/f16/",
         "sameena-shaffeeullah"
        ],
        [
         "17",
         "12.0",
         "A",
         "Ty Ingram",
         "ty-ingram",
         "18",
         "Skipper",
         "Sameena Shaffeeullah",
         "MIT",
         "f16/43rd-atlantic-coast-dinghy-backup",
         "2 Divisions",
         "f16/43rd-atlantic-coast-dinghy-backup/18A",
         "2016-11-12 00:00:00",
         "MIT",
         "/schools/mit/f16/",
         "sameena-shaffeeullah"
        ],
        [
         "18",
         "8.0",
         "B",
         "Trevor Long",
         "trevor-long",
         "19",
         "Skipper",
         "Paige Omura",
         "MIT",
         "f16/43rd-atlantic-coast-dinghy-backup",
         "2 Divisions",
         "f16/43rd-atlantic-coast-dinghy-backup/1B",
         "2016-11-12 00:00:00",
         "MIT",
         "/schools/mit/f16/",
         "paige-omura"
        ],
        [
         "19",
         "2.0",
         "B",
         "Trevor Long",
         "trevor-long",
         "19",
         "Skipper",
         "Paige Omura",
         "MIT",
         "f16/43rd-atlantic-coast-dinghy-backup",
         "2 Divisions",
         "f16/43rd-atlantic-coast-dinghy-backup/2B",
         "2016-11-12 00:00:00",
         "MIT",
         "/schools/mit/f16/",
         "paige-omura"
        ],
        [
         "20",
         "4.0",
         "B",
         "Trevor Long",
         "trevor-long",
         "19",
         "Skipper",
         "Paige Omura",
         "MIT",
         "f16/43rd-atlantic-coast-dinghy-backup",
         "2 Divisions",
         "f16/43rd-atlantic-coast-dinghy-backup/3B",
         "2016-11-12 00:00:00",
         "MIT",
         "/schools/mit/f16/",
         "paige-omura"
        ],
        [
         "21",
         "1.0",
         "B",
         "Trevor Long",
         "trevor-long",
         "19",
         "Skipper",
         "Paige Omura",
         "MIT",
         "f16/43rd-atlantic-coast-dinghy-backup",
         "2 Divisions",
         "f16/43rd-atlantic-coast-dinghy-backup/4B",
         "2016-11-12 00:00:00",
         "MIT",
         "/schools/mit/f16/",
         "paige-omura"
        ],
        [
         "22",
         "2.0",
         "B",
         "Trevor Long",
         "trevor-long",
         "19",
         "Skipper",
         "Paige Omura",
         "MIT",
         "f16/43rd-atlantic-coast-dinghy-backup",
         "2 Divisions",
         "f16/43rd-atlantic-coast-dinghy-backup/5B",
         "2016-11-12 00:00:00",
         "MIT",
         "/schools/mit/f16/",
         "paige-omura"
        ],
        [
         "23",
         "6.0",
         "B",
         "Trevor Long",
         "trevor-long",
         "19",
         "Skipper",
         "Paige Omura",
         "MIT",
         "f16/43rd-atlantic-coast-dinghy-backup",
         "2 Divisions",
         "f16/43rd-atlantic-coast-dinghy-backup/6B",
         "2016-11-12 00:00:00",
         "MIT",
         "/schools/mit/f16/",
         "paige-omura"
        ],
        [
         "24",
         "12.0",
         "B",
         "Trevor Long",
         "trevor-long",
         "19",
         "Skipper",
         "Paige Omura",
         "MIT",
         "f16/43rd-atlantic-coast-dinghy-backup",
         "2 Divisions",
         "f16/43rd-atlantic-coast-dinghy-backup/7B",
         "2016-11-12 00:00:00",
         "MIT",
         "/schools/mit/f16/",
         "paige-omura"
        ],
        [
         "25",
         "11.0",
         "B",
         "Trevor Long",
         "trevor-long",
         "19",
         "Skipper",
         "Paige Omura",
         "MIT",
         "f16/43rd-atlantic-coast-dinghy-backup",
         "2 Divisions",
         "f16/43rd-atlantic-coast-dinghy-backup/8B",
         "2016-11-12 00:00:00",
         "MIT",
         "/schools/mit/f16/",
         "paige-omura"
        ],
        [
         "26",
         "3.0",
         "B",
         "Trevor Long",
         "trevor-long",
         "19",
         "Skipper",
         "Paige Omura",
         "MIT",
         "f16/43rd-atlantic-coast-dinghy-backup",
         "2 Divisions",
         "f16/43rd-atlantic-coast-dinghy-backup/9B",
         "2016-11-12 00:00:00",
         "MIT",
         "/schools/mit/f16/",
         "paige-omura"
        ],
        [
         "27",
         "15.0",
         "B",
         "Trevor Long",
         "trevor-long",
         "19",
         "Skipper",
         "Paige Omura",
         "MIT",
         "f16/43rd-atlantic-coast-dinghy-backup",
         "2 Divisions",
         "f16/43rd-atlantic-coast-dinghy-backup/10B",
         "2016-11-12 00:00:00",
         "MIT",
         "/schools/mit/f16/",
         "paige-omura"
        ],
        [
         "28",
         "6.0",
         "B",
         "Trevor Long",
         "trevor-long",
         "19",
         "Skipper",
         "Paige Omura",
         "MIT",
         "f16/43rd-atlantic-coast-dinghy-backup",
         "2 Divisions",
         "f16/43rd-atlantic-coast-dinghy-backup/11B",
         "2016-11-12 00:00:00",
         "MIT",
         "/schools/mit/f16/",
         "paige-omura"
        ],
        [
         "29",
         "12.0",
         "B",
         "Trevor Long",
         "trevor-long",
         "19",
         "Skipper",
         "Paige Omura",
         "MIT",
         "f16/43rd-atlantic-coast-dinghy-backup",
         "2 Divisions",
         "f16/43rd-atlantic-coast-dinghy-backup/12B",
         "2016-11-12 00:00:00",
         "MIT",
         "/schools/mit/f16/",
         "paige-omura"
        ],
        [
         "30",
         "1.0",
         "B",
         "Trevor Long",
         "trevor-long",
         "19",
         "Skipper",
         "Paige Omura",
         "MIT",
         "f16/43rd-atlantic-coast-dinghy-backup",
         "2 Divisions",
         "f16/43rd-atlantic-coast-dinghy-backup/13B",
         "2016-11-12 00:00:00",
         "MIT",
         "/schools/mit/f16/",
         "paige-omura"
        ],
        [
         "31",
         "1.0",
         "B",
         "Trevor Long",
         "trevor-long",
         "19",
         "Skipper",
         "Paige Omura",
         "MIT",
         "f16/43rd-atlantic-coast-dinghy-backup",
         "2 Divisions",
         "f16/43rd-atlantic-coast-dinghy-backup/14B",
         "2016-11-12 00:00:00",
         "MIT",
         "/schools/mit/f16/",
         "paige-omura"
        ],
        [
         "32",
         "7.0",
         "B",
         "Trevor Long",
         "trevor-long",
         "19",
         "Skipper",
         "Paige Omura",
         "MIT",
         "f16/43rd-atlantic-coast-dinghy-backup",
         "2 Divisions",
         "f16/43rd-atlantic-coast-dinghy-backup/15B",
         "2016-11-12 00:00:00",
         "MIT",
         "/schools/mit/f16/",
         "paige-omura"
        ],
        [
         "33",
         "7.0",
         "B",
         "Trevor Long",
         "trevor-long",
         "19",
         "Skipper",
         "Paige Omura",
         "MIT",
         "f16/43rd-atlantic-coast-dinghy-backup",
         "2 Divisions",
         "f16/43rd-atlantic-coast-dinghy-backup/16B",
         "2016-11-12 00:00:00",
         "MIT",
         "/schools/mit/f16/",
         "paige-omura"
        ],
        [
         "34",
         "15.0",
         "B",
         "Trevor Long",
         "trevor-long",
         "19",
         "Skipper",
         "Paige Omura",
         "MIT",
         "f16/43rd-atlantic-coast-dinghy-backup",
         "2 Divisions",
         "f16/43rd-atlantic-coast-dinghy-backup/17B",
         "2016-11-12 00:00:00",
         "MIT",
         "/schools/mit/f16/",
         "paige-omura"
        ],
        [
         "35",
         "10.0",
         "B",
         "Trevor Long",
         "trevor-long",
         "19",
         "Skipper",
         "Paige Omura",
         "MIT",
         "f16/43rd-atlantic-coast-dinghy-backup",
         "2 Divisions",
         "f16/43rd-atlantic-coast-dinghy-backup/18B",
         "2016-11-12 00:00:00",
         "MIT",
         "/schools/mit/f16/",
         "paige-omura"
        ],
        [
         "36",
         "1.0",
         "A",
         "Sameena Shaffeeullah",
         "sameena-shaffeeullah",
         "19",
         "Crew",
         "Ty Ingram",
         "MIT",
         "f16/43rd-atlantic-coast-dinghy-backup",
         "2 Divisions",
         "f16/43rd-atlantic-coast-dinghy-backup/1A",
         "2016-11-12 00:00:00",
         "MIT",
         "/schools/mit/f16/",
         "ty-ingram"
        ],
        [
         "37",
         "4.0",
         "A",
         "Sameena Shaffeeullah",
         "sameena-shaffeeullah",
         "19",
         "Crew",
         "Ty Ingram",
         "MIT",
         "f16/43rd-atlantic-coast-dinghy-backup",
         "2 Divisions",
         "f16/43rd-atlantic-coast-dinghy-backup/2A",
         "2016-11-12 00:00:00",
         "MIT",
         "/schools/mit/f16/",
         "ty-ingram"
        ],
        [
         "38",
         "15.0",
         "A",
         "Sameena Shaffeeullah",
         "sameena-shaffeeullah",
         "19",
         "Crew",
         "Ty Ingram",
         "MIT",
         "f16/43rd-atlantic-coast-dinghy-backup",
         "2 Divisions",
         "f16/43rd-atlantic-coast-dinghy-backup/3A",
         "2016-11-12 00:00:00",
         "MIT",
         "/schools/mit/f16/",
         "ty-ingram"
        ],
        [
         "39",
         "9.0",
         "A",
         "Sameena Shaffeeullah",
         "sameena-shaffeeullah",
         "19",
         "Crew",
         "Ty Ingram",
         "MIT",
         "f16/43rd-atlantic-coast-dinghy-backup",
         "2 Divisions",
         "f16/43rd-atlantic-coast-dinghy-backup/4A",
         "2016-11-12 00:00:00",
         "MIT",
         "/schools/mit/f16/",
         "ty-ingram"
        ],
        [
         "40",
         "14.0",
         "A",
         "Sameena Shaffeeullah",
         "sameena-shaffeeullah",
         "19",
         "Crew",
         "Ty Ingram",
         "MIT",
         "f16/43rd-atlantic-coast-dinghy-backup",
         "2 Divisions",
         "f16/43rd-atlantic-coast-dinghy-backup/5A",
         "2016-11-12 00:00:00",
         "MIT",
         "/schools/mit/f16/",
         "ty-ingram"
        ],
        [
         "41",
         "6.0",
         "A",
         "Sameena Shaffeeullah",
         "sameena-shaffeeullah",
         "19",
         "Crew",
         "Ty Ingram",
         "MIT",
         "f16/43rd-atlantic-coast-dinghy-backup",
         "2 Divisions",
         "f16/43rd-atlantic-coast-dinghy-backup/6A",
         "2016-11-12 00:00:00",
         "MIT",
         "/schools/mit/f16/",
         "ty-ingram"
        ],
        [
         "42",
         "8.0",
         "A",
         "Sameena Shaffeeullah",
         "sameena-shaffeeullah",
         "19",
         "Crew",
         "Ty Ingram",
         "MIT",
         "f16/43rd-atlantic-coast-dinghy-backup",
         "2 Divisions",
         "f16/43rd-atlantic-coast-dinghy-backup/7A",
         "2016-11-12 00:00:00",
         "MIT",
         "/schools/mit/f16/",
         "ty-ingram"
        ],
        [
         "43",
         "1.0",
         "A",
         "Sameena Shaffeeullah",
         "sameena-shaffeeullah",
         "19",
         "Crew",
         "Ty Ingram",
         "MIT",
         "f16/43rd-atlantic-coast-dinghy-backup",
         "2 Divisions",
         "f16/43rd-atlantic-coast-dinghy-backup/8A",
         "2016-11-12 00:00:00",
         "MIT",
         "/schools/mit/f16/",
         "ty-ingram"
        ],
        [
         "44",
         "7.0",
         "A",
         "Sameena Shaffeeullah",
         "sameena-shaffeeullah",
         "19",
         "Crew",
         "Ty Ingram",
         "MIT",
         "f16/43rd-atlantic-coast-dinghy-backup",
         "2 Divisions",
         "f16/43rd-atlantic-coast-dinghy-backup/9A",
         "2016-11-12 00:00:00",
         "MIT",
         "/schools/mit/f16/",
         "ty-ingram"
        ],
        [
         "45",
         "3.0",
         "A",
         "Sameena Shaffeeullah",
         "sameena-shaffeeullah",
         "19",
         "Crew",
         "Ty Ingram",
         "MIT",
         "f16/43rd-atlantic-coast-dinghy-backup",
         "2 Divisions",
         "f16/43rd-atlantic-coast-dinghy-backup/10A",
         "2016-11-12 00:00:00",
         "MIT",
         "/schools/mit/f16/",
         "ty-ingram"
        ],
        [
         "46",
         "1.0",
         "A",
         "Sameena Shaffeeullah",
         "sameena-shaffeeullah",
         "19",
         "Crew",
         "Ty Ingram",
         "MIT",
         "f16/43rd-atlantic-coast-dinghy-backup",
         "2 Divisions",
         "f16/43rd-atlantic-coast-dinghy-backup/11A",
         "2016-11-12 00:00:00",
         "MIT",
         "/schools/mit/f16/",
         "ty-ingram"
        ],
        [
         "47",
         "4.0",
         "A",
         "Sameena Shaffeeullah",
         "sameena-shaffeeullah",
         "19",
         "Crew",
         "Ty Ingram",
         "MIT",
         "f16/43rd-atlantic-coast-dinghy-backup",
         "2 Divisions",
         "f16/43rd-atlantic-coast-dinghy-backup/12A",
         "2016-11-12 00:00:00",
         "MIT",
         "/schools/mit/f16/",
         "ty-ingram"
        ],
        [
         "48",
         "4.0",
         "A",
         "Sameena Shaffeeullah",
         "sameena-shaffeeullah",
         "19",
         "Crew",
         "Ty Ingram",
         "MIT",
         "f16/43rd-atlantic-coast-dinghy-backup",
         "2 Divisions",
         "f16/43rd-atlantic-coast-dinghy-backup/13A",
         "2016-11-12 00:00:00",
         "MIT",
         "/schools/mit/f16/",
         "ty-ingram"
        ],
        [
         "49",
         "9.0",
         "A",
         "Sameena Shaffeeullah",
         "sameena-shaffeeullah",
         "19",
         "Crew",
         "Ty Ingram",
         "MIT",
         "f16/43rd-atlantic-coast-dinghy-backup",
         "2 Divisions",
         "f16/43rd-atlantic-coast-dinghy-backup/14A",
         "2016-11-12 00:00:00",
         "MIT",
         "/schools/mit/f16/",
         "ty-ingram"
        ]
       ],
       "shape": {
        "columns": 15,
        "rows": 849956
       }
      },
      "text/html": [
       "<div>\n",
       "<style scoped>\n",
       "    .dataframe tbody tr th:only-of-type {\n",
       "        vertical-align: middle;\n",
       "    }\n",
       "\n",
       "    .dataframe tbody tr th {\n",
       "        vertical-align: top;\n",
       "    }\n",
       "\n",
       "    .dataframe thead th {\n",
       "        text-align: right;\n",
       "    }\n",
       "</style>\n",
       "<table border=\"1\" class=\"dataframe\">\n",
       "  <thead>\n",
       "    <tr style=\"text-align: right;\">\n",
       "      <th></th>\n",
       "      <th>Score</th>\n",
       "      <th>Div</th>\n",
       "      <th>Sailor</th>\n",
       "      <th>Link</th>\n",
       "      <th>GradYear</th>\n",
       "      <th>Position</th>\n",
       "      <th>Partner</th>\n",
       "      <th>Venue</th>\n",
       "      <th>Regatta</th>\n",
       "      <th>Scoring</th>\n",
       "      <th>raceID</th>\n",
       "      <th>Date</th>\n",
       "      <th>Team</th>\n",
       "      <th>Teamlink</th>\n",
       "      <th>PartnerLink</th>\n",
       "    </tr>\n",
       "  </thead>\n",
       "  <tbody>\n",
       "    <tr>\n",
       "      <th>0</th>\n",
       "      <td>1.0</td>\n",
       "      <td>A</td>\n",
       "      <td>Ty Ingram</td>\n",
       "      <td>ty-ingram</td>\n",
       "      <td>18</td>\n",
       "      <td>Skipper</td>\n",
       "      <td>Sameena Shaffeeullah</td>\n",
       "      <td>MIT</td>\n",
       "      <td>f16/43rd-atlantic-coast-dinghy-backup</td>\n",
       "      <td>2 Divisions</td>\n",
       "      <td>f16/43rd-atlantic-coast-dinghy-backup/1A</td>\n",
       "      <td>2016-11-12</td>\n",
       "      <td>MIT</td>\n",
       "      <td>/schools/mit/f16/</td>\n",
       "      <td>sameena-shaffeeullah</td>\n",
       "    </tr>\n",
       "    <tr>\n",
       "      <th>1</th>\n",
       "      <td>4.0</td>\n",
       "      <td>A</td>\n",
       "      <td>Ty Ingram</td>\n",
       "      <td>ty-ingram</td>\n",
       "      <td>18</td>\n",
       "      <td>Skipper</td>\n",
       "      <td>Sameena Shaffeeullah</td>\n",
       "      <td>MIT</td>\n",
       "      <td>f16/43rd-atlantic-coast-dinghy-backup</td>\n",
       "      <td>2 Divisions</td>\n",
       "      <td>f16/43rd-atlantic-coast-dinghy-backup/2A</td>\n",
       "      <td>2016-11-12</td>\n",
       "      <td>MIT</td>\n",
       "      <td>/schools/mit/f16/</td>\n",
       "      <td>sameena-shaffeeullah</td>\n",
       "    </tr>\n",
       "    <tr>\n",
       "      <th>2</th>\n",
       "      <td>15.0</td>\n",
       "      <td>A</td>\n",
       "      <td>Ty Ingram</td>\n",
       "      <td>ty-ingram</td>\n",
       "      <td>18</td>\n",
       "      <td>Skipper</td>\n",
       "      <td>Sameena Shaffeeullah</td>\n",
       "      <td>MIT</td>\n",
       "      <td>f16/43rd-atlantic-coast-dinghy-backup</td>\n",
       "      <td>2 Divisions</td>\n",
       "      <td>f16/43rd-atlantic-coast-dinghy-backup/3A</td>\n",
       "      <td>2016-11-12</td>\n",
       "      <td>MIT</td>\n",
       "      <td>/schools/mit/f16/</td>\n",
       "      <td>sameena-shaffeeullah</td>\n",
       "    </tr>\n",
       "    <tr>\n",
       "      <th>3</th>\n",
       "      <td>9.0</td>\n",
       "      <td>A</td>\n",
       "      <td>Ty Ingram</td>\n",
       "      <td>ty-ingram</td>\n",
       "      <td>18</td>\n",
       "      <td>Skipper</td>\n",
       "      <td>Sameena Shaffeeullah</td>\n",
       "      <td>MIT</td>\n",
       "      <td>f16/43rd-atlantic-coast-dinghy-backup</td>\n",
       "      <td>2 Divisions</td>\n",
       "      <td>f16/43rd-atlantic-coast-dinghy-backup/4A</td>\n",
       "      <td>2016-11-12</td>\n",
       "      <td>MIT</td>\n",
       "      <td>/schools/mit/f16/</td>\n",
       "      <td>sameena-shaffeeullah</td>\n",
       "    </tr>\n",
       "    <tr>\n",
       "      <th>4</th>\n",
       "      <td>14.0</td>\n",
       "      <td>A</td>\n",
       "      <td>Ty Ingram</td>\n",
       "      <td>ty-ingram</td>\n",
       "      <td>18</td>\n",
       "      <td>Skipper</td>\n",
       "      <td>Sameena Shaffeeullah</td>\n",
       "      <td>MIT</td>\n",
       "      <td>f16/43rd-atlantic-coast-dinghy-backup</td>\n",
       "      <td>2 Divisions</td>\n",
       "      <td>f16/43rd-atlantic-coast-dinghy-backup/5A</td>\n",
       "      <td>2016-11-12</td>\n",
       "      <td>MIT</td>\n",
       "      <td>/schools/mit/f16/</td>\n",
       "      <td>sameena-shaffeeullah</td>\n",
       "    </tr>\n",
       "    <tr>\n",
       "      <th>...</th>\n",
       "      <td>...</td>\n",
       "      <td>...</td>\n",
       "      <td>...</td>\n",
       "      <td>...</td>\n",
       "      <td>...</td>\n",
       "      <td>...</td>\n",
       "      <td>...</td>\n",
       "      <td>...</td>\n",
       "      <td>...</td>\n",
       "      <td>...</td>\n",
       "      <td>...</td>\n",
       "      <td>...</td>\n",
       "      <td>...</td>\n",
       "      <td>...</td>\n",
       "      <td>...</td>\n",
       "    </tr>\n",
       "    <tr>\n",
       "      <th>849951</th>\n",
       "      <td>11.0</td>\n",
       "      <td>A</td>\n",
       "      <td>Caswell Kern</td>\n",
       "      <td>caswell-kern</td>\n",
       "      <td>26</td>\n",
       "      <td>Skipper</td>\n",
       "      <td>Unknown</td>\n",
       "      <td>UNC Wilmington</td>\n",
       "      <td>f25/saisa-north-fall-tournament</td>\n",
       "      <td>2 Divisions</td>\n",
       "      <td>f25/saisa-north-fall-tournament/2A</td>\n",
       "      <td>2025-09-07</td>\n",
       "      <td>UNC Wilmington</td>\n",
       "      <td>/schools/unc-wilmington/f25/</td>\n",
       "      <td>Unknown</td>\n",
       "    </tr>\n",
       "    <tr>\n",
       "      <th>849952</th>\n",
       "      <td>11.0</td>\n",
       "      <td>A</td>\n",
       "      <td>Caswell Kern</td>\n",
       "      <td>caswell-kern</td>\n",
       "      <td>26</td>\n",
       "      <td>Skipper</td>\n",
       "      <td>Unknown</td>\n",
       "      <td>UNC Wilmington</td>\n",
       "      <td>f25/saisa-north-fall-tournament</td>\n",
       "      <td>2 Divisions</td>\n",
       "      <td>f25/saisa-north-fall-tournament/3A</td>\n",
       "      <td>2025-09-07</td>\n",
       "      <td>UNC Wilmington</td>\n",
       "      <td>/schools/unc-wilmington/f25/</td>\n",
       "      <td>Unknown</td>\n",
       "    </tr>\n",
       "    <tr>\n",
       "      <th>849953</th>\n",
       "      <td>9.0</td>\n",
       "      <td>B</td>\n",
       "      <td>Ben Kearney</td>\n",
       "      <td>ben-kearney</td>\n",
       "      <td>26</td>\n",
       "      <td>Skipper</td>\n",
       "      <td>Unknown</td>\n",
       "      <td>UNC Wilmington</td>\n",
       "      <td>f25/saisa-north-fall-tournament</td>\n",
       "      <td>2 Divisions</td>\n",
       "      <td>f25/saisa-north-fall-tournament/1B</td>\n",
       "      <td>2025-09-07</td>\n",
       "      <td>UNC Wilmington</td>\n",
       "      <td>/schools/unc-wilmington/f25/</td>\n",
       "      <td>Unknown</td>\n",
       "    </tr>\n",
       "    <tr>\n",
       "      <th>849954</th>\n",
       "      <td>9.0</td>\n",
       "      <td>B</td>\n",
       "      <td>Ben Kearney</td>\n",
       "      <td>ben-kearney</td>\n",
       "      <td>26</td>\n",
       "      <td>Skipper</td>\n",
       "      <td>Unknown</td>\n",
       "      <td>UNC Wilmington</td>\n",
       "      <td>f25/saisa-north-fall-tournament</td>\n",
       "      <td>2 Divisions</td>\n",
       "      <td>f25/saisa-north-fall-tournament/2B</td>\n",
       "      <td>2025-09-07</td>\n",
       "      <td>UNC Wilmington</td>\n",
       "      <td>/schools/unc-wilmington/f25/</td>\n",
       "      <td>Unknown</td>\n",
       "    </tr>\n",
       "    <tr>\n",
       "      <th>849955</th>\n",
       "      <td>8.0</td>\n",
       "      <td>B</td>\n",
       "      <td>Ben Kearney</td>\n",
       "      <td>ben-kearney</td>\n",
       "      <td>26</td>\n",
       "      <td>Skipper</td>\n",
       "      <td>Unknown</td>\n",
       "      <td>UNC Wilmington</td>\n",
       "      <td>f25/saisa-north-fall-tournament</td>\n",
       "      <td>2 Divisions</td>\n",
       "      <td>f25/saisa-north-fall-tournament/3B</td>\n",
       "      <td>2025-09-07</td>\n",
       "      <td>UNC Wilmington</td>\n",
       "      <td>/schools/unc-wilmington/f25/</td>\n",
       "      <td>Unknown</td>\n",
       "    </tr>\n",
       "  </tbody>\n",
       "</table>\n",
       "<p>849956 rows × 15 columns</p>\n",
       "</div>"
      ],
      "text/plain": [
       "        Score Div        Sailor          Link GradYear Position  \\\n",
       "0         1.0   A     Ty Ingram     ty-ingram       18  Skipper   \n",
       "1         4.0   A     Ty Ingram     ty-ingram       18  Skipper   \n",
       "2        15.0   A     Ty Ingram     ty-ingram       18  Skipper   \n",
       "3         9.0   A     Ty Ingram     ty-ingram       18  Skipper   \n",
       "4        14.0   A     Ty Ingram     ty-ingram       18  Skipper   \n",
       "...       ...  ..           ...           ...      ...      ...   \n",
       "849951   11.0   A  Caswell Kern  caswell-kern       26  Skipper   \n",
       "849952   11.0   A  Caswell Kern  caswell-kern       26  Skipper   \n",
       "849953    9.0   B   Ben Kearney   ben-kearney       26  Skipper   \n",
       "849954    9.0   B   Ben Kearney   ben-kearney       26  Skipper   \n",
       "849955    8.0   B   Ben Kearney   ben-kearney       26  Skipper   \n",
       "\n",
       "                     Partner           Venue  \\\n",
       "0       Sameena Shaffeeullah             MIT   \n",
       "1       Sameena Shaffeeullah             MIT   \n",
       "2       Sameena Shaffeeullah             MIT   \n",
       "3       Sameena Shaffeeullah             MIT   \n",
       "4       Sameena Shaffeeullah             MIT   \n",
       "...                      ...             ...   \n",
       "849951               Unknown  UNC Wilmington   \n",
       "849952               Unknown  UNC Wilmington   \n",
       "849953               Unknown  UNC Wilmington   \n",
       "849954               Unknown  UNC Wilmington   \n",
       "849955               Unknown  UNC Wilmington   \n",
       "\n",
       "                                      Regatta      Scoring  \\\n",
       "0       f16/43rd-atlantic-coast-dinghy-backup  2 Divisions   \n",
       "1       f16/43rd-atlantic-coast-dinghy-backup  2 Divisions   \n",
       "2       f16/43rd-atlantic-coast-dinghy-backup  2 Divisions   \n",
       "3       f16/43rd-atlantic-coast-dinghy-backup  2 Divisions   \n",
       "4       f16/43rd-atlantic-coast-dinghy-backup  2 Divisions   \n",
       "...                                       ...          ...   \n",
       "849951        f25/saisa-north-fall-tournament  2 Divisions   \n",
       "849952        f25/saisa-north-fall-tournament  2 Divisions   \n",
       "849953        f25/saisa-north-fall-tournament  2 Divisions   \n",
       "849954        f25/saisa-north-fall-tournament  2 Divisions   \n",
       "849955        f25/saisa-north-fall-tournament  2 Divisions   \n",
       "\n",
       "                                          raceID       Date            Team  \\\n",
       "0       f16/43rd-atlantic-coast-dinghy-backup/1A 2016-11-12             MIT   \n",
       "1       f16/43rd-atlantic-coast-dinghy-backup/2A 2016-11-12             MIT   \n",
       "2       f16/43rd-atlantic-coast-dinghy-backup/3A 2016-11-12             MIT   \n",
       "3       f16/43rd-atlantic-coast-dinghy-backup/4A 2016-11-12             MIT   \n",
       "4       f16/43rd-atlantic-coast-dinghy-backup/5A 2016-11-12             MIT   \n",
       "...                                          ...        ...             ...   \n",
       "849951        f25/saisa-north-fall-tournament/2A 2025-09-07  UNC Wilmington   \n",
       "849952        f25/saisa-north-fall-tournament/3A 2025-09-07  UNC Wilmington   \n",
       "849953        f25/saisa-north-fall-tournament/1B 2025-09-07  UNC Wilmington   \n",
       "849954        f25/saisa-north-fall-tournament/2B 2025-09-07  UNC Wilmington   \n",
       "849955        f25/saisa-north-fall-tournament/3B 2025-09-07  UNC Wilmington   \n",
       "\n",
       "                            Teamlink           PartnerLink  \n",
       "0                  /schools/mit/f16/  sameena-shaffeeullah  \n",
       "1                  /schools/mit/f16/  sameena-shaffeeullah  \n",
       "2                  /schools/mit/f16/  sameena-shaffeeullah  \n",
       "3                  /schools/mit/f16/  sameena-shaffeeullah  \n",
       "4                  /schools/mit/f16/  sameena-shaffeeullah  \n",
       "...                              ...                   ...  \n",
       "849951  /schools/unc-wilmington/f25/               Unknown  \n",
       "849952  /schools/unc-wilmington/f25/               Unknown  \n",
       "849953  /schools/unc-wilmington/f25/               Unknown  \n",
       "849954  /schools/unc-wilmington/f25/               Unknown  \n",
       "849955  /schools/unc-wilmington/f25/               Unknown  \n",
       "\n",
       "[849956 rows x 15 columns]"
      ]
     },
     "execution_count": 14,
     "metadata": {},
     "output_type": "execute_result"
    }
   ],
   "source": [
    "import pandas as pd\n",
    "# temp = pd.read_json(\"sailors-20250424.json\")\n",
    "# temp = pd.read_json(\"sailors-latest.json\")\n",
    "temp = pd.read_json(\"racesfr.json\")\n",
    "temp"
   ]
  },
  {
   "cell_type": "code",
   "execution_count": null,
   "metadata": {},
   "outputs": [],
   "source": [
    "[{'score': 6, 'pos': 'Crew', 'predicted': 5, 'ratio': 0.6428571429000001, 'change': 31.5197445105, 'regAvg': 1089.1049332404, 'cross': 0, 'outLinks': 0, 'skipperRating': 1000.0, 'crewRating': 1000.0, 'womenSkipperRating': 1000.0, 'womenCrewRating': 1031.5197445105, 'tsr': 1000.0, 'tcr': 1000.0, 'wtsr': 1000.0, 'wtcr': 1000.0, 'womens': True, 'date': 1694217600000, 'partner': {'name': 'Emma Wang', 'key': 'emma-wang'}, 'venue': 'MIT', 'raceID': 'f23/toni-deutsch-58/1B', 'type': 'fleet', 'scoring': '2 Divisions'}, {'score': 14, 'pos': 'Crew', 'predicted': 12, 'ratio': 0.0714285714, 'change': -68.404679445, 'regAvg': 1089.1049332404, 'cross': 0, 'outLinks': 0, 'skipperRating': 1000.0, 'crewRating': 1000.0, 'womenSkipperRating': 1000.0, 'womenCrewRating': 963.1150650655, 'tsr': 1000.0, 'tcr': 1000.0, 'wtsr': 1000.0, 'wtcr': 1000.0, 'womens': True, 'date': 1694217600000, 'partner': {'name': 'Emma Wang', 'key': 'emma-wang'}, 'venue': 'MIT', 'raceID': 'f23/toni-deutsch-58/2B', 'type': 'fleet', 'scoring': '2 Divisions'}, {'score': 7, 'pos': 'Crew', 'predicted': 10, 'ratio': 0.5714285714, 'change': 26.8603871498, 'regAvg': 1089.1049332404, 'cross': 0, 'outLinks': 0, 'skipperRating': 1000.0, 'crewRating': 1000.0, 'womenSkipperRating': 1000.0, 'womenCrewRating': 989.9754522153, 'tsr': 1000.0, 'tcr': 1000.0, 'wtsr': 1000.0, 'wtcr': 1000.0, 'womens': True, 'date': 1694217600000, 'partner': {'name': 'Emma Wang', 'key': 'emma-wang'}, 'venue': 'MIT', 'raceID': 'f23/toni-deutsch-58/3B', 'type': 'fleet', 'scoring': '2 Divisions'}, {'score': 8, 'pos': 'Crew', 'predicted': 8, 'ratio': 0.5, 'change': 20.7319292537, 'regAvg': 1089.1049332404, 'cross': 0, 'outLinks': 0, 'skipperRating': 1000.0, 'crewRating': 1000.0, 'womenSkipperRating': 1000.0, 'womenCrewRating': 1010.7073814689, 'tsr': 1000.0, 'tcr': 1000.0, 'wtsr': 1000.0, 'wtcr': 1000.0, 'womens': True, 'date': 1694217600000, 'partner': {'name': 'Emma Wang', 'key': 'emma-wang'}, 'venue': 'MIT', 'raceID': 'f23/toni-deutsch-58/4B', 'type': 'fleet', 'scoring': '2 Divisions'}, {'score': 15, 'pos': 'Crew', 'predicted': 15, 'ratio': 0.0, 'change': -91.5967711594, 'regAvg': 1123.0481624585, 'cross': 0, 'outLinks': 0, 'skipperRating': 1000.0, 'crewRating': 1000.0, 'womenSkipperRating': 1000.0, 'womenCrewRating': 919.1106103096, 'tsr': 1000.0, 'tcr': 1000.0, 'wtsr': 1000.0, 'wtcr': 1000.0, 'womens': True, 'date': 1694908800000, 'partner': {'name': 'Brooke Barry', 'key': 'brooke-barry'}, 'venue': 'Harvard', 'raceID': 'f23/regis/1A', 'type': 'fleet', 'scoring': '2 Divisions'}, {'score': 6, 'pos': 'Crew', 'predicted': 15, 'ratio': 0.6428571429000001, 'change': 44.7577576946, 'regAvg': 1123.0481624585, 'cross': 0, 'outLinks': 0, 'skipperRating': 1000.0, 'crewRating': 1000.0, 'womenSkipperRating': 1000.0, 'womenCrewRating': 963.8683680042, 'tsr': 1000.0, 'tcr': 1000.0, 'wtsr': 1000.0, 'wtcr': 1000.0, 'womens': True, 'date': 1694908800000, 'partner': {'name': 'Brooke Barry', 'key': 'brooke-barry'}, 'venue': 'Harvard', 'raceID': 'f23/regis/2A', 'type': 'fleet', 'scoring': '2 Divisions'}, {'score': 12, 'pos': 'Crew', 'predicted': 15, 'ratio': 0.2142857143, 'change': 4.591005515, 'regAvg': 1123.0481624585, 'cross': 0, 'outLinks': 0, 'skipperRating': 1000.0, 'crewRating': 1000.0, 'womenSkipperRating': 1000.0, 'womenCrewRating': 968.4593735191, 'tsr': 1000.0, 'tcr': 1000.0, 'wtsr': 1000.0, 'wtcr': 1000.0, 'womens': True, 'date': 1694908800000, 'partner': {'name': 'Brooke Barry', 'key': 'brooke-barry'}, 'venue': 'Harvard', 'raceID': 'f23/regis/3A', 'type': 'fleet', 'scoring': '2 Divisions'}, {'score': 6, 'pos': 'Crew', 'predicted': 15, 'ratio': 0.6428571429000001, 'change': 42.3612286586, 'regAvg': 1123.0481624585, 'cross': 0, 'outLinks': 0, 'skipperRating': 1000.0, 'crewRating': 1000.0, 'womenSkipperRating': 1000.0, 'womenCrewRating': 1010.8206021778, 'tsr': 1000.0, 'tcr': 1000.0, 'wtsr': 1000.0, 'wtcr': 1000.0, 'womens': True, 'date': 1694908800000, 'partner': {'name': 'Brooke Barry', 'key': 'brooke-barry'}, 'venue': 'Harvard', 'raceID': 'f23/regis/4A', 'type': 'fleet', 'scoring': '2 Divisions'}, {'score': 9, 'pos': 'Crew', 'predicted': 14, 'ratio': 0.4285714286, 'change': 27.5063232969, 'regAvg': 1123.0481624585, 'cross': 0, 'outLinks': 0, 'skipperRating': 1000.0, 'crewRating': 1000.0, 'womenSkipperRating': 1000.0, 'womenCrewRating': 1038.3269254747, 'tsr': 1000.0, 'tcr': 1000.0, 'wtsr': 1000.0, 'wtcr': 1000.0, 'womens': True, 'date': 1694908800000, 'partner': {'name': 'Brooke Barry', 'key': 'brooke-barry'}, 'venue': 'Harvard', 'raceID': 'f23/regis/5A', 'type': 'fleet', 'scoring': '2 Divisions'}, {'score': 12, 'pos': 'Crew', 'predicted': 13, 'ratio': 0.2142857143, 'change': 5.2558767801, 'regAvg': 1123.0481624585, 'cross': 0, 'outLinks': 0, 'skipperRating': 1000.0, 'crewRating': 1000.0, 'womenSkipperRating': 1000.0, 'womenCrewRating': 1043.5828022548, 'tsr': 1000.0, 'tcr': 1000.0, 'wtsr': 1000.0, 'wtcr': 1000.0, 'womens': True, 'date': 1694908800000, 'partner': {'name': 'Brooke Barry', 'key': 'brooke-barry'}, 'venue': 'Harvard', 'raceID': 'f23/regis/6A', 'type': 'fleet', 'scoring': '2 Divisions'}, {'score': 6, 'pos': 'Crew', 'predicted': 13, 'ratio': 0.6428571429000001, 'change': 40.1091001204, 'regAvg': 1123.0481624585, 'cross': 0, 'outLinks': 0, 'skipperRating': 1000.0, 'crewRating': 1000.0, 'womenSkipperRating': 1000.0, 'womenCrewRating': 1083.6919023752, 'tsr': 1000.0, 'tcr': 1000.0, 'wtsr': 1000.0, 'wtcr': 1000.0, 'womens': True, 'date': 1694908800000, 'partner': {'name': 'Brooke Barry', 'key': 'brooke-barry'}, 'venue': 'Harvard', 'raceID': 'f23/regis/7A', 'type': 'fleet', 'scoring': '2 Divisions'}, {'score': 7, 'pos': 'Crew', 'predicted': 11, 'ratio': 0.5714285714, 'change': 35.1530705072, 'regAvg': 1123.0481624585, 'cross': 0, 'outLinks': 0, 'skipperRating': 1000.0, 'crewRating': 1000.0, 'womenSkipperRating': 1000.0, 'womenCrewRating': 1118.8449728825, 'tsr': 1000.0, 'tcr': 1000.0, 'wtsr': 1000.0, 'wtcr': 1000.0, 'womens': True, 'date': 1694908800000, 'partner': {'name': 'Brooke Barry', 'key': 'brooke-barry'}, 'venue': 'Harvard', 'raceID': 'f23/regis/8A', 'type': 'fleet', 'scoring': '2 Divisions'}, {'score': 5, 'pos': 'Crew', 'predicted': 9, 'ratio': 0.7142857143, 'change': 41.577469826, 'regAvg': 1123.0481624585, 'cross': 0, 'outLinks': 0, 'skipperRating': 1000.0, 'crewRating': 1000.0, 'womenSkipperRating': 1000.0, 'womenCrewRating': 1160.4224427084, 'tsr': 1000.0, 'tcr': 1000.0, 'wtsr': 1000.0, 'wtcr': 1000.0, 'womens': True, 'date': 1694908800000, 'partner': {'name': 'Brooke Barry', 'key': 'brooke-barry'}, 'venue': 'Harvard', 'raceID': 'f23/regis/9A', 'type': 'fleet', 'scoring': '2 Divisions'}, {'score': 5, 'pos': 'Crew', 'predicted': 17, 'ratio': 0.7894736842000001, 'change': 53.4246510375, 'regAvg': 1225.5509031845, 'cross': 0, 'outLinks': 0, 'skipperRating': 1000.0, 'crewRating': 1053.4246510375, 'womenSkipperRating': 1000.0, 'womenCrewRating': 1160.4224427084, 'tsr': 1000.0, 'tcr': 1000.0, 'wtsr': 1000.0, 'wtcr': 1000.0, 'womens': False, 'date': 1695427200000, 'partner': {'name': 'Robert Ulmer', 'key': 'robert-ulmer'}, 'venue': 'Tufts', 'raceID': 'f23/hood/1A', 'type': 'fleet', 'scoring': '2 Divisions'}, {'score': 4, 'pos': 'Crew', 'predicted': 16, 'ratio': 0.8421052632, 'change': 55.1883807848, 'regAvg': 1225.5509031845, 'cross': 0, 'outLinks': 0, 'skipperRating': 1000.0, 'crewRating': 1108.6130318222, 'womenSkipperRating': 1000.0, 'womenCrewRating': 1160.4224427084, 'tsr': 1000.0, 'tcr': 1000.0, 'wtsr': 1000.0, 'wtcr': 1000.0, 'womens': False, 'date': 1695427200000, 'partner': {'name': 'Robert Ulmer', 'key': 'robert-ulmer'}, 'venue': 'Tufts', 'raceID': 'f23/hood/2A', 'type': 'fleet', 'scoring': '2 Divisions'}, {'score': 1, 'pos': 'Crew', 'predicted': 14, 'ratio': 1.0, 'change': 60.6665055023, 'regAvg': 1225.5509031845, 'cross': 0, 'outLinks': 0, 'skipperRating': 1000.0, 'crewRating': 1169.2795373245, 'womenSkipperRating': 1000.0, 'womenCrewRating': 1160.4224427084, 'tsr': 1000.0, 'tcr': 1000.0, 'wtsr': 1000.0, 'wtcr': 1000.0, 'womens': False, 'date': 1695427200000, 'partner': {'name': 'Robert Ulmer', 'key': 'robert-ulmer'}, 'venue': 'Tufts', 'raceID': 'f23/hood/3A', 'type': 'fleet', 'scoring': '2 Divisions'}, {'score': 9, 'pos': 'Crew', 'predicted': 15, 'ratio': 0.5789473684, 'change': 38.3641224834, 'regAvg': 1225.5509031845, 'cross': 0, 'outLinks': 0, 'skipperRating': 1000.0, 'crewRating': 1207.6436598079, 'womenSkipperRating': 1000.0, 'womenCrewRating': 1160.4224427084, 'tsr': 1000.0, 'tcr': 1000.0, 'wtsr': 1000.0, 'wtcr': 1000.0, 'womens': False, 'date': 1695427200000, 'partner': {'name': 'Robert Ulmer', 'key': 'robert-ulmer'}, 'venue': 'Tufts', 'raceID': 'f23/hood/4A', 'type': 'fleet', 'scoring': '2 Divisions'}, {'score': 13, 'pos': 'Crew', 'predicted': 14, 'ratio': 0.3684210526, 'change': 19.1100875245, 'regAvg': 1225.5509031845, 'cross': 0, 'outLinks': 0, 'skipperRating': 1000.0, 'crewRating': 1226.7537473324, 'womenSkipperRating': 1000.0, 'womenCrewRating': 1160.4224427084, 'tsr': 1000.0, 'tcr': 1000.0, 'wtsr': 1000.0, 'wtcr': 1000.0, 'womens': False, 'date': 1695427200000, 'partner': {'name': 'Robert Ulmer', 'key': 'robert-ulmer'}, 'venue': 'Tufts', 'raceID': 'f23/hood/5A', 'type': 'fleet', 'scoring': '2 Divisions'}, {'score': 4, 'pos': 'Crew', 'predicted': 12, 'ratio': 0.8421052632, 'change': 52.1021980701, 'regAvg': 1225.5509031845, 'cross': 0, 'outLinks': 0, 'skipperRating': 1000.0, 'crewRating': 1278.8559454025, 'womenSkipperRating': 1000.0, 'womenCrewRating': 1160.4224427084, 'tsr': 1000.0, 'tcr': 1000.0, 'wtsr': 1000.0, 'wtcr': 1000.0, 'womens': False, 'date': 1695427200000, 'partner': {'name': 'Robert Ulmer', 'key': 'robert-ulmer'}, 'venue': 'Tufts', 'raceID': 'f23/hood/6A', 'type': 'fleet', 'scoring': '2 Divisions'}, {'score': 1, 'pos': 'Crew', 'predicted': 10, 'ratio': 1.0, 'change': 58.8992050103, 'regAvg': 1225.5509031845, 'cross': 0, 'outLinks': 0, 'skipperRating': 1000.0, 'crewRating': 1337.7551504128, 'womenSkipperRating': 1000.0, 'womenCrewRating': 1160.4224427084, 'tsr': 1000.0, 'tcr': 1000.0, 'wtsr': 1000.0, 'wtcr': 1000.0, 'womens': False, 'date': 1695427200000, 'partner': {'name': 'Robert Ulmer', 'key': 'robert-ulmer'}, 'venue': 'Tufts', 'raceID': 'f23/hood/7A', 'type': 'fleet', 'scoring': '2 Divisions'}, {'score': 3, 'pos': 'Crew', 'predicted': 10, 'ratio': 0.8947368421, 'change': 53.7277278416, 'regAvg': 1225.5509031845, 'cross': 0, 'outLinks': 0, 'skipperRating': 1000.0, 'crewRating': 1391.4828782544, 'womenSkipperRating': 1000.0, 'womenCrewRating': 1160.4224427084, 'tsr': 1000.0, 'tcr': 1000.0, 'wtsr': 1000.0, 'wtcr': 1000.0, 'womens': False, 'date': 1695427200000, 'partner': {'name': 'Robert Ulmer', 'key': 'robert-ulmer'}, 'venue': 'Tufts', 'raceID': 'f23/hood/8A', 'type': 'fleet', 'scoring': '2 Divisions'}, {'score': 14, 'pos': 'Crew', 'predicted': 11, 'ratio': 0.3157894737, 'change': -3.8540906757, 'regAvg': 1225.5509031845, 'cross': 0, 'outLinks': 0, 'skipperRating': 1000.0, 'crewRating': 1387.6287875787, 'womenSkipperRating': 1000.0, 'womenCrewRating': 1160.4224427084, 'tsr': 1000.0, 'tcr': 1000.0, 'wtsr': 1000.0, 'wtcr': 1000.0, 'womens': False, 'date': 1695427200000, 'partner': {'name': 'Andy Yu', 'key': 'andy-yu'}, 'venue': 'Tufts', 'raceID': 'f23/hood/9A', 'type': 'fleet', 'scoring': '2 Divisions'}, {'score': 16, 'pos': 'Crew', 'predicted': 12, 'ratio': 0.2105263158, 'change': -25.9437963173, 'regAvg': 1225.5509031845, 'cross': 0, 'outLinks': 0, 'skipperRating': 1000.0, 'crewRating': 1361.6849912614, 'womenSkipperRating': 1000.0, 'womenCrewRating': 1160.4224427084, 'tsr': 1000.0, 'tcr': 1000.0, 'wtsr': 1000.0, 'wtcr': 1000.0, 'womens': False, 'date': 1695427200000, 'partner': {'name': 'Andy Yu', 'key': 'andy-yu'}, 'venue': 'Tufts', 'raceID': 'f23/hood/10A', 'type': 'fleet', 'scoring': '2 Divisions'}, {'score': 16, 'pos': 'Crew', 'predicted': 12, 'ratio': 0.2105263158, 'change': -14.6196075727, 'regAvg': 1225.5509031845, 'cross': 0, 'outLinks': 0, 'skipperRating': 1000.0, 'crewRating': 1347.0653836887, 'womenSkipperRating': 1000.0, 'womenCrewRating': 1160.4224427084, 'tsr': 1000.0, 'tcr': 1000.0, 'wtsr': 1000.0, 'wtcr': 1000.0, 'womens': False, 'date': 1695427200000, 'partner': {'name': 'Andy Yu', 'key': 'andy-yu'}, 'venue': 'Tufts', 'raceID': 'f23/hood/11A', 'type': 'fleet', 'scoring': '2 Divisions'}, {'score': 14, 'pos': 'Crew', 'predicted': 13, 'ratio': 0.3157894737, 'change': 2.2280391477, 'regAvg': 1225.5509031845, 'cross': 0, 'outLinks': 0, 'skipperRating': 1000.0, 'crewRating': 1349.2934228364, 'womenSkipperRating': 1000.0, 'womenCrewRating': 1160.4224427084, 'tsr': 1000.0, 'tcr': 1000.0, 'wtsr': 1000.0, 'wtcr': 1000.0, 'womens': False, 'date': 1695427200000, 'partner': {'name': 'Andy Yu', 'key': 'andy-yu'}, 'venue': 'Tufts', 'raceID': 'f23/hood/12A', 'type': 'fleet', 'scoring': '2 Divisions'}, {'score': 11, 'pos': 'Crew', 'predicted': 13, 'ratio': 0.47368421050000004, 'change': 24.2557260712, 'regAvg': 1225.5509031845, 'cross': 0, 'outLinks': 0, 'skipperRating': 1000.0, 'crewRating': 1373.5491489076, 'womenSkipperRating': 1000.0, 'womenCrewRating': 1160.4224427084, 'tsr': 1000.0, 'tcr': 1000.0, 'wtsr': 1000.0, 'wtcr': 1000.0, 'womens': False, 'date': 1695427200000, 'partner': {'name': 'Andy Yu', 'key': 'andy-yu'}, 'venue': 'Tufts', 'raceID': 'f23/hood/13A', 'type': 'fleet', 'scoring': '2 Divisions'}, {'score': 6, 'pos': 'Crew', 'predicted': 12, 'ratio': 0.7368421053, 'change': 39.3034905517, 'regAvg': 1225.5509031845, 'cross': 0, 'outLinks': 0, 'skipperRating': 1000.0, 'crewRating': 1412.8526394593, 'womenSkipperRating': 1000.0, 'womenCrewRating': 1160.4224427084, 'tsr': 1000.0, 'tcr': 1000.0, 'wtsr': 1000.0, 'wtcr': 1000.0, 'womens': False, 'date': 1695427200000, 'partner': {'name': 'Andy Yu', 'key': 'andy-yu'}, 'venue': 'Tufts', 'raceID': 'f23/hood/14A', 'type': 'fleet', 'scoring': '2 Divisions'}, {'score': 4, 'pos': 'Crew', 'predicted': 4, 'ratio': 0.8125, 'change': 30.3797080593, 'regAvg': 1135.4378189815, 'cross': 0, 'outLinks': 0, 'skipperRating': 1000.0, 'crewRating': 1443.2323475186, 'womenSkipperRating': 1000.0, 'womenCrewRating': 1160.4224427084, 'tsr': 1000.0, 'tcr': 1000.0, 'wtsr': 1000.0, 'wtcr': 1000.0, 'womens': False, 'date': 1696032000000, 'partner': {'name': 'Emma Wang', 'key': 'emma-wang'}, 'venue': 'MIT', 'raceID': 'f23/george-warren-smith/1B', 'type': 'fleet', 'scoring': '2 Divisions'}, {'score': 3, 'pos': 'Crew', 'predicted': 4, 'ratio': 0.875, 'change': 34.8531336008, 'regAvg': 1135.4378189815, 'cross': 0, 'outLinks': 0, 'skipperRating': 1000.0, 'crewRating': 1478.0854811194, 'womenSkipperRating': 1000.0, 'womenCrewRating': 1160.4224427084, 'tsr': 1000.0, 'tcr': 1000.0, 'wtsr': 1000.0, 'wtcr': 1000.0, 'womens': False, 'date': 1696032000000, 'partner': {'name': 'Emma Wang', 'key': 'emma-wang'}, 'venue': 'MIT', 'raceID': 'f23/george-warren-smith/2B', 'type': 'fleet', 'scoring': '2 Divisions'}, {'score': 2, 'pos': 'Crew', 'predicted': 3, 'ratio': 0.9375, 'change': 38.4657588873, 'regAvg': 1135.4378189815, 'cross': 0, 'outLinks': 0, 'skipperRating': 1000.0, 'crewRating': 1516.5512400067, 'womenSkipperRating': 1000.0, 'womenCrewRating': 1160.4224427084, 'tsr': 1000.0, 'tcr': 1000.0, 'wtsr': 1000.0, 'wtcr': 1000.0, 'womens': False, 'date': 1696032000000, 'partner': {'name': 'Emma Wang', 'key': 'emma-wang'}, 'venue': 'MIT', 'raceID': 'f23/george-warren-smith/3B', 'type': 'fleet', 'scoring': '2 Divisions'}, {'score': 3, 'pos': 'Crew', 'predicted': 3, 'ratio': 0.875, 'change': 33.9255052307, 'regAvg': 1135.4378189815, 'cross': 0, 'outLinks': 0, 'skipperRating': 1000.0, 'crewRating': 1550.4767452374, 'womenSkipperRating': 1000.0, 'womenCrewRating': 1160.4224427084, 'tsr': 1000.0, 'tcr': 1000.0, 'wtsr': 1000.0, 'wtcr': 1000.0, 'womens': False, 'date': 1696032000000, 'partner': {'name': 'Emma Wang', 'key': 'emma-wang'}, 'venue': 'MIT', 'raceID': 'f23/george-warren-smith/4B', 'type': 'fleet', 'scoring': '2 Divisions'}, {'score': 1, 'pos': 'Crew', 'predicted': 3, 'ratio': 1.0, 'change': 41.8469840431, 'regAvg': 1135.4378189815, 'cross': 0, 'outLinks': 0, 'skipperRating': 1000.0, 'crewRating': 1592.3237292805, 'womenSkipperRating': 1000.0, 'womenCrewRating': 1160.4224427084, 'tsr': 1000.0, 'tcr': 1000.0, 'wtsr': 1000.0, 'wtcr': 1000.0, 'womens': False, 'date': 1696032000000, 'partner': {'name': 'Emma Wang', 'key': 'emma-wang'}, 'venue': 'MIT', 'raceID': 'f23/george-warren-smith/5B', 'type': 'fleet', 'scoring': '2 Divisions'}, {'score': 5, 'pos': 'Crew', 'predicted': 3, 'ratio': 0.75, 'change': 21.2915520767, 'regAvg': 1135.4378189815, 'cross': 0, 'outLinks': 0, 'skipperRating': 1000.0, 'crewRating': 1613.6152813572, 'womenSkipperRating': 1000.0, 'womenCrewRating': 1160.4224427084, 'tsr': 1000.0, 'tcr': 1000.0, 'wtsr': 1000.0, 'wtcr': 1000.0, 'womens': False, 'date': 1696032000000, 'partner': {'name': 'Emma Wang', 'key': 'emma-wang'}, 'venue': 'MIT', 'raceID': 'f23/george-warren-smith/6B', 'type': 'fleet', 'scoring': '2 Divisions'}, {'score': 2, 'pos': 'Crew', 'predicted': 2, 'ratio': 0.9375, 'change': 37.653828337, 'regAvg': 1135.4378189815, 'cross': 0, 'outLinks': 0, 'skipperRating': 1000.0, 'crewRating': 1651.2691096941, 'womenSkipperRating': 1000.0, 'womenCrewRating': 1160.4224427084, 'tsr': 1000.0, 'tcr': 1000.0, 'wtsr': 1000.0, 'wtcr': 1000.0, 'womens': False, 'date': 1696032000000, 'partner': {'name': 'Emma Wang', 'key': 'emma-wang'}, 'venue': 'MIT', 'raceID': 'f23/george-warren-smith/7B', 'type': 'fleet', 'scoring': '2 Divisions'}, {'score': 12, 'pos': 'Crew', 'predicted': 3, 'ratio': 0.3125, 'change': -52.9818852478, 'regAvg': 1135.4378189815, 'cross': 0, 'outLinks': 0, 'skipperRating': 1000.0, 'crewRating': 1598.2872244464, 'womenSkipperRating': 1000.0, 'womenCrewRating': 1160.4224427084, 'tsr': 1000.0, 'tcr': 1000.0, 'wtsr': 1000.0, 'wtcr': 1000.0, 'womens': False, 'date': 1696032000000, 'partner': {'name': 'Emma Wang', 'key': 'emma-wang'}, 'venue': 'MIT', 'raceID': 'f23/george-warren-smith/8B', 'type': 'fleet', 'scoring': '2 Divisions'}, {'score': 1, 'pos': 'Crew', 'predicted': 3, 'ratio': 1.0, 'change': 41.5124245446, 'regAvg': 1135.4378189815, 'cross': 0, 'outLinks': 0, 'skipperRating': 1000.0, 'crewRating': 1639.799648991, 'womenSkipperRating': 1000.0, 'womenCrewRating': 1160.4224427084, 'tsr': 1000.0, 'tcr': 1000.0, 'wtsr': 1000.0, 'wtcr': 1000.0, 'womens': False, 'date': 1696032000000, 'partner': {'name': 'Emma Wang', 'key': 'emma-wang'}, 'venue': 'MIT', 'raceID': 'f23/george-warren-smith/9B', 'type': 'fleet', 'scoring': '2 Divisions'}, {'score': 11, 'pos': 'Crew', 'predicted': 7, 'ratio': 0.33333333330000003, 'change': -4.5512589818, 'regAvg': 1163.9620745958, 'cross': 1, 'outLinks': 5, 'skipperRating': 1000.0, 'crewRating': 1639.799648991, 'womenSkipperRating': 1000.0, 'womenCrewRating': 1155.8711837266, 'tsr': 1000.0, 'tcr': 1000.0, 'wtsr': 1000.0, 'wtcr': 1000.0, 'womens': True, 'date': 1696636800000, 'partner': {'name': 'Emma Wang', 'key': 'emma-wang'}, 'venue': 'Connecticut College', 'raceID': 'f23/stu-nelson/1C', 'type': 'fleet', 'scoring': '3 Divisions'}, {'score': 10, 'pos': 'Crew', 'predicted': 8, 'ratio': 0.3571428571, 'change': 6.7425379578, 'regAvg': 1163.9620745958, 'cross': 1, 'outLinks': 5, 'skipperRating': 1000.0, 'crewRating': 1639.799648991, 'womenSkipperRating': 1000.0, 'womenCrewRating': 1162.6137216844, 'tsr': 1000.0, 'tcr': 1000.0, 'wtsr': 1000.0, 'wtcr': 1000.0, 'womens': True, 'date': 1696636800000, 'partner': {'name': 'Emma Wang', 'key': 'emma-wang'}, 'venue': 'Connecticut College', 'raceID': 'f23/stu-nelson/2C', 'type': 'fleet', 'scoring': '3 Divisions'}, {'score': 14, 'pos': 'Crew', 'predicted': 8, 'ratio': 0.0714285714, 'change': -13.9160621639, 'regAvg': 1163.9620745958, 'cross': 1, 'outLinks': 5, 'skipperRating': 1000.0, 'crewRating': 1639.799648991, 'womenSkipperRating': 1000.0, 'womenCrewRating': 1148.6976595205, 'tsr': 1000.0, 'tcr': 1000.0, 'wtsr': 1000.0, 'wtcr': 1000.0, 'womens': True, 'date': 1696636800000, 'partner': {'name': 'Emma Wang', 'key': 'emma-wang'}, 'venue': 'Connecticut College', 'raceID': 'f23/stu-nelson/3C', 'type': 'fleet', 'scoring': '3 Divisions'}, {'score': 5, 'pos': 'Crew', 'predicted': 8, 'ratio': 0.7142857143, 'change': 29.5295995257, 'regAvg': 1163.9620745958, 'cross': 1, 'outLinks': 5, 'skipperRating': 1000.0, 'crewRating': 1639.799648991, 'womenSkipperRating': 1000.0, 'womenCrewRating': 1178.2272590462, 'tsr': 1000.0, 'tcr': 1000.0, 'wtsr': 1000.0, 'wtcr': 1000.0, 'womens': True, 'date': 1696636800000, 'partner': {'name': 'Emma Wang', 'key': 'emma-wang'}, 'venue': 'Connecticut College', 'raceID': 'f23/stu-nelson/4C', 'type': 'fleet', 'scoring': '3 Divisions'}, {'score': 1, 'pos': 'Crew', 'predicted': 8, 'ratio': 1.0, 'change': 40.2532864555, 'regAvg': 1163.9620745958, 'cross': 1, 'outLinks': 5, 'skipperRating': 1000.0, 'crewRating': 1639.799648991, 'womenSkipperRating': 1000.0, 'womenCrewRating': 1218.4805455017, 'tsr': 1000.0, 'tcr': 1000.0, 'wtsr': 1000.0, 'wtcr': 1000.0, 'womens': True, 'date': 1696636800000, 'partner': {'name': 'Emma Wang', 'key': 'emma-wang'}, 'venue': 'Connecticut College', 'raceID': 'f23/stu-nelson/5C', 'type': 'fleet', 'scoring': '3 Divisions'}, {'score': 5, 'pos': 'Crew', 'predicted': 7, 'ratio': 0.7142857143, 'change': 28.735830374, 'regAvg': 1163.9620745958, 'cross': 1, 'outLinks': 5, 'skipperRating': 1000.0, 'crewRating': 1639.799648991, 'womenSkipperRating': 1000.0, 'womenCrewRating': 1247.2163758757, 'tsr': 1000.0, 'tcr': 1000.0, 'wtsr': 1000.0, 'wtcr': 1000.0, 'womens': True, 'date': 1696636800000, 'partner': {'name': 'Emma Wang', 'key': 'emma-wang'}, 'venue': 'Connecticut College', 'raceID': 'f23/stu-nelson/6C', 'type': 'fleet', 'scoring': '3 Divisions'}, {'score': 8, 'pos': 'Crew', 'predicted': 7, 'ratio': 0.5, 'change': 12.9743251223, 'regAvg': 1163.9620745958, 'cross': 1, 'outLinks': 5, 'skipperRating': 1000.0, 'crewRating': 1639.799648991, 'womenSkipperRating': 1000.0, 'womenCrewRating': 1260.190700998, 'tsr': 1000.0, 'tcr': 1000.0, 'wtsr': 1000.0, 'wtcr': 1000.0, 'womens': True, 'date': 1696636800000, 'partner': {'name': 'Emma Wang', 'key': 'emma-wang'}, 'venue': 'Connecticut College', 'raceID': 'f23/stu-nelson/7C', 'type': 'fleet', 'scoring': '3 Divisions'}, {'score': 2, 'pos': 'Crew', 'predicted': 6, 'ratio': 0.9285714286000001, 'change': 38.374495264, 'regAvg': 1163.9620745958, 'cross': 1, 'outLinks': 5, 'skipperRating': 1000.0, 'crewRating': 1639.799648991, 'womenSkipperRating': 1000.0, 'womenCrewRating': 1298.565196262, 'tsr': 1000.0, 'tcr': 1000.0, 'wtsr': 1000.0, 'wtcr': 1000.0, 'womens': True, 'date': 1696636800000, 'partner': {'name': 'Emma Wang', 'key': 'emma-wang'}, 'venue': 'Connecticut College', 'raceID': 'f23/stu-nelson/8C', 'type': 'fleet', 'scoring': '3 Divisions'}, {'score': 8, 'pos': 'Crew', 'predicted': 5, 'ratio': 0.5, 'change': 15.3068035157, 'regAvg': 1163.9620745958, 'cross': 1, 'outLinks': 5, 'skipperRating': 1000.0, 'crewRating': 1639.799648991, 'womenSkipperRating': 1000.0, 'womenCrewRating': 1313.8719997777, 'tsr': 1000.0, 'tcr': 1000.0, 'wtsr': 1000.0, 'wtcr': 1000.0, 'womens': True, 'date': 1696636800000, 'partner': {'name': 'Emma Wang', 'key': 'emma-wang'}, 'venue': 'Connecticut College', 'raceID': 'f23/stu-nelson/9C', 'type': 'fleet', 'scoring': '3 Divisions'}, {'score': 5, 'pos': 'Crew', 'predicted': 5, 'ratio': 0.7142857143, 'change': 26.2690128518, 'regAvg': 1163.9620745958, 'cross': 1, 'outLinks': 5, 'skipperRating': 1000.0, 'crewRating': 1639.799648991, 'womenSkipperRating': 1000.0, 'womenCrewRating': 1340.1410126295, 'tsr': 1000.0, 'tcr': 1000.0, 'wtsr': 1000.0, 'wtcr': 1000.0, 'womens': True, 'date': 1696636800000, 'partner': {'name': 'Emma Wang', 'key': 'emma-wang'}, 'venue': 'Connecticut College', 'raceID': 'f23/stu-nelson/10C', 'type': 'fleet', 'scoring': '3 Divisions'}, {'score': 12, 'pos': 'Crew', 'predicted': 7, 'ratio': 0.2142857143, 'change': -36.6636378505, 'regAvg': 1163.9620745958, 'cross': 1, 'outLinks': 5, 'skipperRating': 1000.0, 'crewRating': 1639.799648991, 'womenSkipperRating': 1000.0, 'womenCrewRating': 1303.4773747791, 'tsr': 1000.0, 'tcr': 1000.0, 'wtsr': 1000.0, 'wtcr': 1000.0, 'womens': True, 'date': 1696636800000, 'partner': {'name': 'Emma Wang', 'key': 'emma-wang'}, 'venue': 'Connecticut College', 'raceID': 'f23/stu-nelson/11C', 'type': 'fleet', 'scoring': '3 Divisions'}, {'score': 1, 'pos': 'Crew', 'predicted': 7, 'ratio': 1.0, 'change': 40.2707502675, 'regAvg': 1163.9620745958, 'cross': 1, 'outLinks': 5, 'skipperRating': 1000.0, 'crewRating': 1639.799648991, 'womenSkipperRating': 1000.0, 'womenCrewRating': 1343.7481250465, 'tsr': 1000.0, 'tcr': 1000.0, 'wtsr': 1000.0, 'wtcr': 1000.0, 'womens': True, 'date': 1696636800000, 'partner': {'name': 'Emma Wang', 'key': 'emma-wang'}, 'venue': 'Connecticut College', 'raceID': 'f23/stu-nelson/12C', 'type': 'fleet', 'scoring': '3 Divisions'}, {'score': 15, 'pos': 'Crew', 'predicted': 7, 'ratio': 0.125, 'change': -59.4516583076, 'regAvg': 1236.0975501842, 'cross': 1, 'outLinks': 3, 'skipperRating': 1000.0, 'crewRating': 1580.3479906834, 'womenSkipperRating': 1000.0, 'womenCrewRating': 1343.7481250465, 'tsr': 1000.0, 'tcr': 1000.0, 'wtsr': 1000.0, 'wtcr': 1000.0, 'womens': False, 'date': 1697241600000, 'partner': {'name': 'Emma Wang', 'key': 'emma-wang'}, 'venue': 'Boston College', 'raceID': 'f23/savin-hill-invite/1A', 'type': 'fleet', 'scoring': '2 Divisions'}, {'score': 17, 'pos': 'Crew', 'predicted': 8, 'ratio': 0.0, 'change': -126.0833943714, 'regAvg': 1236.0975501842, 'cross': 1, 'outLinks': 3, 'skipperRating': 1000.0, 'crewRating': 1454.264596312, 'womenSkipperRating': 1000.0, 'womenCrewRating': 1343.7481250465, 'tsr': 1000.0, 'tcr': 1000.0, 'wtsr': 1000.0, 'wtcr': 1000.0, 'womens': False, 'date': 1697241600000, 'partner': {'name': 'Emma Wang', 'key': 'emma-wang'}, 'venue': 'Boston College', 'raceID': 'f23/savin-hill-invite/2A', 'type': 'fleet', 'scoring': '2 Divisions'}, {'score': 10, 'pos': 'Crew', 'predicted': 8, 'ratio': 0.4375, 'change': 8.1358749452, 'regAvg': 1236.0975501842, 'cross': 1, 'outLinks': 3, 'skipperRating': 1000.0, 'crewRating': 1462.4004712571, 'womenSkipperRating': 1000.0, 'womenCrewRating': 1343.7481250465, 'tsr': 1000.0, 'tcr': 1000.0, 'wtsr': 1000.0, 'wtcr': 1000.0, 'womens': False, 'date': 1697241600000, 'partner': {'name': 'Emma Wang', 'key': 'emma-wang'}, 'venue': 'Boston College', 'raceID': 'f23/savin-hill-invite/3A', 'type': 'fleet', 'scoring': '2 Divisions'}, {'score': 4, 'pos': 'Crew', 'predicted': 7, 'ratio': 0.8125, 'change': 31.6231426708, 'regAvg': 1236.0975501842, 'cross': 1, 'outLinks': 3, 'skipperRating': 1000.0, 'crewRating': 1494.0236139279, 'womenSkipperRating': 1000.0, 'womenCrewRating': 1343.7481250465, 'tsr': 1000.0, 'tcr': 1000.0, 'wtsr': 1000.0, 'wtcr': 1000.0, 'womens': False, 'date': 1697241600000, 'partner': {'name': 'Emma Wang', 'key': 'emma-wang'}, 'venue': 'Boston College', 'raceID': 'f23/savin-hill-invite/4A', 'type': 'fleet', 'scoring': '2 Divisions'}, {'score': 15, 'pos': 'Crew', 'predicted': 8, 'ratio': 0.125, 'change': -40.5005856781, 'regAvg': 1236.0975501842, 'cross': 1, 'outLinks': 3, 'skipperRating': 1000.0, 'crewRating': 1453.5230282498, 'womenSkipperRating': 1000.0, 'womenCrewRating': 1343.7481250465, 'tsr': 1000.0, 'tcr': 1000.0, 'wtsr': 1000.0, 'wtcr': 1000.0, 'womens': False, 'date': 1697241600000, 'partner': {'name': 'Emma Wang', 'key': 'emma-wang'}, 'venue': 'Boston College', 'raceID': 'f23/savin-hill-invite/5A', 'type': 'fleet', 'scoring': '2 Divisions'}, {'score': 8, 'pos': 'Crew', 'predicted': 8, 'ratio': 0.5625, 'change': 19.2204371937, 'regAvg': 1236.0975501842, 'cross': 1, 'outLinks': 3, 'skipperRating': 1000.0, 'crewRating': 1472.7434654436, 'womenSkipperRating': 1000.0, 'womenCrewRating': 1343.7481250465, 'tsr': 1000.0, 'tcr': 1000.0, 'wtsr': 1000.0, 'wtcr': 1000.0, 'womens': False, 'date': 1697241600000, 'partner': {'name': 'Emma Wang', 'key': 'emma-wang'}, 'venue': 'Boston College', 'raceID': 'f23/savin-hill-invite/6A', 'type': 'fleet', 'scoring': '2 Divisions'}, {'score': 15, 'pos': 'Crew', 'predicted': 9, 'ratio': 0.125, 'change': -45.1424369732, 'regAvg': 1236.0975501842, 'cross': 1, 'outLinks': 3, 'skipperRating': 1000.0, 'crewRating': 1427.6010284704, 'womenSkipperRating': 1000.0, 'womenCrewRating': 1343.7481250465, 'tsr': 1000.0, 'tcr': 1000.0, 'wtsr': 1000.0, 'wtcr': 1000.0, 'womens': False, 'date': 1697241600000, 'partner': {'name': 'Emma Wang', 'key': 'emma-wang'}, 'venue': 'Boston College', 'raceID': 'f23/savin-hill-invite/7A', 'type': 'fleet', 'scoring': '2 Divisions'}, {'score': 13, 'pos': 'Crew', 'predicted': 9, 'ratio': 0.25, 'change': -6.6847585251, 'regAvg': 1236.0975501842, 'cross': 1, 'outLinks': 3, 'skipperRating': 1000.0, 'crewRating': 1420.9162699453, 'womenSkipperRating': 1000.0, 'womenCrewRating': 1343.7481250465, 'tsr': 1000.0, 'tcr': 1000.0, 'wtsr': 1000.0, 'wtcr': 1000.0, 'womens': False, 'date': 1697241600000, 'partner': {'name': 'Emma Wang', 'key': 'emma-wang'}, 'venue': 'Boston College', 'raceID': 'f23/savin-hill-invite/8A', 'type': 'fleet', 'scoring': '2 Divisions'}, {'score': 3, 'pos': 'Crew', 'predicted': 6, 'ratio': 0.8823529412000001, 'change': 37.712201136, 'regAvg': 1202.3726030862, 'cross': 1, 'outLinks': 7, 'skipperRating': 1000.0, 'crewRating': 1420.9162699453, 'womenSkipperRating': 1000.0, 'womenCrewRating': 1381.4603261825, 'tsr': 1000.0, 'tcr': 1000.0, 'wtsr': 1000.0, 'wtcr': 1000.0, 'womens': True, 'date': 1697846400000, 'partner': {'name': 'Lucy Brock', 'key': 'lucy-brock'}, 'venue': 'Yale', 'raceID': 'f23/yale-women/1B', 'type': 'fleet', 'scoring': '2 Divisions'}, {'score': 4, 'pos': 'Crew', 'predicted': 5, 'ratio': 0.8235294118, 'change': 34.8345822892, 'regAvg': 1202.3726030862, 'cross': 1, 'outLinks': 7, 'skipperRating': 1000.0, 'crewRating': 1420.9162699453, 'womenSkipperRating': 1000.0, 'womenCrewRating': 1416.2949084717, 'tsr': 1000.0, 'tcr': 1000.0, 'wtsr': 1000.0, 'wtcr': 1000.0, 'womens': True, 'date': 1697846400000, 'partner': {'name': 'Lucy Brock', 'key': 'lucy-brock'}, 'venue': 'Yale', 'raceID': 'f23/yale-women/2B', 'type': 'fleet', 'scoring': '2 Divisions'}, {'score': 8, 'pos': 'Crew', 'predicted': 5, 'ratio': 0.5882352941, 'change': 17.1154298779, 'regAvg': 1202.3726030862, 'cross': 1, 'outLinks': 7, 'skipperRating': 1000.0, 'crewRating': 1420.9162699453, 'womenSkipperRating': 1000.0, 'womenCrewRating': 1433.4103383496, 'tsr': 1000.0, 'tcr': 1000.0, 'wtsr': 1000.0, 'wtcr': 1000.0, 'womens': True, 'date': 1697846400000, 'partner': {'name': 'Lucy Brock', 'key': 'lucy-brock'}, 'venue': 'Yale', 'raceID': 'f23/yale-women/3B', 'type': 'fleet', 'scoring': '2 Divisions'}, {'score': 11, 'pos': 'Crew', 'predicted': 5, 'ratio': 0.4117647059, 'change': 1.1228321212, 'regAvg': 1202.3726030862, 'cross': 1, 'outLinks': 7, 'skipperRating': 1000.0, 'crewRating': 1420.9162699453, 'womenSkipperRating': 1000.0, 'womenCrewRating': 1434.5331704708, 'tsr': 1000.0, 'tcr': 1000.0, 'wtsr': 1000.0, 'wtcr': 1000.0, 'womens': True, 'date': 1697846400000, 'partner': {'name': 'Lucy Brock', 'key': 'lucy-brock'}, 'venue': 'Yale', 'raceID': 'f23/yale-women/4B', 'type': 'fleet', 'scoring': '2 Divisions'}, {'score': 12, 'pos': 'Crew', 'predicted': 5, 'ratio': 0.3529411765, 'change': -13.3167809409, 'regAvg': 1202.3726030862, 'cross': 1, 'outLinks': 7, 'skipperRating': 1000.0, 'crewRating': 1420.9162699453, 'womenSkipperRating': 1000.0, 'womenCrewRating': 1421.2163895299, 'tsr': 1000.0, 'tcr': 1000.0, 'wtsr': 1000.0, 'wtcr': 1000.0, 'womens': True, 'date': 1697846400000, 'partner': {'name': 'Lucy Brock', 'key': 'lucy-brock'}, 'venue': 'Yale', 'raceID': 'f23/yale-women/5B', 'type': 'fleet', 'scoring': '2 Divisions'}, {'score': 8, 'pos': 'Crew', 'predicted': 4, 'ratio': 0.5882352941, 'change': 14.4047059623, 'regAvg': 1202.3726030862, 'cross': 1, 'outLinks': 7, 'skipperRating': 1000.0, 'crewRating': 1420.9162699453, 'womenSkipperRating': 1000.0, 'womenCrewRating': 1435.6210954921, 'tsr': 1000.0, 'tcr': 1000.0, 'wtsr': 1000.0, 'wtcr': 1000.0, 'womens': True, 'date': 1697846400000, 'partner': {'name': 'Lucy Brock', 'key': 'lucy-brock'}, 'venue': 'Yale', 'raceID': 'f23/yale-women/6B', 'type': 'fleet', 'scoring': '2 Divisions'}, {'score': 11, 'pos': 'Crew', 'predicted': 4, 'ratio': 0.4117647059, 'change': 0.35004621210000003, 'regAvg': 1202.3726030862, 'cross': 1, 'outLinks': 7, 'skipperRating': 1000.0, 'crewRating': 1420.9162699453, 'womenSkipperRating': 1000.0, 'womenCrewRating': 1435.9711417042, 'tsr': 1000.0, 'tcr': 1000.0, 'wtsr': 1000.0, 'wtcr': 1000.0, 'womens': True, 'date': 1697846400000, 'partner': {'name': 'Lucy Brock', 'key': 'lucy-brock'}, 'venue': 'Yale', 'raceID': 'f23/yale-women/7B', 'type': 'fleet', 'scoring': '2 Divisions'}, {'score': 10, 'pos': 'Crew', 'predicted': 4, 'ratio': 0.4705882353, 'change': 1.7850106141, 'regAvg': 1202.3726030862, 'cross': 1, 'outLinks': 7, 'skipperRating': 1000.0, 'crewRating': 1420.9162699453, 'womenSkipperRating': 1000.0, 'womenCrewRating': 1437.7561523183, 'tsr': 1000.0, 'tcr': 1000.0, 'wtsr': 1000.0, 'wtcr': 1000.0, 'womens': True, 'date': 1697846400000, 'partner': {'name': 'Lucy Brock', 'key': 'lucy-brock'}, 'venue': 'Yale', 'raceID': 'f23/yale-women/8B', 'type': 'fleet', 'scoring': '2 Divisions'}, {'score': 11, 'pos': 'Crew', 'predicted': 4, 'ratio': 0.4117647059, 'change': -4.3829947188, 'regAvg': 1202.3726030862, 'cross': 1, 'outLinks': 7, 'skipperRating': 1000.0, 'crewRating': 1420.9162699453, 'womenSkipperRating': 1000.0, 'womenCrewRating': 1433.3731575995, 'tsr': 1000.0, 'tcr': 1000.0, 'wtsr': 1000.0, 'wtcr': 1000.0, 'womens': True, 'date': 1697846400000, 'partner': {'name': 'Lucy Brock', 'key': 'lucy-brock'}, 'venue': 'Yale', 'raceID': 'f23/yale-women/9B', 'type': 'fleet', 'scoring': '2 Divisions'}, {'score': 6, 'pos': 'Crew', 'predicted': 6, 'ratio': 0.6875, 'change': 17.6808010493, 'regAvg': 1127.2164415227, 'cross': 1, 'outLinks': 3, 'skipperRating': 1000.0, 'crewRating': 1438.5970709946, 'womenSkipperRating': 1000.0, 'womenCrewRating': 1433.3731575995, 'tsr': 1000.0, 'tcr': 1000.0, 'wtsr': 1000.0, 'wtcr': 1000.0, 'womens': False, 'date': 1698451200000, 'partner': {'name': 'Emma Wang', 'key': 'emma-wang'}, 'venue': 'Tufts', 'raceID': 'f23/nickerson/1B', 'type': 'fleet', 'scoring': '2 Divisions'}, {'score': 7, 'pos': 'Crew', 'predicted': 5, 'ratio': 0.625, 'change': 14.2704648608, 'regAvg': 1127.2164415227, 'cross': 1, 'outLinks': 3, 'skipperRating': 1000.0, 'crewRating': 1452.8675358554, 'womenSkipperRating': 1000.0, 'womenCrewRating': 1433.3731575995, 'tsr': 1000.0, 'tcr': 1000.0, 'wtsr': 1000.0, 'wtcr': 1000.0, 'womens': False, 'date': 1698451200000, 'partner': {'name': 'Emma Wang', 'key': 'emma-wang'}, 'venue': 'Tufts', 'raceID': 'f23/nickerson/2B', 'type': 'fleet', 'scoring': '2 Divisions'}, {'score': 8, 'pos': 'Crew', 'predicted': 6, 'ratio': 0.5625, 'change': 6.4151875673, 'regAvg': 1127.2164415227, 'cross': 1, 'outLinks': 3, 'skipperRating': 1000.0, 'crewRating': 1459.2827234227, 'womenSkipperRating': 1000.0, 'womenCrewRating': 1433.3731575995, 'tsr': 1000.0, 'tcr': 1000.0, 'wtsr': 1000.0, 'wtcr': 1000.0, 'womens': False, 'date': 1698451200000, 'partner': {'name': 'Emma Wang', 'key': 'emma-wang'}, 'venue': 'Tufts', 'raceID': 'f23/nickerson/3B', 'type': 'fleet', 'scoring': '2 Divisions'}, {'score': 12, 'pos': 'Crew', 'predicted': 5, 'ratio': 0.3125, 'change': -14.5322742232, 'regAvg': 1127.2164415227, 'cross': 1, 'outLinks': 3, 'skipperRating': 1000.0, 'crewRating': 1444.7504491995, 'womenSkipperRating': 1000.0, 'womenCrewRating': 1433.3731575995, 'tsr': 1000.0, 'tcr': 1000.0, 'wtsr': 1000.0, 'wtcr': 1000.0, 'womens': False, 'date': 1698451200000, 'partner': {'name': 'Emma Wang', 'key': 'emma-wang'}, 'venue': 'Tufts', 'raceID': 'f23/nickerson/4B', 'type': 'fleet', 'scoring': '2 Divisions'}, {'score': 4, 'pos': 'Crew', 'predicted': 5, 'ratio': 0.8125, 'change': 23.4793803656, 'regAvg': 1127.2164415227, 'cross': 1, 'outLinks': 3, 'skipperRating': 1000.0, 'crewRating': 1468.2298295651, 'womenSkipperRating': 1000.0, 'womenCrewRating': 1433.3731575995, 'tsr': 1000.0, 'tcr': 1000.0, 'wtsr': 1000.0, 'wtcr': 1000.0, 'womens': False, 'date': 1698451200000, 'partner': {'name': 'Emma Wang', 'key': 'emma-wang'}, 'venue': 'Tufts', 'raceID': 'f23/nickerson/5B', 'type': 'fleet', 'scoring': '2 Divisions'}, {'score': 8, 'pos': 'Crew', 'predicted': 5, 'ratio': 0.5625, 'change': 6.7594321924, 'regAvg': 1127.2164415227, 'cross': 1, 'outLinks': 3, 'skipperRating': 1000.0, 'crewRating': 1474.9892617575, 'womenSkipperRating': 1000.0, 'womenCrewRating': 1433.3731575995, 'tsr': 1000.0, 'tcr': 1000.0, 'wtsr': 1000.0, 'wtcr': 1000.0, 'womens': False, 'date': 1698451200000, 'partner': {'name': 'Emma Wang', 'key': 'emma-wang'}, 'venue': 'Tufts', 'raceID': 'f23/nickerson/6B', 'type': 'fleet', 'scoring': '2 Divisions'}, {'score': 8, 'pos': 'Crew', 'predicted': 5, 'ratio': 0.5625, 'change': 7.6519093784, 'regAvg': 1127.2164415227, 'cross': 1, 'outLinks': 3, 'skipperRating': 1000.0, 'crewRating': 1482.6411711359, 'womenSkipperRating': 1000.0, 'womenCrewRating': 1433.3731575995, 'tsr': 1000.0, 'tcr': 1000.0, 'wtsr': 1000.0, 'wtcr': 1000.0, 'womens': False, 'date': 1698451200000, 'partner': {'name': 'Emma Wang', 'key': 'emma-wang'}, 'venue': 'Tufts', 'raceID': 'f23/nickerson/7B', 'type': 'fleet', 'scoring': '2 Divisions'}, {'score': 5, 'pos': 'Crew', 'predicted': 4, 'ratio': 0.75, 'change': 18.8740022563, 'regAvg': 1127.2164415227, 'cross': 1, 'outLinks': 3, 'skipperRating': 1000.0, 'crewRating': 1501.5151733922, 'womenSkipperRating': 1000.0, 'womenCrewRating': 1433.3731575995, 'tsr': 1000.0, 'tcr': 1000.0, 'wtsr': 1000.0, 'wtcr': 1000.0, 'womens': False, 'date': 1698451200000, 'partner': {'name': 'Andy Yu', 'key': 'andy-yu'}, 'venue': 'Tufts', 'raceID': 'f23/nickerson/8B', 'type': 'fleet', 'scoring': '2 Divisions'}, {'score': 4, 'pos': 'Crew', 'predicted': 4, 'ratio': 0.8125, 'change': 21.7702854535, 'regAvg': 1127.2164415227, 'cross': 1, 'outLinks': 3, 'skipperRating': 1000.0, 'crewRating': 1523.2854588457, 'womenSkipperRating': 1000.0, 'womenCrewRating': 1433.3731575995, 'tsr': 1000.0, 'tcr': 1000.0, 'wtsr': 1000.0, 'wtcr': 1000.0, 'womens': False, 'date': 1698451200000, 'partner': {'name': 'Andy Yu', 'key': 'andy-yu'}, 'venue': 'Tufts', 'raceID': 'f23/nickerson/9B', 'type': 'fleet', 'scoring': '2 Divisions'}, {'score': 10, 'pos': 'Crew', 'predicted': 4, 'ratio': 0.4375, 'change': -9.5022819904, 'regAvg': 1127.2164415227, 'cross': 1, 'outLinks': 3, 'skipperRating': 1000.0, 'crewRating': 1513.7831768552, 'womenSkipperRating': 1000.0, 'womenCrewRating': 1433.3731575995, 'tsr': 1000.0, 'tcr': 1000.0, 'wtsr': 1000.0, 'wtcr': 1000.0, 'womens': False, 'date': 1698451200000, 'partner': {'name': 'Andy Yu', 'key': 'andy-yu'}, 'venue': 'Tufts', 'raceID': 'f23/nickerson/10B', 'type': 'fleet', 'scoring': '2 Divisions'}, {'raceID': 's24/usf-women-team-race/13', 'raceNum': 13, 'round': 'Round 1', 'pos': 'Crew', 'date': 1708732800000, 'womens': True, 'partner': {'key': 'emma-wang', 'name': 'Emma Wang'}, 'opponentTeam': 'Hawaii', 'opponentNick': 'Rainbows', 'score': '2-3-4', 'outcome': 'win', 'predicted': 'win', 'skipperRating': 1000.0, 'crewRating': 1513.7831768552, 'womenSkipperRating': 1000.0, 'womenCrewRating': 1433.3731575995, 'tsr': 1000.0, 'tcr': 1000.0, 'wtsr': 1000.0, 'wtcr': 1023.244902074, 'regAvg': 1056.8721871905, 'change': 23.244902074, 'type': 'team'}, {'raceID': 's24/usf-women-team-race/17', 'raceNum': 17, 'round': 'Round 1', 'pos': 'Crew', 'date': 1708732800000, 'womens': True, 'partner': {'key': 'emma-wang', 'name': 'Emma Wang'}, 'opponentTeam': 'Jacksonville', 'opponentNick': 'Fins', 'score': '2-3-4', 'outcome': 'win', 'predicted': 'win', 'skipperRating': 1000.0, 'crewRating': 1513.7831768552, 'womenSkipperRating': 1000.0, 'womenCrewRating': 1433.3731575995, 'tsr': 1000.0, 'tcr': 1000.0, 'wtsr': 1000.0, 'wtcr': 1050.9862118127, 'regAvg': 1056.8721871905, 'change': 27.7413097387, 'type': 'team'}, {'raceID': 's24/usf-women-team-race/19', 'raceNum': 19, 'round': 'Round 1', 'pos': 'Crew', 'date': 1708732800000, 'womens': True, 'partner': {'key': 'emma-wang', 'name': 'Emma Wang'}, 'opponentTeam': 'Old Dominion', 'opponentNick': 'Monarchs', 'score': '1-2-5', 'outcome': 'win', 'predicted': 'win', 'skipperRating': 1000.0, 'crewRating': 1513.7831768552, 'womenSkipperRating': 1000.0, 'womenCrewRating': 1433.3731575995, 'tsr': 1000.0, 'tcr': 1000.0, 'wtsr': 1000.0, 'wtcr': 1084.0711074978, 'regAvg': 1056.8721871905, 'change': 33.0848956851, 'type': 'team'}, {'raceID': 's24/usf-women-team-race/22', 'raceNum': 22, 'round': 'Round 2', 'pos': 'Crew', 'date': 1708732800000, 'womens': True, 'partner': {'key': 'lucy-brock', 'name': 'Lucy Brock'}, 'opponentTeam': 'Charleston', 'opponentNick': 'Cougars', 'score': '1-5-6', 'outcome': 'lose', 'predicted': 'win', 'skipperRating': 1000.0, 'crewRating': 1513.7831768552, 'womenSkipperRating': 1000.0, 'womenCrewRating': 1433.3731575995, 'tsr': 1000.0, 'tcr': 1000.0, 'wtsr': 1000.0, 'wtcr': 1037.7526076623, 'regAvg': 1056.8721871905, 'change': -46.3184998355, 'type': 'team'}, {'raceID': 's24/usf-women-team-race/26', 'raceNum': 26, 'round': 'Round 2', 'pos': 'Crew', 'date': 1708732800000, 'womens': True, 'partner': {'key': 'lucy-brock', 'name': 'Lucy Brock'}, 'opponentTeam': 'Northwestern', 'opponentNick': 'Wildcats', 'score': '1-2-3', 'outcome': 'win', 'predicted': 'win', 'skipperRating': 1000.0, 'crewRating': 1513.7831768552, 'womenSkipperRating': 1000.0, 'womenCrewRating': 1433.3731575995, 'tsr': 1000.0, 'tcr': 1000.0, 'wtsr': 1000.0, 'wtcr': 1046.9272870336, 'regAvg': 1056.8721871905, 'change': 9.1746793714, 'type': 'team'}, {'raceID': 's24/usf-women-team-race/30', 'raceNum': 30, 'round': 'Round 2', 'pos': 'Crew', 'date': 1708732800000, 'womens': True, 'partner': {'key': 'lucy-brock', 'name': 'Lucy Brock'}, 'opponentTeam': 'South Florida', 'opponentNick': 'Bulls', 'score': '2-3-4', 'outcome': 'win', 'predicted': 'win', 'skipperRating': 1000.0, 'crewRating': 1513.7831768552, 'womenSkipperRating': 1000.0, 'womenCrewRating': 1433.3731575995, 'tsr': 1000.0, 'tcr': 1000.0, 'wtsr': 1000.0, 'wtcr': 1095.6908280698, 'regAvg': 1056.8721871905, 'change': 48.7635410361, 'type': 'team'}, {'raceID': 's24/usf-women-team-race/55', 'raceNum': 55, 'round': 'Round 3', 'pos': 'Crew', 'date': 1708732800000, 'womens': True, 'partner': {'key': 'lucy-brock', 'name': 'Lucy Brock'}, 'opponentTeam': 'Old Dominion', 'opponentNick': 'Monarchs', 'score': '3-4-6', 'outcome': 'lose', 'predicted': 'win', 'skipperRating': 1000.0, 'crewRating': 1513.7831768552, 'womenSkipperRating': 1000.0, 'womenCrewRating': 1433.3731575995, 'tsr': 1000.0, 'tcr': 1000.0, 'wtsr': 1000.0, 'wtcr': 1039.7472836526, 'regAvg': 1056.8721871905, 'change': -55.9435444172, 'type': 'team'}, {'raceID': 's24/usf-women-team-race/63', 'raceNum': 63, 'round': 'Round 3', 'pos': 'Crew', 'date': 1708732800000, 'womens': True, 'partner': {'key': 'lucy-brock', 'name': 'Lucy Brock'}, 'opponentTeam': 'South Florida', 'opponentNick': 'Bulls', 'score': '1-2-4', 'outcome': 'win', 'predicted': 'win', 'skipperRating': 1000.0, 'crewRating': 1513.7831768552, 'womenSkipperRating': 1000.0, 'womenCrewRating': 1433.3731575995, 'tsr': 1000.0, 'tcr': 1000.0, 'wtsr': 1000.0, 'wtcr': 1084.8401214014, 'regAvg': 1056.8721871905, 'change': 45.0928377488, 'type': 'team'}, {'raceID': 's24/harvard-women-team-race/21', 'raceNum': 21, 'round': 'Round 1', 'pos': 'Crew', 'date': 1709337600000, 'womens': True, 'partner': {'key': 'lucy-brock', 'name': 'Lucy Brock'}, 'opponentTeam': 'Rhode Island', 'opponentNick': 'Rams', 'score': '1-2-4', 'outcome': 'win', 'predicted': 'win', 'skipperRating': 1000.0, 'crewRating': 1513.7831768552, 'womenSkipperRating': 1000.0, 'womenCrewRating': 1433.3731575995, 'tsr': 1000.0, 'tcr': 1000.0, 'wtsr': 1000.0, 'wtcr': 1122.1433577424, 'regAvg': 1120.9694876315, 'change': 37.303236341, 'type': 'team'}, {'raceID': 's24/harvard-women-team-race/26', 'raceNum': 26, 'round': 'Round 1', 'pos': 'Crew', 'date': 1709337600000, 'womens': True, 'partner': {'key': 'lucy-brock', 'name': 'Lucy Brock'}, 'opponentTeam': 'Tufts', 'opponentNick': 'Jumbos', 'score': '1-5-6', 'outcome': 'lose', 'predicted': 'win', 'skipperRating': 1000.0, 'crewRating': 1513.7831768552, 'womenSkipperRating': 1000.0, 'womenCrewRating': 1433.3731575995, 'tsr': 1000.0, 'tcr': 1000.0, 'wtsr': 1000.0, 'wtcr': 1069.3152881733, 'regAvg': 1120.9694876315, 'change': -52.8280695691, 'type': 'team'}, {'raceID': 's24/harvard-women-team-race/31', 'raceNum': 31, 'round': 'Round 1', 'pos': 'Crew', 'date': 1709337600000, 'womens': True, 'partner': {'key': 'lucy-brock', 'name': 'Lucy Brock'}, 'opponentTeam': 'Roger Williams', 'opponentNick': 'Hawks', 'score': '1-4-6', 'outcome': 'lose', 'predicted': 'win', 'skipperRating': 1000.0, 'crewRating': 1513.7831768552, 'womenSkipperRating': 1000.0, 'womenCrewRating': 1433.3731575995, 'tsr': 1000.0, 'tcr': 1000.0, 'wtsr': 1000.0, 'wtcr': 1001.8527390459, 'regAvg': 1120.9694876315, 'change': -67.4625491273, 'type': 'team'}, {'raceID': 's24/ivan-gieger-team-race/16', 'raceNum': 16, 'round': 'Round 1', 'pos': 'Crew', 'date': 1710547200000, 'womens': False, 'partner': {'key': 'lucas-escandon', 'name': 'Lucas Escandon'}, 'opponentTeam': 'Boston College', 'opponentNick': 'Eagles', 'score': '3-5-6 DNF', 'outcome': 'lose', 'predicted': 'lose', 'skipperRating': 1000.0, 'crewRating': 1513.7831768552, 'womenSkipperRating': 1000.0, 'womenCrewRating': 1433.3731575995, 'tsr': 1000.0, 'tcr': 977.8195715961, 'wtsr': 1000.0, 'wtcr': 1001.8527390459, 'regAvg': 1080.5340179193, 'change': -22.1804284039, 'type': 'team'}, {'raceID': 's24/ivan-gieger-team-race/19', 'raceNum': 19, 'round': 'Round 1', 'pos': 'Crew', 'date': 1710547200000, 'womens': False, 'partner': {'key': 'lucas-escandon', 'name': 'Lucas Escandon'}, 'opponentTeam': 'Boston University', 'opponentNick': 'Terriers', 'score': '3-4-6', 'outcome': 'lose', 'predicted': 'lose', 'skipperRating': 1000.0, 'crewRating': 1513.7831768552, 'womenSkipperRating': 1000.0, 'womenCrewRating': 1433.3731575995, 'tsr': 1000.0, 'tcr': 949.1844083985, 'wtsr': 1000.0, 'wtcr': 1001.8527390459, 'regAvg': 1080.5340179193, 'change': -28.6351631976, 'type': 'team'}, {'raceID': 's24/ivan-gieger-team-race/22', 'raceNum': 22, 'round': 'Round 1', 'pos': 'Crew', 'date': 1710547200000, 'womens': False, 'partner': {'key': 'lucas-escandon', 'name': 'Lucas Escandon'}, 'opponentTeam': 'Vermont', 'opponentNick': 'Catamounts', 'score': '1-2-6', 'outcome': 'win', 'predicted': 'win', 'skipperRating': 1000.0, 'crewRating': 1513.7831768552, 'womenSkipperRating': 1000.0, 'womenCrewRating': 1433.3731575995, 'tsr': 1000.0, 'tcr': 986.3847049702, 'wtsr': 1000.0, 'wtcr': 1001.8527390459, 'regAvg': 1080.5340179193, 'change': 37.2002965717, 'type': 'team'}, {'raceID': 's24/ivan-gieger-team-race/25', 'raceNum': 25, 'round': 'Round 1', 'pos': 'Crew', 'date': 1710547200000, 'womens': False, 'partner': {'key': 'lucas-escandon', 'name': 'Lucas Escandon'}, 'opponentTeam': 'Roger Williams', 'opponentNick': 'Hawks', 'score': '3-5-6', 'outcome': 'lose', 'predicted': 'lose', 'skipperRating': 1000.0, 'crewRating': 1513.7831768552, 'womenSkipperRating': 1000.0, 'womenCrewRating': 1433.3731575995, 'tsr': 1000.0, 'tcr': 966.2273698835, 'wtsr': 1000.0, 'wtcr': 1001.8527390459, 'regAvg': 1080.5340179193, 'change': -20.1573350867, 'type': 'team'}, {'raceID': 's24/duplin/24', 'raceNum': 24, 'round': 'Round 1', 'pos': 'Crew', 'date': 1711152000000, 'womens': True, 'partner': {'key': 'lucy-brock', 'name': 'Lucy Brock'}, 'opponentTeam': 'Tulane', 'opponentNick': 'Green Wave', 'score': '2-3-4', 'outcome': 'win', 'predicted': 'lose', 'skipperRating': 1000.0, 'crewRating': 1513.7831768552, 'womenSkipperRating': 1000.0, 'womenCrewRating': 1433.3731575995, 'tsr': 1000.0, 'tcr': 966.2273698835, 'wtsr': 1000.0, 'wtcr': 1083.4376110298, 'regAvg': 1124.6626048641, 'change': 81.5848719839, 'type': 'team'}, {'raceID': 's24/duplin/30', 'raceNum': 30, 'round': 'Round 1', 'pos': 'Crew', 'date': 1711152000000, 'womens': True, 'partner': {'key': 'lucy-brock', 'name': 'Lucy Brock'}, 'opponentTeam': 'Boston College', 'opponentNick': 'Eagles', 'score': '3-5-6', 'outcome': 'lose', 'predicted': 'lose', 'skipperRating': 1000.0, 'crewRating': 1513.7831768552, 'womenSkipperRating': 1000.0, 'womenCrewRating': 1433.3731575995, 'tsr': 1000.0, 'tcr': 966.2273698835, 'wtsr': 1000.0, 'wtcr': 1076.2784545548, 'regAvg': 1124.6626048641, 'change': -7.159156475, 'type': 'team'}, {'raceID': 's24/duplin/47', 'raceNum': 47, 'round': 'Gold Round 2', 'pos': 'Crew', 'date': 1711152000000, 'womens': True, 'partner': {'key': 'lucy-brock', 'name': 'Lucy Brock'}, 'opponentTeam': 'Yale', 'opponentNick': 'Bulldogs', 'score': '3-5-6', 'outcome': 'lose', 'predicted': 'lose', 'skipperRating': 1000.0, 'crewRating': 1513.7831768552, 'womenSkipperRating': 1000.0, 'womenCrewRating': 1433.3731575995, 'tsr': 1000.0, 'tcr': 966.2273698835, 'wtsr': 1000.0, 'wtcr': 1070.2496818472, 'regAvg': 1124.6626048641, 'change': -6.0287727076, 'type': 'team'}, {'raceID': 's24/duplin/50', 'raceNum': 50, 'round': 'Gold Round 2', 'pos': 'Crew', 'date': 1711152000000, 'womens': True, 'partner': {'key': 'lucy-brock', 'name': 'Lucy Brock'}, 'opponentTeam': 'Harvard', 'opponentNick': 'Crimson', 'score': '1-5-6', 'outcome': 'lose', 'predicted': 'lose', 'skipperRating': 1000.0, 'crewRating': 1513.7831768552, 'womenSkipperRating': 1000.0, 'womenCrewRating': 1433.3731575995, 'tsr': 1000.0, 'tcr': 966.2273698835, 'wtsr': 1000.0, 'wtcr': 1051.9030185863, 'regAvg': 1124.6626048641, 'change': -18.3466632609, 'type': 'team'}, {'raceID': 's24/dellenbaugh-women-team-race/24', 'raceNum': 24, 'round': 'Round 1', 'pos': 'Crew', 'date': 1711756800000, 'womens': True, 'partner': {'key': 'brooke-barry', 'name': 'Brooke Barry'}, 'opponentTeam': 'Yale', 'opponentNick': 'Bulldogs', 'score': '2-4-6', 'outcome': 'lose', 'predicted': 'lose', 'skipperRating': 1000.0, 'crewRating': 1513.7831768552, 'womenSkipperRating': 1000.0, 'womenCrewRating': 1433.3731575995, 'tsr': 1000.0, 'tcr': 966.2273698835, 'wtsr': 1000.0, 'wtcr': 1050.8006242827, 'regAvg': 1159.2258245407, 'change': -1.1023943036, 'type': 'team'}, {'raceID': 's24/yale-women-team-race/32', 'raceNum': 32, 'round': 'Round 3', 'pos': 'Crew', 'date': 1712361600000, 'womens': True, 'partner': {'key': 'lucy-brock', 'name': 'Lucy Brock'}, 'opponentTeam': 'Brown', 'opponentNick': 'Bears', 'score': '3-4-6', 'outcome': 'lose', 'predicted': 'lose', 'skipperRating': 1000.0, 'crewRating': 1513.7831768552, 'womenSkipperRating': 1000.0, 'womenCrewRating': 1433.3731575995, 'tsr': 1000.0, 'tcr': 966.2273698835, 'wtsr': 1000.0, 'wtcr': 1045.2898698653, 'regAvg': 1198.7158156946, 'change': -5.5107544173, 'type': 'team'}, {'raceID': 's24/yale-women-team-race/36', 'raceNum': 36, 'round': 'Round 3', 'pos': 'Crew', 'date': 1712361600000, 'womens': True, 'partner': {'key': 'lucy-brock', 'name': 'Lucy Brock'}, 'opponentTeam': 'Tulane', 'opponentNick': 'Green Wave', 'score': '3-4-5', 'outcome': 'lose', 'predicted': 'win', 'skipperRating': 1000.0, 'crewRating': 1513.7831768552, 'womenSkipperRating': 1000.0, 'womenCrewRating': 1433.3731575995, 'tsr': 1000.0, 'tcr': 966.2273698835, 'wtsr': 1000.0, 'wtcr': 1012.3082150315, 'regAvg': 1198.7158156946, 'change': -32.9816548338, 'type': 'team'}, {'raceID': 's24/yale-women-team-race/39', 'raceNum': 39, 'round': 'Round 3', 'pos': 'Crew', 'date': 1712361600000, 'womens': True, 'partner': {'key': 'lucy-brock', 'name': 'Lucy Brock'}, 'opponentTeam': 'Dartmouth', 'opponentNick': 'Big Green', 'score': '3-5-6', 'outcome': 'lose', 'predicted': 'lose', 'skipperRating': 1000.0, 'crewRating': 1513.7831768552, 'womenSkipperRating': 1000.0, 'womenCrewRating': 1433.3731575995, 'tsr': 1000.0, 'tcr': 966.2273698835, 'wtsr': 1000.0, 'wtcr': 1007.962725901, 'regAvg': 1198.7158156946, 'change': -4.3454891305, 'type': 'team'}, {'raceID': 's24/yale-women-team-race/42', 'raceNum': 42, 'round': 'Round 3', 'pos': 'Crew', 'date': 1712361600000, 'womens': True, 'partner': {'key': 'lucy-brock', 'name': 'Lucy Brock'}, 'opponentTeam': 'Harvard', 'opponentNick': 'Crimson', 'score': '1-5-6', 'outcome': 'lose', 'predicted': 'lose', 'skipperRating': 1000.0, 'crewRating': 1513.7831768552, 'womenSkipperRating': 1000.0, 'womenCrewRating': 1433.3731575995, 'tsr': 1000.0, 'tcr': 966.2273698835, 'wtsr': 1000.0, 'wtcr': 988.95771286, 'regAvg': 1198.7158156946, 'change': -19.0050130409, 'type': 'team'}, {'raceID': 's24/yale-women-team-race/44', 'raceNum': 44, 'round': 'Round 3', 'pos': 'Crew', 'date': 1712361600000, 'womens': True, 'partner': {'key': 'lucy-brock', 'name': 'Lucy Brock'}, 'opponentTeam': 'Yale', 'opponentNick': 'Bulldogs', 'score': '4-5-6', 'outcome': 'lose', 'predicted': 'lose', 'skipperRating': 1000.0, 'crewRating': 1513.7831768552, 'womenSkipperRating': 1000.0, 'womenCrewRating': 1433.3731575995, 'tsr': 1000.0, 'tcr': 966.2273698835, 'wtsr': 1000.0, 'wtcr': 986.0331613318, 'regAvg': 1198.7158156946, 'change': -2.9245515283, 'type': 'team'}, {'score': 17, 'pos': 'Crew', 'predicted': 6, 'ratio': -0.1428571429, 'change': -117.0833994308, 'regAvg': 1237.6753193879, 'cross': 0, 'outLinks': 0, 'skipperRating': 1000.0, 'crewRating': 1513.7831768552, 'womenSkipperRating': 1000.0, 'womenCrewRating': 1316.2897581687, 'tsr': 1000.0, 'tcr': 966.2273698835, 'wtsr': 1000.0, 'wtcr': 986.0331613318, 'womens': True, 'date': 1713571200000, 'partner': {'name': 'Emma Wang', 'key': 'emma-wang'}, 'venue': 'Bowdoin', 'raceID': 's24/women-new-england-fleet-race/1B', 'type': 'fleet', 'scoring': '2 Divisions'}, {'score': 7, 'pos': 'Crew', 'predicted': 6, 'ratio': 0.5714285714, 'change': 21.9156059093, 'regAvg': 1237.6753193879, 'cross': 0, 'outLinks': 0, 'skipperRating': 1000.0, 'crewRating': 1513.7831768552, 'womenSkipperRating': 1000.0, 'womenCrewRating': 1338.205364078, 'tsr': 1000.0, 'tcr': 966.2273698835, 'wtsr': 1000.0, 'wtcr': 986.0331613318, 'womens': True, 'date': 1713571200000, 'partner': {'name': 'Emma Wang', 'key': 'emma-wang'}, 'venue': 'Bowdoin', 'raceID': 's24/women-new-england-fleet-race/2B', 'type': 'fleet', 'scoring': '2 Divisions'}, {'score': 12, 'pos': 'Crew', 'predicted': 7, 'ratio': 0.2142857143, 'change': -7.198121522, 'regAvg': 1237.6753193879, 'cross': 0, 'outLinks': 0, 'skipperRating': 1000.0, 'crewRating': 1513.7831768552, 'womenSkipperRating': 1000.0, 'womenCrewRating': 1331.007242556, 'tsr': 1000.0, 'tcr': 966.2273698835, 'wtsr': 1000.0, 'wtcr': 986.0331613318, 'womens': True, 'date': 1713571200000, 'partner': {'name': 'Emma Wang', 'key': 'emma-wang'}, 'venue': 'Bowdoin', 'raceID': 's24/women-new-england-fleet-race/3B', 'type': 'fleet', 'scoring': '2 Divisions'}, {'score': 3, 'pos': 'Crew', 'predicted': 7, 'ratio': 0.8571428571, 'change': 36.5547827896, 'regAvg': 1237.6753193879, 'cross': 0, 'outLinks': 0, 'skipperRating': 1000.0, 'crewRating': 1513.7831768552, 'womenSkipperRating': 1000.0, 'womenCrewRating': 1367.5620253456, 'tsr': 1000.0, 'tcr': 966.2273698835, 'wtsr': 1000.0, 'wtcr': 986.0331613318, 'womens': True, 'date': 1713571200000, 'partner': {'name': 'Emma Wang', 'key': 'emma-wang'}, 'venue': 'Bowdoin', 'raceID': 's24/women-new-england-fleet-race/4B', 'type': 'fleet', 'scoring': '2 Divisions'}, {'score': 14, 'pos': 'Crew', 'predicted': 8, 'ratio': 0.0714285714, 'change': -33.212587186, 'regAvg': 1237.6753193879, 'cross': 0, 'outLinks': 0, 'skipperRating': 1000.0, 'crewRating': 1513.7831768552, 'womenSkipperRating': 1000.0, 'womenCrewRating': 1334.3494381597, 'tsr': 1000.0, 'tcr': 966.2273698835, 'wtsr': 1000.0, 'wtcr': 986.0331613318, 'womens': True, 'date': 1713571200000, 'partner': {'name': 'Emma Wang', 'key': 'emma-wang'}, 'venue': 'Bowdoin', 'raceID': 's24/women-new-england-fleet-race/5B', 'type': 'fleet', 'scoring': '2 Divisions'}, {'score': 9, 'pos': 'Crew', 'predicted': 9, 'ratio': 0.4285714286, 'change': 13.5951033878, 'regAvg': 1237.6753193879, 'cross': 0, 'outLinks': 0, 'skipperRating': 1000.0, 'crewRating': 1513.7831768552, 'womenSkipperRating': 1000.0, 'womenCrewRating': 1347.9445415474, 'tsr': 1000.0, 'tcr': 966.2273698835, 'wtsr': 1000.0, 'wtcr': 986.0331613318, 'womens': True, 'date': 1713571200000, 'partner': {'name': 'Emma Wang', 'key': 'emma-wang'}, 'venue': 'Bowdoin', 'raceID': 's24/women-new-england-fleet-race/6B', 'type': 'fleet', 'scoring': '2 Divisions'}, {'score': 8, 'pos': 'Crew', 'predicted': 8, 'ratio': 0.5, 'change': 19.7943199244, 'regAvg': 1237.6753193879, 'cross': 0, 'outLinks': 0, 'skipperRating': 1000.0, 'crewRating': 1513.7831768552, 'womenSkipperRating': 1000.0, 'womenCrewRating': 1367.7388614719, 'tsr': 1000.0, 'tcr': 966.2273698835, 'wtsr': 1000.0, 'wtcr': 986.0331613318, 'womens': True, 'date': 1713571200000, 'partner': {'name': 'Emma Wang', 'key': 'emma-wang'}, 'venue': 'Bowdoin', 'raceID': 's24/women-new-england-fleet-race/7B', 'type': 'fleet', 'scoring': '2 Divisions'}, {'score': 10, 'pos': 'Crew', 'predicted': 8, 'ratio': 0.3571428571, 'change': 2.7226369513, 'regAvg': 1237.6753193879, 'cross': 0, 'outLinks': 0, 'skipperRating': 1000.0, 'crewRating': 1513.7831768552, 'womenSkipperRating': 1000.0, 'womenCrewRating': 1370.4614984232, 'tsr': 1000.0, 'tcr': 966.2273698835, 'wtsr': 1000.0, 'wtcr': 986.0331613318, 'womens': True, 'date': 1713571200000, 'partner': {'name': 'Emma Wang', 'key': 'emma-wang'}, 'venue': 'Bowdoin', 'raceID': 's24/women-new-england-fleet-race/8B', 'type': 'fleet', 'scoring': '2 Divisions'}, {'score': 14, 'pos': 'Crew', 'predicted': 10, 'ratio': 0.0714285714, 'change': -49.4845247222, 'regAvg': 1237.6753193879, 'cross': 0, 'outLinks': 0, 'skipperRating': 1000.0, 'crewRating': 1513.7831768552, 'womenSkipperRating': 1000.0, 'womenCrewRating': 1320.976973701, 'tsr': 1000.0, 'tcr': 966.2273698835, 'wtsr': 1000.0, 'wtcr': 986.0331613318, 'womens': True, 'date': 1713571200000, 'partner': {'name': 'Emma Wang', 'key': 'emma-wang'}, 'venue': 'Bowdoin', 'raceID': 's24/women-new-england-fleet-race/9B', 'type': 'fleet', 'scoring': '2 Divisions'}, {'score': 12, 'pos': 'Crew', 'predicted': 10, 'ratio': 0.2666666667, 'change': -7.2475249583, 'regAvg': 1237.6753193879, 'cross': 0, 'outLinks': 0, 'skipperRating': 1000.0, 'crewRating': 1513.7831768552, 'womenSkipperRating': 1000.0, 'womenCrewRating': 1313.7294487426, 'tsr': 1000.0, 'tcr': 966.2273698835, 'wtsr': 1000.0, 'wtcr': 986.0331613318, 'womens': True, 'date': 1713571200000, 'partner': {'name': 'Emma Wang', 'key': 'emma-wang'}, 'venue': 'Bowdoin', 'raceID': 's24/women-new-england-fleet-race/10B', 'type': 'fleet', 'scoring': '2 Divisions'}, {'raceID': 's24/icsa-women-team-race-national/35', 'raceNum': 35, 'round': 'Round 1', 'pos': 'Crew', 'date': 1714262400000, 'womens': True, 'partner': {'key': 'brooke-barry', 'name': 'Brooke Barry'}, 'opponentTeam': 'Wisconsin', 'opponentNick': 'Badgers', 'score': '1-3-6', 'outcome': 'win', 'predicted': 'win', 'skipperRating': 1000.0, 'crewRating': 1513.7831768552, 'womenSkipperRating': 1000.0, 'womenCrewRating': 1313.7294487426, 'tsr': 1000.0, 'tcr': 966.2273698835, 'wtsr': 1000.0, 'wtcr': 1005.1441842065, 'regAvg': 1210.2891490892, 'change': 19.1110228747, 'type': 'team'}, {'raceID': 's24/icsa-women-team-race-national/40', 'raceNum': 40, 'round': 'Round 1', 'pos': 'Crew', 'date': 1714262400000, 'womens': True, 'partner': {'key': 'brooke-barry', 'name': 'Brooke Barry'}, 'opponentTeam': 'Yale', 'opponentNick': 'Bulldogs', 'score': '3-4-6', 'outcome': 'lose', 'predicted': 'lose', 'skipperRating': 1000.0, 'crewRating': 1513.7831768552, 'womenSkipperRating': 1000.0, 'womenCrewRating': 1313.7294487426, 'tsr': 1000.0, 'tcr': 966.2273698835, 'wtsr': 1000.0, 'wtcr': 1003.9956395808, 'regAvg': 1210.2891490892, 'change': -1.1485446257, 'type': 'team'}, {'raceID': 's24/icsa-women-team-race-national/64', 'raceNum': 64, 'round': 'Round 1', 'pos': 'Crew', 'date': 1714262400000, 'womens': True, 'partner': {'key': 'emma-wang', 'name': 'Emma Wang'}, 'opponentTeam': 'Harvard', 'opponentNick': 'Crimson', 'score': '3-4-6', 'outcome': 'lose', 'predicted': 'lose', 'skipperRating': 1000.0, 'crewRating': 1513.7831768552, 'womenSkipperRating': 1000.0, 'womenCrewRating': 1313.7294487426, 'tsr': 1000.0, 'tcr': 966.2273698835, 'wtsr': 1000.0, 'wtcr': 1001.8000849723, 'regAvg': 1210.2891490892, 'change': -2.1955546085, 'type': 'team'}, {'score': 14, 'pos': 'Crew', 'predicted': 11, 'ratio': 0.23529411760000002, 'change': -5.9769263367, 'regAvg': 1288.9783266467, 'cross': 1, 'outLinks': 8, 'skipperRating': 1000.0, 'crewRating': 1513.7831768552, 'womenSkipperRating': 1000.0, 'womenCrewRating': 1307.7525224059, 'tsr': 1000.0, 'tcr': 966.2273698835, 'wtsr': 1000.0, 'wtcr': 1001.8000849723, 'womens': True, 'date': 1716163200000, 'partner': {'name': 'Emma Wang', 'key': 'emma-wang'}, 'venue': 'Harvard', 'raceID': 's24/west-womens-national-semi-finals/11B', 'type': 'fleet', 'scoring': '2 Divisions'}, {'score': 14, 'pos': 'Crew', 'predicted': 11, 'ratio': 0.23529411760000002, 'change': -10.2626833223, 'regAvg': 1288.9783266467, 'cross': 1, 'outLinks': 8, 'skipperRating': 1000.0, 'crewRating': 1513.7831768552, 'womenSkipperRating': 1000.0, 'womenCrewRating': 1297.4898390836, 'tsr': 1000.0, 'tcr': 966.2273698835, 'wtsr': 1000.0, 'wtcr': 1001.8000849723, 'womens': True, 'date': 1716163200000, 'partner': {'name': 'Emma Wang', 'key': 'emma-wang'}, 'venue': 'Harvard', 'raceID': 's24/west-womens-national-semi-finals/12B', 'type': 'fleet', 'scoring': '2 Divisions'}, {'score': 2, 'pos': 'Crew', 'predicted': 6, 'ratio': 0.9411764706, 'change': 26.7530402251, 'regAvg': 1150.0665818025, 'cross': 0, 'outLinks': 0, 'skipperRating': 1000.0, 'crewRating': 1513.7831768552, 'womenSkipperRating': 1000.0, 'womenCrewRating': 1324.2428793087, 'tsr': 1000.0, 'tcr': 966.2273698835, 'wtsr': 1000.0, 'wtcr': 1001.8000849723, 'womens': True, 'date': 1725667200000, 'partner': {'name': 'Brooke Schmelz', 'key': 'brooke-schmelz'}, 'venue': 'MIT', 'raceID': 'f24/toni-duetsch-58-2024/1A', 'type': 'fleet', 'scoring': '2 Divisions'}, {'score': 16, 'pos': 'Crew', 'predicted': 7, 'ratio': 0.11764705880000001, 'change': -27.6637313789, 'regAvg': 1150.0665818025, 'cross': 0, 'outLinks': 0, 'skipperRating': 1000.0, 'crewRating': 1513.7831768552, 'womenSkipperRating': 1000.0, 'womenCrewRating': 1296.5791479298, 'tsr': 1000.0, 'tcr': 966.2273698835, 'wtsr': 1000.0, 'wtcr': 1001.8000849723, 'womens': True, 'date': 1725667200000, 'partner': {'name': 'Brooke Schmelz', 'key': 'brooke-schmelz'}, 'venue': 'MIT', 'raceID': 'f24/toni-duetsch-58-2024/2A', 'type': 'fleet', 'scoring': '2 Divisions'}, {'score': 7, 'pos': 'Crew', 'predicted': 7, 'ratio': 0.6470588235, 'change': 19.2214069273, 'regAvg': 1150.0665818025, 'cross': 0, 'outLinks': 0, 'skipperRating': 1000.0, 'crewRating': 1513.7831768552, 'womenSkipperRating': 1000.0, 'womenCrewRating': 1315.8005548571, 'tsr': 1000.0, 'tcr': 966.2273698835, 'wtsr': 1000.0, 'wtcr': 1001.8000849723, 'womens': True, 'date': 1725667200000, 'partner': {'name': 'Brooke Schmelz', 'key': 'brooke-schmelz'}, 'venue': 'MIT', 'raceID': 'f24/toni-duetsch-58-2024/3A', 'type': 'fleet', 'scoring': '2 Divisions'}, {'score': 1, 'pos': 'Crew', 'predicted': 8, 'ratio': 1.0, 'change': 28.0532662257, 'regAvg': 1150.0665818025, 'cross': 0, 'outLinks': 0, 'skipperRating': 1000.0, 'crewRating': 1513.7831768552, 'womenSkipperRating': 1000.0, 'womenCrewRating': 1343.8538210829, 'tsr': 1000.0, 'tcr': 966.2273698835, 'wtsr': 1000.0, 'wtcr': 1001.8000849723, 'womens': True, 'date': 1725667200000, 'partner': {'name': 'Brooke Schmelz', 'key': 'brooke-schmelz'}, 'venue': 'MIT', 'raceID': 'f24/toni-duetsch-58-2024/4A', 'type': 'fleet', 'scoring': '2 Divisions'}, {'score': 3, 'pos': 'Crew', 'predicted': 9, 'ratio': 0.8823529412000001, 'change': 25.2976377419, 'regAvg': 1150.0665818025, 'cross': 0, 'outLinks': 0, 'skipperRating': 1000.0, 'crewRating': 1513.7831768552, 'womenSkipperRating': 1000.0, 'womenCrewRating': 1369.1514588248, 'tsr': 1000.0, 'tcr': 966.2273698835, 'wtsr': 1000.0, 'wtcr': 1001.8000849723, 'womens': True, 'date': 1725667200000, 'partner': {'name': 'Brooke Schmelz', 'key': 'brooke-schmelz'}, 'venue': 'MIT', 'raceID': 'f24/toni-duetsch-58-2024/5A', 'type': 'fleet', 'scoring': '2 Divisions'}, {'score': 6, 'pos': 'Crew', 'predicted': 10, 'ratio': 0.7058823529, 'change': 19.1531417634, 'regAvg': 1150.0665818025, 'cross': 0, 'outLinks': 0, 'skipperRating': 1000.0, 'crewRating': 1513.7831768552, 'womenSkipperRating': 1000.0, 'womenCrewRating': 1388.3046005882, 'tsr': 1000.0, 'tcr': 966.2273698835, 'wtsr': 1000.0, 'wtcr': 1001.8000849723, 'womens': True, 'date': 1725667200000, 'partner': {'name': 'Brooke Schmelz', 'key': 'brooke-schmelz'}, 'venue': 'MIT', 'raceID': 'f24/toni-duetsch-58-2024/6A', 'type': 'fleet', 'scoring': '2 Divisions'}, {'score': 5, 'pos': 'Crew', 'predicted': 10, 'ratio': 0.7647058824, 'change': 21.7362935289, 'regAvg': 1150.0665818025, 'cross': 0, 'outLinks': 0, 'skipperRating': 1000.0, 'crewRating': 1513.7831768552, 'womenSkipperRating': 1000.0, 'womenCrewRating': 1410.0408941171, 'tsr': 1000.0, 'tcr': 966.2273698835, 'wtsr': 1000.0, 'wtcr': 1001.8000849723, 'womens': True, 'date': 1725667200000, 'partner': {'name': 'Brooke Schmelz', 'key': 'brooke-schmelz'}, 'venue': 'MIT', 'raceID': 'f24/toni-duetsch-58-2024/7A', 'type': 'fleet', 'scoring': '2 Divisions'}, {'score': 11, 'pos': 'Crew', 'predicted': 9, 'ratio': 0.4117647059, 'change': 2.781351665, 'regAvg': 1150.0665818025, 'cross': 0, 'outLinks': 0, 'skipperRating': 1000.0, 'crewRating': 1513.7831768552, 'womenSkipperRating': 1000.0, 'womenCrewRating': 1412.8222457821, 'tsr': 1000.0, 'tcr': 966.2273698835, 'wtsr': 1000.0, 'wtcr': 1001.8000849723, 'womens': True, 'date': 1725667200000, 'partner': {'name': 'Brooke Schmelz', 'key': 'brooke-schmelz'}, 'venue': 'MIT', 'raceID': 'f24/toni-duetsch-58-2024/8A', 'type': 'fleet', 'scoring': '2 Divisions'}, {'score': 18, 'pos': 'Crew', 'predicted': 11, 'ratio': 0.0, 'change': -75.5974114506, 'regAvg': 1150.0665818025, 'cross': 0, 'outLinks': 0, 'skipperRating': 1000.0, 'crewRating': 1513.7831768552, 'womenSkipperRating': 1000.0, 'womenCrewRating': 1337.2248343315, 'tsr': 1000.0, 'tcr': 966.2273698835, 'wtsr': 1000.0, 'wtcr': 1001.8000849723, 'womens': True, 'date': 1725667200000, 'partner': {'name': 'Brooke Schmelz', 'key': 'brooke-schmelz'}, 'venue': 'MIT', 'raceID': 'f24/toni-duetsch-58-2024/9A', 'type': 'fleet', 'scoring': '2 Divisions'}, {'score': 8, 'pos': 'Crew', 'predicted': 10, 'ratio': 0.5882352941, 'change': 14.0216045562, 'regAvg': 1150.0665818025, 'cross': 0, 'outLinks': 0, 'skipperRating': 1000.0, 'crewRating': 1513.7831768552, 'womenSkipperRating': 1000.0, 'womenCrewRating': 1351.2464388878, 'tsr': 1000.0, 'tcr': 966.2273698835, 'wtsr': 1000.0, 'wtcr': 1001.8000849723, 'womens': True, 'date': 1725667200000, 'partner': {'name': 'Brooke Schmelz', 'key': 'brooke-schmelz'}, 'venue': 'MIT', 'raceID': 'f24/toni-duetsch-58-2024/10A', 'type': 'fleet', 'scoring': '2 Divisions'}, {'score': 13, 'pos': 'Crew', 'predicted': 10, 'ratio': 0.2941176471, 'change': -1.9786898877, 'regAvg': 1150.0665818025, 'cross': 0, 'outLinks': 0, 'skipperRating': 1000.0, 'crewRating': 1513.7831768552, 'womenSkipperRating': 1000.0, 'womenCrewRating': 1349.267749, 'tsr': 1000.0, 'tcr': 966.2273698835, 'wtsr': 1000.0, 'wtcr': 1001.8000849723, 'womens': True, 'date': 1725667200000, 'partner': {'name': 'Brooke Schmelz', 'key': 'brooke-schmelz'}, 'venue': 'MIT', 'raceID': 'f24/toni-duetsch-58-2024/11A', 'type': 'fleet', 'scoring': '2 Divisions'}, {'score': 13, 'pos': 'Crew', 'predicted': 11, 'ratio': 0.2941176471, 'change': -2.9774632201, 'regAvg': 1150.0665818025, 'cross': 0, 'outLinks': 0, 'skipperRating': 1000.0, 'crewRating': 1513.7831768552, 'womenSkipperRating': 1000.0, 'womenCrewRating': 1346.2902857799, 'tsr': 1000.0, 'tcr': 966.2273698835, 'wtsr': 1000.0, 'wtcr': 1001.8000849723, 'womens': True, 'date': 1725667200000, 'partner': {'name': 'Brooke Schmelz', 'key': 'brooke-schmelz'}, 'venue': 'MIT', 'raceID': 'f24/toni-duetsch-58-2024/12A', 'type': 'fleet', 'scoring': '2 Divisions'}, {'score': 1, 'pos': 'Crew', 'predicted': 10, 'ratio': 1.0, 'change': 27.8119999948, 'regAvg': 1150.0665818025, 'cross': 0, 'outLinks': 0, 'skipperRating': 1000.0, 'crewRating': 1513.7831768552, 'womenSkipperRating': 1000.0, 'womenCrewRating': 1374.1022857747, 'tsr': 1000.0, 'tcr': 966.2273698835, 'wtsr': 1000.0, 'wtcr': 1001.8000849723, 'womens': True, 'date': 1725667200000, 'partner': {'name': 'Brooke Schmelz', 'key': 'brooke-schmelz'}, 'venue': 'MIT', 'raceID': 'f24/toni-duetsch-58-2024/13A', 'type': 'fleet', 'scoring': '2 Divisions'}, {'score': 1, 'pos': 'Crew', 'predicted': 9, 'ratio': 1.0, 'change': 27.963808834, 'regAvg': 1150.0665818025, 'cross': 0, 'outLinks': 0, 'skipperRating': 1000.0, 'crewRating': 1513.7831768552, 'womenSkipperRating': 1000.0, 'womenCrewRating': 1402.0660946086, 'tsr': 1000.0, 'tcr': 966.2273698835, 'wtsr': 1000.0, 'wtcr': 1001.8000849723, 'womens': True, 'date': 1725667200000, 'partner': {'name': 'Brooke Schmelz', 'key': 'brooke-schmelz'}, 'venue': 'MIT', 'raceID': 'f24/toni-duetsch-58-2024/14A', 'type': 'fleet', 'scoring': '2 Divisions'}, {'score': 8, 'pos': 'Crew', 'predicted': 8, 'ratio': 0.5625, 'change': 16.575300289, 'regAvg': 1375.0412978273, 'cross': 0, 'outLinks': 0, 'skipperRating': 1000.0, 'crewRating': 1530.3584771442, 'womenSkipperRating': 1000.0, 'womenCrewRating': 1402.0660946086, 'tsr': 1000.0, 'tcr': 966.2273698835, 'wtsr': 1000.0, 'wtcr': 1001.8000849723, 'womens': False, 'date': 1726272000000, 'partner': {'name': 'Lucy Brock', 'key': 'lucy-brock'}, 'venue': 'MIT', 'raceID': 'f24/hatch-brown-2024/1C', 'type': 'fleet', 'scoring': '3 Divisions'}, {'score': 15, 'pos': 'Crew', 'predicted': 9, 'ratio': 0.125, 'change': -59.3526474075, 'regAvg': 1375.0412978273, 'cross': 0, 'outLinks': 0, 'skipperRating': 1000.0, 'crewRating': 1471.0058297367, 'womenSkipperRating': 1000.0, 'womenCrewRating': 1402.0660946086, 'tsr': 1000.0, 'tcr': 966.2273698835, 'wtsr': 1000.0, 'wtcr': 1001.8000849723, 'womens': False, 'date': 1726272000000, 'partner': {'name': 'Lucy Brock', 'key': 'lucy-brock'}, 'venue': 'MIT', 'raceID': 'f24/hatch-brown-2024/2C', 'type': 'fleet', 'scoring': '3 Divisions'}, {'score': 14, 'pos': 'Crew', 'predicted': 9, 'ratio': 0.1875, 'change': -33.0413041625, 'regAvg': 1375.0412978273, 'cross': 0, 'outLinks': 0, 'skipperRating': 1000.0, 'crewRating': 1437.9645255743, 'womenSkipperRating': 1000.0, 'womenCrewRating': 1402.0660946086, 'tsr': 1000.0, 'tcr': 966.2273698835, 'wtsr': 1000.0, 'wtcr': 1001.8000849723, 'womens': False, 'date': 1726272000000, 'partner': {'name': 'Lucy Brock', 'key': 'lucy-brock'}, 'venue': 'MIT', 'raceID': 'f24/hatch-brown-2024/3C', 'type': 'fleet', 'scoring': '3 Divisions'}, {'score': 13, 'pos': 'Crew', 'predicted': 10, 'ratio': 0.25, 'change': -9.5362623712, 'regAvg': 1375.0412978273, 'cross': 0, 'outLinks': 0, 'skipperRating': 1000.0, 'crewRating': 1428.4282632031, 'womenSkipperRating': 1000.0, 'womenCrewRating': 1402.0660946086, 'tsr': 1000.0, 'tcr': 966.2273698835, 'wtsr': 1000.0, 'wtcr': 1001.8000849723, 'womens': False, 'date': 1726272000000, 'partner': {'name': 'Lucy Brock', 'key': 'lucy-brock'}, 'venue': 'MIT', 'raceID': 'f24/hatch-brown-2024/4C', 'type': 'fleet', 'scoring': '3 Divisions'}, {'score': 11, 'pos': 'Crew', 'predicted': 9, 'ratio': 0.375, 'change': 7.1926305777, 'regAvg': 1375.0412978273, 'cross': 0, 'outLinks': 0, 'skipperRating': 1000.0, 'crewRating': 1435.6208937808, 'womenSkipperRating': 1000.0, 'womenCrewRating': 1402.0660946086, 'tsr': 1000.0, 'tcr': 966.2273698835, 'wtsr': 1000.0, 'wtcr': 1001.8000849723, 'womens': False, 'date': 1726272000000, 'partner': {'name': 'Lucy Brock', 'key': 'lucy-brock'}, 'venue': 'MIT', 'raceID': 'f24/hatch-brown-2024/5C', 'type': 'fleet', 'scoring': '3 Divisions'}, {'score': 13, 'pos': 'Crew', 'predicted': 10, 'ratio': 0.25, 'change': -12.6309907001, 'regAvg': 1375.0412978273, 'cross': 0, 'outLinks': 0, 'skipperRating': 1000.0, 'crewRating': 1422.9899030807, 'womenSkipperRating': 1000.0, 'womenCrewRating': 1402.0660946086, 'tsr': 1000.0, 'tcr': 966.2273698835, 'wtsr': 1000.0, 'wtcr': 1001.8000849723, 'womens': False, 'date': 1726272000000, 'partner': {'name': 'Lucy Brock', 'key': 'lucy-brock'}, 'venue': 'MIT', 'raceID': 'f24/hatch-brown-2024/6C', 'type': 'fleet', 'scoring': '3 Divisions'}, {'score': 8, 'pos': 'Crew', 'predicted': 10, 'ratio': 0.5625, 'change': 18.4420936831, 'regAvg': 1375.0412978273, 'cross': 0, 'outLinks': 0, 'skipperRating': 1000.0, 'crewRating': 1441.4319967638, 'womenSkipperRating': 1000.0, 'womenCrewRating': 1402.0660946086, 'tsr': 1000.0, 'tcr': 966.2273698835, 'wtsr': 1000.0, 'wtcr': 1001.8000849723, 'womens': False, 'date': 1726272000000, 'partner': {'name': 'Lucy Brock', 'key': 'lucy-brock'}, 'venue': 'MIT', 'raceID': 'f24/hatch-brown-2024/7C', 'type': 'fleet', 'scoring': '3 Divisions'}, {'score': 11, 'pos': 'Crew', 'predicted': 10, 'ratio': 0.375, 'change': 11.270884952, 'regAvg': 1375.0412978273, 'cross': 0, 'outLinks': 0, 'skipperRating': 1000.0, 'crewRating': 1452.7028817158, 'womenSkipperRating': 1000.0, 'womenCrewRating': 1402.0660946086, 'tsr': 1000.0, 'tcr': 966.2273698835, 'wtsr': 1000.0, 'wtcr': 1001.8000849723, 'womens': False, 'date': 1726272000000, 'partner': {'name': 'Lucy Brock', 'key': 'lucy-brock'}, 'venue': 'MIT', 'raceID': 'f24/hatch-brown-2024/8C', 'type': 'fleet', 'scoring': '3 Divisions'}, {'score': 6, 'pos': 'Crew', 'predicted': 11, 'ratio': 0.6875, 'change': 24.9082645432, 'regAvg': 1375.0412978273, 'cross': 0, 'outLinks': 0, 'skipperRating': 1000.0, 'crewRating': 1477.611146259, 'womenSkipperRating': 1000.0, 'womenCrewRating': 1402.0660946086, 'tsr': 1000.0, 'tcr': 966.2273698835, 'wtsr': 1000.0, 'wtcr': 1001.8000849723, 'womens': False, 'date': 1726272000000, 'partner': {'name': 'Lucy Brock', 'key': 'lucy-brock'}, 'venue': 'MIT', 'raceID': 'f24/hatch-brown-2024/9C', 'type': 'fleet', 'scoring': '3 Divisions'}, {'score': 7, 'pos': 'Crew', 'predicted': 6, 'ratio': 0.625, 'change': 12.979201731, 'regAvg': 1140.7175121146, 'cross': 0, 'outLinks': 0, 'skipperRating': 1000.0, 'crewRating': 1477.611146259, 'womenSkipperRating': 1000.0, 'womenCrewRating': 1415.0452963396, 'tsr': 1000.0, 'tcr': 966.2273698835, 'wtsr': 1000.0, 'wtcr': 1001.8000849723, 'womens': True, 'date': 1726876800000, 'partner': {'name': 'Brooke Schmelz', 'key': 'brooke-schmelz'}, 'venue': 'Dartmouth', 'raceID': 'f24/mrs-hurst-bowl/1A', 'type': 'fleet', 'scoring': '2 Divisions'}, {'score': 13, 'pos': 'Crew', 'predicted': 7, 'ratio': 0.25, 'change': -13.9415853825, 'regAvg': 1140.7175121146, 'cross': 0, 'outLinks': 0, 'skipperRating': 1000.0, 'crewRating': 1477.611146259, 'womenSkipperRating': 1000.0, 'womenCrewRating': 1401.1037109571, 'tsr': 1000.0, 'tcr': 966.2273698835, 'wtsr': 1000.0, 'wtcr': 1001.8000849723, 'womens': True, 'date': 1726876800000, 'partner': {'name': 'Brooke Schmelz', 'key': 'brooke-schmelz'}, 'venue': 'Dartmouth', 'raceID': 'f24/mrs-hurst-bowl/2A', 'type': 'fleet', 'scoring': '2 Divisions'}, {'score': 11, 'pos': 'Crew', 'predicted': 6, 'ratio': 0.375, 'change': -0.8216856659, 'regAvg': 1140.7175121146, 'cross': 0, 'outLinks': 0, 'skipperRating': 1000.0, 'crewRating': 1477.611146259, 'womenSkipperRating': 1000.0, 'womenCrewRating': 1400.2820252911, 'tsr': 1000.0, 'tcr': 966.2273698835, 'wtsr': 1000.0, 'wtcr': 1001.8000849723, 'womens': True, 'date': 1726876800000, 'partner': {'name': 'Brooke Schmelz', 'key': 'brooke-schmelz'}, 'venue': 'Dartmouth', 'raceID': 'f24/mrs-hurst-bowl/3A', 'type': 'fleet', 'scoring': '2 Divisions'}, {'score': 2, 'pos': 'Crew', 'predicted': 6, 'ratio': 0.9375, 'change': 23.705606716, 'regAvg': 1140.7175121146, 'cross': 0, 'outLinks': 0, 'skipperRating': 1000.0, 'crewRating': 1477.611146259, 'womenSkipperRating': 1000.0, 'womenCrewRating': 1423.9876320072, 'tsr': 1000.0, 'tcr': 966.2273698835, 'wtsr': 1000.0, 'wtcr': 1001.8000849723, 'womens': True, 'date': 1726876800000, 'partner': {'name': 'Brooke Schmelz', 'key': 'brooke-schmelz'}, 'venue': 'Dartmouth', 'raceID': 'f24/mrs-hurst-bowl/4A', 'type': 'fleet', 'scoring': '2 Divisions'}, {'score': 10, 'pos': 'Crew', 'predicted': 7, 'ratio': 0.4375, 'change': 2.8868597505, 'regAvg': 1140.7175121146, 'cross': 0, 'outLinks': 0, 'skipperRating': 1000.0, 'crewRating': 1477.611146259, 'womenSkipperRating': 1000.0, 'womenCrewRating': 1426.8744917577, 'tsr': 1000.0, 'tcr': 966.2273698835, 'wtsr': 1000.0, 'wtcr': 1001.8000849723, 'womens': True, 'date': 1726876800000, 'partner': {'name': 'Brooke Schmelz', 'key': 'brooke-schmelz'}, 'venue': 'Dartmouth', 'raceID': 'f24/mrs-hurst-bowl/5A', 'type': 'fleet', 'scoring': '2 Divisions'}, {'score': 13, 'pos': 'Crew', 'predicted': 7, 'ratio': 0.25, 'change': -16.140029268, 'regAvg': 1140.7175121146, 'cross': 0, 'outLinks': 0, 'skipperRating': 1000.0, 'crewRating': 1477.611146259, 'womenSkipperRating': 1000.0, 'womenCrewRating': 1410.7344624896, 'tsr': 1000.0, 'tcr': 966.2273698835, 'wtsr': 1000.0, 'wtcr': 1001.8000849723, 'womens': True, 'date': 1726876800000, 'partner': {'name': 'Brooke Schmelz', 'key': 'brooke-schmelz'}, 'venue': 'Dartmouth', 'raceID': 'f24/mrs-hurst-bowl/6A', 'type': 'fleet', 'scoring': '2 Divisions'}, {'score': 7, 'pos': 'Crew', 'predicted': 7, 'ratio': 0.625, 'change': 13.1151883135, 'regAvg': 1140.7175121146, 'cross': 0, 'outLinks': 0, 'skipperRating': 1000.0, 'crewRating': 1477.611146259, 'womenSkipperRating': 1000.0, 'womenCrewRating': 1423.8496508032, 'tsr': 1000.0, 'tcr': 966.2273698835, 'wtsr': 1000.0, 'wtcr': 1001.8000849723, 'womens': True, 'date': 1726876800000, 'partner': {'name': 'Brooke Schmelz', 'key': 'brooke-schmelz'}, 'venue': 'Dartmouth', 'raceID': 'f24/mrs-hurst-bowl/7A', 'type': 'fleet', 'scoring': '2 Divisions'}, {'score': 2, 'pos': 'Crew', 'predicted': 6, 'ratio': 0.9375, 'change': 23.2784654842, 'regAvg': 1140.7175121146, 'cross': 0, 'outLinks': 0, 'skipperRating': 1000.0, 'crewRating': 1477.611146259, 'womenSkipperRating': 1000.0, 'womenCrewRating': 1447.1281162874, 'tsr': 1000.0, 'tcr': 966.2273698835, 'wtsr': 1000.0, 'wtcr': 1001.8000849723, 'womens': True, 'date': 1726876800000, 'partner': {'name': 'Brooke Schmelz', 'key': 'brooke-schmelz'}, 'venue': 'Dartmouth', 'raceID': 'f24/mrs-hurst-bowl/8A', 'type': 'fleet', 'scoring': '2 Divisions'}, {'score': 2, 'pos': 'Crew', 'predicted': 6, 'ratio': 0.9375, 'change': 24.2033473026, 'regAvg': 1140.7175121146, 'cross': 0, 'outLinks': 0, 'skipperRating': 1000.0, 'crewRating': 1477.611146259, 'womenSkipperRating': 1000.0, 'womenCrewRating': 1471.33146359, 'tsr': 1000.0, 'tcr': 966.2273698835, 'wtsr': 1000.0, 'wtcr': 1001.8000849723, 'womens': True, 'date': 1726876800000, 'partner': {'name': 'Brooke Schmelz', 'key': 'brooke-schmelz'}, 'venue': 'Dartmouth', 'raceID': 'f24/mrs-hurst-bowl/9A', 'type': 'fleet', 'scoring': '2 Divisions'}, {'score': 3, 'pos': 'Crew', 'predicted': 6, 'ratio': 0.875, 'change': 22.6671022121, 'regAvg': 1140.7175121146, 'cross': 0, 'outLinks': 0, 'skipperRating': 1000.0, 'crewRating': 1477.611146259, 'womenSkipperRating': 1000.0, 'womenCrewRating': 1493.998565802, 'tsr': 1000.0, 'tcr': 966.2273698835, 'wtsr': 1000.0, 'wtcr': 1001.8000849723, 'womens': True, 'date': 1726876800000, 'partner': {'name': 'Brooke Schmelz', 'key': 'brooke-schmelz'}, 'venue': 'Dartmouth', 'raceID': 'f24/mrs-hurst-bowl/10A', 'type': 'fleet', 'scoring': '2 Divisions'}, {'score': 13, 'pos': 'Crew', 'predicted': 6, 'ratio': 0.25, 'change': -15.277752501, 'regAvg': 1209.542600159, 'cross': 1, 'outLinks': 8, 'skipperRating': 1000.0, 'crewRating': 1477.611146259, 'womenSkipperRating': 1000.0, 'womenCrewRating': 1478.720813301, 'tsr': 1000.0, 'tcr': 966.2273698835, 'wtsr': 1000.0, 'wtcr': 1001.8000849723, 'womens': True, 'date': 1727481600000, 'partner': {'name': 'Brooke Schmelz', 'key': 'brooke-schmelz'}, 'venue': 'Brown', 'raceID': 'f24/women-acc-round-1b/1A', 'type': 'fleet', 'scoring': '2 Divisions'}, {'score': 2, 'pos': 'Crew', 'predicted': 6, 'ratio': 0.9375, 'change': 23.8929205981, 'regAvg': 1209.542600159, 'cross': 1, 'outLinks': 8, 'skipperRating': 1000.0, 'crewRating': 1477.611146259, 'womenSkipperRating': 1000.0, 'womenCrewRating': 1502.6137338992, 'tsr': 1000.0, 'tcr': 966.2273698835, 'wtsr': 1000.0, 'wtcr': 1001.8000849723, 'womens': True, 'date': 1727481600000, 'partner': {'name': 'Brooke Schmelz', 'key': 'brooke-schmelz'}, 'venue': 'Brown', 'raceID': 'f24/women-acc-round-1b/2A', 'type': 'fleet', 'scoring': '2 Divisions'}, {'score': 11, 'pos': 'Crew', 'predicted': 6, 'ratio': 0.375, 'change': -2.4368574509, 'regAvg': 1209.542600159, 'cross': 1, 'outLinks': 8, 'skipperRating': 1000.0, 'crewRating': 1477.611146259, 'womenSkipperRating': 1000.0, 'womenCrewRating': 1500.1768764482, 'tsr': 1000.0, 'tcr': 966.2273698835, 'wtsr': 1000.0, 'wtcr': 1001.8000849723, 'womens': True, 'date': 1727481600000, 'partner': {'name': 'Brooke Schmelz', 'key': 'brooke-schmelz'}, 'venue': 'Brown', 'raceID': 'f24/women-acc-round-1b/3A', 'type': 'fleet', 'scoring': '2 Divisions'}, {'score': 17, 'pos': 'Crew', 'predicted': 7, 'ratio': 0.0, 'change': -80.0478881826, 'regAvg': 1209.542600159, 'cross': 1, 'outLinks': 8, 'skipperRating': 1000.0, 'crewRating': 1477.611146259, 'womenSkipperRating': 1000.0, 'womenCrewRating': 1420.1289882656, 'tsr': 1000.0, 'tcr': 966.2273698835, 'wtsr': 1000.0, 'wtcr': 1001.8000849723, 'womens': True, 'date': 1727481600000, 'partner': {'name': 'Brooke Schmelz', 'key': 'brooke-schmelz'}, 'venue': 'Brown', 'raceID': 'f24/women-acc-round-1b/4A', 'type': 'fleet', 'scoring': '2 Divisions'}, {'score': 1, 'pos': 'Crew', 'predicted': 7, 'ratio': 1.0, 'change': 24.7197056198, 'regAvg': 1209.542600159, 'cross': 1, 'outLinks': 8, 'skipperRating': 1000.0, 'crewRating': 1477.611146259, 'womenSkipperRating': 1000.0, 'womenCrewRating': 1444.8486938855, 'tsr': 1000.0, 'tcr': 966.2273698835, 'wtsr': 1000.0, 'wtcr': 1001.8000849723, 'womens': True, 'date': 1727481600000, 'partner': {'name': 'Brooke Schmelz', 'key': 'brooke-schmelz'}, 'venue': 'Brown', 'raceID': 'f24/women-acc-round-1b/9A', 'type': 'fleet', 'scoring': '2 Divisions'}, {'score': 2, 'pos': 'Crew', 'predicted': 6, 'ratio': 0.9375, 'change': 23.6571405783, 'regAvg': 1209.542600159, 'cross': 1, 'outLinks': 8, 'skipperRating': 1000.0, 'crewRating': 1477.611146259, 'womenSkipperRating': 1000.0, 'womenCrewRating': 1468.5058344637, 'tsr': 1000.0, 'tcr': 966.2273698835, 'wtsr': 1000.0, 'wtcr': 1001.8000849723, 'womens': True, 'date': 1727481600000, 'partner': {'name': 'Brooke Schmelz', 'key': 'brooke-schmelz'}, 'venue': 'Brown', 'raceID': 'f24/women-acc-round-1b/10A', 'type': 'fleet', 'scoring': '2 Divisions'}, {'score': 8, 'pos': 'Crew', 'predicted': 3, 'ratio': 0.5, 'change': 2.502271462, 'regAvg': 1166.3303745107, 'cross': 1, 'outLinks': 6, 'skipperRating': 1000.0, 'crewRating': 1477.611146259, 'womenSkipperRating': 1000.0, 'womenCrewRating': 1471.0081059257, 'tsr': 1000.0, 'tcr': 966.2273698835, 'wtsr': 1000.0, 'wtcr': 1001.8000849723, 'womens': True, 'date': 1728086400000, 'partner': {'name': 'Brooke Schmelz', 'key': 'brooke-schmelz'}, 'venue': 'Connecticut College', 'raceID': 'f24/stu-nelson-connecticut/1A', 'type': 'fleet', 'scoring': '3 Divisions'}, {'score': 7, 'pos': 'Crew', 'predicted': 3, 'ratio': 0.5714285714, 'change': 7.3003659177, 'regAvg': 1166.3303745107, 'cross': 1, 'outLinks': 6, 'skipperRating': 1000.0, 'crewRating': 1477.611146259, 'womenSkipperRating': 1000.0, 'womenCrewRating': 1478.3084718434, 'tsr': 1000.0, 'tcr': 966.2273698835, 'wtsr': 1000.0, 'wtcr': 1001.8000849723, 'womens': True, 'date': 1728086400000, 'partner': {'name': 'Brooke Schmelz', 'key': 'brooke-schmelz'}, 'venue': 'Connecticut College', 'raceID': 'f24/stu-nelson-connecticut/2A', 'type': 'fleet', 'scoring': '3 Divisions'}, {'score': 5, 'pos': 'Crew', 'predicted': 3, 'ratio': 0.7142857143, 'change': 14.9896563063, 'regAvg': 1166.3303745107, 'cross': 1, 'outLinks': 6, 'skipperRating': 1000.0, 'crewRating': 1477.611146259, 'womenSkipperRating': 1000.0, 'womenCrewRating': 1493.2981281497, 'tsr': 1000.0, 'tcr': 966.2273698835, 'wtsr': 1000.0, 'wtcr': 1001.8000849723, 'womens': True, 'date': 1728086400000, 'partner': {'name': 'Brooke Schmelz', 'key': 'brooke-schmelz'}, 'venue': 'Connecticut College', 'raceID': 'f24/stu-nelson-connecticut/3A', 'type': 'fleet', 'scoring': '3 Divisions'}, {'score': 3, 'pos': 'Crew', 'predicted': 3, 'ratio': 0.8571428571, 'change': 19.4682635252, 'regAvg': 1166.3303745107, 'cross': 1, 'outLinks': 6, 'skipperRating': 1000.0, 'crewRating': 1477.611146259, 'womenSkipperRating': 1000.0, 'womenCrewRating': 1512.7663916749, 'tsr': 1000.0, 'tcr': 966.2273698835, 'wtsr': 1000.0, 'wtcr': 1001.8000849723, 'womens': True, 'date': 1728086400000, 'partner': {'name': 'Brooke Schmelz', 'key': 'brooke-schmelz'}, 'venue': 'Connecticut College', 'raceID': 'f24/stu-nelson-connecticut/4A', 'type': 'fleet', 'scoring': '3 Divisions'}, {'score': 12, 'pos': 'Crew', 'predicted': 3, 'ratio': 0.2142857143, 'change': -33.9038499185, 'regAvg': 1166.3303745107, 'cross': 1, 'outLinks': 6, 'skipperRating': 1000.0, 'crewRating': 1477.611146259, 'womenSkipperRating': 1000.0, 'womenCrewRating': 1478.8625417564, 'tsr': 1000.0, 'tcr': 966.2273698835, 'wtsr': 1000.0, 'wtcr': 1001.8000849723, 'womens': True, 'date': 1728086400000, 'partner': {'name': 'Brooke Schmelz', 'key': 'brooke-schmelz'}, 'venue': 'Connecticut College', 'raceID': 'f24/stu-nelson-connecticut/5A', 'type': 'fleet', 'scoring': '3 Divisions'}, {'score': 5, 'pos': 'Crew', 'predicted': 3, 'ratio': 0.7142857143, 'change': 14.2709504881, 'regAvg': 1166.3303745107, 'cross': 1, 'outLinks': 6, 'skipperRating': 1000.0, 'crewRating': 1477.611146259, 'womenSkipperRating': 1000.0, 'womenCrewRating': 1493.1334922446, 'tsr': 1000.0, 'tcr': 966.2273698835, 'wtsr': 1000.0, 'wtcr': 1001.8000849723, 'womens': True, 'date': 1728086400000, 'partner': {'name': 'Brooke Schmelz', 'key': 'brooke-schmelz'}, 'venue': 'Connecticut College', 'raceID': 'f24/stu-nelson-connecticut/6A', 'type': 'fleet', 'scoring': '3 Divisions'}, {'score': 10, 'pos': 'Crew', 'predicted': 4, 'ratio': 0.3571428571, 'change': -11.6190823266, 'regAvg': 1166.3303745107, 'cross': 1, 'outLinks': 6, 'skipperRating': 1000.0, 'crewRating': 1477.611146259, 'womenSkipperRating': 1000.0, 'womenCrewRating': 1481.514409918, 'tsr': 1000.0, 'tcr': 966.2273698835, 'wtsr': 1000.0, 'wtcr': 1001.8000849723, 'womens': True, 'date': 1728086400000, 'partner': {'name': 'Brooke Schmelz', 'key': 'brooke-schmelz'}, 'venue': 'Connecticut College', 'raceID': 'f24/stu-nelson-connecticut/7A', 'type': 'fleet', 'scoring': '3 Divisions'}, {'score': 2, 'pos': 'Crew', 'predicted': 4, 'ratio': 0.9285714286000001, 'change': 22.8633740101, 'regAvg': 1166.3303745107, 'cross': 1, 'outLinks': 6, 'skipperRating': 1000.0, 'crewRating': 1477.611146259, 'womenSkipperRating': 1000.0, 'womenCrewRating': 1504.3777839281, 'tsr': 1000.0, 'tcr': 966.2273698835, 'wtsr': 1000.0, 'wtcr': 1001.8000849723, 'womens': True, 'date': 1728086400000, 'partner': {'name': 'Brooke Schmelz', 'key': 'brooke-schmelz'}, 'venue': 'Connecticut College', 'raceID': 'f24/stu-nelson-connecticut/8A', 'type': 'fleet', 'scoring': '3 Divisions'}, {'score': 2, 'pos': 'Crew', 'predicted': 4, 'ratio': 0.9285714286000001, 'change': 22.9277485278, 'regAvg': 1166.3303745107, 'cross': 1, 'outLinks': 6, 'skipperRating': 1000.0, 'crewRating': 1477.611146259, 'womenSkipperRating': 1000.0, 'womenCrewRating': 1527.3055324559, 'tsr': 1000.0, 'tcr': 966.2273698835, 'wtsr': 1000.0, 'wtcr': 1001.8000849723, 'womens': True, 'date': 1728086400000, 'partner': {'name': 'Brooke Schmelz', 'key': 'brooke-schmelz'}, 'venue': 'Connecticut College', 'raceID': 'f24/stu-nelson-connecticut/9A', 'type': 'fleet', 'scoring': '3 Divisions'}, {'score': 10, 'pos': 'Crew', 'predicted': 4, 'ratio': 0.3571428571, 'change': -14.1306087951, 'regAvg': 1166.3303745107, 'cross': 1, 'outLinks': 6, 'skipperRating': 1000.0, 'crewRating': 1477.611146259, 'womenSkipperRating': 1000.0, 'womenCrewRating': 1513.1749236607, 'tsr': 1000.0, 'tcr': 966.2273698835, 'wtsr': 1000.0, 'wtcr': 1001.8000849723, 'womens': True, 'date': 1728086400000, 'partner': {'name': 'Brooke Schmelz', 'key': 'brooke-schmelz'}, 'venue': 'Connecticut College', 'raceID': 'f24/stu-nelson-connecticut/10A', 'type': 'fleet', 'scoring': '3 Divisions'}, {'score': 17, 'pos': 'Crew', 'predicted': 15, 'ratio': 0.058823529400000005, 'change': -8.8946423446, 'regAvg': 1351.6780887172, 'cross': 1, 'outLinks': 9, 'skipperRating': 1000.0, 'crewRating': 1477.611146259, 'womenSkipperRating': 1000.0, 'womenCrewRating': 1504.2802813161, 'tsr': 1000.0, 'tcr': 966.2273698835, 'wtsr': 1000.0, 'wtcr': 1001.8000849723, 'womens': True, 'date': 1728691200000, 'partner': {'name': 'Brooke Schmelz', 'key': 'brooke-schmelz'}, 'venue': 'Navy', 'raceID': 'f24/women-atlantic-coast-finals/1A', 'type': 'fleet', 'scoring': '2 Divisions'}, {'score': 4, 'pos': 'Crew', 'predicted': 13, 'ratio': 0.8235294118, 'change': 21.9243246444, 'regAvg': 1351.6780887172, 'cross': 1, 'outLinks': 9, 'skipperRating': 1000.0, 'crewRating': 1477.611146259, 'womenSkipperRating': 1000.0, 'womenCrewRating': 1526.2046059605, 'tsr': 1000.0, 'tcr': 966.2273698835, 'wtsr': 1000.0, 'wtcr': 1001.8000849723, 'womens': True, 'date': 1728691200000, 'partner': {'name': 'Brooke Schmelz', 'key': 'brooke-schmelz'}, 'venue': 'Navy', 'raceID': 'f24/women-atlantic-coast-finals/2A', 'type': 'fleet', 'scoring': '2 Divisions'}, {'score': 10, 'pos': 'Crew', 'predicted': 14, 'ratio': 0.4705882353, 'change': 14.0285436182, 'regAvg': 1351.6780887172, 'cross': 1, 'outLinks': 9, 'skipperRating': 1000.0, 'crewRating': 1477.611146259, 'womenSkipperRating': 1000.0, 'womenCrewRating': 1540.2331495788, 'tsr': 1000.0, 'tcr': 966.2273698835, 'wtsr': 1000.0, 'wtcr': 1001.8000849723, 'womens': True, 'date': 1728691200000, 'partner': {'name': 'Brooke Schmelz', 'key': 'brooke-schmelz'}, 'venue': 'Navy', 'raceID': 'f24/women-atlantic-coast-finals/3A', 'type': 'fleet', 'scoring': '2 Divisions'}, {'score': 2, 'pos': 'Crew', 'predicted': 13, 'ratio': 0.9411764706, 'change': 23.5478861107, 'regAvg': 1351.6780887172, 'cross': 1, 'outLinks': 9, 'skipperRating': 1000.0, 'crewRating': 1477.611146259, 'womenSkipperRating': 1000.0, 'womenCrewRating': 1563.7810356895, 'tsr': 1000.0, 'tcr': 966.2273698835, 'wtsr': 1000.0, 'wtcr': 1001.8000849723, 'womens': True, 'date': 1728691200000, 'partner': {'name': 'Brooke Schmelz', 'key': 'brooke-schmelz'}, 'venue': 'Navy', 'raceID': 'f24/women-atlantic-coast-finals/4A', 'type': 'fleet', 'scoring': '2 Divisions'}, {'score': 9, 'pos': 'Crew', 'predicted': 13, 'ratio': 0.5294117647000001, 'change': 13.9341627909, 'regAvg': 1351.6780887172, 'cross': 1, 'outLinks': 9, 'skipperRating': 1000.0, 'crewRating': 1477.611146259, 'womenSkipperRating': 1000.0, 'womenCrewRating': 1577.7151984804, 'tsr': 1000.0, 'tcr': 966.2273698835, 'wtsr': 1000.0, 'wtcr': 1001.8000849723, 'womens': True, 'date': 1728691200000, 'partner': {'name': 'Brooke Schmelz', 'key': 'brooke-schmelz'}, 'venue': 'Navy', 'raceID': 'f24/women-atlantic-coast-finals/5A', 'type': 'fleet', 'scoring': '2 Divisions'}, {'score': 15, 'pos': 'Crew', 'predicted': 13, 'ratio': 0.1764705882, 'change': 3.0117119598, 'regAvg': 1351.6780887172, 'cross': 1, 'outLinks': 9, 'skipperRating': 1000.0, 'crewRating': 1477.611146259, 'womenSkipperRating': 1000.0, 'womenCrewRating': 1580.7269104402, 'tsr': 1000.0, 'tcr': 966.2273698835, 'wtsr': 1000.0, 'wtcr': 1001.8000849723, 'womens': True, 'date': 1728691200000, 'partner': {'name': 'Brooke Schmelz', 'key': 'brooke-schmelz'}, 'venue': 'Navy', 'raceID': 'f24/women-atlantic-coast-finals/6A', 'type': 'fleet', 'scoring': '2 Divisions'}, {'score': 13, 'pos': 'Crew', 'predicted': 13, 'ratio': 0.2941176471, 'change': 5.5854186072, 'regAvg': 1351.6780887172, 'cross': 1, 'outLinks': 9, 'skipperRating': 1000.0, 'crewRating': 1477.611146259, 'womenSkipperRating': 1000.0, 'womenCrewRating': 1586.3123290474, 'tsr': 1000.0, 'tcr': 966.2273698835, 'wtsr': 1000.0, 'wtcr': 1001.8000849723, 'womens': True, 'date': 1728691200000, 'partner': {'name': 'Brooke Schmelz', 'key': 'brooke-schmelz'}, 'venue': 'Navy', 'raceID': 'f24/women-atlantic-coast-finals/7A', 'type': 'fleet', 'scoring': '2 Divisions'}, {'score': 10, 'pos': 'Crew', 'predicted': 13, 'ratio': 0.4705882353, 'change': 12.818990656, 'regAvg': 1351.6780887172, 'cross': 1, 'outLinks': 9, 'skipperRating': 1000.0, 'crewRating': 1477.611146259, 'womenSkipperRating': 1000.0, 'womenCrewRating': 1599.1313197033, 'tsr': 1000.0, 'tcr': 966.2273698835, 'wtsr': 1000.0, 'wtcr': 1001.8000849723, 'womens': True, 'date': 1728691200000, 'partner': {'name': 'Brooke Schmelz', 'key': 'brooke-schmelz'}, 'venue': 'Navy', 'raceID': 'f24/women-atlantic-coast-finals/8A', 'type': 'fleet', 'scoring': '2 Divisions'}, {'score': 13, 'pos': 'Crew', 'predicted': 13, 'ratio': 0.2941176471, 'change': 8.1737848593, 'regAvg': 1351.6780887172, 'cross': 1, 'outLinks': 9, 'skipperRating': 1000.0, 'crewRating': 1477.611146259, 'womenSkipperRating': 1000.0, 'womenCrewRating': 1607.3051045626, 'tsr': 1000.0, 'tcr': 966.2273698835, 'wtsr': 1000.0, 'wtcr': 1001.8000849723, 'womens': True, 'date': 1728691200000, 'partner': {'name': 'Brooke Schmelz', 'key': 'brooke-schmelz'}, 'venue': 'Navy', 'raceID': 'f24/women-atlantic-coast-finals/9A', 'type': 'fleet', 'scoring': '2 Divisions'}, {'score': 12, 'pos': 'Crew', 'predicted': 13, 'ratio': 0.3529411765, 'change': 6.462797363, 'regAvg': 1351.6780887172, 'cross': 1, 'outLinks': 9, 'skipperRating': 1000.0, 'crewRating': 1477.611146259, 'womenSkipperRating': 1000.0, 'womenCrewRating': 1613.7679019256, 'tsr': 1000.0, 'tcr': 966.2273698835, 'wtsr': 1000.0, 'wtcr': 1001.8000849723, 'womens': True, 'date': 1728691200000, 'partner': {'name': 'Brooke Schmelz', 'key': 'brooke-schmelz'}, 'venue': 'Navy', 'raceID': 'f24/women-atlantic-coast-finals/10A', 'type': 'fleet', 'scoring': '2 Divisions'}, {'score': 10, 'pos': 'Crew', 'predicted': 13, 'ratio': 0.4705882353, 'change': 13.1266369988, 'regAvg': 1351.6780887172, 'cross': 1, 'outLinks': 9, 'skipperRating': 1000.0, 'crewRating': 1477.611146259, 'womenSkipperRating': 1000.0, 'womenCrewRating': 1626.8945389244, 'tsr': 1000.0, 'tcr': 966.2273698835, 'wtsr': 1000.0, 'wtcr': 1001.8000849723, 'womens': True, 'date': 1728691200000, 'partner': {'name': 'Brooke Schmelz', 'key': 'brooke-schmelz'}, 'venue': 'Navy', 'raceID': 'f24/women-atlantic-coast-finals/11A', 'type': 'fleet', 'scoring': '2 Divisions'}, {'score': 7, 'pos': 'Crew', 'predicted': 13, 'ratio': 0.6470588235, 'change': 17.5717214854, 'regAvg': 1351.6780887172, 'cross': 1, 'outLinks': 9, 'skipperRating': 1000.0, 'crewRating': 1477.611146259, 'womenSkipperRating': 1000.0, 'womenCrewRating': 1644.4662604098, 'tsr': 1000.0, 'tcr': 966.2273698835, 'wtsr': 1000.0, 'wtcr': 1001.8000849723, 'womens': True, 'date': 1728691200000, 'partner': {'name': 'Brooke Schmelz', 'key': 'brooke-schmelz'}, 'venue': 'Navy', 'raceID': 'f24/women-atlantic-coast-finals/12A', 'type': 'fleet', 'scoring': '2 Divisions'}, {'score': 13, 'pos': 'Crew', 'predicted': 12, 'ratio': 0.2941176471, 'change': 0.5936629693000001, 'regAvg': 1351.6780887172, 'cross': 1, 'outLinks': 9, 'skipperRating': 1000.0, 'crewRating': 1477.611146259, 'womenSkipperRating': 1000.0, 'womenCrewRating': 1645.0599233791, 'tsr': 1000.0, 'tcr': 966.2273698835, 'wtsr': 1000.0, 'wtcr': 1001.8000849723, 'womens': True, 'date': 1728691200000, 'partner': {'name': 'Brooke Schmelz', 'key': 'brooke-schmelz'}, 'venue': 'Navy', 'raceID': 'f24/women-atlantic-coast-finals/13A', 'type': 'fleet', 'scoring': '2 Divisions'}, {'score': 12, 'pos': 'Crew', 'predicted': 12, 'ratio': 0.3529411765, 'change': 5.265960343, 'regAvg': 1351.6780887172, 'cross': 1, 'outLinks': 9, 'skipperRating': 1000.0, 'crewRating': 1477.611146259, 'womenSkipperRating': 1000.0, 'womenCrewRating': 1650.3258837221, 'tsr': 1000.0, 'tcr': 966.2273698835, 'wtsr': 1000.0, 'wtcr': 1001.8000849723, 'womens': True, 'date': 1728691200000, 'partner': {'name': 'Brooke Schmelz', 'key': 'brooke-schmelz'}, 'venue': 'Navy', 'raceID': 'f24/women-atlantic-coast-finals/14A', 'type': 'fleet', 'scoring': '2 Divisions'}, {'score': 17, 'pos': 'Crew', 'predicted': 10, 'ratio': 0.058823529400000005, 'change': -39.8499640616, 'regAvg': 1351.6780887172, 'cross': 1, 'outLinks': 9, 'skipperRating': 1000.0, 'crewRating': 1477.611146259, 'womenSkipperRating': 1000.0, 'womenCrewRating': 1610.4759196606, 'tsr': 1000.0, 'tcr': 966.2273698835, 'wtsr': 1000.0, 'wtcr': 1001.8000849723, 'womens': True, 'date': 1728691200000, 'partner': {'name': 'Brooke Schmelz', 'key': 'brooke-schmelz'}, 'venue': 'Navy', 'raceID': 'f24/women-atlantic-coast-finals/15A', 'type': 'fleet', 'scoring': '2 Divisions'}, {'score': 3, 'pos': 'Crew', 'predicted': 10, 'ratio': 0.8823529412000001, 'change': 19.2359404408, 'regAvg': 1351.6780887172, 'cross': 1, 'outLinks': 9, 'skipperRating': 1000.0, 'crewRating': 1477.611146259, 'womenSkipperRating': 1000.0, 'womenCrewRating': 1629.7118601014, 'tsr': 1000.0, 'tcr': 966.2273698835, 'wtsr': 1000.0, 'wtcr': 1001.8000849723, 'womens': True, 'date': 1728691200000, 'partner': {'name': 'Brooke Schmelz', 'key': 'brooke-schmelz'}, 'venue': 'Navy', 'raceID': 'f24/women-atlantic-coast-finals/16A', 'type': 'fleet', 'scoring': '2 Divisions'}, {'score': 2, 'pos': 'Crew', 'predicted': 5, 'ratio': 0.9375, 'change': 20.6677568708, 'regAvg': 1186.0055699331, 'cross': 0, 'outLinks': 0, 'skipperRating': 1000.0, 'crewRating': 1477.611146259, 'womenSkipperRating': 1000.0, 'womenCrewRating': 1650.3796169722, 'tsr': 1000.0, 'tcr': 966.2273698835, 'wtsr': 1000.0, 'wtcr': 1001.8000849723, 'womens': True, 'date': 1729900800000, 'partner': {'name': 'Brooke Schmelz', 'key': 'brooke-schmelz'}, 'venue': 'Brown', 'raceID': 'f24/women-urn/1A', 'type': 'fleet', 'scoring': '2 Divisions'}, {'score': 7, 'pos': 'Crew', 'predicted': 5, 'ratio': 0.625, 'change': 7.8095254734, 'regAvg': 1186.0055699331, 'cross': 0, 'outLinks': 0, 'skipperRating': 1000.0, 'crewRating': 1477.611146259, 'womenSkipperRating': 1000.0, 'womenCrewRating': 1658.1891424456, 'tsr': 1000.0, 'tcr': 966.2273698835, 'wtsr': 1000.0, 'wtcr': 1001.8000849723, 'womens': True, 'date': 1729900800000, 'partner': {'name': 'Brooke Schmelz', 'key': 'brooke-schmelz'}, 'venue': 'Brown', 'raceID': 'f24/women-urn/2A', 'type': 'fleet', 'scoring': '2 Divisions'}, {'score': 7, 'pos': 'Crew', 'predicted': 5, 'ratio': 0.625, 'change': 6.2722994689, 'regAvg': 1186.0055699331, 'cross': 0, 'outLinks': 0, 'skipperRating': 1000.0, 'crewRating': 1477.611146259, 'womenSkipperRating': 1000.0, 'womenCrewRating': 1664.4614419145, 'tsr': 1000.0, 'tcr': 966.2273698835, 'wtsr': 1000.0, 'wtcr': 1001.8000849723, 'womens': True, 'date': 1729900800000, 'partner': {'name': 'Brooke Schmelz', 'key': 'brooke-schmelz'}, 'venue': 'Brown', 'raceID': 'f24/women-urn/7A', 'type': 'fleet', 'scoring': '2 Divisions'}, {'score': 13, 'pos': 'Crew', 'predicted': 6, 'ratio': 0.25, 'change': -28.4930238181, 'regAvg': 1186.0055699331, 'cross': 0, 'outLinks': 0, 'skipperRating': 1000.0, 'crewRating': 1477.611146259, 'womenSkipperRating': 1000.0, 'womenCrewRating': 1635.9684180964, 'tsr': 1000.0, 'tcr': 966.2273698835, 'wtsr': 1000.0, 'wtcr': 1001.8000849723, 'womens': True, 'date': 1729900800000, 'partner': {'name': 'Brooke Schmelz', 'key': 'brooke-schmelz'}, 'venue': 'Brown', 'raceID': 'f24/women-urn/8A', 'type': 'fleet', 'scoring': '2 Divisions'}, {'score': 4, 'pos': 'Crew', 'predicted': 6, 'ratio': 0.8125, 'change': 17.6439311278, 'regAvg': 1186.0055699331, 'cross': 0, 'outLinks': 0, 'skipperRating': 1000.0, 'crewRating': 1477.611146259, 'womenSkipperRating': 1000.0, 'womenCrewRating': 1653.6123492242, 'tsr': 1000.0, 'tcr': 966.2273698835, 'wtsr': 1000.0, 'wtcr': 1001.8000849723, 'womens': True, 'date': 1729900800000, 'partner': {'name': 'Brooke Schmelz', 'key': 'brooke-schmelz'}, 'venue': 'Brown', 'raceID': 'f24/women-urn/9A', 'type': 'fleet', 'scoring': '2 Divisions'}, {'score': 3, 'pos': 'Crew', 'predicted': 6, 'ratio': 0.875, 'change': 19.4548074777, 'regAvg': 1186.0055699331, 'cross': 0, 'outLinks': 0, 'skipperRating': 1000.0, 'crewRating': 1477.611146259, 'womenSkipperRating': 1000.0, 'womenCrewRating': 1673.0671567018, 'tsr': 1000.0, 'tcr': 966.2273698835, 'wtsr': 1000.0, 'wtcr': 1001.8000849723, 'womens': True, 'date': 1729900800000, 'partner': {'name': 'Brooke Schmelz', 'key': 'brooke-schmelz'}, 'venue': 'Brown', 'raceID': 'f24/women-urn/10A', 'type': 'fleet', 'scoring': '2 Divisions'}, {'score': 12, 'pos': 'Crew', 'predicted': 7, 'ratio': 0.3125, 'change': -22.3991768951, 'regAvg': 1186.0055699331, 'cross': 0, 'outLinks': 0, 'skipperRating': 1000.0, 'crewRating': 1477.611146259, 'womenSkipperRating': 1000.0, 'womenCrewRating': 1650.6679798068, 'tsr': 1000.0, 'tcr': 966.2273698835, 'wtsr': 1000.0, 'wtcr': 1001.8000849723, 'womens': True, 'date': 1729900800000, 'partner': {'name': 'Brooke Schmelz', 'key': 'brooke-schmelz'}, 'venue': 'Brown', 'raceID': 'f24/women-urn/11A', 'type': 'fleet', 'scoring': '2 Divisions'}, {'score': 12, 'pos': 'Crew', 'predicted': 7, 'ratio': 0.3125, 'change': -25.581419934, 'regAvg': 1186.0055699331, 'cross': 0, 'outLinks': 0, 'skipperRating': 1000.0, 'crewRating': 1477.611146259, 'womenSkipperRating': 1000.0, 'womenCrewRating': 1625.0865598728, 'tsr': 1000.0, 'tcr': 966.2273698835, 'wtsr': 1000.0, 'wtcr': 1001.8000849723, 'womens': True, 'date': 1729900800000, 'partner': {'name': 'Brooke Schmelz', 'key': 'brooke-schmelz'}, 'venue': 'Brown', 'raceID': 'f24/women-urn/12A', 'type': 'fleet', 'scoring': '2 Divisions'}, {'score': 3, 'pos': 'Crew', 'predicted': 7, 'ratio': 0.875, 'change': 18.6479070913, 'regAvg': 1186.0055699331, 'cross': 0, 'outLinks': 0, 'skipperRating': 1000.0, 'crewRating': 1477.611146259, 'womenSkipperRating': 1000.0, 'womenCrewRating': 1643.7344669641, 'tsr': 1000.0, 'tcr': 966.2273698835, 'wtsr': 1000.0, 'wtcr': 1001.8000849723, 'womens': True, 'date': 1729900800000, 'partner': {'name': 'Brooke Schmelz', 'key': 'brooke-schmelz'}, 'venue': 'Brown', 'raceID': 'f24/women-urn/13A', 'type': 'fleet', 'scoring': '2 Divisions'}, {'score': 4, 'pos': 'Crew', 'predicted': 7, 'ratio': 0.8125, 'change': 16.5999883821, 'regAvg': 1186.0055699331, 'cross': 0, 'outLinks': 0, 'skipperRating': 1000.0, 'crewRating': 1477.611146259, 'womenSkipperRating': 1000.0, 'womenCrewRating': 1660.3344553461, 'tsr': 1000.0, 'tcr': 966.2273698835, 'wtsr': 1000.0, 'wtcr': 1001.8000849723, 'womens': True, 'date': 1729900800000, 'partner': {'name': 'Brooke Schmelz', 'key': 'brooke-schmelz'}, 'venue': 'Brown', 'raceID': 'f24/women-urn/14A', 'type': 'fleet', 'scoring': '2 Divisions'}, {'raceID': 's25/usf-women-team-race/1', 'raceNum': 1, 'round': 'Round 1', 'pos': 'Crew', 'date': 1740182400000, 'womens': True, 'partner': {'key': 'brooke-schmelz', 'name': 'Brooke Schmelz'}, 'opponentTeam': 'Jacksonville', 'opponentNick': 'Fins', 'score': '1-2-6', 'outcome': 'win', 'predicted': 'win', 'skipperRating': 1000.0, 'crewRating': 1477.611146259, 'womenSkipperRating': 1000.0, 'womenCrewRating': 1660.3344553461, 'tsr': 1000.0, 'tcr': 966.2273698835, 'wtsr': 1000.0, 'wtcr': 1037.4775544425, 'regAvg': 1053.7566345048, 'change': 35.6774694701, 'type': 'team'}, {'raceID': 's25/usf-women-team-race/5', 'raceNum': 5, 'round': 'Round 1', 'pos': 'Crew', 'date': 1740182400000, 'womens': True, 'partner': {'key': 'brooke-schmelz', 'name': 'Brooke Schmelz'}, 'opponentTeam': 'Florida State', 'opponentNick': 'Seminoles', 'score': '1-2-3', 'outcome': 'win', 'predicted': 'win', 'skipperRating': 1000.0, 'crewRating': 1477.611146259, 'womenSkipperRating': 1000.0, 'womenCrewRating': 1660.3344553461, 'tsr': 1000.0, 'tcr': 966.2273698835, 'wtsr': 1000.0, 'wtcr': 1059.1960656995, 'regAvg': 1053.7566345048, 'change': 21.718511257, 'type': 'team'}, {'raceID': 's25/usf-women-team-race/9', 'raceNum': 9, 'round': 'Round 1', 'pos': 'Crew', 'date': 1740182400000, 'womens': True, 'partner': {'key': 'brooke-schmelz', 'name': 'Brooke Schmelz'}, 'opponentTeam': 'Charleston', 'opponentNick': 'Cougars', 'score': '3-4-5', 'outcome': 'lose', 'predicted': 'lose', 'skipperRating': 1000.0, 'crewRating': 1477.611146259, 'womenSkipperRating': 1000.0, 'womenCrewRating': 1660.3344553461, 'tsr': 1000.0, 'tcr': 966.2273698835, 'wtsr': 1000.0, 'wtcr': 1041.2055806002, 'regAvg': 1053.7566345048, 'change': -17.9904850993, 'type': 'team'}, {'raceID': 's25/usf-women-team-race/13', 'raceNum': 13, 'round': 'Round 1', 'pos': 'Crew', 'date': 1740182400000, 'womens': True, 'partner': {'key': 'brooke-schmelz', 'name': 'Brooke Schmelz'}, 'opponentTeam': 'Hawaii', 'opponentNick': 'Rainbows', 'score': '1-2-5', 'outcome': 'win', 'predicted': 'lose', 'skipperRating': 1000.0, 'crewRating': 1477.611146259, 'womenSkipperRating': 1000.0, 'womenCrewRating': 1660.3344553461, 'tsr': 1000.0, 'tcr': 966.2273698835, 'wtsr': 1000.0, 'wtcr': 1073.1518452544, 'regAvg': 1053.7566345048, 'change': 31.9462646542, 'type': 'team'}, {'raceID': 's25/usf-women-team-race/17', 'raceNum': 17, 'round': 'Round 1', 'pos': 'Crew', 'date': 1740182400000, 'womens': True, 'partner': {'key': 'brooke-schmelz', 'name': 'Brooke Schmelz'}, 'opponentTeam': 'Rollins', 'opponentNick': 'Tars', 'score': '1-3-5', 'outcome': 'win', 'predicted': 'win', 'skipperRating': 1000.0, 'crewRating': 1477.611146259, 'womenSkipperRating': 1000.0, 'womenCrewRating': 1660.3344553461, 'tsr': 1000.0, 'tcr': 966.2273698835, 'wtsr': 1000.0, 'wtcr': 1084.7772376697, 'regAvg': 1053.7566345048, 'change': 11.6253924153, 'type': 'team'}, {'raceID': 's25/usf-women-team-race/21', 'raceNum': 21, 'round': 'Round 1', 'pos': 'Crew', 'date': 1740182400000, 'womens': True, 'partner': {'key': 'brooke-schmelz', 'name': 'Brooke Schmelz'}, 'opponentTeam': 'South Florida', 'opponentNick': 'Bulls', 'score': '1-2-5', 'outcome': 'win', 'predicted': 'lose', 'skipperRating': 1000.0, 'crewRating': 1477.611146259, 'womenSkipperRating': 1000.0, 'womenCrewRating': 1660.3344553461, 'tsr': 1000.0, 'tcr': 966.2273698835, 'wtsr': 1000.0, 'wtcr': 1116.0147766305, 'regAvg': 1053.7566345048, 'change': 31.2375389608, 'type': 'team'}, {'raceID': 's25/usf-women-team-race/23', 'raceNum': 23, 'round': 'Round 2', 'pos': 'Crew', 'date': 1740182400000, 'womens': True, 'partner': {'key': 'brooke-schmelz', 'name': 'Brooke Schmelz'}, 'opponentTeam': 'Florida State', 'opponentNick': 'Seminoles', 'score': '1-2-4', 'outcome': 'win', 'predicted': 'win', 'skipperRating': 1000.0, 'crewRating': 1477.611146259, 'womenSkipperRating': 1000.0, 'womenCrewRating': 1660.3344553461, 'tsr': 1000.0, 'tcr': 966.2273698835, 'wtsr': 1000.0, 'wtcr': 1124.5409107657, 'regAvg': 1053.7566345048, 'change': 8.5261341353, 'type': 'team'}, {'raceID': 's25/usf-women-team-race/27', 'raceNum': 27, 'round': 'Round 2', 'pos': 'Crew', 'date': 1740182400000, 'womens': True, 'partner': {'key': 'brooke-schmelz', 'name': 'Brooke Schmelz'}, 'opponentTeam': 'Charleston', 'opponentNick': 'Cougars', 'score': '3-4-5', 'outcome': 'lose', 'predicted': 'lose', 'skipperRating': 1000.0, 'crewRating': 1477.611146259, 'womenSkipperRating': 1000.0, 'womenCrewRating': 1660.3344553461, 'tsr': 1000.0, 'tcr': 966.2273698835, 'wtsr': 1000.0, 'wtcr': 1111.9048096732, 'regAvg': 1053.7566345048, 'change': -12.6361010925, 'type': 'team'}, {'raceID': 's25/women-team-race/1', 'raceNum': 1, 'round': 'Round 1', 'pos': 'Crew', 'date': 1740787200000, 'womens': True, 'partner': {'key': 'emma-wang', 'name': 'Emma Wang'}, 'opponentTeam': 'Harvard', 'opponentNick': 'Crimson', 'score': '3-4-6', 'outcome': 'lose', 'predicted': 'win', 'skipperRating': 1000.0, 'crewRating': 1477.611146259, 'womenSkipperRating': 1000.0, 'womenCrewRating': 1660.3344553461, 'tsr': 1000.0, 'tcr': 966.2273698835, 'wtsr': 1000.0, 'wtcr': 1094.0487380291, 'regAvg': 1144.631348403, 'change': -17.8560716442, 'type': 'team'}, {'raceID': 's25/women-team-race/4', 'raceNum': 4, 'round': 'Round 1', 'pos': 'Crew', 'date': 1740787200000, 'womens': True, 'partner': {'key': 'emma-wang', 'name': 'Emma Wang'}, 'opponentTeam': 'Brown', 'opponentNick': 'Bears', 'score': '4-5-6', 'outcome': 'lose', 'predicted': 'lose', 'skipperRating': 1000.0, 'crewRating': 1477.611146259, 'womenSkipperRating': 1000.0, 'womenCrewRating': 1660.3344553461, 'tsr': 1000.0, 'tcr': 966.2273698835, 'wtsr': 1000.0, 'wtcr': 1089.7375095187, 'regAvg': 1144.631348403, 'change': -4.3112285103, 'type': 'team'}, {'raceID': 's25/women-team-race/7', 'raceNum': 7, 'round': 'Round 1', 'pos': 'Crew', 'date': 1740787200000, 'womens': True, 'partner': {'key': 'emma-wang', 'name': 'Emma Wang'}, 'opponentTeam': 'Yale', 'opponentNick': 'Bulldogs', 'score': '4-5-6', 'outcome': 'lose', 'predicted': 'lose', 'skipperRating': 1000.0, 'crewRating': 1477.611146259, 'womenSkipperRating': 1000.0, 'womenCrewRating': 1660.3344553461, 'tsr': 1000.0, 'tcr': 966.2273698835, 'wtsr': 1000.0, 'wtcr': 1086.7260324507, 'regAvg': 1144.631348403, 'change': -3.0114770681, 'type': 'team'}, {'raceID': 's25/women-team-race/12', 'raceNum': 12, 'round': 'Round 1', 'pos': 'Crew', 'date': 1740787200000, 'womens': True, 'partner': {'key': 'emma-wang', 'name': 'Emma Wang'}, 'opponentTeam': 'Roger Williams', 'opponentNick': 'Hawks', 'score': '1-2-5', 'outcome': 'win', 'predicted': 'win', 'skipperRating': 1000.0, 'crewRating': 1477.611146259, 'womenSkipperRating': 1000.0, 'womenCrewRating': 1660.3344553461, 'tsr': 1000.0, 'tcr': 966.2273698835, 'wtsr': 1000.0, 'wtcr': 1111.5639705486, 'regAvg': 1144.631348403, 'change': 24.8379380979, 'type': 'team'}, {'raceID': 's25/women-team-race/15', 'raceNum': 15, 'round': 'Round 1', 'pos': 'Crew', 'date': 1740787200000, 'womens': True, 'partner': {'key': 'emma-wang', 'name': 'Emma Wang'}, 'opponentTeam': 'Tufts', 'opponentNick': 'Jumbos', 'score': '1-2-5', 'outcome': 'win', 'predicted': 'win', 'skipperRating': 1000.0, 'crewRating': 1477.611146259, 'womenSkipperRating': 1000.0, 'womenCrewRating': 1660.3344553461, 'tsr': 1000.0, 'tcr': 966.2273698835, 'wtsr': 1000.0, 'wtcr': 1139.2473373754, 'regAvg': 1144.631348403, 'change': 27.6833668268, 'type': 'team'}, {'raceID': 's25/south-new-england-women-team-race/2', 'raceNum': 2, 'round': 'Round 1', 'pos': 'Crew', 'date': 1741996800000, 'womens': True, 'partner': {'key': 'brooke-schmelz', 'name': 'Brooke Schmelz'}, 'opponentTeam': 'Brown', 'opponentNick': 'Bears', 'score': '1-3-5', 'outcome': 'win', 'predicted': 'lose', 'skipperRating': 1000.0, 'crewRating': 1477.611146259, 'womenSkipperRating': 1000.0, 'womenCrewRating': 1660.3344553461, 'tsr': 1000.0, 'tcr': 966.2273698835, 'wtsr': 1000.0, 'wtcr': 1200.0047992054, 'regAvg': 1142.7826261732, 'change': 60.75746183, 'type': 'team'}, {'raceID': 's25/south-new-england-women-team-race/8', 'raceNum': 8, 'round': 'Round 1', 'pos': 'Crew', 'date': 1741996800000, 'womens': True, 'partner': {'key': 'lucy-brock', 'name': 'Lucy Brock'}, 'opponentTeam': 'Coast Guard', 'opponentNick': 'Bears', 'score': '1-2-3', 'outcome': 'win', 'predicted': 'win', 'skipperRating': 1000.0, 'crewRating': 1477.611146259, 'womenSkipperRating': 1000.0, 'womenCrewRating': 1660.3344553461, 'tsr': 1000.0, 'tcr': 966.2273698835, 'wtsr': 1000.0, 'wtcr': 1217.0766213004, 'regAvg': 1142.7826261732, 'change': 17.071822095, 'type': 'team'}, {'raceID': 's25/south-new-england-women-team-race/10', 'raceNum': 10, 'round': 'Round 1', 'pos': 'Crew', 'date': 1741996800000, 'womens': True, 'partner': {'key': 'lucy-brock', 'name': 'Lucy Brock'}, 'opponentTeam': 'Tufts', 'opponentNick': 'Jumbos', 'score': '1-2-6', 'outcome': 'win', 'predicted': 'win', 'skipperRating': 1000.0, 'crewRating': 1477.611146259, 'womenSkipperRating': 1000.0, 'womenCrewRating': 1660.3344553461, 'tsr': 1000.0, 'tcr': 966.2273698835, 'wtsr': 1000.0, 'wtcr': 1234.8666675301, 'regAvg': 1142.7826261732, 'change': 17.7900462297, 'type': 'team'}, {'raceID': 's25/south-new-england-women-team-race/13', 'raceNum': 13, 'round': 'Round 1', 'pos': 'Crew', 'date': 1741996800000, 'womens': True, 'partner': {'key': 'brooke-schmelz', 'name': 'Brooke Schmelz'}, 'opponentTeam': 'Harvard', 'opponentNick': 'Crimson', 'score': '2-4-6', 'outcome': 'lose', 'predicted': 'win', 'skipperRating': 1000.0, 'crewRating': 1477.611146259, 'womenSkipperRating': 1000.0, 'womenCrewRating': 1660.3344553461, 'tsr': 1000.0, 'tcr': 966.2273698835, 'wtsr': 1000.0, 'wtcr': 1203.6439045695, 'regAvg': 1142.7826261732, 'change': -31.2227629606, 'type': 'team'}, {'raceID': 's25/south-new-england-women-team-race/17', 'raceNum': 17, 'round': 'Round 2', 'pos': 'Crew', 'date': 1741996800000, 'womens': True, 'partner': {'key': 'brooke-schmelz', 'name': 'Brooke Schmelz'}, 'opponentTeam': 'Brown', 'opponentNick': 'Bears', 'score': '4-5-6', 'outcome': 'lose', 'predicted': 'lose', 'skipperRating': 1000.0, 'crewRating': 1477.611146259, 'womenSkipperRating': 1000.0, 'womenCrewRating': 1660.3344553461, 'tsr': 1000.0, 'tcr': 966.2273698835, 'wtsr': 1000.0, 'wtcr': 1196.9001187162, 'regAvg': 1142.7826261732, 'change': -6.7437858533, 'type': 'team'}, {'raceID': 's25/south-new-england-women-team-race/23', 'raceNum': 23, 'round': 'Round 2', 'pos': 'Crew', 'date': 1741996800000, 'womens': True, 'partner': {'key': 'lucy-brock', 'name': 'Lucy Brock'}, 'opponentTeam': 'Coast Guard', 'opponentNick': 'Bears', 'score': '1-2-4', 'outcome': 'win', 'predicted': 'win', 'skipperRating': 1000.0, 'crewRating': 1477.611146259, 'womenSkipperRating': 1000.0, 'womenCrewRating': 1660.3344553461, 'tsr': 1000.0, 'tcr': 966.2273698835, 'wtsr': 1000.0, 'wtcr': 1204.7665489084, 'regAvg': 1142.7826261732, 'change': 7.8664301922, 'type': 'team'}, {'raceID': 's25/south-new-england-women-team-race/25', 'raceNum': 25, 'round': 'Round 2', 'pos': 'Crew', 'date': 1741996800000, 'womens': True, 'partner': {'key': 'lucy-brock', 'name': 'Lucy Brock'}, 'opponentTeam': 'Tufts', 'opponentNick': 'Jumbos', 'score': '1-2-4', 'outcome': 'win', 'predicted': 'win', 'skipperRating': 1000.0, 'crewRating': 1477.611146259, 'womenSkipperRating': 1000.0, 'womenCrewRating': 1660.3344553461, 'tsr': 1000.0, 'tcr': 966.2273698835, 'wtsr': 1000.0, 'wtcr': 1213.9144208058, 'regAvg': 1142.7826261732, 'change': 9.1478718973, 'type': 'team'}, {'raceID': 's25/south-new-england-women-team-race/28', 'raceNum': 28, 'round': 'Round 2', 'pos': 'Crew', 'date': 1741996800000, 'womens': True, 'partner': {'key': 'brooke-schmelz', 'name': 'Brooke Schmelz'}, 'opponentTeam': 'Harvard', 'opponentNick': 'Crimson', 'score': '3-4-6', 'outcome': 'lose', 'predicted': 'lose', 'skipperRating': 1000.0, 'crewRating': 1477.611146259, 'womenSkipperRating': 1000.0, 'womenCrewRating': 1660.3344553461, 'tsr': 1000.0, 'tcr': 966.2273698835, 'wtsr': 1000.0, 'wtcr': 1195.5386093549, 'regAvg': 1142.7826261732, 'change': -18.3758114509, 'type': 'team'}, {'raceID': 's25/south-new-england-women-team-race/32', 'raceNum': 32, 'round': 'Round 3', 'pos': 'Crew', 'date': 1741996800000, 'womens': True, 'partner': {'key': 'brooke-schmelz', 'name': 'Brooke Schmelz'}, 'opponentTeam': 'Brown', 'opponentNick': 'Bears', 'score': '4-5-6', 'outcome': 'lose', 'predicted': 'lose', 'skipperRating': 1000.0, 'crewRating': 1477.611146259, 'womenSkipperRating': 1000.0, 'womenCrewRating': 1660.3344553461, 'tsr': 1000.0, 'tcr': 966.2273698835, 'wtsr': 1000.0, 'wtcr': 1193.2100927678, 'regAvg': 1142.7826261732, 'change': -2.3285165871, 'type': 'team'}, {'raceID': 's25/south-new-england-women-team-race/40', 'raceNum': 40, 'round': 'Round 3', 'pos': 'Crew', 'date': 1741996800000, 'womens': True, 'partner': {'key': 'brooke-schmelz', 'name': 'Brooke Schmelz'}, 'opponentTeam': 'Tufts', 'opponentNick': 'Jumbos', 'score': '2-3-5', 'outcome': 'win', 'predicted': 'win', 'skipperRating': 1000.0, 'crewRating': 1477.611146259, 'womenSkipperRating': 1000.0, 'womenCrewRating': 1660.3344553461, 'tsr': 1000.0, 'tcr': 966.2273698835, 'wtsr': 1000.0, 'wtcr': 1204.241958573, 'regAvg': 1142.7826261732, 'change': 11.0318658052, 'type': 'team'}, {'raceID': 's25/south-new-england-women-team-race/43', 'raceNum': 43, 'round': 'Round 3', 'pos': 'Crew', 'date': 1741996800000, 'womens': True, 'partner': {'key': 'brooke-schmelz', 'name': 'Brooke Schmelz'}, 'opponentTeam': 'Harvard', 'opponentNick': 'Crimson', 'score': '2-3-4', 'outcome': 'win', 'predicted': 'lose', 'skipperRating': 1000.0, 'crewRating': 1477.611146259, 'womenSkipperRating': 1000.0, 'womenCrewRating': 1660.3344553461, 'tsr': 1000.0, 'tcr': 966.2273698835, 'wtsr': 1000.0, 'wtcr': 1230.4063965494, 'regAvg': 1142.7826261732, 'change': 26.1644379764, 'type': 'team'}, {'raceID': 's25/duplin/1', 'raceNum': 1, 'round': 'Round 1', 'pos': 'Crew', 'date': 1742601600000, 'womens': True, 'partner': {'key': 'brooke-schmelz', 'name': 'Brooke Schmelz'}, 'opponentTeam': 'Harvard', 'opponentNick': 'Crimson', 'score': '3-4-6', 'outcome': 'lose', 'predicted': 'lose', 'skipperRating': 1000.0, 'crewRating': 1477.611146259, 'womenSkipperRating': 1000.0, 'womenCrewRating': 1660.3344553461, 'tsr': 1000.0, 'tcr': 966.2273698835, 'wtsr': 1000.0, 'wtcr': 1219.5765291321, 'regAvg': 1147.3865869654, 'change': -10.829867417300001, 'type': 'team'}, {'raceID': 's25/duplin/5', 'raceNum': 5, 'round': 'Round 1', 'pos': 'Crew', 'date': 1742601600000, 'womens': True, 'partner': {'key': 'brooke-schmelz', 'name': 'Brooke Schmelz'}, 'opponentTeam': 'Bowdoin', 'opponentNick': 'Polar Bears', 'score': '1-5-6', 'outcome': 'lose', 'predicted': 'win', 'skipperRating': 1000.0, 'crewRating': 1477.611146259, 'womenSkipperRating': 1000.0, 'womenCrewRating': 1660.3344553461, 'tsr': 1000.0, 'tcr': 966.2273698835, 'wtsr': 1000.0, 'wtcr': 1195.1967363445, 'regAvg': 1147.3865869654, 'change': -24.3797927877, 'type': 'team'}, {'raceID': 's25/duplin/10', 'raceNum': 10, 'round': 'Round 1', 'pos': 'Crew', 'date': 1742601600000, 'womens': True, 'partner': {'key': 'brooke-schmelz', 'name': 'Brooke Schmelz'}, 'opponentTeam': 'Roger Williams', 'opponentNick': 'Hawks', 'score': '2-4-5', 'outcome': 'lose', 'predicted': 'win', 'skipperRating': 1000.0, 'crewRating': 1477.611146259, 'womenSkipperRating': 1000.0, 'womenCrewRating': 1660.3344553461, 'tsr': 1000.0, 'tcr': 966.2273698835, 'wtsr': 1000.0, 'wtcr': 1169.602629644, 'regAvg': 1147.3865869654, 'change': -25.5941067004, 'type': 'team'}, {'raceID': 's25/duplin/13', 'raceNum': 13, 'round': 'Round 1', 'pos': 'Crew', 'date': 1742601600000, 'womens': True, 'partner': {'key': 'brooke-schmelz', 'name': 'Brooke Schmelz'}, 'opponentTeam': 'Boston College', 'opponentNick': 'Eagles', 'score': '1-2-6', 'outcome': 'win', 'predicted': 'win', 'skipperRating': 1000.0, 'crewRating': 1477.611146259, 'womenSkipperRating': 1000.0, 'womenCrewRating': 1660.3344553461, 'tsr': 1000.0, 'tcr': 966.2273698835, 'wtsr': 1000.0, 'wtcr': 1181.6051635099, 'regAvg': 1147.3865869654, 'change': 12.0025338659, 'type': 'team'}, {'raceID': 's25/duplin/19', 'raceNum': 19, 'round': 'Round 1', 'pos': 'Crew', 'date': 1742601600000, 'womens': True, 'partner': {'key': 'brooke-schmelz', 'name': 'Brooke Schmelz'}, 'opponentTeam': 'Yale', 'opponentNick': 'Bulldogs', 'score': '3-4-6', 'outcome': 'lose', 'predicted': 'lose', 'skipperRating': 1000.0, 'crewRating': 1477.611146259, 'womenSkipperRating': 1000.0, 'womenCrewRating': 1660.3344553461, 'tsr': 1000.0, 'tcr': 966.2273698835, 'wtsr': 1000.0, 'wtcr': 1179.8904127659, 'regAvg': 1147.3865869654, 'change': -1.714750744, 'type': 'team'}, {'raceID': 's25/duplin/24', 'raceNum': 24, 'round': 'Round 1', 'pos': 'Crew', 'date': 1742601600000, 'womens': True, 'partner': {'key': 'brooke-schmelz', 'name': 'Brooke Schmelz'}, 'opponentTeam': 'Tulane', 'opponentNick': 'Green Wave', 'score': '2-3-4', 'outcome': 'win', 'predicted': 'win', 'skipperRating': 1000.0, 'crewRating': 1477.611146259, 'womenSkipperRating': 1000.0, 'womenCrewRating': 1660.3344553461, 'tsr': 1000.0, 'tcr': 966.2273698835, 'wtsr': 1000.0, 'wtcr': 1198.9644998719, 'regAvg': 1147.3865869654, 'change': 19.074087106, 'type': 'team'}, {'raceID': 's25/duplin/29', 'raceNum': 29, 'round': 'Round 1', 'pos': 'Crew', 'date': 1742601600000, 'womens': True, 'partner': {'key': 'brooke-schmelz', 'name': 'Brooke Schmelz'}, 'opponentTeam': 'Brown', 'opponentNick': 'Bears', 'score': '3-4-6', 'outcome': 'lose', 'predicted': 'lose', 'skipperRating': 1000.0, 'crewRating': 1477.611146259, 'womenSkipperRating': 1000.0, 'womenCrewRating': 1660.3344553461, 'tsr': 1000.0, 'tcr': 966.2273698835, 'wtsr': 1000.0, 'wtcr': 1197.4222124363, 'regAvg': 1147.3865869654, 'change': -1.5422874356, 'type': 'team'}, {'raceID': 's25/duplin/32', 'raceNum': 32, 'round': 'Round 1', 'pos': 'Crew', 'date': 1742601600000, 'womens': True, 'partner': {'key': 'brooke-schmelz', 'name': 'Brooke Schmelz'}, 'opponentTeam': 'Charleston', 'opponentNick': 'Cougars', 'score': '1-4-5', 'outcome': 'win', 'predicted': 'lose', 'skipperRating': 1000.0, 'crewRating': 1477.611146259, 'womenSkipperRating': 1000.0, 'womenCrewRating': 1660.3344553461, 'tsr': 1000.0, 'tcr': 966.2273698835, 'wtsr': 1000.0, 'wtcr': 1239.2860006667, 'regAvg': 1147.3865869654, 'change': 41.8637882304, 'type': 'team'}, {'raceID': 's25/duplin/41', 'raceNum': 41, 'round': 'Round 2', 'pos': 'Crew', 'date': 1742601600000, 'womens': True, 'partner': {'key': 'brooke-schmelz', 'name': 'Brooke Schmelz'}, 'opponentTeam': 'Bowdoin', 'opponentNick': 'Polar Bears', 'score': '2-3-4', 'outcome': 'win', 'predicted': 'win', 'skipperRating': 1000.0, 'crewRating': 1477.611146259, 'womenSkipperRating': 1000.0, 'womenCrewRating': 1660.3344553461, 'tsr': 1000.0, 'tcr': 966.2273698835, 'wtsr': 1000.0, 'wtcr': 1247.796275606, 'regAvg': 1147.3865869654, 'change': 8.5102749393, 'type': 'team'}, {'raceID': 's25/duplin/46', 'raceNum': 46, 'round': 'Round 2', 'pos': 'Crew', 'date': 1742601600000, 'womens': True, 'partner': {'key': 'brooke-schmelz', 'name': 'Brooke Schmelz'}, 'opponentTeam': 'Roger Williams', 'opponentNick': 'Hawks', 'score': '2-3-4', 'outcome': 'win', 'predicted': 'lose', 'skipperRating': 1000.0, 'crewRating': 1477.611146259, 'womenSkipperRating': 1000.0, 'womenCrewRating': 1660.3344553461, 'tsr': 1000.0, 'tcr': 966.2273698835, 'wtsr': 1000.0, 'wtcr': 1273.8445378904, 'regAvg': 1147.3865869654, 'change': 26.0482622844, 'type': 'team'}, {'raceID': 's25/duplin/49', 'raceNum': 49, 'round': 'Round 2', 'pos': 'Crew', 'date': 1742601600000, 'womens': True, 'partner': {'key': 'brooke-schmelz', 'name': 'Brooke Schmelz'}, 'opponentTeam': 'Boston College', 'opponentNick': 'Eagles', 'score': '1-5-6', 'outcome': 'lose', 'predicted': 'win', 'skipperRating': 1000.0, 'crewRating': 1477.611146259, 'womenSkipperRating': 1000.0, 'womenCrewRating': 1660.3344553461, 'tsr': 1000.0, 'tcr': 966.2273698835, 'wtsr': 1000.0, 'wtcr': 1253.0678787092, 'regAvg': 1147.3865869654, 'change': -20.7766591811, 'type': 'team'}, {'raceID': 's25/duplin/60', 'raceNum': 60, 'round': 'Round 2', 'pos': 'Crew', 'date': 1742601600000, 'womens': True, 'partner': {'key': 'brooke-schmelz', 'name': 'Brooke Schmelz'}, 'opponentTeam': 'Tulane', 'opponentNick': 'Green Wave', 'score': '2-3-6', 'outcome': 'lose', 'predicted': 'win', 'skipperRating': 1000.0, 'crewRating': 1477.611146259, 'womenSkipperRating': 1000.0, 'womenCrewRating': 1660.3344553461, 'tsr': 1000.0, 'tcr': 966.2273698835, 'wtsr': 1000.0, 'wtcr': 1236.0011717408, 'regAvg': 1147.3865869654, 'change': -17.0667069684, 'type': 'team'}, {'raceID': 's25/duplin/65', 'raceNum': 65, 'round': 'Round 2', 'pos': 'Crew', 'date': 1742601600000, 'womens': True, 'partner': {'key': 'brooke-schmelz', 'name': 'Brooke Schmelz'}, 'opponentTeam': 'Brown', 'opponentNick': 'Bears', 'score': '3-4-6', 'outcome': 'lose', 'predicted': 'lose', 'skipperRating': 1000.0, 'crewRating': 1477.611146259, 'womenSkipperRating': 1000.0, 'womenCrewRating': 1660.3344553461, 'tsr': 1000.0, 'tcr': 966.2273698835, 'wtsr': 1000.0, 'wtcr': 1234.1020787161, 'regAvg': 1147.3865869654, 'change': -1.8990930247, 'type': 'team'}, {'raceID': 's25/dellenbaugh-women-team-race/2', 'raceNum': 2, 'round': 'Round 1', 'pos': 'Crew', 'date': 1743206400000, 'womens': True, 'partner': {'key': 'brooke-schmelz', 'name': 'Brooke Schmelz'}, 'opponentTeam': 'Cornell', 'opponentNick': 'Big Red', 'score': '1-2-3', 'outcome': 'win', 'predicted': 'lose', 'skipperRating': 1000.0, 'crewRating': 1477.611146259, 'womenSkipperRating': 1000.0, 'womenCrewRating': 1660.3344553461, 'tsr': 1000.0, 'tcr': 966.2273698835, 'wtsr': 1000.0, 'wtcr': 1256.5986165205, 'regAvg': 1204.7246129421, 'change': 22.4965378044, 'type': 'team'}, {'raceID': 's25/dellenbaugh-women-team-race/8', 'raceNum': 8, 'round': 'Round 1', 'pos': 'Crew', 'date': 1743206400000, 'womens': True, 'partner': {'key': 'brooke-schmelz', 'name': 'Brooke Schmelz'}, 'opponentTeam': 'Stanford', 'opponentNick': 'Cardinal', 'score': '3-4-6', 'outcome': 'lose', 'predicted': 'lose', 'skipperRating': 1000.0, 'crewRating': 1477.611146259, 'womenSkipperRating': 1000.0, 'womenCrewRating': 1660.3344553461, 'tsr': 1000.0, 'tcr': 966.2273698835, 'wtsr': 1000.0, 'wtcr': 1247.8521683901, 'regAvg': 1204.7246129421, 'change': -8.7464481304, 'type': 'team'}, {'raceID': 's25/dellenbaugh-women-team-race/14', 'raceNum': 14, 'round': 'Round 1', 'pos': 'Crew', 'date': 1743206400000, 'womens': True, 'partner': {'key': 'brooke-schmelz', 'name': 'Brooke Schmelz'}, 'opponentTeam': 'Tulane', 'opponentNick': 'Green Wave', 'score': '1-3-5', 'outcome': 'win', 'predicted': 'win', 'skipperRating': 1000.0, 'crewRating': 1477.611146259, 'womenSkipperRating': 1000.0, 'womenCrewRating': 1660.3344553461, 'tsr': 1000.0, 'tcr': 966.2273698835, 'wtsr': 1000.0, 'wtcr': 1261.6567864652, 'regAvg': 1204.7246129421, 'change': 13.8046180751, 'type': 'team'}, {'raceID': 's25/dellenbaugh-women-team-race/20', 'raceNum': 20, 'round': 'Round 1', 'pos': 'Crew', 'date': 1743206400000, 'womens': True, 'partner': {'key': 'brooke-schmelz', 'name': 'Brooke Schmelz'}, 'opponentTeam': 'Yale', 'opponentNick': 'Bulldogs', 'score': '3-4-5', 'outcome': 'lose', 'predicted': 'lose', 'skipperRating': 1000.0, 'crewRating': 1477.611146259, 'womenSkipperRating': 1000.0, 'womenCrewRating': 1660.3344553461, 'tsr': 1000.0, 'tcr': 966.2273698835, 'wtsr': 1000.0, 'wtcr': 1260.5485339836, 'regAvg': 1204.7246129421, 'change': -1.1082524816, 'type': 'team'}, {'raceID': 's25/dellenbaugh-women-team-race/24', 'raceNum': 24, 'round': 'Round 1', 'pos': 'Crew', 'date': 1743206400000, 'womens': True, 'partner': {'key': 'brooke-schmelz', 'name': 'Brooke Schmelz'}, 'opponentTeam': 'Charleston', 'opponentNick': 'Cougars', 'score': '1-4-5', 'outcome': 'win', 'predicted': 'lose', 'skipperRating': 1000.0, 'crewRating': 1477.611146259, 'womenSkipperRating': 1000.0, 'womenCrewRating': 1660.3344553461, 'tsr': 1000.0, 'tcr': 966.2273698835, 'wtsr': 1000.0, 'wtcr': 1292.6937624887, 'regAvg': 1204.7246129421, 'change': 32.1452285051, 'type': 'team'}, {'raceID': 's25/dellenbaugh-women-team-race/28', 'raceNum': 28, 'round': 'Round 1', 'pos': 'Crew', 'date': 1743206400000, 'womens': True, 'partner': {'key': 'brooke-schmelz', 'name': 'Brooke Schmelz'}, 'opponentTeam': 'Brown', 'opponentNick': 'Bears', 'score': '4-5-6', 'outcome': 'lose', 'predicted': 'lose', 'skipperRating': 1000.0, 'crewRating': 1477.611146259, 'womenSkipperRating': 1000.0, 'womenCrewRating': 1660.3344553461, 'tsr': 1000.0, 'tcr': 966.2273698835, 'wtsr': 1000.0, 'wtcr': 1291.0725676364, 'regAvg': 1204.7246129421, 'change': -1.6211948523, 'type': 'team'}, {'raceID': 's25/dellenbaugh-women-team-race/32', 'raceNum': 32, 'round': 'Round 1', 'pos': 'Crew', 'date': 1743206400000, 'womens': True, 'partner': {'key': 'brooke-schmelz', 'name': 'Brooke Schmelz'}, 'opponentTeam': 'Tufts', 'opponentNick': 'Jumbos', 'score': '1-2-3', 'outcome': 'win', 'predicted': 'win', 'skipperRating': 1000.0, 'crewRating': 1477.611146259, 'womenSkipperRating': 1000.0, 'womenCrewRating': 1660.3344553461, 'tsr': 1000.0, 'tcr': 966.2273698835, 'wtsr': 1000.0, 'wtcr': 1297.4949293816, 'regAvg': 1204.7246129421, 'change': 6.4223617452, 'type': 'team'}, {'raceID': 's25/dellenbaugh-women-team-race/36', 'raceNum': 36, 'round': 'Round 1', 'pos': 'Crew', 'date': 1743206400000, 'womens': True, 'partner': {'key': 'brooke-schmelz', 'name': 'Brooke Schmelz'}, 'opponentTeam': 'Dartmouth', 'opponentNick': 'Big Green', 'score': '2-3-6', 'outcome': 'lose', 'predicted': 'win', 'skipperRating': 1000.0, 'crewRating': 1477.611146259, 'womenSkipperRating': 1000.0, 'womenCrewRating': 1660.3344553461, 'tsr': 1000.0, 'tcr': 966.2273698835, 'wtsr': 1000.0, 'wtcr': 1278.7796750165, 'regAvg': 1204.7246129421, 'change': -18.7152543651, 'type': 'team'}, {'raceID': 's25/dellenbaugh-women-team-race/41', 'raceNum': 41, 'round': 'Round 1', 'pos': 'Crew', 'date': 1743206400000, 'womens': True, 'partner': {'key': 'brooke-schmelz', 'name': 'Brooke Schmelz'}, 'opponentTeam': 'Harvard', 'opponentNick': 'Crimson', 'score': '1-5-6', 'outcome': 'lose', 'predicted': 'lose', 'skipperRating': 1000.0, 'crewRating': 1477.611146259, 'womenSkipperRating': 1000.0, 'womenCrewRating': 1660.3344553461, 'tsr': 1000.0, 'tcr': 966.2273698835, 'wtsr': 1000.0, 'wtcr': 1271.7647227828, 'regAvg': 1204.7246129421, 'change': -7.0149522336, 'type': 'team'}, {'raceID': 's25/dellenbaugh-women-team-race/53', 'raceNum': 53, 'round': 'Silver 6 Round 1', 'pos': 'Crew', 'date': 1743206400000, 'womens': True, 'partner': {'key': 'brooke-schmelz', 'name': 'Brooke Schmelz'}, 'opponentTeam': 'Cornell', 'opponentNick': 'Big Red', 'score': '1-2-5', 'outcome': 'win', 'predicted': 'win', 'skipperRating': 1000.0, 'crewRating': 1477.611146259, 'womenSkipperRating': 1000.0, 'womenCrewRating': 1660.3344553461, 'tsr': 1000.0, 'tcr': 966.2273698835, 'wtsr': 1000.0, 'wtcr': 1286.7498785444, 'regAvg': 1204.7246129421, 'change': 14.9851557615, 'type': 'team'}, {'raceID': 's25/dellenbaugh-women-team-race/55', 'raceNum': 55, 'round': 'Silver 6 Round 1', 'pos': 'Crew', 'date': 1743206400000, 'womens': True, 'partner': {'key': 'brooke-schmelz', 'name': 'Brooke Schmelz'}, 'opponentTeam': 'Dartmouth', 'opponentNick': 'Big Green', 'score': '1-2-5', 'outcome': 'win', 'predicted': 'lose', 'skipperRating': 1000.0, 'crewRating': 1477.611146259, 'womenSkipperRating': 1000.0, 'womenCrewRating': 1660.3344553461, 'tsr': 1000.0, 'tcr': 966.2273698835, 'wtsr': 1000.0, 'wtcr': 1313.0863055351, 'regAvg': 1204.7246129421, 'change': 26.3364269907, 'type': 'team'}, {'raceID': 's25/dellenbaugh-women-team-race/62', 'raceNum': 62, 'round': 'Silver 6 Round 1', 'pos': 'Crew', 'date': 1743206400000, 'womens': True, 'partner': {'key': 'brooke-schmelz', 'name': 'Brooke Schmelz'}, 'opponentTeam': 'Tulane', 'opponentNick': 'Green Wave', 'score': '3-4-6', 'outcome': 'lose', 'predicted': 'win', 'skipperRating': 1000.0, 'crewRating': 1477.611146259, 'womenSkipperRating': 1000.0, 'womenCrewRating': 1660.3344553461, 'tsr': 1000.0, 'tcr': 966.2273698835, 'wtsr': 1000.0, 'wtcr': 1294.1690592427, 'regAvg': 1204.7246129421, 'change': -18.9172462923, 'type': 'team'}, {'raceID': 's25/dellenbaugh-women-team-race/66', 'raceNum': 66, 'round': 'Silver 6 Round 1', 'pos': 'Crew', 'date': 1743206400000, 'womens': True, 'partner': {'key': 'brooke-schmelz', 'name': 'Brooke Schmelz'}, 'opponentTeam': 'Charleston', 'opponentNick': 'Cougars', 'score': '1-2-6', 'outcome': 'win', 'predicted': 'lose', 'skipperRating': 1000.0, 'crewRating': 1477.611146259, 'womenSkipperRating': 1000.0, 'womenCrewRating': 1660.3344553461, 'tsr': 1000.0, 'tcr': 966.2273698835, 'wtsr': 1000.0, 'wtcr': 1321.8021341345, 'regAvg': 1204.7246129421, 'change': 27.6330748918, 'type': 'team'}, {'raceID': 's25/neisa-women-tr-champs-legler/2', 'raceNum': 2, 'round': 'Round 1', 'pos': 'Crew', 'date': 1744416000000, 'womens': True, 'partner': {'key': 'brooke-schmelz', 'name': 'Brooke Schmelz'}, 'opponentTeam': 'Coast Guard', 'opponentNick': 'Bears', 'score': '1-2-4', 'outcome': 'win', 'predicted': 'win', 'skipperRating': 1000.0, 'crewRating': 1477.611146259, 'womenSkipperRating': 1000.0, 'womenCrewRating': 1660.3344553461, 'tsr': 1000.0, 'tcr': 966.2273698835, 'wtsr': 1000.0, 'wtcr': 1326.3971137736, 'regAvg': 1187.3388441171, 'change': 4.5949796391, 'type': 'team'}, {'raceID': 's25/neisa-women-tr-champs-legler/8', 'raceNum': 8, 'round': 'Round 1', 'pos': 'Crew', 'date': 1744416000000, 'womens': True, 'partner': {'key': 'brooke-schmelz', 'name': 'Brooke Schmelz'}, 'opponentTeam': 'Bowdoin', 'opponentNick': 'Polar Bears', 'score': '2-3-4', 'outcome': 'win', 'predicted': 'win', 'skipperRating': 1000.0, 'crewRating': 1477.611146259, 'womenSkipperRating': 1000.0, 'womenCrewRating': 1660.3344553461, 'tsr': 1000.0, 'tcr': 966.2273698835, 'wtsr': 1000.0, 'wtcr': 1330.4799045613, 'regAvg': 1187.3388441171, 'change': 4.0827907878, 'type': 'team'}, {'raceID': 's25/neisa-women-tr-champs-legler/14', 'raceNum': 14, 'round': 'Round 1', 'pos': 'Crew', 'date': 1744416000000, 'womens': True, 'partner': {'key': 'brooke-schmelz', 'name': 'Brooke Schmelz'}, 'opponentTeam': 'Tufts', 'opponentNick': 'Jumbos', 'score': '1-2-5', 'outcome': 'win', 'predicted': 'win', 'skipperRating': 1000.0, 'crewRating': 1477.611146259, 'womenSkipperRating': 1000.0, 'womenCrewRating': 1660.3344553461, 'tsr': 1000.0, 'tcr': 966.2273698835, 'wtsr': 1000.0, 'wtcr': 1340.187291551, 'regAvg': 1187.3388441171, 'change': 9.7073869896, 'type': 'team'}, {'raceID': 's25/neisa-women-tr-champs-legler/20', 'raceNum': 20, 'round': 'Round 1', 'pos': 'Crew', 'date': 1744416000000, 'womens': True, 'partner': {'key': 'brooke-schmelz', 'name': 'Brooke Schmelz'}, 'opponentTeam': 'Boston College', 'opponentNick': 'Eagles', 'score': '1-2-5', 'outcome': 'win', 'predicted': 'win', 'skipperRating': 1000.0, 'crewRating': 1477.611146259, 'womenSkipperRating': 1000.0, 'womenCrewRating': 1660.3344553461, 'tsr': 1000.0, 'tcr': 966.2273698835, 'wtsr': 1000.0, 'wtcr': 1353.5931845156, 'regAvg': 1187.3388441171, 'change': 13.4058929647, 'type': 'team'}, {'raceID': 's25/neisa-women-tr-champs-legler/28', 'raceNum': 28, 'round': 'Round 1', 'pos': 'Crew', 'date': 1744416000000, 'womens': True, 'partner': {'key': 'brooke-schmelz', 'name': 'Brooke Schmelz'}, 'opponentTeam': 'Brown', 'opponentNick': 'Bears', 'score': '3-4-6', 'outcome': 'lose', 'predicted': 'lose', 'skipperRating': 1000.0, 'crewRating': 1477.611146259, 'womenSkipperRating': 1000.0, 'womenCrewRating': 1660.3344553461, 'tsr': 1000.0, 'tcr': 966.2273698835, 'wtsr': 1000.0, 'wtcr': 1346.7817772923, 'regAvg': 1187.3388441171, 'change': -6.8114072233, 'type': 'team'}, {'raceID': 's25/neisa-women-tr-champs-legler/32', 'raceNum': 32, 'round': 'Round 1', 'pos': 'Crew', 'date': 1744416000000, 'womens': True, 'partner': {'key': 'brooke-schmelz', 'name': 'Brooke Schmelz'}, 'opponentTeam': 'Yale', 'opponentNick': 'Bulldogs', 'score': '3-4-6', 'outcome': 'lose', 'predicted': 'lose', 'skipperRating': 1000.0, 'crewRating': 1477.611146259, 'womenSkipperRating': 1000.0, 'womenCrewRating': 1660.3344553461, 'tsr': 1000.0, 'tcr': 966.2273698835, 'wtsr': 1000.0, 'wtcr': 1342.1439654347, 'regAvg': 1187.3388441171, 'change': -4.6378118576, 'type': 'team'}, {'raceID': 's25/neisa-women-tr-champs-legler/36', 'raceNum': 36, 'round': 'Round 1', 'pos': 'Crew', 'date': 1744416000000, 'womens': True, 'partner': {'key': 'brooke-schmelz', 'name': 'Brooke Schmelz'}, 'opponentTeam': 'Roger Williams', 'opponentNick': 'Hawks', 'score': '1-3-4', 'outcome': 'win', 'predicted': 'win', 'skipperRating': 1000.0, 'crewRating': 1477.611146259, 'womenSkipperRating': 1000.0, 'womenCrewRating': 1660.3344553461, 'tsr': 1000.0, 'tcr': 966.2273698835, 'wtsr': 1000.0, 'wtcr': 1351.5077950837, 'regAvg': 1187.3388441171, 'change': 9.363829649, 'type': 'team'}, {'raceID': 's25/neisa-women-tr-champs-legler/41', 'raceNum': 41, 'round': 'Round 1', 'pos': 'Crew', 'date': 1744416000000, 'womens': True, 'partner': {'key': 'brooke-schmelz', 'name': 'Brooke Schmelz'}, 'opponentTeam': 'Harvard', 'opponentNick': 'Crimson', 'score': '1-2-5', 'outcome': 'win', 'predicted': 'lose', 'skipperRating': 1000.0, 'crewRating': 1477.611146259, 'womenSkipperRating': 1000.0, 'womenCrewRating': 1660.3344553461, 'tsr': 1000.0, 'tcr': 966.2273698835, 'wtsr': 1000.0, 'wtcr': 1379.1438445967, 'regAvg': 1187.3388441171, 'change': 27.636049513, 'type': 'team'}, {'raceID': 's25/neisa-women-tr-champs-legler/46', 'raceNum': 46, 'round': 'Gold Top 6', 'pos': 'Crew', 'date': 1744416000000, 'womens': True, 'partner': {'key': 'brooke-schmelz', 'name': 'Brooke Schmelz'}, 'opponentTeam': 'Dartmouth', 'opponentNick': 'Big Green', 'score': '1-2-6', 'outcome': 'win', 'predicted': 'lose', 'skipperRating': 1000.0, 'crewRating': 1477.611146259, 'womenSkipperRating': 1000.0, 'womenCrewRating': 1660.3344553461, 'tsr': 1000.0, 'tcr': 966.2273698835, 'wtsr': 1000.0, 'wtcr': 1397.6783728064, 'regAvg': 1187.3388441171, 'change': 18.5345282097, 'type': 'team'}, {'raceID': 's25/neisa-women-tr-champs-legler/50', 'raceNum': 50, 'round': 'Gold Top 6', 'pos': 'Crew', 'date': 1744416000000, 'womens': True, 'partner': {'key': 'brooke-schmelz', 'name': 'Brooke Schmelz'}, 'opponentTeam': 'Harvard', 'opponentNick': 'Crimson', 'score': '2-3-4', 'outcome': 'win', 'predicted': 'win', 'skipperRating': 1000.0, 'crewRating': 1477.611146259, 'womenSkipperRating': 1000.0, 'womenCrewRating': 1660.3344553461, 'tsr': 1000.0, 'tcr': 966.2273698835, 'wtsr': 1000.0, 'wtcr': 1416.7493002628, 'regAvg': 1187.3388441171, 'change': 19.0709274563, 'type': 'team'}, {'raceID': 's25/neisa-women-tr-champs-legler/54', 'raceNum': 54, 'round': 'Gold Top 6', 'pos': 'Crew', 'date': 1744416000000, 'womens': True, 'partner': {'key': 'brooke-schmelz', 'name': 'Brooke Schmelz'}, 'opponentTeam': 'Yale', 'opponentNick': 'Bulldogs', 'score': '4-5-6', 'outcome': 'lose', 'predicted': 'lose', 'skipperRating': 1000.0, 'crewRating': 1477.611146259, 'womenSkipperRating': 1000.0, 'womenCrewRating': 1660.3344553461, 'tsr': 1000.0, 'tcr': 966.2273698835, 'wtsr': 1000.0, 'wtcr': 1415.8503006755, 'regAvg': 1187.3388441171, 'change': -0.8989995872000001, 'type': 'team'}, {'raceID': 's25/neisa-women-tr-champs-legler/56', 'raceNum': 56, 'round': 'Gold Top 6', 'pos': 'Crew', 'date': 1744416000000, 'womens': True, 'partner': {'key': 'brooke-schmelz', 'name': 'Brooke Schmelz'}, 'opponentTeam': 'Brown', 'opponentNick': 'Bears', 'score': '3-5-6', 'outcome': 'lose', 'predicted': 'lose', 'skipperRating': 1000.0, 'crewRating': 1477.611146259, 'womenSkipperRating': 1000.0, 'womenCrewRating': 1660.3344553461, 'tsr': 1000.0, 'tcr': 966.2273698835, 'wtsr': 1000.0, 'wtcr': 1408.5022586694, 'regAvg': 1187.3388441171, 'change': -7.3480420061, 'type': 'team'}, {'raceID': 's25/neisa-women-tr-champs-legler/58', 'raceNum': 58, 'round': 'Gold Top 6', 'pos': 'Crew', 'date': 1744416000000, 'womens': True, 'partner': {'key': 'brooke-schmelz', 'name': 'Brooke Schmelz'}, 'opponentTeam': 'Tufts', 'opponentNick': 'Jumbos', 'score': '1-2-5', 'outcome': 'win', 'predicted': 'win', 'skipperRating': 1000.0, 'crewRating': 1477.611146259, 'womenSkipperRating': 1000.0, 'womenCrewRating': 1660.3344553461, 'tsr': 1000.0, 'tcr': 966.2273698835, 'wtsr': 1000.0, 'wtcr': 1410.701600889, 'regAvg': 1187.3388441171, 'change': 2.1993422196, 'type': 'team'}, {'raceID': 's25/neisa-women-tr-champs-legler/62', 'raceNum': 62, 'round': 'Gold Top 4', 'pos': 'Crew', 'date': 1744416000000, 'womens': True, 'partner': {'key': 'brooke-schmelz', 'name': 'Brooke Schmelz'}, 'opponentTeam': 'Yale', 'opponentNick': 'Bulldogs', 'score': '4-5-6', 'outcome': 'lose', 'predicted': 'lose', 'skipperRating': 1000.0, 'crewRating': 1477.611146259, 'womenSkipperRating': 1000.0, 'womenCrewRating': 1660.3344553461, 'tsr': 1000.0, 'tcr': 966.2273698835, 'wtsr': 1000.0, 'wtcr': 1409.0178063642, 'regAvg': 1187.3388441171, 'change': -1.6837945248, 'type': 'team'}, {'raceID': 's25/neisa-women-tr-champs-legler/63', 'raceNum': 63, 'round': 'Gold Top 4', 'pos': 'Crew', 'date': 1744416000000, 'womens': True, 'partner': {'key': 'brooke-schmelz', 'name': 'Brooke Schmelz'}, 'opponentTeam': 'Brown', 'opponentNick': 'Bears', 'score': '3-5-6', 'outcome': 'lose', 'predicted': 'lose', 'skipperRating': 1000.0, 'crewRating': 1477.611146259, 'womenSkipperRating': 1000.0, 'womenCrewRating': 1660.3344553461, 'tsr': 1000.0, 'tcr': 966.2273698835, 'wtsr': 1000.0, 'wtcr': 1396.1987096853, 'regAvg': 1187.3388441171, 'change': -12.8190966789, 'type': 'team'}, {'raceID': 's25/neisa-women-tr-champs-legler/65', 'raceNum': 65, 'round': 'Gold Top 4', 'pos': 'Crew', 'date': 1744416000000, 'womens': True, 'partner': {'key': 'brooke-schmelz', 'name': 'Brooke Schmelz'}, 'opponentTeam': 'Dartmouth', 'opponentNick': 'Big Green', 'score': '1-5-6', 'outcome': 'lose', 'predicted': 'win', 'skipperRating': 1000.0, 'crewRating': 1477.611146259, 'womenSkipperRating': 1000.0, 'womenCrewRating': 1660.3344553461, 'tsr': 1000.0, 'tcr': 966.2273698835, 'wtsr': 1000.0, 'wtcr': 1381.367831491, 'regAvg': 1187.3388441171, 'change': -14.8308781943, 'type': 'team'}, {'score': 13, 'pos': 'Crew', 'predicted': 7, 'ratio': 0.25, 'change': -16.0549481205, 'regAvg': 1192.3550912044, 'cross': 0, 'outLinks': 0, 'skipperRating': 1000.0, 'crewRating': 1477.611146259, 'womenSkipperRating': 1000.0, 'womenCrewRating': 1644.2795072257, 'tsr': 1000.0, 'tcr': 966.2273698835, 'wtsr': 1000.0, 'wtcr': 1381.367831491, 'womens': True, 'date': 1745020800000, 'partner': {'name': 'Brooke Schmelz', 'key': 'brooke-schmelz'}, 'venue': 'Yale', 'raceID': 's25/ne-women-fleet-race-spring/1A', 'type': 'fleet', 'scoring': '2 Divisions'}, {'score': 11, 'pos': 'Crew', 'predicted': 7, 'ratio': 0.375, 'change': -11.4286133213, 'regAvg': 1192.3550912044, 'cross': 0, 'outLinks': 0, 'skipperRating': 1000.0, 'crewRating': 1477.611146259, 'womenSkipperRating': 1000.0, 'womenCrewRating': 1632.8508939043, 'tsr': 1000.0, 'tcr': 966.2273698835, 'wtsr': 1000.0, 'wtcr': 1381.367831491, 'womens': True, 'date': 1745020800000, 'partner': {'name': 'Brooke Schmelz', 'key': 'brooke-schmelz'}, 'venue': 'Yale', 'raceID': 's25/ne-women-fleet-race-spring/2A', 'type': 'fleet', 'scoring': '2 Divisions'}, {'score': 7, 'pos': 'Crew', 'predicted': 6, 'ratio': 0.625, 'change': 6.846538921, 'regAvg': 1192.3550912044, 'cross': 0, 'outLinks': 0, 'skipperRating': 1000.0, 'crewRating': 1477.611146259, 'womenSkipperRating': 1000.0, 'womenCrewRating': 1639.6974328253, 'tsr': 1000.0, 'tcr': 966.2273698835, 'wtsr': 1000.0, 'wtcr': 1381.367831491, 'womens': True, 'date': 1745020800000, 'partner': {'name': 'Brooke Schmelz', 'key': 'brooke-schmelz'}, 'venue': 'Yale', 'raceID': 's25/ne-women-fleet-race-spring/3A', 'type': 'fleet', 'scoring': '2 Divisions'}, {'score': 6, 'pos': 'Crew', 'predicted': 4, 'ratio': 0.6428571429000001, 'change': 6.680311491, 'regAvg': 1256.2487557959, 'cross': 0, 'outLinks': 0, 'skipperRating': 1000.0000000024, 'crewRating': 1477.61114626, 'womenSkipperRating': 1000.0000000024, 'womenCrewRating': 1646.3777443174, 'tsr': 1000.0000000024, 'tcr': 966.227369884, 'wtsr': 1000.0000000024, 'wtcr': 1381.3678314928, 'womens': True, 'date': 1694217600000, 'partner': {'name': 'Emma Wang', 'key': 'emma-wang'}, 'venue': 'MIT', 'raceID': 'f23/toni-deutsch-58/1B', 'type': 'fleet', 'scoring': '2 Divisions'}, {'score': 14, 'pos': 'Crew', 'predicted': 4, 'ratio': 0.0714285714, 'change': -55.6510758259, 'regAvg': 1256.2487557959, 'cross': 0, 'outLinks': 0, 'skipperRating': 1000.0000000024, 'crewRating': 1477.61114626, 'womenSkipperRating': 1000.0000000024, 'womenCrewRating': 1590.7266684915, 'tsr': 1000.0000000024, 'tcr': 966.227369884, 'wtsr': 1000.0000000024, 'wtcr': 1381.3678314928, 'womens': True, 'date': 1694217600000, 'partner': {'name': 'Emma Wang', 'key': 'emma-wang'}, 'venue': 'MIT', 'raceID': 'f23/toni-deutsch-58/2B', 'type': 'fleet', 'scoring': '2 Divisions'}, {'score': 7, 'pos': 'Crew', 'predicted': 5, 'ratio': 0.5714285714, 'change': 3.8782429696, 'regAvg': 1256.2487557959, 'cross': 0, 'outLinks': 0, 'skipperRating': 1000.0000000024, 'crewRating': 1477.61114626, 'womenSkipperRating': 1000.0000000024, 'womenCrewRating': 1594.6049114611, 'tsr': 1000.0000000024, 'tcr': 966.227369884, 'wtsr': 1000.0000000024, 'wtcr': 1381.3678314928, 'womens': True, 'date': 1694217600000, 'partner': {'name': 'Emma Wang', 'key': 'emma-wang'}, 'venue': 'MIT', 'raceID': 'f23/toni-deutsch-58/3B', 'type': 'fleet', 'scoring': '2 Divisions'}, {'score': 8, 'pos': 'Crew', 'predicted': 5, 'ratio': 0.5, 'change': 1.0351390171, 'regAvg': 1256.2487557959, 'cross': 0, 'outLinks': 0, 'skipperRating': 1000.0000000024, 'crewRating': 1477.61114626, 'womenSkipperRating': 1000.0000000024, 'womenCrewRating': 1595.6400504782, 'tsr': 1000.0000000024, 'tcr': 966.227369884, 'wtsr': 1000.0000000024, 'wtcr': 1381.3678314928, 'womens': True, 'date': 1694217600000, 'partner': {'name': 'Emma Wang', 'key': 'emma-wang'}, 'venue': 'MIT', 'raceID': 'f23/toni-deutsch-58/4B', 'type': 'fleet', 'scoring': '2 Divisions'}, {'score': 15, 'pos': 'Crew', 'predicted': 8, 'ratio': 0.0, 'change': -51.8134491577, 'regAvg': 1271.7803414605, 'cross': 0, 'outLinks': 0, 'skipperRating': 1000.0000000024, 'crewRating': 1477.61114626, 'womenSkipperRating': 1000.0000000024, 'womenCrewRating': 1543.8266013205, 'tsr': 1000.0000000024, 'tcr': 966.227369884, 'wtsr': 1000.0000000024, 'wtcr': 1381.3678314928, 'womens': True, 'date': 1694908800000, 'partner': {'name': 'Brooke Barry', 'key': 'brooke-barry'}, 'venue': 'Harvard', 'raceID': 'f23/regis/1A', 'type': 'fleet', 'scoring': '2 Divisions'}, {'score': 6, 'pos': 'Crew', 'predicted': 7, 'ratio': 0.6428571429000001, 'change': 16.6676733925, 'regAvg': 1271.7803414605, 'cross': 0, 'outLinks': 0, 'skipperRating': 1000.0000000024, 'crewRating': 1477.61114626, 'womenSkipperRating': 1000.0000000024, 'womenCrewRating': 1560.494274713, 'tsr': 1000.0000000024, 'tcr': 966.227369884, 'wtsr': 1000.0000000024, 'wtcr': 1381.3678314928, 'womens': True, 'date': 1694908800000, 'partner': {'name': 'Brooke Barry', 'key': 'brooke-barry'}, 'venue': 'Harvard', 'raceID': 'f23/regis/2A', 'type': 'fleet', 'scoring': '2 Divisions'}, {'score': 12, 'pos': 'Crew', 'predicted': 8, 'ratio': 0.2142857143, 'change': -13.9729591149, 'regAvg': 1271.7803414605, 'cross': 0, 'outLinks': 0, 'skipperRating': 1000.0000000024, 'crewRating': 1477.61114626, 'womenSkipperRating': 1000.0000000024, 'womenCrewRating': 1546.5213155981, 'tsr': 1000.0000000024, 'tcr': 966.227369884, 'wtsr': 1000.0000000024, 'wtcr': 1381.3678314928, 'womens': True, 'date': 1694908800000, 'partner': {'name': 'Brooke Barry', 'key': 'brooke-barry'}, 'venue': 'Harvard', 'raceID': 'f23/regis/3A', 'type': 'fleet', 'scoring': '2 Divisions'}, {'score': 6, 'pos': 'Crew', 'predicted': 7, 'ratio': 0.6428571429000001, 'change': 16.4336027101, 'regAvg': 1271.7803414605, 'cross': 0, 'outLinks': 0, 'skipperRating': 1000.0000000024, 'crewRating': 1477.61114626, 'womenSkipperRating': 1000.0000000024, 'womenCrewRating': 1562.9549183082, 'tsr': 1000.0000000024, 'tcr': 966.227369884, 'wtsr': 1000.0000000024, 'wtcr': 1381.3678314928, 'womens': True, 'date': 1694908800000, 'partner': {'name': 'Brooke Barry', 'key': 'brooke-barry'}, 'venue': 'Harvard', 'raceID': 'f23/regis/4A', 'type': 'fleet', 'scoring': '2 Divisions'}, {'score': 9, 'pos': 'Crew', 'predicted': 7, 'ratio': 0.4285714286, 'change': 6.2706465923, 'regAvg': 1271.7803414605, 'cross': 0, 'outLinks': 0, 'skipperRating': 1000.0000000024, 'crewRating': 1477.61114626, 'womenSkipperRating': 1000.0000000024, 'womenCrewRating': 1569.2255649005, 'tsr': 1000.0000000024, 'tcr': 966.227369884, 'wtsr': 1000.0000000024, 'wtcr': 1381.3678314928, 'womens': True, 'date': 1694908800000, 'partner': {'name': 'Brooke Barry', 'key': 'brooke-barry'}, 'venue': 'Harvard', 'raceID': 'f23/regis/5A', 'type': 'fleet', 'scoring': '2 Divisions'}, {'score': 12, 'pos': 'Crew', 'predicted': 7, 'ratio': 0.2142857143, 'change': -4.1229862764, 'regAvg': 1271.7803414605, 'cross': 0, 'outLinks': 0, 'skipperRating': 1000.0000000024, 'crewRating': 1477.61114626, 'womenSkipperRating': 1000.0000000024, 'womenCrewRating': 1565.102578624, 'tsr': 1000.0000000024, 'tcr': 966.227369884, 'wtsr': 1000.0000000024, 'wtcr': 1381.3678314928, 'womens': True, 'date': 1694908800000, 'partner': {'name': 'Brooke Barry', 'key': 'brooke-barry'}, 'venue': 'Harvard', 'raceID': 'f23/regis/6A', 'type': 'fleet', 'scoring': '2 Divisions'}, {'score': 6, 'pos': 'Crew', 'predicted': 7, 'ratio': 0.6428571429000001, 'change': 16.2297413499, 'regAvg': 1271.7803414605, 'cross': 0, 'outLinks': 0, 'skipperRating': 1000.0000000024, 'crewRating': 1477.61114626, 'womenSkipperRating': 1000.0000000024, 'womenCrewRating': 1581.3323199739, 'tsr': 1000.0000000024, 'tcr': 966.227369884, 'wtsr': 1000.0000000024, 'wtcr': 1381.3678314928, 'womens': True, 'date': 1694908800000, 'partner': {'name': 'Brooke Barry', 'key': 'brooke-barry'}, 'venue': 'Harvard', 'raceID': 'f23/regis/7A', 'type': 'fleet', 'scoring': '2 Divisions'}, {'score': 7, 'pos': 'Crew', 'predicted': 7, 'ratio': 0.5714285714, 'change': 13.6543593282, 'regAvg': 1271.7803414605, 'cross': 0, 'outLinks': 0, 'skipperRating': 1000.0000000024, 'crewRating': 1477.61114626, 'womenSkipperRating': 1000.0000000024, 'womenCrewRating': 1594.9866793021, 'tsr': 1000.0000000024, 'tcr': 966.227369884, 'wtsr': 1000.0000000024, 'wtcr': 1381.3678314928, 'womens': True, 'date': 1694908800000, 'partner': {'name': 'Brooke Barry', 'key': 'brooke-barry'}, 'venue': 'Harvard', 'raceID': 'f23/regis/8A', 'type': 'fleet', 'scoring': '2 Divisions'}, {'score': 5, 'pos': 'Crew', 'predicted': 6, 'ratio': 0.7142857143, 'change': 17.9726319809, 'regAvg': 1271.7803414605, 'cross': 0, 'outLinks': 0, 'skipperRating': 1000.0000000024, 'crewRating': 1477.61114626, 'womenSkipperRating': 1000.0000000024, 'womenCrewRating': 1612.959311283, 'tsr': 1000.0000000024, 'tcr': 966.227369884, 'wtsr': 1000.0000000024, 'wtcr': 1381.3678314928, 'womens': True, 'date': 1694908800000, 'partner': {'name': 'Brooke Barry', 'key': 'brooke-barry'}, 'venue': 'Harvard', 'raceID': 'f23/regis/9A', 'type': 'fleet', 'scoring': '2 Divisions'}, {'score': 5, 'pos': 'Crew', 'predicted': 15, 'ratio': 0.7894736842000001, 'change': 45.4149380116, 'regAvg': 1457.7209646939, 'cross': 0, 'outLinks': 0, 'skipperRating': 1000.0000000024, 'crewRating': 1523.0260842716, 'womenSkipperRating': 1000.0000000024, 'womenCrewRating': 1612.959311283, 'tsr': 1000.0000000024, 'tcr': 966.227369884, 'wtsr': 1000.0000000024, 'wtcr': 1381.3678314928, 'womens': False, 'date': 1695427200000, 'partner': {'name': 'Robert Ulmer', 'key': 'robert-ulmer'}, 'venue': 'Tufts', 'raceID': 'f23/hood/1A', 'type': 'fleet', 'scoring': '2 Divisions'}, {'score': 4, 'pos': 'Crew', 'predicted': 15, 'ratio': 0.8421052632, 'change': 46.2757895866, 'regAvg': 1457.7209646939, 'cross': 0, 'outLinks': 0, 'skipperRating': 1000.0000000024, 'crewRating': 1569.3018738582, 'womenSkipperRating': 1000.0000000024, 'womenCrewRating': 1612.959311283, 'tsr': 1000.0000000024, 'tcr': 966.227369884, 'wtsr': 1000.0000000024, 'wtcr': 1381.3678314928, 'womens': False, 'date': 1695427200000, 'partner': {'name': 'Robert Ulmer', 'key': 'robert-ulmer'}, 'venue': 'Tufts', 'raceID': 'f23/hood/2A', 'type': 'fleet', 'scoring': '2 Divisions'}, {'score': 1, 'pos': 'Crew', 'predicted': 13, 'ratio': 1.0, 'change': 50.6742547886, 'regAvg': 1457.7209646939, 'cross': 0, 'outLinks': 0, 'skipperRating': 1000.0000000024, 'crewRating': 1619.9761286468, 'womenSkipperRating': 1000.0000000024, 'womenCrewRating': 1612.959311283, 'tsr': 1000.0000000024, 'tcr': 966.227369884, 'wtsr': 1000.0000000024, 'wtcr': 1381.3678314928, 'womens': False, 'date': 1695427200000, 'partner': {'name': 'Robert Ulmer', 'key': 'robert-ulmer'}, 'venue': 'Tufts', 'raceID': 'f23/hood/3A', 'type': 'fleet', 'scoring': '2 Divisions'}, {'score': 9, 'pos': 'Crew', 'predicted': 13, 'ratio': 0.5789473684, 'change': 31.262656324, 'regAvg': 1457.7209646939, 'cross': 0, 'outLinks': 0, 'skipperRating': 1000.0000000024, 'crewRating': 1651.2387849708, 'womenSkipperRating': 1000.0000000024, 'womenCrewRating': 1612.959311283, 'tsr': 1000.0000000024, 'tcr': 966.227369884, 'wtsr': 1000.0000000024, 'wtcr': 1381.3678314928, 'womens': False, 'date': 1695427200000, 'partner': {'name': 'Robert Ulmer', 'key': 'robert-ulmer'}, 'venue': 'Tufts', 'raceID': 'f23/hood/4A', 'type': 'fleet', 'scoring': '2 Divisions'}, {'score': 13, 'pos': 'Crew', 'predicted': 12, 'ratio': 0.3684210526, 'change': 12.7087015291, 'regAvg': 1457.7209646939, 'cross': 0, 'outLinks': 0, 'skipperRating': 1000.0000000024, 'crewRating': 1663.9474864999, 'womenSkipperRating': 1000.0000000024, 'womenCrewRating': 1612.959311283, 'tsr': 1000.0000000024, 'tcr': 966.227369884, 'wtsr': 1000.0000000024, 'wtcr': 1381.3678314928, 'womens': False, 'date': 1695427200000, 'partner': {'name': 'Robert Ulmer', 'key': 'robert-ulmer'}, 'venue': 'Tufts', 'raceID': 'f23/hood/5A', 'type': 'fleet', 'scoring': '2 Divisions'}, {'score': 4, 'pos': 'Crew', 'predicted': 10, 'ratio': 0.8421052632, 'change': 41.5319381188, 'regAvg': 1457.7209646939, 'cross': 0, 'outLinks': 0, 'skipperRating': 1000.0000000024, 'crewRating': 1705.4794246187, 'womenSkipperRating': 1000.0000000024, 'womenCrewRating': 1612.959311283, 'tsr': 1000.0000000024, 'tcr': 966.227369884, 'wtsr': 1000.0000000024, 'wtcr': 1381.3678314928, 'womens': False, 'date': 1695427200000, 'partner': {'name': 'Robert Ulmer', 'key': 'robert-ulmer'}, 'venue': 'Tufts', 'raceID': 'f23/hood/6A', 'type': 'fleet', 'scoring': '2 Divisions'}, {'score': 1, 'pos': 'Crew', 'predicted': 8, 'ratio': 1.0, 'change': 47.3561869266, 'regAvg': 1457.7209646939, 'cross': 0, 'outLinks': 0, 'skipperRating': 1000.0000000024, 'crewRating': 1752.8356115453, 'womenSkipperRating': 1000.0000000024, 'womenCrewRating': 1612.959311283, 'tsr': 1000.0000000024, 'tcr': 966.227369884, 'wtsr': 1000.0000000024, 'wtcr': 1381.3678314928, 'womens': False, 'date': 1695427200000, 'partner': {'name': 'Robert Ulmer', 'key': 'robert-ulmer'}, 'venue': 'Tufts', 'raceID': 'f23/hood/7A', 'type': 'fleet', 'scoring': '2 Divisions'}, {'score': 3, 'pos': 'Crew', 'predicted': 8, 'ratio': 0.8947368421, 'change': 42.2043907247, 'regAvg': 1457.7209646939, 'cross': 0, 'outLinks': 0, 'skipperRating': 1000.0000000024, 'crewRating': 1795.04000227, 'womenSkipperRating': 1000.0000000024, 'womenCrewRating': 1612.959311283, 'tsr': 1000.0000000024, 'tcr': 966.227369884, 'wtsr': 1000.0000000024, 'wtcr': 1381.3678314928, 'womens': False, 'date': 1695427200000, 'partner': {'name': 'Robert Ulmer', 'key': 'robert-ulmer'}, 'venue': 'Tufts', 'raceID': 'f23/hood/8A', 'type': 'fleet', 'scoring': '2 Divisions'}, {'score': 14, 'pos': 'Crew', 'predicted': 8, 'ratio': 0.3157894737, 'change': -18.7515066155, 'regAvg': 1457.7209646939, 'cross': 0, 'outLinks': 0, 'skipperRating': 1000.0000000024, 'crewRating': 1776.2884956545, 'womenSkipperRating': 1000.0000000024, 'womenCrewRating': 1612.959311283, 'tsr': 1000.0000000024, 'tcr': 966.227369884, 'wtsr': 1000.0000000024, 'wtcr': 1381.3678314928, 'womens': False, 'date': 1695427200000, 'partner': {'name': 'Andy Yu', 'key': 'andy-yu'}, 'venue': 'Tufts', 'raceID': 'f23/hood/9A', 'type': 'fleet', 'scoring': '2 Divisions'}, {'score': 16, 'pos': 'Crew', 'predicted': 9, 'ratio': 0.2105263158, 'change': -38.5241026149, 'regAvg': 1457.7209646939, 'cross': 0, 'outLinks': 0, 'skipperRating': 1000.0000000024, 'crewRating': 1737.7643930396, 'womenSkipperRating': 1000.0000000024, 'womenCrewRating': 1612.959311283, 'tsr': 1000.0000000024, 'tcr': 966.227369884, 'wtsr': 1000.0000000024, 'wtcr': 1381.3678314928, 'womens': False, 'date': 1695427200000, 'partner': {'name': 'Andy Yu', 'key': 'andy-yu'}, 'venue': 'Tufts', 'raceID': 'f23/hood/10A', 'type': 'fleet', 'scoring': '2 Divisions'}, {'score': 16, 'pos': 'Crew', 'predicted': 12, 'ratio': 0.2105263158, 'change': -19.886617631100002, 'regAvg': 1457.7209646939, 'cross': 0, 'outLinks': 0, 'skipperRating': 1000.0000000024, 'crewRating': 1717.8777754085, 'womenSkipperRating': 1000.0000000024, 'womenCrewRating': 1612.959311283, 'tsr': 1000.0000000024, 'tcr': 966.227369884, 'wtsr': 1000.0000000024, 'wtcr': 1381.3678314928, 'womens': False, 'date': 1695427200000, 'partner': {'name': 'Andy Yu', 'key': 'andy-yu'}, 'venue': 'Tufts', 'raceID': 'f23/hood/11A', 'type': 'fleet', 'scoring': '2 Divisions'}, {'score': 14, 'pos': 'Crew', 'predicted': 12, 'ratio': 0.3157894737, 'change': 0.2661039331, 'regAvg': 1457.7209646939, 'cross': 0, 'outLinks': 0, 'skipperRating': 1000.0000000024, 'crewRating': 1718.1438793416, 'womenSkipperRating': 1000.0000000024, 'womenCrewRating': 1612.959311283, 'tsr': 1000.0000000024, 'tcr': 966.227369884, 'wtsr': 1000.0000000024, 'wtcr': 1381.3678314928, 'womens': False, 'date': 1695427200000, 'partner': {'name': 'Andy Yu', 'key': 'andy-yu'}, 'venue': 'Tufts', 'raceID': 'f23/hood/12A', 'type': 'fleet', 'scoring': '2 Divisions'}, {'score': 11, 'pos': 'Crew', 'predicted': 12, 'ratio': 0.47368421050000004, 'change': 16.569253899, 'regAvg': 1457.7209646939, 'cross': 0, 'outLinks': 0, 'skipperRating': 1000.0000000024, 'crewRating': 1734.7131332406, 'womenSkipperRating': 1000.0000000024, 'womenCrewRating': 1612.959311283, 'tsr': 1000.0000000024, 'tcr': 966.227369884, 'wtsr': 1000.0000000024, 'wtcr': 1381.3678314928, 'womens': False, 'date': 1695427200000, 'partner': {'name': 'Andy Yu', 'key': 'andy-yu'}, 'venue': 'Tufts', 'raceID': 'f23/hood/13A', 'type': 'fleet', 'scoring': '2 Divisions'}, {'score': 6, 'pos': 'Crew', 'predicted': 10, 'ratio': 0.7368421053, 'change': 27.3947947113, 'regAvg': 1457.7209646939, 'cross': 0, 'outLinks': 0, 'skipperRating': 1000.0000000024, 'crewRating': 1762.1079279519, 'womenSkipperRating': 1000.0000000024, 'womenCrewRating': 1612.959311283, 'tsr': 1000.0000000024, 'tcr': 966.227369884, 'wtsr': 1000.0000000024, 'wtcr': 1381.3678314928, 'womens': False, 'date': 1695427200000, 'partner': {'name': 'Andy Yu', 'key': 'andy-yu'}, 'venue': 'Tufts', 'raceID': 'f23/hood/14A', 'type': 'fleet', 'scoring': '2 Divisions'}, {'score': 4, 'pos': 'Crew', 'predicted': 4, 'ratio': 0.8125, 'change': 15.4197535501, 'regAvg': 1276.7505647026, 'cross': 0, 'outLinks': 0, 'skipperRating': 1000.0000000024, 'crewRating': 1777.5276815021, 'womenSkipperRating': 1000.0000000024, 'womenCrewRating': 1612.959311283, 'tsr': 1000.0000000024, 'tcr': 966.227369884, 'wtsr': 1000.0000000024, 'wtcr': 1381.3678314928, 'womens': False, 'date': 1696032000000, 'partner': {'name': 'Emma Wang', 'key': 'emma-wang'}, 'venue': 'MIT', 'raceID': 'f23/george-warren-smith/1B', 'type': 'fleet', 'scoring': '2 Divisions'}, {'score': 3, 'pos': 'Crew', 'predicted': 4, 'ratio': 0.875, 'change': 18.8131135127, 'regAvg': 1276.7505647026, 'cross': 0, 'outLinks': 0, 'skipperRating': 1000.0000000024, 'crewRating': 1796.3407950148, 'womenSkipperRating': 1000.0000000024, 'womenCrewRating': 1612.959311283, 'tsr': 1000.0000000024, 'tcr': 966.227369884, 'wtsr': 1000.0000000024, 'wtcr': 1381.3678314928, 'womens': False, 'date': 1696032000000, 'partner': {'name': 'Emma Wang', 'key': 'emma-wang'}, 'venue': 'MIT', 'raceID': 'f23/george-warren-smith/2B', 'type': 'fleet', 'scoring': '2 Divisions'}, {'score': 2, 'pos': 'Crew', 'predicted': 4, 'ratio': 0.9375, 'change': 21.1621197556, 'regAvg': 1276.7505647026, 'cross': 0, 'outLinks': 0, 'skipperRating': 1000.0000000024, 'crewRating': 1817.5029147704, 'womenSkipperRating': 1000.0000000024, 'womenCrewRating': 1612.959311283, 'tsr': 1000.0000000024, 'tcr': 966.227369884, 'wtsr': 1000.0000000024, 'wtcr': 1381.3678314928, 'womens': False, 'date': 1696032000000, 'partner': {'name': 'Emma Wang', 'key': 'emma-wang'}, 'venue': 'MIT', 'raceID': 'f23/george-warren-smith/3B', 'type': 'fleet', 'scoring': '2 Divisions'}, {'score': 3, 'pos': 'Crew', 'predicted': 3, 'ratio': 0.875, 'change': 17.8108877096, 'regAvg': 1276.7505647026, 'cross': 0, 'outLinks': 0, 'skipperRating': 1000.0000000024, 'crewRating': 1835.31380248, 'womenSkipperRating': 1000.0000000024, 'womenCrewRating': 1612.959311283, 'tsr': 1000.0000000024, 'tcr': 966.227369884, 'wtsr': 1000.0000000024, 'wtcr': 1381.3678314928, 'womens': False, 'date': 1696032000000, 'partner': {'name': 'Emma Wang', 'key': 'emma-wang'}, 'venue': 'MIT', 'raceID': 'f23/george-warren-smith/4B', 'type': 'fleet', 'scoring': '2 Divisions'}, {'score': 1, 'pos': 'Crew', 'predicted': 3, 'ratio': 1.0, 'change': 23.16875905, 'regAvg': 1276.7505647026, 'cross': 0, 'outLinks': 0, 'skipperRating': 1000.0000000024, 'crewRating': 1858.48256153, 'womenSkipperRating': 1000.0000000024, 'womenCrewRating': 1612.959311283, 'tsr': 1000.0000000024, 'tcr': 966.227369884, 'wtsr': 1000.0000000024, 'wtcr': 1381.3678314928, 'womens': False, 'date': 1696032000000, 'partner': {'name': 'Emma Wang', 'key': 'emma-wang'}, 'venue': 'MIT', 'raceID': 'f23/george-warren-smith/5B', 'type': 'fleet', 'scoring': '2 Divisions'}, {'score': 5, 'pos': 'Crew', 'predicted': 3, 'ratio': 0.75, 'change': 9.9330786706, 'regAvg': 1276.7505647026, 'cross': 0, 'outLinks': 0, 'skipperRating': 1000.0000000024, 'crewRating': 1868.4156402006, 'womenSkipperRating': 1000.0000000024, 'womenCrewRating': 1612.959311283, 'tsr': 1000.0000000024, 'tcr': 966.227369884, 'wtsr': 1000.0000000024, 'wtcr': 1381.3678314928, 'womens': False, 'date': 1696032000000, 'partner': {'name': 'Emma Wang', 'key': 'emma-wang'}, 'venue': 'MIT', 'raceID': 'f23/george-warren-smith/6B', 'type': 'fleet', 'scoring': '2 Divisions'}, {'score': 2, 'pos': 'Crew', 'predicted': 2, 'ratio': 0.9375, 'change': 21.0511999243, 'regAvg': 1276.7505647026, 'cross': 0, 'outLinks': 0, 'skipperRating': 1000.0000000024, 'crewRating': 1889.4668401249, 'womenSkipperRating': 1000.0000000024, 'womenCrewRating': 1612.959311283, 'tsr': 1000.0000000024, 'tcr': 966.227369884, 'wtsr': 1000.0000000024, 'wtcr': 1381.3678314928, 'womens': False, 'date': 1696032000000, 'partner': {'name': 'Emma Wang', 'key': 'emma-wang'}, 'venue': 'MIT', 'raceID': 'f23/george-warren-smith/7B', 'type': 'fleet', 'scoring': '2 Divisions'}, {'score': 12, 'pos': 'Crew', 'predicted': 3, 'ratio': 0.3125, 'change': -42.1908787827, 'regAvg': 1276.7505647026, 'cross': 0, 'outLinks': 0, 'skipperRating': 1000.0000000024, 'crewRating': 1847.2759613423, 'womenSkipperRating': 1000.0000000024, 'womenCrewRating': 1612.959311283, 'tsr': 1000.0000000024, 'tcr': 966.227369884, 'wtsr': 1000.0000000024, 'wtcr': 1381.3678314928, 'womens': False, 'date': 1696032000000, 'partner': {'name': 'Emma Wang', 'key': 'emma-wang'}, 'venue': 'MIT', 'raceID': 'f23/george-warren-smith/8B', 'type': 'fleet', 'scoring': '2 Divisions'}, {'score': 1, 'pos': 'Crew', 'predicted': 3, 'ratio': 1.0, 'change': 23.9207926631, 'regAvg': 1276.7505647026, 'cross': 0, 'outLinks': 0, 'skipperRating': 1000.0000000024, 'crewRating': 1871.1967540053, 'womenSkipperRating': 1000.0000000024, 'womenCrewRating': 1612.959311283, 'tsr': 1000.0000000024, 'tcr': 966.227369884, 'wtsr': 1000.0000000024, 'wtcr': 1381.3678314928, 'womens': False, 'date': 1696032000000, 'partner': {'name': 'Emma Wang', 'key': 'emma-wang'}, 'venue': 'MIT', 'raceID': 'f23/george-warren-smith/9B', 'type': 'fleet', 'scoring': '2 Divisions'}, {'score': 11, 'pos': 'Crew', 'predicted': 7, 'ratio': 0.33333333330000003, 'change': -9.4267536185, 'regAvg': 1309.1528197786, 'cross': 1, 'outLinks': 5, 'skipperRating': 1000.0000000024, 'crewRating': 1871.1967540053, 'womenSkipperRating': 1000.0000000024, 'womenCrewRating': 1603.5325576645, 'tsr': 1000.0000000024, 'tcr': 966.227369884, 'wtsr': 1000.0000000024, 'wtcr': 1381.3678314928, 'womens': True, 'date': 1696636800000, 'partner': {'name': 'Emma Wang', 'key': 'emma-wang'}, 'venue': 'Connecticut College', 'raceID': 'f23/stu-nelson/1C', 'type': 'fleet', 'scoring': '3 Divisions'}, {'score': 10, 'pos': 'Crew', 'predicted': 7, 'ratio': 0.3571428571, 'change': -2.235419446, 'regAvg': 1309.1528197786, 'cross': 1, 'outLinks': 5, 'skipperRating': 1000.0000000024, 'crewRating': 1871.1967540053, 'womenSkipperRating': 1000.0000000024, 'womenCrewRating': 1601.2971382186, 'tsr': 1000.0000000024, 'tcr': 966.227369884, 'wtsr': 1000.0000000024, 'wtcr': 1381.3678314928, 'womens': True, 'date': 1696636800000, 'partner': {'name': 'Emma Wang', 'key': 'emma-wang'}, 'venue': 'Connecticut College', 'raceID': 'f23/stu-nelson/2C', 'type': 'fleet', 'scoring': '3 Divisions'}, {'score': 14, 'pos': 'Crew', 'predicted': 7, 'ratio': 0.0714285714, 'change': -12.8845075462, 'regAvg': 1309.1528197786, 'cross': 1, 'outLinks': 5, 'skipperRating': 1000.0000000024, 'crewRating': 1871.1967540053, 'womenSkipperRating': 1000.0000000024, 'womenCrewRating': 1588.4126306724, 'tsr': 1000.0000000024, 'tcr': 966.227369884, 'wtsr': 1000.0000000024, 'wtcr': 1381.3678314928, 'womens': True, 'date': 1696636800000, 'partner': {'name': 'Emma Wang', 'key': 'emma-wang'}, 'venue': 'Connecticut College', 'raceID': 'f23/stu-nelson/3C', 'type': 'fleet', 'scoring': '3 Divisions'}, {'score': 5, 'pos': 'Crew', 'predicted': 6, 'ratio': 0.7142857143, 'change': 12.0004271102, 'regAvg': 1309.1528197786, 'cross': 1, 'outLinks': 5, 'skipperRating': 1000.0000000024, 'crewRating': 1871.1967540053, 'womenSkipperRating': 1000.0000000024, 'womenCrewRating': 1600.4130577825, 'tsr': 1000.0000000024, 'tcr': 966.227369884, 'wtsr': 1000.0000000024, 'wtcr': 1381.3678314928, 'womens': True, 'date': 1696636800000, 'partner': {'name': 'Emma Wang', 'key': 'emma-wang'}, 'venue': 'Connecticut College', 'raceID': 'f23/stu-nelson/4C', 'type': 'fleet', 'scoring': '3 Divisions'}, {'score': 1, 'pos': 'Crew', 'predicted': 6, 'ratio': 1.0, 'change': 17.328993007, 'regAvg': 1309.1528197786, 'cross': 1, 'outLinks': 5, 'skipperRating': 1000.0000000024, 'crewRating': 1871.1967540053, 'womenSkipperRating': 1000.0000000024, 'womenCrewRating': 1617.7420507895, 'tsr': 1000.0000000024, 'tcr': 966.227369884, 'wtsr': 1000.0000000024, 'wtcr': 1381.3678314928, 'womens': True, 'date': 1696636800000, 'partner': {'name': 'Emma Wang', 'key': 'emma-wang'}, 'venue': 'Connecticut College', 'raceID': 'f23/stu-nelson/5C', 'type': 'fleet', 'scoring': '3 Divisions'}, {'score': 5, 'pos': 'Crew', 'predicted': 7, 'ratio': 0.7142857143, 'change': 11.8804544059, 'regAvg': 1309.1528197786, 'cross': 1, 'outLinks': 5, 'skipperRating': 1000.0000000024, 'crewRating': 1871.1967540053, 'womenSkipperRating': 1000.0000000024, 'womenCrewRating': 1629.6225051954, 'tsr': 1000.0000000024, 'tcr': 966.227369884, 'wtsr': 1000.0000000024, 'wtcr': 1381.3678314928, 'womens': True, 'date': 1696636800000, 'partner': {'name': 'Emma Wang', 'key': 'emma-wang'}, 'venue': 'Connecticut College', 'raceID': 'f23/stu-nelson/6C', 'type': 'fleet', 'scoring': '3 Divisions'}, {'score': 8, 'pos': 'Crew', 'predicted': 7, 'ratio': 0.5, 'change': 2.1056442178, 'regAvg': 1309.1528197786, 'cross': 1, 'outLinks': 5, 'skipperRating': 1000.0000000024, 'crewRating': 1871.1967540053, 'womenSkipperRating': 1000.0000000024, 'womenCrewRating': 1631.7281494132, 'tsr': 1000.0000000024, 'tcr': 966.227369884, 'wtsr': 1000.0000000024, 'wtcr': 1381.3678314928, 'womens': True, 'date': 1696636800000, 'partner': {'name': 'Emma Wang', 'key': 'emma-wang'}, 'venue': 'Connecticut College', 'raceID': 'f23/stu-nelson/7C', 'type': 'fleet', 'scoring': '3 Divisions'}, {'score': 2, 'pos': 'Crew', 'predicted': 7, 'ratio': 0.9285714286000001, 'change': 17.1857977231, 'regAvg': 1309.1528197786, 'cross': 1, 'outLinks': 5, 'skipperRating': 1000.0000000024, 'crewRating': 1871.1967540053, 'womenSkipperRating': 1000.0000000024, 'womenCrewRating': 1648.9139471363, 'tsr': 1000.0000000024, 'tcr': 966.227369884, 'wtsr': 1000.0000000024, 'wtcr': 1381.3678314928, 'womens': True, 'date': 1696636800000, 'partner': {'name': 'Emma Wang', 'key': 'emma-wang'}, 'venue': 'Connecticut College', 'raceID': 'f23/stu-nelson/8C', 'type': 'fleet', 'scoring': '3 Divisions'}, {'score': 8, 'pos': 'Crew', 'predicted': 6, 'ratio': 0.5, 'change': 6.4071940924, 'regAvg': 1309.1528197786, 'cross': 1, 'outLinks': 5, 'skipperRating': 1000.0000000024, 'crewRating': 1871.1967540053, 'womenSkipperRating': 1000.0000000024, 'womenCrewRating': 1655.3211412288, 'tsr': 1000.0000000024, 'tcr': 966.227369884, 'wtsr': 1000.0000000024, 'wtcr': 1381.3678314928, 'womens': True, 'date': 1696636800000, 'partner': {'name': 'Emma Wang', 'key': 'emma-wang'}, 'venue': 'Connecticut College', 'raceID': 'f23/stu-nelson/9C', 'type': 'fleet', 'scoring': '3 Divisions'}, {'score': 5, 'pos': 'Crew', 'predicted': 4, 'ratio': 0.7142857143, 'change': 10.8454034151, 'regAvg': 1309.1528197786, 'cross': 1, 'outLinks': 5, 'skipperRating': 1000.0000000024, 'crewRating': 1871.1967540053, 'womenSkipperRating': 1000.0000000024, 'womenCrewRating': 1666.1665446438, 'tsr': 1000.0000000024, 'tcr': 966.227369884, 'wtsr': 1000.0000000024, 'wtcr': 1381.3678314928, 'womens': True, 'date': 1696636800000, 'partner': {'name': 'Emma Wang', 'key': 'emma-wang'}, 'venue': 'Connecticut College', 'raceID': 'f23/stu-nelson/10C', 'type': 'fleet', 'scoring': '3 Divisions'}, {'score': 12, 'pos': 'Crew', 'predicted': 7, 'ratio': 0.2142857143, 'change': -25.5669661355, 'regAvg': 1309.1528197786, 'cross': 1, 'outLinks': 5, 'skipperRating': 1000.0000000024, 'crewRating': 1871.1967540053, 'womenSkipperRating': 1000.0000000024, 'womenCrewRating': 1640.5995785083, 'tsr': 1000.0000000024, 'tcr': 966.227369884, 'wtsr': 1000.0000000024, 'wtcr': 1381.3678314928, 'womens': True, 'date': 1696636800000, 'partner': {'name': 'Emma Wang', 'key': 'emma-wang'}, 'venue': 'Connecticut College', 'raceID': 'f23/stu-nelson/11C', 'type': 'fleet', 'scoring': '3 Divisions'}, {'score': 1, 'pos': 'Crew', 'predicted': 7, 'ratio': 1.0, 'change': 18.6466873605, 'regAvg': 1309.1528197786, 'cross': 1, 'outLinks': 5, 'skipperRating': 1000.0000000024, 'crewRating': 1871.1967540053, 'womenSkipperRating': 1000.0000000024, 'womenCrewRating': 1659.2462658688, 'tsr': 1000.0000000024, 'tcr': 966.227369884, 'wtsr': 1000.0000000024, 'wtcr': 1381.3678314928, 'womens': True, 'date': 1696636800000, 'partner': {'name': 'Emma Wang', 'key': 'emma-wang'}, 'venue': 'Connecticut College', 'raceID': 'f23/stu-nelson/12C', 'type': 'fleet', 'scoring': '3 Divisions'}, {'score': 15, 'pos': 'Crew', 'predicted': 6, 'ratio': 0.125, 'change': -39.6019077896, 'regAvg': 1429.0035990425, 'cross': 1, 'outLinks': 3, 'skipperRating': 1000.0000000024, 'crewRating': 1831.5948462158, 'womenSkipperRating': 1000.0000000024, 'womenCrewRating': 1659.2462658688, 'tsr': 1000.0000000024, 'tcr': 966.227369884, 'wtsr': 1000.0000000024, 'wtcr': 1381.3678314928, 'womens': False, 'date': 1697241600000, 'partner': {'name': 'Emma Wang', 'key': 'emma-wang'}, 'venue': 'Boston College', 'raceID': 'f23/savin-hill-invite/1A', 'type': 'fleet', 'scoring': '2 Divisions'}, {'score': 17, 'pos': 'Crew', 'predicted': 9, 'ratio': 0.0, 'change': -82.0405028461, 'regAvg': 1429.0035990425, 'cross': 1, 'outLinks': 3, 'skipperRating': 1000.0000000024, 'crewRating': 1749.5543433697, 'womenSkipperRating': 1000.0000000024, 'womenCrewRating': 1659.2462658688, 'tsr': 1000.0000000024, 'tcr': 966.227369884, 'wtsr': 1000.0000000024, 'wtcr': 1381.3678314928, 'womens': False, 'date': 1697241600000, 'partner': {'name': 'Emma Wang', 'key': 'emma-wang'}, 'venue': 'Boston College', 'raceID': 'f23/savin-hill-invite/2A', 'type': 'fleet', 'scoring': '2 Divisions'}, {'score': 10, 'pos': 'Crew', 'predicted': 9, 'ratio': 0.4375, 'change': 4.8378079213, 'regAvg': 1429.0035990425, 'cross': 1, 'outLinks': 3, 'skipperRating': 1000.0000000024, 'crewRating': 1754.392151291, 'womenSkipperRating': 1000.0000000024, 'womenCrewRating': 1659.2462658688, 'tsr': 1000.0000000024, 'tcr': 966.227369884, 'wtsr': 1000.0000000024, 'wtcr': 1381.3678314928, 'womens': False, 'date': 1697241600000, 'partner': {'name': 'Emma Wang', 'key': 'emma-wang'}, 'venue': 'Boston College', 'raceID': 'f23/savin-hill-invite/3A', 'type': 'fleet', 'scoring': '2 Divisions'}, {'score': 4, 'pos': 'Crew', 'predicted': 8, 'ratio': 0.8125, 'change': 20.492836093, 'regAvg': 1429.0035990425, 'cross': 1, 'outLinks': 3, 'skipperRating': 1000.0000000024, 'crewRating': 1774.8849873839, 'womenSkipperRating': 1000.0000000024, 'womenCrewRating': 1659.2462658688, 'tsr': 1000.0000000024, 'tcr': 966.227369884, 'wtsr': 1000.0000000024, 'wtcr': 1381.3678314928, 'womens': False, 'date': 1697241600000, 'partner': {'name': 'Emma Wang', 'key': 'emma-wang'}, 'venue': 'Boston College', 'raceID': 'f23/savin-hill-invite/4A', 'type': 'fleet', 'scoring': '2 Divisions'}, {'score': 15, 'pos': 'Crew', 'predicted': 8, 'ratio': 0.125, 'change': -27.2055579316, 'regAvg': 1429.0035990425, 'cross': 1, 'outLinks': 3, 'skipperRating': 1000.0000000024, 'crewRating': 1747.6794294523, 'womenSkipperRating': 1000.0000000024, 'womenCrewRating': 1659.2462658688, 'tsr': 1000.0000000024, 'tcr': 966.227369884, 'wtsr': 1000.0000000024, 'wtcr': 1381.3678314928, 'womens': False, 'date': 1697241600000, 'partner': {'name': 'Emma Wang', 'key': 'emma-wang'}, 'venue': 'Boston College', 'raceID': 'f23/savin-hill-invite/5A', 'type': 'fleet', 'scoring': '2 Divisions'}, {'score': 8, 'pos': 'Crew', 'predicted': 8, 'ratio': 0.5625, 'change': 12.9077207807, 'regAvg': 1429.0035990425, 'cross': 1, 'outLinks': 3, 'skipperRating': 1000.0000000024, 'crewRating': 1760.587150233, 'womenSkipperRating': 1000.0000000024, 'womenCrewRating': 1659.2462658688, 'tsr': 1000.0000000024, 'tcr': 966.227369884, 'wtsr': 1000.0000000024, 'wtcr': 1381.3678314928, 'womens': False, 'date': 1697241600000, 'partner': {'name': 'Emma Wang', 'key': 'emma-wang'}, 'venue': 'Boston College', 'raceID': 'f23/savin-hill-invite/6A', 'type': 'fleet', 'scoring': '2 Divisions'}, {'score': 15, 'pos': 'Crew', 'predicted': 10, 'ratio': 0.125, 'change': -28.8829745205, 'regAvg': 1429.0035990425, 'cross': 1, 'outLinks': 3, 'skipperRating': 1000.0000000024, 'crewRating': 1731.7041757125, 'womenSkipperRating': 1000.0000000024, 'womenCrewRating': 1659.2462658688, 'tsr': 1000.0000000024, 'tcr': 966.227369884, 'wtsr': 1000.0000000024, 'wtcr': 1381.3678314928, 'womens': False, 'date': 1697241600000, 'partner': {'name': 'Emma Wang', 'key': 'emma-wang'}, 'venue': 'Boston College', 'raceID': 'f23/savin-hill-invite/7A', 'type': 'fleet', 'scoring': '2 Divisions'}, {'score': 13, 'pos': 'Crew', 'predicted': 10, 'ratio': 0.25, 'change': -2.4880477103, 'regAvg': 1429.0035990425, 'cross': 1, 'outLinks': 3, 'skipperRating': 1000.0000000024, 'crewRating': 1729.2161280021, 'womenSkipperRating': 1000.0000000024, 'womenCrewRating': 1659.2462658688, 'tsr': 1000.0000000024, 'tcr': 966.227369884, 'wtsr': 1000.0000000024, 'wtcr': 1381.3678314928, 'womens': False, 'date': 1697241600000, 'partner': {'name': 'Emma Wang', 'key': 'emma-wang'}, 'venue': 'Boston College', 'raceID': 'f23/savin-hill-invite/8A', 'type': 'fleet', 'scoring': '2 Divisions'}, {'score': 3, 'pos': 'Crew', 'predicted': 6, 'ratio': 0.8823529412000001, 'change': 18.1197497696, 'regAvg': 1351.8270989264, 'cross': 1, 'outLinks': 7, 'skipperRating': 1000.0000000024, 'crewRating': 1729.2161280021, 'womenSkipperRating': 1000.0000000024, 'womenCrewRating': 1677.3660156384, 'tsr': 1000.0000000024, 'tcr': 966.227369884, 'wtsr': 1000.0000000024, 'wtcr': 1381.3678314928, 'womens': True, 'date': 1697846400000, 'partner': {'name': 'Lucy Brock', 'key': 'lucy-brock'}, 'venue': 'Yale', 'raceID': 'f23/yale-women/1B', 'type': 'fleet', 'scoring': '2 Divisions'}, {'score': 4, 'pos': 'Crew', 'predicted': 5, 'ratio': 0.8235294118, 'change': 16.7397108854, 'regAvg': 1351.8270989264, 'cross': 1, 'outLinks': 7, 'skipperRating': 1000.0000000024, 'crewRating': 1729.2161280021, 'womenSkipperRating': 1000.0000000024, 'womenCrewRating': 1694.1057265237, 'tsr': 1000.0000000024, 'tcr': 966.227369884, 'wtsr': 1000.0000000024, 'wtcr': 1381.3678314928, 'womens': True, 'date': 1697846400000, 'partner': {'name': 'Lucy Brock', 'key': 'lucy-brock'}, 'venue': 'Yale', 'raceID': 'f23/yale-women/2B', 'type': 'fleet', 'scoring': '2 Divisions'}, {'score': 8, 'pos': 'Crew', 'predicted': 5, 'ratio': 0.5882352941, 'change': 7.9734809367, 'regAvg': 1351.8270989264, 'cross': 1, 'outLinks': 7, 'skipperRating': 1000.0000000024, 'crewRating': 1729.2161280021, 'womenSkipperRating': 1000.0000000024, 'womenCrewRating': 1702.0792074604, 'tsr': 1000.0000000024, 'tcr': 966.227369884, 'wtsr': 1000.0000000024, 'wtcr': 1381.3678314928, 'womens': True, 'date': 1697846400000, 'partner': {'name': 'Lucy Brock', 'key': 'lucy-brock'}, 'venue': 'Yale', 'raceID': 'f23/yale-women/3B', 'type': 'fleet', 'scoring': '2 Divisions'}, {'score': 11, 'pos': 'Crew', 'predicted': 5, 'ratio': 0.4117647059, 'change': -2.7413678261, 'regAvg': 1351.8270989264, 'cross': 1, 'outLinks': 7, 'skipperRating': 1000.0000000024, 'crewRating': 1729.2161280021, 'womenSkipperRating': 1000.0000000024, 'womenCrewRating': 1699.3378396343, 'tsr': 1000.0000000024, 'tcr': 966.227369884, 'wtsr': 1000.0000000024, 'wtcr': 1381.3678314928, 'womens': True, 'date': 1697846400000, 'partner': {'name': 'Lucy Brock', 'key': 'lucy-brock'}, 'venue': 'Yale', 'raceID': 'f23/yale-women/4B', 'type': 'fleet', 'scoring': '2 Divisions'}, {'score': 12, 'pos': 'Crew', 'predicted': 5, 'ratio': 0.3529411765, 'change': -9.7880186145, 'regAvg': 1351.8270989264, 'cross': 1, 'outLinks': 7, 'skipperRating': 1000.0000000024, 'crewRating': 1729.2161280021, 'womenSkipperRating': 1000.0000000024, 'womenCrewRating': 1689.5498210198, 'tsr': 1000.0000000024, 'tcr': 966.227369884, 'wtsr': 1000.0000000024, 'wtcr': 1381.3678314928, 'womens': True, 'date': 1697846400000, 'partner': {'name': 'Lucy Brock', 'key': 'lucy-brock'}, 'venue': 'Yale', 'raceID': 'f23/yale-women/5B', 'type': 'fleet', 'scoring': '2 Divisions'}, {'score': 8, 'pos': 'Crew', 'predicted': 4, 'ratio': 0.5882352941, 'change': 5.1515648723, 'regAvg': 1351.8270989264, 'cross': 1, 'outLinks': 7, 'skipperRating': 1000.0000000024, 'crewRating': 1729.2161280021, 'womenSkipperRating': 1000.0000000024, 'womenCrewRating': 1694.7013858921, 'tsr': 1000.0000000024, 'tcr': 966.227369884, 'wtsr': 1000.0000000024, 'wtcr': 1381.3678314928, 'womens': True, 'date': 1697846400000, 'partner': {'name': 'Lucy Brock', 'key': 'lucy-brock'}, 'venue': 'Yale', 'raceID': 'f23/yale-women/6B', 'type': 'fleet', 'scoring': '2 Divisions'}, {'score': 11, 'pos': 'Crew', 'predicted': 4, 'ratio': 0.4117647059, 'change': -2.3293827342, 'regAvg': 1351.8270989264, 'cross': 1, 'outLinks': 7, 'skipperRating': 1000.0000000024, 'crewRating': 1729.2161280021, 'womenSkipperRating': 1000.0000000024, 'womenCrewRating': 1692.372003158, 'tsr': 1000.0000000024, 'tcr': 966.227369884, 'wtsr': 1000.0000000024, 'wtcr': 1381.3678314928, 'womens': True, 'date': 1697846400000, 'partner': {'name': 'Lucy Brock', 'key': 'lucy-brock'}, 'venue': 'Yale', 'raceID': 'f23/yale-women/7B', 'type': 'fleet', 'scoring': '2 Divisions'}, {'score': 10, 'pos': 'Crew', 'predicted': 4, 'ratio': 0.4705882353, 'change': -1.5511474048, 'regAvg': 1351.8270989264, 'cross': 1, 'outLinks': 7, 'skipperRating': 1000.0000000024, 'crewRating': 1729.2161280021, 'womenSkipperRating': 1000.0000000024, 'womenCrewRating': 1690.8208557532, 'tsr': 1000.0000000024, 'tcr': 966.227369884, 'wtsr': 1000.0000000024, 'wtcr': 1381.3678314928, 'womens': True, 'date': 1697846400000, 'partner': {'name': 'Lucy Brock', 'key': 'lucy-brock'}, 'venue': 'Yale', 'raceID': 'f23/yale-women/8B', 'type': 'fleet', 'scoring': '2 Divisions'}, {'score': 11, 'pos': 'Crew', 'predicted': 4, 'ratio': 0.4117647059, 'change': -4.5329655239, 'regAvg': 1351.8270989264, 'cross': 1, 'outLinks': 7, 'skipperRating': 1000.0000000024, 'crewRating': 1729.2161280021, 'womenSkipperRating': 1000.0000000024, 'womenCrewRating': 1686.2878902293, 'tsr': 1000.0000000024, 'tcr': 966.227369884, 'wtsr': 1000.0000000024, 'wtcr': 1381.3678314928, 'womens': True, 'date': 1697846400000, 'partner': {'name': 'Lucy Brock', 'key': 'lucy-brock'}, 'venue': 'Yale', 'raceID': 'f23/yale-women/9B', 'type': 'fleet', 'scoring': '2 Divisions'}, {'score': 6, 'pos': 'Crew', 'predicted': 7, 'ratio': 0.6875, 'change': 8.9205149547, 'regAvg': 1279.5368092103, 'cross': 1, 'outLinks': 3, 'skipperRating': 1000.0000000024, 'crewRating': 1738.1366429568, 'womenSkipperRating': 1000.0000000024, 'womenCrewRating': 1686.2878902293, 'tsr': 1000.0000000024, 'tcr': 966.227369884, 'wtsr': 1000.0000000024, 'wtcr': 1381.3678314928, 'womens': False, 'date': 1698451200000, 'partner': {'name': 'Emma Wang', 'key': 'emma-wang'}, 'venue': 'Tufts', 'raceID': 'f23/nickerson/1B', 'type': 'fleet', 'scoring': '2 Divisions'}, {'score': 7, 'pos': 'Crew', 'predicted': 6, 'ratio': 0.625, 'change': 6.9401634455, 'regAvg': 1279.5368092103, 'cross': 1, 'outLinks': 3, 'skipperRating': 1000.0000000024, 'crewRating': 1745.0768064023, 'womenSkipperRating': 1000.0000000024, 'womenCrewRating': 1686.2878902293, 'tsr': 1000.0000000024, 'tcr': 966.227369884, 'wtsr': 1000.0000000024, 'wtcr': 1381.3678314928, 'womens': False, 'date': 1698451200000, 'partner': {'name': 'Emma Wang', 'key': 'emma-wang'}, 'venue': 'Tufts', 'raceID': 'f23/nickerson/2B', 'type': 'fleet', 'scoring': '2 Divisions'}, {'score': 8, 'pos': 'Crew', 'predicted': 5, 'ratio': 0.5625, 'change': 0.294782878, 'regAvg': 1279.5368092103, 'cross': 1, 'outLinks': 3, 'skipperRating': 1000.0000000024, 'crewRating': 1745.3715892803, 'womenSkipperRating': 1000.0000000024, 'womenCrewRating': 1686.2878902293, 'tsr': 1000.0000000024, 'tcr': 966.227369884, 'wtsr': 1000.0000000024, 'wtcr': 1381.3678314928, 'womens': False, 'date': 1698451200000, 'partner': {'name': 'Emma Wang', 'key': 'emma-wang'}, 'venue': 'Tufts', 'raceID': 'f23/nickerson/3B', 'type': 'fleet', 'scoring': '2 Divisions'}, {'score': 12, 'pos': 'Crew', 'predicted': 7, 'ratio': 0.3125, 'change': -12.6140597949, 'regAvg': 1279.5368092103, 'cross': 1, 'outLinks': 3, 'skipperRating': 1000.0000000024, 'crewRating': 1732.7575294854, 'womenSkipperRating': 1000.0000000024, 'womenCrewRating': 1686.2878902293, 'tsr': 1000.0000000024, 'tcr': 966.227369884, 'wtsr': 1000.0000000024, 'wtcr': 1381.3678314928, 'womens': False, 'date': 1698451200000, 'partner': {'name': 'Emma Wang', 'key': 'emma-wang'}, 'venue': 'Tufts', 'raceID': 'f23/nickerson/4B', 'type': 'fleet', 'scoring': '2 Divisions'}, {'score': 4, 'pos': 'Crew', 'predicted': 6, 'ratio': 0.8125, 'change': 12.8727468915, 'regAvg': 1279.5368092103, 'cross': 1, 'outLinks': 3, 'skipperRating': 1000.0000000024, 'crewRating': 1745.6302763769, 'womenSkipperRating': 1000.0000000024, 'womenCrewRating': 1686.2878902293, 'tsr': 1000.0000000024, 'tcr': 966.227369884, 'wtsr': 1000.0000000024, 'wtcr': 1381.3678314928, 'womens': False, 'date': 1698451200000, 'partner': {'name': 'Emma Wang', 'key': 'emma-wang'}, 'venue': 'Tufts', 'raceID': 'f23/nickerson/5B', 'type': 'fleet', 'scoring': '2 Divisions'}, {'score': 8, 'pos': 'Crew', 'predicted': 6, 'ratio': 0.5625, 'change': 1.208512424, 'regAvg': 1279.5368092103, 'cross': 1, 'outLinks': 3, 'skipperRating': 1000.0000000024, 'crewRating': 1746.8387888009, 'womenSkipperRating': 1000.0000000024, 'womenCrewRating': 1686.2878902293, 'tsr': 1000.0000000024, 'tcr': 966.227369884, 'wtsr': 1000.0000000024, 'wtcr': 1381.3678314928, 'womens': False, 'date': 1698451200000, 'partner': {'name': 'Emma Wang', 'key': 'emma-wang'}, 'venue': 'Tufts', 'raceID': 'f23/nickerson/6B', 'type': 'fleet', 'scoring': '2 Divisions'}, {'score': 8, 'pos': 'Crew', 'predicted': 6, 'ratio': 0.5625, 'change': 1.7353350323, 'regAvg': 1279.5368092103, 'cross': 1, 'outLinks': 3, 'skipperRating': 1000.0000000024, 'crewRating': 1748.5741238331, 'womenSkipperRating': 1000.0000000024, 'womenCrewRating': 1686.2878902293, 'tsr': 1000.0000000024, 'tcr': 966.227369884, 'wtsr': 1000.0000000024, 'wtcr': 1381.3678314928, 'womens': False, 'date': 1698451200000, 'partner': {'name': 'Emma Wang', 'key': 'emma-wang'}, 'venue': 'Tufts', 'raceID': 'f23/nickerson/7B', 'type': 'fleet', 'scoring': '2 Divisions'}, {'score': 5, 'pos': 'Crew', 'predicted': 5, 'ratio': 0.75, 'change': 9.6414918657, 'regAvg': 1279.5368092103, 'cross': 1, 'outLinks': 3, 'skipperRating': 1000.0000000024, 'crewRating': 1758.2156156988, 'womenSkipperRating': 1000.0000000024, 'womenCrewRating': 1686.2878902293, 'tsr': 1000.0000000024, 'tcr': 966.227369884, 'wtsr': 1000.0000000024, 'wtcr': 1381.3678314928, 'womens': False, 'date': 1698451200000, 'partner': {'name': 'Andy Yu', 'key': 'andy-yu'}, 'venue': 'Tufts', 'raceID': 'f23/nickerson/8B', 'type': 'fleet', 'scoring': '2 Divisions'}, {'score': 4, 'pos': 'Crew', 'predicted': 5, 'ratio': 0.8125, 'change': 11.947489835, 'regAvg': 1279.5368092103, 'cross': 1, 'outLinks': 3, 'skipperRating': 1000.0000000024, 'crewRating': 1770.1631055338, 'womenSkipperRating': 1000.0000000024, 'womenCrewRating': 1686.2878902293, 'tsr': 1000.0000000024, 'tcr': 966.227369884, 'wtsr': 1000.0000000024, 'wtcr': 1381.3678314928, 'womens': False, 'date': 1698451200000, 'partner': {'name': 'Andy Yu', 'key': 'andy-yu'}, 'venue': 'Tufts', 'raceID': 'f23/nickerson/9B', 'type': 'fleet', 'scoring': '2 Divisions'}, {'score': 10, 'pos': 'Crew', 'predicted': 5, 'ratio': 0.4375, 'change': -10.1680006166, 'regAvg': 1279.5368092103, 'cross': 1, 'outLinks': 3, 'skipperRating': 1000.0000000024, 'crewRating': 1759.9951049172, 'womenSkipperRating': 1000.0000000024, 'womenCrewRating': 1686.2878902293, 'tsr': 1000.0000000024, 'tcr': 966.227369884, 'wtsr': 1000.0000000024, 'wtcr': 1381.3678314928, 'womens': False, 'date': 1698451200000, 'partner': {'name': 'Andy Yu', 'key': 'andy-yu'}, 'venue': 'Tufts', 'raceID': 'f23/nickerson/10B', 'type': 'fleet', 'scoring': '2 Divisions'}, {'raceID': 's24/usf-women-team-race/13', 'raceNum': 13, 'round': 'Round 1', 'pos': 'Crew', 'date': 1708732800000, 'womens': True, 'partner': {'key': 'emma-wang', 'name': 'Emma Wang'}, 'opponentTeam': 'Hawaii', 'opponentNick': 'Rainbows', 'score': '2-3-4', 'outcome': 'win', 'predicted': 'win', 'skipperRating': 1000.0000000024, 'crewRating': 1759.9951049172, 'womenSkipperRating': 1000.0000000024, 'womenCrewRating': 1686.2878902293, 'tsr': 1000.0000000024, 'tcr': 966.227369884, 'wtsr': 1000.0000000024, 'wtcr': 1384.2009002898, 'regAvg': 1139.2053431929, 'change': 2.833068797, 'venue': 'South Florida', 'type': 'team'}, {'raceID': 's24/usf-women-team-race/17', 'raceNum': 17, 'round': 'Round 1', 'pos': 'Crew', 'date': 1708732800000, 'womens': True, 'partner': {'key': 'emma-wang', 'name': 'Emma Wang'}, 'opponentTeam': 'Jacksonville', 'opponentNick': 'Fins', 'score': '2-3-4', 'outcome': 'win', 'predicted': 'win', 'skipperRating': 1000.0000000024, 'crewRating': 1759.9951049172, 'womenSkipperRating': 1000.0000000024, 'womenCrewRating': 1686.2878902293, 'tsr': 1000.0000000024, 'tcr': 966.227369884, 'wtsr': 1000.0000000024, 'wtcr': 1389.5416521101, 'regAvg': 1139.2053431929, 'change': 5.3407518204, 'venue': 'South Florida', 'type': 'team'}, {'raceID': 's24/usf-women-team-race/19', 'raceNum': 19, 'round': 'Round 1', 'pos': 'Crew', 'date': 1708732800000, 'womens': True, 'partner': {'key': 'emma-wang', 'name': 'Emma Wang'}, 'opponentTeam': 'Old Dominion', 'opponentNick': 'Monarchs', 'score': '1-2-5', 'outcome': 'win', 'predicted': 'win', 'skipperRating': 1000.0000000024, 'crewRating': 1759.9951049172, 'womenSkipperRating': 1000.0000000024, 'womenCrewRating': 1686.2878902293, 'tsr': 1000.0000000024, 'tcr': 966.227369884, 'wtsr': 1000.0000000024, 'wtcr': 1398.7491124835, 'regAvg': 1139.2053431929, 'change': 9.2074603734, 'venue': 'South Florida', 'type': 'team'}, {'raceID': 's24/usf-women-team-race/22', 'raceNum': 22, 'round': 'Round 2', 'pos': 'Crew', 'date': 1708732800000, 'womens': True, 'partner': {'key': 'lucy-brock', 'name': 'Lucy Brock'}, 'opponentTeam': 'Charleston', 'opponentNick': 'Cougars', 'score': '1-5-6', 'outcome': 'lose', 'predicted': 'win', 'skipperRating': 1000.0000000024, 'crewRating': 1759.9951049172, 'womenSkipperRating': 1000.0000000024, 'womenCrewRating': 1686.2878902293, 'tsr': 1000.0000000024, 'tcr': 966.227369884, 'wtsr': 1000.0000000024, 'wtcr': 1383.0958091917, 'regAvg': 1139.2053431929, 'change': -15.6533032918, 'venue': 'South Florida', 'type': 'team'}, {'raceID': 's24/usf-women-team-race/26', 'raceNum': 26, 'round': 'Round 2', 'pos': 'Crew', 'date': 1708732800000, 'womens': True, 'partner': {'key': 'lucy-brock', 'name': 'Lucy Brock'}, 'opponentTeam': 'Northwestern', 'opponentNick': 'Wildcats', 'score': '1-2-3', 'outcome': 'win', 'predicted': 'win', 'skipperRating': 1000.0000000024, 'crewRating': 1759.9951049172, 'womenSkipperRating': 1000.0000000024, 'womenCrewRating': 1686.2878902293, 'tsr': 1000.0000000024, 'tcr': 966.227369884, 'wtsr': 1000.0000000024, 'wtcr': 1383.3196803563, 'regAvg': 1139.2053431929, 'change': 0.2238711646, 'venue': 'South Florida', 'type': 'team'}, {'raceID': 's24/usf-women-team-race/30', 'raceNum': 30, 'round': 'Round 2', 'pos': 'Crew', 'date': 1708732800000, 'womens': True, 'partner': {'key': 'lucy-brock', 'name': 'Lucy Brock'}, 'opponentTeam': 'South Florida', 'opponentNick': 'Bulls', 'score': '2-3-4', 'outcome': 'win', 'predicted': 'win', 'skipperRating': 1000.0000000024, 'crewRating': 1759.9951049172, 'womenSkipperRating': 1000.0000000024, 'womenCrewRating': 1686.2878902293, 'tsr': 1000.0000000024, 'tcr': 966.227369884, 'wtsr': 1000.0000000024, 'wtcr': 1392.777993547, 'regAvg': 1139.2053431929, 'change': 9.4583131907, 'venue': 'South Florida', 'type': 'team'}, {'raceID': 's24/usf-women-team-race/55', 'raceNum': 55, 'round': 'Round 3', 'pos': 'Crew', 'date': 1708732800000, 'womens': True, 'partner': {'key': 'lucy-brock', 'name': 'Lucy Brock'}, 'opponentTeam': 'Old Dominion', 'opponentNick': 'Monarchs', 'score': '3-4-6', 'outcome': 'lose', 'predicted': 'win', 'skipperRating': 1000.0000000024, 'crewRating': 1759.9951049172, 'womenSkipperRating': 1000.0000000024, 'womenCrewRating': 1686.2878902293, 'tsr': 1000.0000000024, 'tcr': 966.227369884, 'wtsr': 1000.0000000024, 'wtcr': 1367.3327947315, 'regAvg': 1139.2053431929, 'change': -25.4451988155, 'venue': 'South Florida', 'type': 'team'}, {'raceID': 's24/usf-women-team-race/63', 'raceNum': 63, 'round': 'Round 3', 'pos': 'Crew', 'date': 1708732800000, 'womens': True, 'partner': {'key': 'lucy-brock', 'name': 'Lucy Brock'}, 'opponentTeam': 'South Florida', 'opponentNick': 'Bulls', 'score': '1-2-4', 'outcome': 'win', 'predicted': 'win', 'skipperRating': 1000.0000000024, 'crewRating': 1759.9951049172, 'womenSkipperRating': 1000.0000000024, 'womenCrewRating': 1686.2878902293, 'tsr': 1000.0000000024, 'tcr': 966.227369884, 'wtsr': 1000.0000000024, 'wtcr': 1375.9497748092, 'regAvg': 1139.2053431929, 'change': 8.6169800777, 'venue': 'South Florida', 'type': 'team'}, {'raceID': 's24/harvard-women-team-race/21', 'raceNum': 21, 'round': 'Round 1', 'pos': 'Crew', 'date': 1709337600000, 'womens': True, 'partner': {'key': 'lucy-brock', 'name': 'Lucy Brock'}, 'opponentTeam': 'Rhode Island', 'opponentNick': 'Rams', 'score': '1-2-4', 'outcome': 'win', 'predicted': 'win', 'skipperRating': 1000.0000000024, 'crewRating': 1759.9951049172, 'womenSkipperRating': 1000.0000000024, 'womenCrewRating': 1686.2878902293, 'tsr': 1000.0000000024, 'tcr': 966.227369884, 'wtsr': 1000.0000000024, 'wtcr': 1377.0016822669, 'regAvg': 1240.5799302849, 'change': 1.0519074577, 'venue': 'Harvard', 'type': 'team'}, {'raceID': 's24/harvard-women-team-race/26', 'raceNum': 26, 'round': 'Round 1', 'pos': 'Crew', 'date': 1709337600000, 'womens': True, 'partner': {'key': 'lucy-brock', 'name': 'Lucy Brock'}, 'opponentTeam': 'Tufts', 'opponentNick': 'Jumbos', 'score': '1-5-6', 'outcome': 'lose', 'predicted': 'win', 'skipperRating': 1000.0000000024, 'crewRating': 1759.9951049172, 'womenSkipperRating': 1000.0000000024, 'womenCrewRating': 1686.2878902293, 'tsr': 1000.0000000024, 'tcr': 966.227369884, 'wtsr': 1000.0000000024, 'wtcr': 1354.7647168884, 'regAvg': 1240.5799302849, 'change': -22.2369653785, 'venue': 'Harvard', 'type': 'team'}, {'raceID': 's24/harvard-women-team-race/31', 'raceNum': 31, 'round': 'Round 1', 'pos': 'Crew', 'date': 1709337600000, 'womens': True, 'partner': {'key': 'lucy-brock', 'name': 'Lucy Brock'}, 'opponentTeam': 'Roger Williams', 'opponentNick': 'Hawks', 'score': '1-4-6', 'outcome': 'lose', 'predicted': 'win', 'skipperRating': 1000.0000000024, 'crewRating': 1759.9951049172, 'womenSkipperRating': 1000.0000000024, 'womenCrewRating': 1686.2878902293, 'tsr': 1000.0000000024, 'tcr': 966.227369884, 'wtsr': 1000.0000000024, 'wtcr': 1333.8081546082, 'regAvg': 1240.5799302849, 'change': -20.9565622801, 'venue': 'Harvard', 'type': 'team'}, {'raceID': 's24/ivan-gieger-team-race/16', 'raceNum': 16, 'round': 'Round 1', 'pos': 'Crew', 'date': 1710547200000, 'womens': False, 'partner': {'key': 'lucas-escandon', 'name': 'Lucas Escandon'}, 'opponentTeam': 'Boston College', 'opponentNick': 'Eagles', 'score': '3-5-6 DNF', 'outcome': 'lose', 'predicted': 'lose', 'skipperRating': 1000.0000000024, 'crewRating': 1759.9951049172, 'womenSkipperRating': 1000.0000000024, 'womenCrewRating': 1686.2878902293, 'tsr': 1000.0000000024, 'tcr': 965.9784436428, 'wtsr': 1000.0000000024, 'wtcr': 1333.8081546082, 'regAvg': 1184.3103493744, 'change': -0.2489262412, 'venue': 'MIT', 'type': 'team'}, {'raceID': 's24/ivan-gieger-team-race/19', 'raceNum': 19, 'round': 'Round 1', 'pos': 'Crew', 'date': 1710547200000, 'womens': False, 'partner': {'key': 'lucas-escandon', 'name': 'Lucas Escandon'}, 'opponentTeam': 'Boston University', 'opponentNick': 'Terriers', 'score': '3-4-6', 'outcome': 'lose', 'predicted': 'lose', 'skipperRating': 1000.0000000024, 'crewRating': 1759.9951049172, 'womenSkipperRating': 1000.0000000024, 'womenCrewRating': 1686.2878902293, 'tsr': 1000.0000000024, 'tcr': 951.64446788, 'wtsr': 1000.0000000024, 'wtcr': 1333.8081546082, 'regAvg': 1184.3103493744, 'change': -14.3339757628, 'venue': 'MIT', 'type': 'team'}, {'raceID': 's24/ivan-gieger-team-race/22', 'raceNum': 22, 'round': 'Round 1', 'pos': 'Crew', 'date': 1710547200000, 'womens': False, 'partner': {'key': 'lucas-escandon', 'name': 'Lucas Escandon'}, 'opponentTeam': 'Vermont', 'opponentNick': 'Catamounts', 'score': '1-2-6', 'outcome': 'win', 'predicted': 'win', 'skipperRating': 1000.0000000024, 'crewRating': 1759.9951049172, 'womenSkipperRating': 1000.0000000024, 'womenCrewRating': 1686.2878902293, 'tsr': 1000.0000000024, 'tcr': 979.6839110686, 'wtsr': 1000.0000000024, 'wtcr': 1333.8081546082, 'regAvg': 1184.3103493744, 'change': 28.0394431886, 'venue': 'MIT', 'type': 'team'}, {'raceID': 's24/ivan-gieger-team-race/25', 'raceNum': 25, 'round': 'Round 1', 'pos': 'Crew', 'date': 1710547200000, 'womens': False, 'partner': {'key': 'lucas-escandon', 'name': 'Lucas Escandon'}, 'opponentTeam': 'Roger Williams', 'opponentNick': 'Hawks', 'score': '3-5-6', 'outcome': 'lose', 'predicted': 'lose', 'skipperRating': 1000.0000000024, 'crewRating': 1759.9951049172, 'womenSkipperRating': 1000.0000000024, 'womenCrewRating': 1686.2878902293, 'tsr': 1000.0000000024, 'tcr': 973.5247270621, 'wtsr': 1000.0000000024, 'wtcr': 1333.8081546082, 'regAvg': 1184.3103493744, 'change': -6.1591840065, 'venue': 'MIT', 'type': 'team'}, {'raceID': 's24/duplin/24', 'raceNum': 24, 'round': 'Round 1', 'pos': 'Crew', 'date': 1711152000000, 'womens': True, 'partner': {'key': 'lucy-brock', 'name': 'Lucy Brock'}, 'opponentTeam': 'Tulane', 'opponentNick': 'Green Wave', 'score': '2-3-4', 'outcome': 'win', 'predicted': 'lose', 'skipperRating': 1000.0000000024, 'crewRating': 1759.9951049172, 'womenSkipperRating': 1000.0000000024, 'womenCrewRating': 1686.2878902293, 'tsr': 1000.0000000024, 'tcr': 973.5247270621, 'wtsr': 1000.0000000024, 'wtcr': 1363.8455823993, 'regAvg': 1221.5827763582, 'change': 30.0374277911, 'venue': 'Harvard', 'type': 'team'}, {'raceID': 's24/duplin/30', 'raceNum': 30, 'round': 'Round 1', 'pos': 'Crew', 'date': 1711152000000, 'womens': True, 'partner': {'key': 'lucy-brock', 'name': 'Lucy Brock'}, 'opponentTeam': 'Boston College', 'opponentNick': 'Eagles', 'score': '3-5-6', 'outcome': 'lose', 'predicted': 'lose', 'skipperRating': 1000.0000000024, 'crewRating': 1759.9951049172, 'womenSkipperRating': 1000.0000000024, 'womenCrewRating': 1686.2878902293, 'tsr': 1000.0000000024, 'tcr': 973.5247270621, 'wtsr': 1000.0000000024, 'wtcr': 1362.6854398562, 'regAvg': 1221.5827763582, 'change': -1.1601425431, 'venue': 'Harvard', 'type': 'team'}, {'raceID': 's24/duplin/47', 'raceNum': 47, 'round': 'Gold Round 2', 'pos': 'Crew', 'date': 1711152000000, 'womens': True, 'partner': {'key': 'lucy-brock', 'name': 'Lucy Brock'}, 'opponentTeam': 'Yale', 'opponentNick': 'Bulldogs', 'score': '3-5-6', 'outcome': 'lose', 'predicted': 'lose', 'skipperRating': 1000.0000000024, 'crewRating': 1759.9951049172, 'womenSkipperRating': 1000.0000000024, 'womenCrewRating': 1686.2878902293, 'tsr': 1000.0000000024, 'tcr': 973.5247270621, 'wtsr': 1000.0000000024, 'wtcr': 1361.7038404368, 'regAvg': 1221.5827763582, 'change': -0.9815994194000001, 'venue': 'Harvard', 'type': 'team'}, {'raceID': 's24/duplin/50', 'raceNum': 50, 'round': 'Gold Round 2', 'pos': 'Crew', 'date': 1711152000000, 'womens': True, 'partner': {'key': 'lucy-brock', 'name': 'Lucy Brock'}, 'opponentTeam': 'Harvard', 'opponentNick': 'Crimson', 'score': '1-5-6', 'outcome': 'lose', 'predicted': 'lose', 'skipperRating': 1000.0000000024, 'crewRating': 1759.9951049172, 'womenSkipperRating': 1000.0000000024, 'womenCrewRating': 1686.2878902293, 'tsr': 1000.0000000024, 'tcr': 973.5247270621, 'wtsr': 1000.0000000024, 'wtcr': 1358.5917955292, 'regAvg': 1221.5827763582, 'change': -3.1120449076, 'venue': 'Harvard', 'type': 'team'}, {'raceID': 's24/dellenbaugh-women-team-race/24', 'raceNum': 24, 'round': 'Round 1', 'pos': 'Crew', 'date': 1711756800000, 'womens': True, 'partner': {'key': 'brooke-barry', 'name': 'Brooke Barry'}, 'opponentTeam': 'Yale', 'opponentNick': 'Bulldogs', 'score': '2-4-6', 'outcome': 'lose', 'predicted': 'lose', 'skipperRating': 1000.0000000024, 'crewRating': 1759.9951049172, 'womenSkipperRating': 1000.0000000024, 'womenCrewRating': 1686.2878902293, 'tsr': 1000.0000000024, 'tcr': 973.5247270621, 'wtsr': 1000.0000000024, 'wtcr': 1358.2835208473, 'regAvg': 1262.6877933284, 'change': -0.3082746819, 'venue': 'Brown', 'type': 'team'}, {'raceID': 's24/yale-women-team-race/32', 'raceNum': 32, 'round': 'Round 3', 'pos': 'Crew', 'date': 1712361600000, 'womens': True, 'partner': {'key': 'lucy-brock', 'name': 'Lucy Brock'}, 'opponentTeam': 'Brown', 'opponentNick': 'Bears', 'score': '3-4-6', 'outcome': 'lose', 'predicted': 'lose', 'skipperRating': 1000.0000000024, 'crewRating': 1759.9951049172, 'womenSkipperRating': 1000.0000000024, 'womenCrewRating': 1686.2878902293, 'tsr': 1000.0000000024, 'tcr': 973.5247270621, 'wtsr': 1000.0000000024, 'wtcr': 1356.8321305306, 'regAvg': 1284.6161727532, 'change': -1.4513903167, 'venue': 'Yale', 'type': 'team'}, {'raceID': 's24/yale-women-team-race/36', 'raceNum': 36, 'round': 'Round 3', 'pos': 'Crew', 'date': 1712361600000, 'womens': True, 'partner': {'key': 'lucy-brock', 'name': 'Lucy Brock'}, 'opponentTeam': 'Tulane', 'opponentNick': 'Green Wave', 'score': '3-4-5', 'outcome': 'lose', 'predicted': 'win', 'skipperRating': 1000.0000000024, 'crewRating': 1759.9951049172, 'womenSkipperRating': 1000.0000000024, 'womenCrewRating': 1686.2878902293, 'tsr': 1000.0000000024, 'tcr': 973.5247270621, 'wtsr': 1000.0000000024, 'wtcr': 1342.613822662, 'regAvg': 1284.6161727532, 'change': -14.2183078686, 'venue': 'Yale', 'type': 'team'}, {'raceID': 's24/yale-women-team-race/39', 'raceNum': 39, 'round': 'Round 3', 'pos': 'Crew', 'date': 1712361600000, 'womens': True, 'partner': {'key': 'lucy-brock', 'name': 'Lucy Brock'}, 'opponentTeam': 'Dartmouth', 'opponentNick': 'Big Green', 'score': '3-5-6', 'outcome': 'lose', 'predicted': 'lose', 'skipperRating': 1000.0000000024, 'crewRating': 1759.9951049172, 'womenSkipperRating': 1000.0000000024, 'womenCrewRating': 1686.2878902293, 'tsr': 1000.0000000024, 'tcr': 973.5247270621, 'wtsr': 1000.0000000024, 'wtcr': 1341.1855833088, 'regAvg': 1284.6161727532, 'change': -1.4282393532, 'venue': 'Yale', 'type': 'team'}, {'raceID': 's24/yale-women-team-race/42', 'raceNum': 42, 'round': 'Round 3', 'pos': 'Crew', 'date': 1712361600000, 'womens': True, 'partner': {'key': 'lucy-brock', 'name': 'Lucy Brock'}, 'opponentTeam': 'Harvard', 'opponentNick': 'Crimson', 'score': '1-5-6', 'outcome': 'lose', 'predicted': 'lose', 'skipperRating': 1000.0000000024, 'crewRating': 1759.9951049172, 'womenSkipperRating': 1000.0000000024, 'womenCrewRating': 1686.2878902293, 'tsr': 1000.0000000024, 'tcr': 973.5247270621, 'wtsr': 1000.0000000024, 'wtcr': 1335.5428343789, 'regAvg': 1284.6161727532, 'change': -5.6427489299, 'venue': 'Yale', 'type': 'team'}, {'raceID': 's24/yale-women-team-race/44', 'raceNum': 44, 'round': 'Round 3', 'pos': 'Crew', 'date': 1712361600000, 'womens': True, 'partner': {'key': 'lucy-brock', 'name': 'Lucy Brock'}, 'opponentTeam': 'Yale', 'opponentNick': 'Bulldogs', 'score': '4-5-6', 'outcome': 'lose', 'predicted': 'lose', 'skipperRating': 1000.0000000024, 'crewRating': 1759.9951049172, 'womenSkipperRating': 1000.0000000024, 'womenCrewRating': 1686.2878902293, 'tsr': 1000.0000000024, 'tcr': 973.5247270621, 'wtsr': 1000.0000000024, 'wtcr': 1334.5599458513, 'regAvg': 1284.6161727532, 'change': -0.9828885276, 'venue': 'Yale', 'type': 'team'}, {'score': 17, 'pos': 'Crew', 'predicted': 6, 'ratio': -0.1428571429, 'change': -64.7806645744, 'regAvg': 1339.5293566606, 'cross': 0, 'outLinks': 0, 'skipperRating': 1000.0000000024, 'crewRating': 1759.9951049172, 'womenSkipperRating': 1000.0000000024, 'womenCrewRating': 1621.5072256548, 'tsr': 1000.0000000024, 'tcr': 973.5247270621, 'wtsr': 1000.0000000024, 'wtcr': 1334.5599458513, 'womens': True, 'date': 1713571200000, 'partner': {'name': 'Emma Wang', 'key': 'emma-wang'}, 'venue': 'Bowdoin', 'raceID': 's24/women-new-england-fleet-race/1B', 'type': 'fleet', 'scoring': '2 Divisions'}, {'score': 7, 'pos': 'Crew', 'predicted': 6, 'ratio': 0.5714285714, 'change': 8.4460466115, 'regAvg': 1339.5293566606, 'cross': 0, 'outLinks': 0, 'skipperRating': 1000.0000000024, 'crewRating': 1759.9951049172, 'womenSkipperRating': 1000.0000000024, 'womenCrewRating': 1629.9532722664, 'tsr': 1000.0000000024, 'tcr': 973.5247270621, 'wtsr': 1000.0000000024, 'wtcr': 1334.5599458513, 'womens': True, 'date': 1713571200000, 'partner': {'name': 'Emma Wang', 'key': 'emma-wang'}, 'venue': 'Bowdoin', 'raceID': 's24/women-new-england-fleet-race/2B', 'type': 'fleet', 'scoring': '2 Divisions'}, {'score': 12, 'pos': 'Crew', 'predicted': 7, 'ratio': 0.2142857143, 'change': -7.9402204789, 'regAvg': 1339.5293566606, 'cross': 0, 'outLinks': 0, 'skipperRating': 1000.0000000024, 'crewRating': 1759.9951049172, 'womenSkipperRating': 1000.0000000024, 'womenCrewRating': 1622.0130517874, 'tsr': 1000.0000000024, 'tcr': 973.5247270621, 'wtsr': 1000.0000000024, 'wtcr': 1334.5599458513, 'womens': True, 'date': 1713571200000, 'partner': {'name': 'Emma Wang', 'key': 'emma-wang'}, 'venue': 'Bowdoin', 'raceID': 's24/women-new-england-fleet-race/3B', 'type': 'fleet', 'scoring': '2 Divisions'}, {'score': 3, 'pos': 'Crew', 'predicted': 7, 'ratio': 0.8571428571, 'change': 19.5622490494, 'regAvg': 1339.5293566606, 'cross': 0, 'outLinks': 0, 'skipperRating': 1000.0000000024, 'crewRating': 1759.9951049172, 'womenSkipperRating': 1000.0000000024, 'womenCrewRating': 1641.5753008368, 'tsr': 1000.0000000024, 'tcr': 973.5247270621, 'wtsr': 1000.0000000024, 'wtcr': 1334.5599458513, 'womens': True, 'date': 1713571200000, 'partner': {'name': 'Emma Wang', 'key': 'emma-wang'}, 'venue': 'Bowdoin', 'raceID': 's24/women-new-england-fleet-race/4B', 'type': 'fleet', 'scoring': '2 Divisions'}, {'score': 14, 'pos': 'Crew', 'predicted': 8, 'ratio': 0.0714285714, 'change': -23.8674407018, 'regAvg': 1339.5293566606, 'cross': 0, 'outLinks': 0, 'skipperRating': 1000.0000000024, 'crewRating': 1759.9951049172, 'womenSkipperRating': 1000.0000000024, 'womenCrewRating': 1617.707860135, 'tsr': 1000.0000000024, 'tcr': 973.5247270621, 'wtsr': 1000.0000000024, 'wtcr': 1334.5599458513, 'womens': True, 'date': 1713571200000, 'partner': {'name': 'Emma Wang', 'key': 'emma-wang'}, 'venue': 'Bowdoin', 'raceID': 's24/women-new-england-fleet-race/5B', 'type': 'fleet', 'scoring': '2 Divisions'}, {'score': 9, 'pos': 'Crew', 'predicted': 8, 'ratio': 0.4285714286, 'change': 5.5279735415, 'regAvg': 1339.5293566606, 'cross': 0, 'outLinks': 0, 'skipperRating': 1000.0000000024, 'crewRating': 1759.9951049172, 'womenSkipperRating': 1000.0000000024, 'womenCrewRating': 1623.2358336766, 'tsr': 1000.0000000024, 'tcr': 973.5247270621, 'wtsr': 1000.0000000024, 'wtcr': 1334.5599458513, 'womens': True, 'date': 1713571200000, 'partner': {'name': 'Emma Wang', 'key': 'emma-wang'}, 'venue': 'Bowdoin', 'raceID': 's24/women-new-england-fleet-race/6B', 'type': 'fleet', 'scoring': '2 Divisions'}, {'score': 8, 'pos': 'Crew', 'predicted': 7, 'ratio': 0.5, 'change': 9.5912875424, 'regAvg': 1339.5293566606, 'cross': 0, 'outLinks': 0, 'skipperRating': 1000.0000000024, 'crewRating': 1759.9951049172, 'womenSkipperRating': 1000.0000000024, 'womenCrewRating': 1632.8271212189, 'tsr': 1000.0000000024, 'tcr': 973.5247270621, 'wtsr': 1000.0000000024, 'wtcr': 1334.5599458513, 'womens': True, 'date': 1713571200000, 'partner': {'name': 'Emma Wang', 'key': 'emma-wang'}, 'venue': 'Bowdoin', 'raceID': 's24/women-new-england-fleet-race/7B', 'type': 'fleet', 'scoring': '2 Divisions'}, {'score': 10, 'pos': 'Crew', 'predicted': 7, 'ratio': 0.3571428571, 'change': -1.5486145533, 'regAvg': 1339.5293566606, 'cross': 0, 'outLinks': 0, 'skipperRating': 1000.0000000024, 'crewRating': 1759.9951049172, 'womenSkipperRating': 1000.0000000024, 'womenCrewRating': 1631.2785066656, 'tsr': 1000.0000000024, 'tcr': 973.5247270621, 'wtsr': 1000.0000000024, 'wtcr': 1334.5599458513, 'womens': True, 'date': 1713571200000, 'partner': {'name': 'Emma Wang', 'key': 'emma-wang'}, 'venue': 'Bowdoin', 'raceID': 's24/women-new-england-fleet-race/8B', 'type': 'fleet', 'scoring': '2 Divisions'}, {'score': 14, 'pos': 'Crew', 'predicted': 8, 'ratio': 0.0714285714, 'change': -33.6061913459, 'regAvg': 1339.5293566606, 'cross': 0, 'outLinks': 0, 'skipperRating': 1000.0000000024, 'crewRating': 1759.9951049172, 'womenSkipperRating': 1000.0000000024, 'womenCrewRating': 1597.6723153197, 'tsr': 1000.0000000024, 'tcr': 973.5247270621, 'wtsr': 1000.0000000024, 'wtcr': 1334.5599458513, 'womens': True, 'date': 1713571200000, 'partner': {'name': 'Emma Wang', 'key': 'emma-wang'}, 'venue': 'Bowdoin', 'raceID': 's24/women-new-england-fleet-race/9B', 'type': 'fleet', 'scoring': '2 Divisions'}, {'score': 12, 'pos': 'Crew', 'predicted': 9, 'ratio': 0.2666666667, 'change': -7.5709937367, 'regAvg': 1339.5293566606, 'cross': 0, 'outLinks': 0, 'skipperRating': 1000.0000000024, 'crewRating': 1759.9951049172, 'womenSkipperRating': 1000.0000000024, 'womenCrewRating': 1590.101321583, 'tsr': 1000.0000000024, 'tcr': 973.5247270621, 'wtsr': 1000.0000000024, 'wtcr': 1334.5599458513, 'womens': True, 'date': 1713571200000, 'partner': {'name': 'Emma Wang', 'key': 'emma-wang'}, 'venue': 'Bowdoin', 'raceID': 's24/women-new-england-fleet-race/10B', 'type': 'fleet', 'scoring': '2 Divisions'}, {'raceID': 's24/icsa-women-team-race-national/35', 'raceNum': 35, 'round': 'Round 1', 'pos': 'Crew', 'date': 1714262400000, 'womens': True, 'partner': {'key': 'brooke-barry', 'name': 'Brooke Barry'}, 'opponentTeam': 'Wisconsin', 'opponentNick': 'Badgers', 'score': '1-3-6', 'outcome': 'win', 'predicted': 'win', 'skipperRating': 1000.0000000024, 'crewRating': 1759.9951049172, 'womenSkipperRating': 1000.0000000024, 'womenCrewRating': 1590.101321583, 'tsr': 1000.0000000024, 'tcr': 973.5247270621, 'wtsr': 1000.0000000024, 'wtcr': 1335.9695201564, 'regAvg': 1294.6479516316, 'change': 1.4095743051, 'venue': 'Harvard/MIT', 'type': 'team'}, {'raceID': 's24/icsa-women-team-race-national/40', 'raceNum': 40, 'round': 'Round 1', 'pos': 'Crew', 'date': 1714262400000, 'womens': True, 'partner': {'key': 'brooke-barry', 'name': 'Brooke Barry'}, 'opponentTeam': 'Yale', 'opponentNick': 'Bulldogs', 'score': '3-4-6', 'outcome': 'lose', 'predicted': 'lose', 'skipperRating': 1000.0000000024, 'crewRating': 1759.9951049172, 'womenSkipperRating': 1000.0000000024, 'womenCrewRating': 1590.101321583, 'tsr': 1000.0000000024, 'tcr': 973.5247270621, 'wtsr': 1000.0000000024, 'wtcr': 1335.5863342445, 'regAvg': 1294.6479516316, 'change': -0.3831859119, 'venue': 'Harvard/MIT', 'type': 'team'}, {'raceID': 's24/icsa-women-team-race-national/64', 'raceNum': 64, 'round': 'Round 1', 'pos': 'Crew', 'date': 1714262400000, 'womens': True, 'partner': {'key': 'emma-wang', 'name': 'Emma Wang'}, 'opponentTeam': 'Harvard', 'opponentNick': 'Crimson', 'score': '3-4-6', 'outcome': 'lose', 'predicted': 'lose', 'skipperRating': 1000.0000000024, 'crewRating': 1759.9951049172, 'womenSkipperRating': 1000.0000000024, 'womenCrewRating': 1590.101321583, 'tsr': 1000.0000000024, 'tcr': 973.5247270621, 'wtsr': 1000.0000000024, 'wtcr': 1334.9699737052, 'regAvg': 1294.6479516316, 'change': -0.6163605393, 'venue': 'Harvard/MIT', 'type': 'team'}, {'score': 14, 'pos': 'Crew', 'predicted': 11, 'ratio': 0.23529411760000002, 'change': -7.0885733659, 'regAvg': 1384.3189303249, 'cross': 1, 'outLinks': 8, 'skipperRating': 1000.0000000024, 'crewRating': 1759.9951049172, 'womenSkipperRating': 1000.0000000024, 'womenCrewRating': 1583.0127482171, 'tsr': 1000.0000000024, 'tcr': 973.5247270621, 'wtsr': 1000.0000000024, 'wtcr': 1334.9699737052, 'womens': True, 'date': 1716163200000, 'partner': {'name': 'Emma Wang', 'key': 'emma-wang'}, 'venue': 'Harvard', 'raceID': 's24/west-womens-national-semi-finals/11B', 'type': 'fleet', 'scoring': '2 Divisions'}, {'score': 14, 'pos': 'Crew', 'predicted': 11, 'ratio': 0.23529411760000002, 'change': -10.4197188387, 'regAvg': 1384.3189303249, 'cross': 1, 'outLinks': 8, 'skipperRating': 1000.0000000024, 'crewRating': 1759.9951049172, 'womenSkipperRating': 1000.0000000024, 'womenCrewRating': 1572.5930293783, 'tsr': 1000.0000000024, 'tcr': 973.5247270621, 'wtsr': 1000.0000000024, 'wtcr': 1334.9699737052, 'womens': True, 'date': 1716163200000, 'partner': {'name': 'Emma Wang', 'key': 'emma-wang'}, 'venue': 'Harvard', 'raceID': 's24/west-womens-national-semi-finals/12B', 'type': 'fleet', 'scoring': '2 Divisions'}, {'score': 2, 'pos': 'Crew', 'predicted': 8, 'ratio': 0.9411764706, 'change': 14.1273673748, 'regAvg': 1276.2222148874, 'cross': 0, 'outLinks': 0, 'skipperRating': 1000.0000000024, 'crewRating': 1759.9951049172, 'womenSkipperRating': 1000.0000000024, 'womenCrewRating': 1586.7203967531, 'tsr': 1000.0000000024, 'tcr': 973.5247270621, 'wtsr': 1000.0000000024, 'wtcr': 1334.9699737052, 'womens': True, 'date': 1725667200000, 'partner': {'name': 'Brooke Schmelz', 'key': 'brooke-schmelz'}, 'venue': 'MIT', 'raceID': 'f24/toni-duetsch-58-2024/1A', 'type': 'fleet', 'scoring': '2 Divisions'}, {'score': 16, 'pos': 'Crew', 'predicted': 9, 'ratio': 0.11764705880000001, 'change': -14.9118730097, 'regAvg': 1276.2222148874, 'cross': 0, 'outLinks': 0, 'skipperRating': 1000.0000000024, 'crewRating': 1759.9951049172, 'womenSkipperRating': 1000.0000000024, 'womenCrewRating': 1571.8085237434, 'tsr': 1000.0000000024, 'tcr': 973.5247270621, 'wtsr': 1000.0000000024, 'wtcr': 1334.9699737052, 'womens': True, 'date': 1725667200000, 'partner': {'name': 'Brooke Schmelz', 'key': 'brooke-schmelz'}, 'venue': 'MIT', 'raceID': 'f24/toni-duetsch-58-2024/2A', 'type': 'fleet', 'scoring': '2 Divisions'}, {'score': 7, 'pos': 'Crew', 'predicted': 9, 'ratio': 0.6470588235, 'change': 10.262342064, 'regAvg': 1276.2222148874, 'cross': 0, 'outLinks': 0, 'skipperRating': 1000.0000000024, 'crewRating': 1759.9951049172, 'womenSkipperRating': 1000.0000000024, 'womenCrewRating': 1582.0708658074, 'tsr': 1000.0000000024, 'tcr': 973.5247270621, 'wtsr': 1000.0000000024, 'wtcr': 1334.9699737052, 'womens': True, 'date': 1725667200000, 'partner': {'name': 'Brooke Schmelz', 'key': 'brooke-schmelz'}, 'venue': 'MIT', 'raceID': 'f24/toni-duetsch-58-2024/3A', 'type': 'fleet', 'scoring': '2 Divisions'}, {'score': 1, 'pos': 'Crew', 'predicted': 9, 'ratio': 1.0, 'change': 14.9313556186, 'regAvg': 1276.2222148874, 'cross': 0, 'outLinks': 0, 'skipperRating': 1000.0000000024, 'crewRating': 1759.9951049172, 'womenSkipperRating': 1000.0000000024, 'womenCrewRating': 1597.002221426, 'tsr': 1000.0000000024, 'tcr': 973.5247270621, 'wtsr': 1000.0000000024, 'wtcr': 1334.9699737052, 'womens': True, 'date': 1725667200000, 'partner': {'name': 'Brooke Schmelz', 'key': 'brooke-schmelz'}, 'venue': 'MIT', 'raceID': 'f24/toni-duetsch-58-2024/4A', 'type': 'fleet', 'scoring': '2 Divisions'}, {'score': 3, 'pos': 'Crew', 'predicted': 9, 'ratio': 0.8823529412000001, 'change': 13.7009223023, 'regAvg': 1276.2222148874, 'cross': 0, 'outLinks': 0, 'skipperRating': 1000.0000000024, 'crewRating': 1759.9951049172, 'womenSkipperRating': 1000.0000000024, 'womenCrewRating': 1610.7031437282, 'tsr': 1000.0000000024, 'tcr': 973.5247270621, 'wtsr': 1000.0000000024, 'wtcr': 1334.9699737052, 'womens': True, 'date': 1725667200000, 'partner': {'name': 'Brooke Schmelz', 'key': 'brooke-schmelz'}, 'venue': 'MIT', 'raceID': 'f24/toni-duetsch-58-2024/5A', 'type': 'fleet', 'scoring': '2 Divisions'}, {'score': 6, 'pos': 'Crew', 'predicted': 9, 'ratio': 0.7058823529, 'change': 10.5061285711, 'regAvg': 1276.2222148874, 'cross': 0, 'outLinks': 0, 'skipperRating': 1000.0000000024, 'crewRating': 1759.9951049172, 'womenSkipperRating': 1000.0000000024, 'womenCrewRating': 1621.2092722994, 'tsr': 1000.0000000024, 'tcr': 973.5247270621, 'wtsr': 1000.0000000024, 'wtcr': 1334.9699737052, 'womens': True, 'date': 1725667200000, 'partner': {'name': 'Brooke Schmelz', 'key': 'brooke-schmelz'}, 'venue': 'MIT', 'raceID': 'f24/toni-duetsch-58-2024/6A', 'type': 'fleet', 'scoring': '2 Divisions'}, {'score': 5, 'pos': 'Crew', 'predicted': 10, 'ratio': 0.7647058824, 'change': 12.2253903596, 'regAvg': 1276.2222148874, 'cross': 0, 'outLinks': 0, 'skipperRating': 1000.0000000024, 'crewRating': 1759.9951049172, 'womenSkipperRating': 1000.0000000024, 'womenCrewRating': 1633.434662659, 'tsr': 1000.0000000024, 'tcr': 973.5247270621, 'wtsr': 1000.0000000024, 'wtcr': 1334.9699737052, 'womens': True, 'date': 1725667200000, 'partner': {'name': 'Brooke Schmelz', 'key': 'brooke-schmelz'}, 'venue': 'MIT', 'raceID': 'f24/toni-duetsch-58-2024/7A', 'type': 'fleet', 'scoring': '2 Divisions'}, {'score': 11, 'pos': 'Crew', 'predicted': 10, 'ratio': 0.4117647059, 'change': 2.0210628738, 'regAvg': 1276.2222148874, 'cross': 0, 'outLinks': 0, 'skipperRating': 1000.0000000024, 'crewRating': 1759.9951049172, 'womenSkipperRating': 1000.0000000024, 'womenCrewRating': 1635.4557255328, 'tsr': 1000.0000000024, 'tcr': 973.5247270621, 'wtsr': 1000.0000000024, 'wtcr': 1334.9699737052, 'womens': True, 'date': 1725667200000, 'partner': {'name': 'Brooke Schmelz', 'key': 'brooke-schmelz'}, 'venue': 'MIT', 'raceID': 'f24/toni-duetsch-58-2024/8A', 'type': 'fleet', 'scoring': '2 Divisions'}, {'score': 18, 'pos': 'Crew', 'predicted': 10, 'ratio': 0.0, 'change': -41.0395047738, 'regAvg': 1276.2222148874, 'cross': 0, 'outLinks': 0, 'skipperRating': 1000.0000000024, 'crewRating': 1759.9951049172, 'womenSkipperRating': 1000.0000000024, 'womenCrewRating': 1594.416220759, 'tsr': 1000.0000000024, 'tcr': 973.5247270621, 'wtsr': 1000.0000000024, 'wtcr': 1334.9699737052, 'womens': True, 'date': 1725667200000, 'partner': {'name': 'Brooke Schmelz', 'key': 'brooke-schmelz'}, 'venue': 'MIT', 'raceID': 'f24/toni-duetsch-58-2024/9A', 'type': 'fleet', 'scoring': '2 Divisions'}, {'score': 8, 'pos': 'Crew', 'predicted': 10, 'ratio': 0.5882352941, 'change': 7.3861579569, 'regAvg': 1276.2222148874, 'cross': 0, 'outLinks': 0, 'skipperRating': 1000.0000000024, 'crewRating': 1759.9951049172, 'womenSkipperRating': 1000.0000000024, 'womenCrewRating': 1601.8023787158, 'tsr': 1000.0000000024, 'tcr': 973.5247270621, 'wtsr': 1000.0000000024, 'wtcr': 1334.9699737052, 'womens': True, 'date': 1725667200000, 'partner': {'name': 'Brooke Schmelz', 'key': 'brooke-schmelz'}, 'venue': 'MIT', 'raceID': 'f24/toni-duetsch-58-2024/10A', 'type': 'fleet', 'scoring': '2 Divisions'}, {'score': 13, 'pos': 'Crew', 'predicted': 10, 'ratio': 0.2941176471, 'change': 0.36409085220000004, 'regAvg': 1276.2222148874, 'cross': 0, 'outLinks': 0, 'skipperRating': 1000.0000000024, 'crewRating': 1759.9951049172, 'womenSkipperRating': 1000.0000000024, 'womenCrewRating': 1602.166469568, 'tsr': 1000.0000000024, 'tcr': 973.5247270621, 'wtsr': 1000.0000000024, 'wtcr': 1334.9699737052, 'womens': True, 'date': 1725667200000, 'partner': {'name': 'Brooke Schmelz', 'key': 'brooke-schmelz'}, 'venue': 'MIT', 'raceID': 'f24/toni-duetsch-58-2024/11A', 'type': 'fleet', 'scoring': '2 Divisions'}, {'score': 13, 'pos': 'Crew', 'predicted': 10, 'ratio': 0.2941176471, 'change': -2.8378814641, 'regAvg': 1276.2222148874, 'cross': 0, 'outLinks': 0, 'skipperRating': 1000.0000000024, 'crewRating': 1759.9951049172, 'womenSkipperRating': 1000.0000000024, 'womenCrewRating': 1599.3285881039, 'tsr': 1000.0000000024, 'tcr': 973.5247270621, 'wtsr': 1000.0000000024, 'wtcr': 1334.9699737052, 'womens': True, 'date': 1725667200000, 'partner': {'name': 'Brooke Schmelz', 'key': 'brooke-schmelz'}, 'venue': 'MIT', 'raceID': 'f24/toni-duetsch-58-2024/12A', 'type': 'fleet', 'scoring': '2 Divisions'}, {'score': 1, 'pos': 'Crew', 'predicted': 10, 'ratio': 1.0, 'change': 15.6053441475, 'regAvg': 1276.2222148874, 'cross': 0, 'outLinks': 0, 'skipperRating': 1000.0000000024, 'crewRating': 1759.9951049172, 'womenSkipperRating': 1000.0000000024, 'womenCrewRating': 1614.9339322514, 'tsr': 1000.0000000024, 'tcr': 973.5247270621, 'wtsr': 1000.0000000024, 'wtcr': 1334.9699737052, 'womens': True, 'date': 1725667200000, 'partner': {'name': 'Brooke Schmelz', 'key': 'brooke-schmelz'}, 'venue': 'MIT', 'raceID': 'f24/toni-duetsch-58-2024/13A', 'type': 'fleet', 'scoring': '2 Divisions'}, {'score': 1, 'pos': 'Crew', 'predicted': 8, 'ratio': 1.0, 'change': 15.7249119564, 'regAvg': 1276.2222148874, 'cross': 0, 'outLinks': 0, 'skipperRating': 1000.0000000024, 'crewRating': 1759.9951049172, 'womenSkipperRating': 1000.0000000024, 'womenCrewRating': 1630.6588442078, 'tsr': 1000.0000000024, 'tcr': 973.5247270621, 'wtsr': 1000.0000000024, 'wtcr': 1334.9699737052, 'womens': True, 'date': 1725667200000, 'partner': {'name': 'Brooke Schmelz', 'key': 'brooke-schmelz'}, 'venue': 'MIT', 'raceID': 'f24/toni-duetsch-58-2024/14A', 'type': 'fleet', 'scoring': '2 Divisions'}, {'score': 8, 'pos': 'Crew', 'predicted': 9, 'ratio': 0.5625, 'change': 11.9881051536, 'regAvg': 1515.283255911, 'cross': 0, 'outLinks': 0, 'skipperRating': 1000.0000000024, 'crewRating': 1771.9832100708, 'womenSkipperRating': 1000.0000000024, 'womenCrewRating': 1630.6588442078, 'tsr': 1000.0000000024, 'tcr': 973.5247270621, 'wtsr': 1000.0000000024, 'wtcr': 1334.9699737052, 'womens': False, 'date': 1726272000000, 'partner': {'name': 'Lucy Brock', 'key': 'lucy-brock'}, 'venue': 'MIT', 'raceID': 'f24/hatch-brown-2024/1C', 'type': 'fleet', 'scoring': '3 Divisions'}, {'score': 15, 'pos': 'Crew', 'predicted': 10, 'ratio': 0.125, 'change': -37.44462902, 'regAvg': 1515.283255911, 'cross': 0, 'outLinks': 0, 'skipperRating': 1000.0000000024, 'crewRating': 1734.5385810508, 'womenSkipperRating': 1000.0000000024, 'womenCrewRating': 1630.6588442078, 'tsr': 1000.0000000024, 'tcr': 973.5247270621, 'wtsr': 1000.0000000024, 'wtcr': 1334.9699737052, 'womens': False, 'date': 1726272000000, 'partner': {'name': 'Lucy Brock', 'key': 'lucy-brock'}, 'venue': 'MIT', 'raceID': 'f24/hatch-brown-2024/2C', 'type': 'fleet', 'scoring': '3 Divisions'}, {'score': 14, 'pos': 'Crew', 'predicted': 11, 'ratio': 0.1875, 'change': -19.8293685384, 'regAvg': 1515.283255911, 'cross': 0, 'outLinks': 0, 'skipperRating': 1000.0000000024, 'crewRating': 1714.7092125124, 'womenSkipperRating': 1000.0000000024, 'womenCrewRating': 1630.6588442078, 'tsr': 1000.0000000024, 'tcr': 973.5247270621, 'wtsr': 1000.0000000024, 'wtcr': 1334.9699737052, 'womens': False, 'date': 1726272000000, 'partner': {'name': 'Lucy Brock', 'key': 'lucy-brock'}, 'venue': 'MIT', 'raceID': 'f24/hatch-brown-2024/3C', 'type': 'fleet', 'scoring': '3 Divisions'}, {'score': 13, 'pos': 'Crew', 'predicted': 11, 'ratio': 0.25, 'change': -5.5723611431, 'regAvg': 1515.283255911, 'cross': 0, 'outLinks': 0, 'skipperRating': 1000.0000000024, 'crewRating': 1709.1368513693, 'womenSkipperRating': 1000.0000000024, 'womenCrewRating': 1630.6588442078, 'tsr': 1000.0000000024, 'tcr': 973.5247270621, 'wtsr': 1000.0000000024, 'wtcr': 1334.9699737052, 'womens': False, 'date': 1726272000000, 'partner': {'name': 'Lucy Brock', 'key': 'lucy-brock'}, 'venue': 'MIT', 'raceID': 'f24/hatch-brown-2024/4C', 'type': 'fleet', 'scoring': '3 Divisions'}, {'score': 11, 'pos': 'Crew', 'predicted': 11, 'ratio': 0.375, 'change': 8.6401796008, 'regAvg': 1515.283255911, 'cross': 0, 'outLinks': 0, 'skipperRating': 1000.0000000024, 'crewRating': 1717.7770309701, 'womenSkipperRating': 1000.0000000024, 'womenCrewRating': 1630.6588442078, 'tsr': 1000.0000000024, 'tcr': 973.5247270621, 'wtsr': 1000.0000000024, 'wtcr': 1334.9699737052, 'womens': False, 'date': 1726272000000, 'partner': {'name': 'Lucy Brock', 'key': 'lucy-brock'}, 'venue': 'MIT', 'raceID': 'f24/hatch-brown-2024/5C', 'type': 'fleet', 'scoring': '3 Divisions'}, {'score': 13, 'pos': 'Crew', 'predicted': 11, 'ratio': 0.25, 'change': -4.3048734787, 'regAvg': 1515.283255911, 'cross': 0, 'outLinks': 0, 'skipperRating': 1000.0000000024, 'crewRating': 1713.4721574914, 'womenSkipperRating': 1000.0000000024, 'womenCrewRating': 1630.6588442078, 'tsr': 1000.0000000024, 'tcr': 973.5247270621, 'wtsr': 1000.0000000024, 'wtcr': 1334.9699737052, 'womens': False, 'date': 1726272000000, 'partner': {'name': 'Lucy Brock', 'key': 'lucy-brock'}, 'venue': 'MIT', 'raceID': 'f24/hatch-brown-2024/6C', 'type': 'fleet', 'scoring': '3 Divisions'}, {'score': 8, 'pos': 'Crew', 'predicted': 11, 'ratio': 0.5625, 'change': 13.812752215, 'regAvg': 1515.283255911, 'cross': 0, 'outLinks': 0, 'skipperRating': 1000.0000000024, 'crewRating': 1727.2849097064, 'womenSkipperRating': 1000.0000000024, 'womenCrewRating': 1630.6588442078, 'tsr': 1000.0000000024, 'tcr': 973.5247270621, 'wtsr': 1000.0000000024, 'wtcr': 1334.9699737052, 'womens': False, 'date': 1726272000000, 'partner': {'name': 'Lucy Brock', 'key': 'lucy-brock'}, 'venue': 'MIT', 'raceID': 'f24/hatch-brown-2024/7C', 'type': 'fleet', 'scoring': '3 Divisions'}, {'score': 11, 'pos': 'Crew', 'predicted': 11, 'ratio': 0.375, 'change': 8.2473378471, 'regAvg': 1515.283255911, 'cross': 0, 'outLinks': 0, 'skipperRating': 1000.0000000024, 'crewRating': 1735.5322475535, 'womenSkipperRating': 1000.0000000024, 'womenCrewRating': 1630.6588442078, 'tsr': 1000.0000000024, 'tcr': 973.5247270621, 'wtsr': 1000.0000000024, 'wtcr': 1334.9699737052, 'womens': False, 'date': 1726272000000, 'partner': {'name': 'Lucy Brock', 'key': 'lucy-brock'}, 'venue': 'MIT', 'raceID': 'f24/hatch-brown-2024/8C', 'type': 'fleet', 'scoring': '3 Divisions'}, {'score': 6, 'pos': 'Crew', 'predicted': 11, 'ratio': 0.6875, 'change': 17.269226455, 'regAvg': 1515.283255911, 'cross': 0, 'outLinks': 0, 'skipperRating': 1000.0000000024, 'crewRating': 1752.8014740084, 'womenSkipperRating': 1000.0000000024, 'womenCrewRating': 1630.6588442078, 'tsr': 1000.0000000024, 'tcr': 973.5247270621, 'wtsr': 1000.0000000024, 'wtcr': 1334.9699737052, 'womens': False, 'date': 1726272000000, 'partner': {'name': 'Lucy Brock', 'key': 'lucy-brock'}, 'venue': 'MIT', 'raceID': 'f24/hatch-brown-2024/9C', 'type': 'fleet', 'scoring': '3 Divisions'}, {'score': 7, 'pos': 'Crew', 'predicted': 6, 'ratio': 0.625, 'change': 5.2341992971, 'regAvg': 1192.6852425001, 'cross': 0, 'outLinks': 0, 'skipperRating': 1000.0000000024, 'crewRating': 1752.8014740084, 'womenSkipperRating': 1000.0000000024, 'womenCrewRating': 1635.8930435049, 'tsr': 1000.0000000024, 'tcr': 973.5247270621, 'wtsr': 1000.0000000024, 'wtcr': 1334.9699737052, 'womens': True, 'date': 1726876800000, 'partner': {'name': 'Brooke Schmelz', 'key': 'brooke-schmelz'}, 'venue': 'Dartmouth', 'raceID': 'f24/mrs-hurst-bowl/1A', 'type': 'fleet', 'scoring': '2 Divisions'}, {'score': 13, 'pos': 'Crew', 'predicted': 6, 'ratio': 0.25, 'change': -15.9457387778, 'regAvg': 1192.6852425001, 'cross': 0, 'outLinks': 0, 'skipperRating': 1000.0000000024, 'crewRating': 1752.8014740084, 'womenSkipperRating': 1000.0000000024, 'womenCrewRating': 1619.9473047271, 'tsr': 1000.0000000024, 'tcr': 973.5247270621, 'wtsr': 1000.0000000024, 'wtcr': 1334.9699737052, 'womens': True, 'date': 1726876800000, 'partner': {'name': 'Brooke Schmelz', 'key': 'brooke-schmelz'}, 'venue': 'Dartmouth', 'raceID': 'f24/mrs-hurst-bowl/2A', 'type': 'fleet', 'scoring': '2 Divisions'}, {'score': 11, 'pos': 'Crew', 'predicted': 5, 'ratio': 0.375, 'change': -4.1290829506, 'regAvg': 1192.6852425001, 'cross': 0, 'outLinks': 0, 'skipperRating': 1000.0000000024, 'crewRating': 1752.8014740084, 'womenSkipperRating': 1000.0000000024, 'womenCrewRating': 1615.8182217766, 'tsr': 1000.0000000024, 'tcr': 973.5247270621, 'wtsr': 1000.0000000024, 'wtcr': 1334.9699737052, 'womens': True, 'date': 1726876800000, 'partner': {'name': 'Brooke Schmelz', 'key': 'brooke-schmelz'}, 'venue': 'Dartmouth', 'raceID': 'f24/mrs-hurst-bowl/3A', 'type': 'fleet', 'scoring': '2 Divisions'}, {'score': 2, 'pos': 'Crew', 'predicted': 5, 'ratio': 0.9375, 'change': 12.6066553489, 'regAvg': 1192.6852425001, 'cross': 0, 'outLinks': 0, 'skipperRating': 1000.0000000024, 'crewRating': 1752.8014740084, 'womenSkipperRating': 1000.0000000024, 'womenCrewRating': 1628.4248771255, 'tsr': 1000.0000000024, 'tcr': 973.5247270621, 'wtsr': 1000.0000000024, 'wtcr': 1334.9699737052, 'womens': True, 'date': 1726876800000, 'partner': {'name': 'Brooke Schmelz', 'key': 'brooke-schmelz'}, 'venue': 'Dartmouth', 'raceID': 'f24/mrs-hurst-bowl/4A', 'type': 'fleet', 'scoring': '2 Divisions'}, {'score': 10, 'pos': 'Crew', 'predicted': 5, 'ratio': 0.4375, 'change': -1.0207539433, 'regAvg': 1192.6852425001, 'cross': 0, 'outLinks': 0, 'skipperRating': 1000.0000000024, 'crewRating': 1752.8014740084, 'womenSkipperRating': 1000.0000000024, 'womenCrewRating': 1627.4041231822, 'tsr': 1000.0000000024, 'tcr': 973.5247270621, 'wtsr': 1000.0000000024, 'wtcr': 1334.9699737052, 'womens': True, 'date': 1726876800000, 'partner': {'name': 'Brooke Schmelz', 'key': 'brooke-schmelz'}, 'venue': 'Dartmouth', 'raceID': 'f24/mrs-hurst-bowl/5A', 'type': 'fleet', 'scoring': '2 Divisions'}, {'score': 13, 'pos': 'Crew', 'predicted': 6, 'ratio': 0.25, 'change': -13.0897993905, 'regAvg': 1192.6852425001, 'cross': 0, 'outLinks': 0, 'skipperRating': 1000.0000000024, 'crewRating': 1752.8014740084, 'womenSkipperRating': 1000.0000000024, 'womenCrewRating': 1614.3143237916, 'tsr': 1000.0000000024, 'tcr': 973.5247270621, 'wtsr': 1000.0000000024, 'wtcr': 1334.9699737052, 'womens': True, 'date': 1726876800000, 'partner': {'name': 'Brooke Schmelz', 'key': 'brooke-schmelz'}, 'venue': 'Dartmouth', 'raceID': 'f24/mrs-hurst-bowl/6A', 'type': 'fleet', 'scoring': '2 Divisions'}, {'score': 7, 'pos': 'Crew', 'predicted': 5, 'ratio': 0.625, 'change': 5.2762324228, 'regAvg': 1192.6852425001, 'cross': 0, 'outLinks': 0, 'skipperRating': 1000.0000000024, 'crewRating': 1752.8014740084, 'womenSkipperRating': 1000.0000000024, 'womenCrewRating': 1619.5905562145, 'tsr': 1000.0000000024, 'tcr': 973.5247270621, 'wtsr': 1000.0000000024, 'wtcr': 1334.9699737052, 'womens': True, 'date': 1726876800000, 'partner': {'name': 'Brooke Schmelz', 'key': 'brooke-schmelz'}, 'venue': 'Dartmouth', 'raceID': 'f24/mrs-hurst-bowl/7A', 'type': 'fleet', 'scoring': '2 Divisions'}, {'score': 2, 'pos': 'Crew', 'predicted': 5, 'ratio': 0.9375, 'change': 11.9307377117, 'regAvg': 1192.6852425001, 'cross': 0, 'outLinks': 0, 'skipperRating': 1000.0000000024, 'crewRating': 1752.8014740084, 'womenSkipperRating': 1000.0000000024, 'womenCrewRating': 1631.5212939262, 'tsr': 1000.0000000024, 'tcr': 973.5247270621, 'wtsr': 1000.0000000024, 'wtcr': 1334.9699737052, 'womens': True, 'date': 1726876800000, 'partner': {'name': 'Brooke Schmelz', 'key': 'brooke-schmelz'}, 'venue': 'Dartmouth', 'raceID': 'f24/mrs-hurst-bowl/8A', 'type': 'fleet', 'scoring': '2 Divisions'}, {'score': 2, 'pos': 'Crew', 'predicted': 5, 'ratio': 0.9375, 'change': 12.9825511746, 'regAvg': 1192.6852425001, 'cross': 0, 'outLinks': 0, 'skipperRating': 1000.0000000024, 'crewRating': 1752.8014740084, 'womenSkipperRating': 1000.0000000024, 'womenCrewRating': 1644.5038451008, 'tsr': 1000.0000000024, 'tcr': 973.5247270621, 'wtsr': 1000.0000000024, 'wtcr': 1334.9699737052, 'womens': True, 'date': 1726876800000, 'partner': {'name': 'Brooke Schmelz', 'key': 'brooke-schmelz'}, 'venue': 'Dartmouth', 'raceID': 'f24/mrs-hurst-bowl/9A', 'type': 'fleet', 'scoring': '2 Divisions'}, {'score': 3, 'pos': 'Crew', 'predicted': 5, 'ratio': 0.875, 'change': 12.1316651628, 'regAvg': 1192.6852425001, 'cross': 0, 'outLinks': 0, 'skipperRating': 1000.0000000024, 'crewRating': 1752.8014740084, 'womenSkipperRating': 1000.0000000024, 'womenCrewRating': 1656.6355102636, 'tsr': 1000.0000000024, 'tcr': 973.5247270621, 'wtsr': 1000.0000000024, 'wtcr': 1334.9699737052, 'womens': True, 'date': 1726876800000, 'partner': {'name': 'Brooke Schmelz', 'key': 'brooke-schmelz'}, 'venue': 'Dartmouth', 'raceID': 'f24/mrs-hurst-bowl/10A', 'type': 'fleet', 'scoring': '2 Divisions'}, {'score': 13, 'pos': 'Crew', 'predicted': 6, 'ratio': 0.25, 'change': -11.2001551779, 'regAvg': 1304.8116625901, 'cross': 1, 'outLinks': 8, 'skipperRating': 1000.0000000024, 'crewRating': 1752.8014740084, 'womenSkipperRating': 1000.0000000024, 'womenCrewRating': 1645.4353550858, 'tsr': 1000.0000000024, 'tcr': 973.5247270621, 'wtsr': 1000.0000000024, 'wtcr': 1334.9699737052, 'womens': True, 'date': 1727481600000, 'partner': {'name': 'Brooke Schmelz', 'key': 'brooke-schmelz'}, 'venue': 'Brown', 'raceID': 'f24/women-acc-round-1b/1A', 'type': 'fleet', 'scoring': '2 Divisions'}, {'score': 2, 'pos': 'Crew', 'predicted': 6, 'ratio': 0.9375, 'change': 13.5840878927, 'regAvg': 1304.8116625901, 'cross': 1, 'outLinks': 8, 'skipperRating': 1000.0000000024, 'crewRating': 1752.8014740084, 'womenSkipperRating': 1000.0000000024, 'womenCrewRating': 1659.0194429785, 'tsr': 1000.0000000024, 'tcr': 973.5247270621, 'wtsr': 1000.0000000024, 'wtcr': 1334.9699737052, 'womens': True, 'date': 1727481600000, 'partner': {'name': 'Brooke Schmelz', 'key': 'brooke-schmelz'}, 'venue': 'Brown', 'raceID': 'f24/women-acc-round-1b/2A', 'type': 'fleet', 'scoring': '2 Divisions'}, {'score': 11, 'pos': 'Crew', 'predicted': 6, 'ratio': 0.375, 'change': -0.7373601245, 'regAvg': 1304.8116625901, 'cross': 1, 'outLinks': 8, 'skipperRating': 1000.0000000024, 'crewRating': 1752.8014740084, 'womenSkipperRating': 1000.0000000024, 'womenCrewRating': 1658.282082854, 'tsr': 1000.0000000024, 'tcr': 973.5247270621, 'wtsr': 1000.0000000024, 'wtcr': 1334.9699737052, 'womens': True, 'date': 1727481600000, 'partner': {'name': 'Brooke Schmelz', 'key': 'brooke-schmelz'}, 'venue': 'Brown', 'raceID': 'f24/women-acc-round-1b/3A', 'type': 'fleet', 'scoring': '2 Divisions'}, {'score': 17, 'pos': 'Crew', 'predicted': 6, 'ratio': 0.0, 'change': -48.566562684, 'regAvg': 1304.8116625901, 'cross': 1, 'outLinks': 8, 'skipperRating': 1000.0000000024, 'crewRating': 1752.8014740084, 'womenSkipperRating': 1000.0000000024, 'womenCrewRating': 1609.71552017, 'tsr': 1000.0000000024, 'tcr': 973.5247270621, 'wtsr': 1000.0000000024, 'wtcr': 1334.9699737052, 'womens': True, 'date': 1727481600000, 'partner': {'name': 'Brooke Schmelz', 'key': 'brooke-schmelz'}, 'venue': 'Brown', 'raceID': 'f24/women-acc-round-1b/4A', 'type': 'fleet', 'scoring': '2 Divisions'}, {'score': 1, 'pos': 'Crew', 'predicted': 6, 'ratio': 1.0, 'change': 13.4782323147, 'regAvg': 1304.8116625901, 'cross': 1, 'outLinks': 8, 'skipperRating': 1000.0000000024, 'crewRating': 1752.8014740084, 'womenSkipperRating': 1000.0000000024, 'womenCrewRating': 1623.1937524847, 'tsr': 1000.0000000024, 'tcr': 973.5247270621, 'wtsr': 1000.0000000024, 'wtcr': 1334.9699737052, 'womens': True, 'date': 1727481600000, 'partner': {'name': 'Brooke Schmelz', 'key': 'brooke-schmelz'}, 'venue': 'Brown', 'raceID': 'f24/women-acc-round-1b/9A', 'type': 'fleet', 'scoring': '2 Divisions'}, {'score': 2, 'pos': 'Crew', 'predicted': 6, 'ratio': 0.9375, 'change': 13.0614377792, 'regAvg': 1304.8116625901, 'cross': 1, 'outLinks': 8, 'skipperRating': 1000.0000000024, 'crewRating': 1752.8014740084, 'womenSkipperRating': 1000.0000000024, 'womenCrewRating': 1636.2551902639, 'tsr': 1000.0000000024, 'tcr': 973.5247270621, 'wtsr': 1000.0000000024, 'wtcr': 1334.9699737052, 'womens': True, 'date': 1727481600000, 'partner': {'name': 'Brooke Schmelz', 'key': 'brooke-schmelz'}, 'venue': 'Brown', 'raceID': 'f24/women-acc-round-1b/10A', 'type': 'fleet', 'scoring': '2 Divisions'}, {'score': 8, 'pos': 'Crew', 'predicted': 5, 'ratio': 0.5, 'change': 3.3279568273, 'regAvg': 1279.4861606176, 'cross': 1, 'outLinks': 6, 'skipperRating': 1000.0000000024, 'crewRating': 1752.8014740084, 'womenSkipperRating': 1000.0000000024, 'womenCrewRating': 1639.5831470912, 'tsr': 1000.0000000024, 'tcr': 973.5247270621, 'wtsr': 1000.0000000024, 'wtcr': 1334.9699737052, 'womens': True, 'date': 1728086400000, 'partner': {'name': 'Brooke Schmelz', 'key': 'brooke-schmelz'}, 'venue': 'Connecticut College', 'raceID': 'f24/stu-nelson-connecticut/1A', 'type': 'fleet', 'scoring': '3 Divisions'}, {'score': 7, 'pos': 'Crew', 'predicted': 5, 'ratio': 0.5714285714, 'change': 4.0329295966, 'regAvg': 1279.4861606176, 'cross': 1, 'outLinks': 6, 'skipperRating': 1000.0000000024, 'crewRating': 1752.8014740084, 'womenSkipperRating': 1000.0000000024, 'womenCrewRating': 1643.6160766878, 'tsr': 1000.0000000024, 'tcr': 973.5247270621, 'wtsr': 1000.0000000024, 'wtcr': 1334.9699737052, 'womens': True, 'date': 1728086400000, 'partner': {'name': 'Brooke Schmelz', 'key': 'brooke-schmelz'}, 'venue': 'Connecticut College', 'raceID': 'f24/stu-nelson-connecticut/2A', 'type': 'fleet', 'scoring': '3 Divisions'}, {'score': 5, 'pos': 'Crew', 'predicted': 5, 'ratio': 0.7142857143, 'change': 8.0511204498, 'regAvg': 1279.4861606176, 'cross': 1, 'outLinks': 6, 'skipperRating': 1000.0000000024, 'crewRating': 1752.8014740084, 'womenSkipperRating': 1000.0000000024, 'womenCrewRating': 1651.6671971376, 'tsr': 1000.0000000024, 'tcr': 973.5247270621, 'wtsr': 1000.0000000024, 'wtcr': 1334.9699737052, 'womens': True, 'date': 1728086400000, 'partner': {'name': 'Brooke Schmelz', 'key': 'brooke-schmelz'}, 'venue': 'Connecticut College', 'raceID': 'f24/stu-nelson-connecticut/3A', 'type': 'fleet', 'scoring': '3 Divisions'}, {'score': 3, 'pos': 'Crew', 'predicted': 5, 'ratio': 0.8571428571, 'change': 11.1922369039, 'regAvg': 1279.4861606176, 'cross': 1, 'outLinks': 6, 'skipperRating': 1000.0000000024, 'crewRating': 1752.8014740084, 'womenSkipperRating': 1000.0000000024, 'womenCrewRating': 1662.8594340415, 'tsr': 1000.0000000024, 'tcr': 973.5247270621, 'wtsr': 1000.0000000024, 'wtcr': 1334.9699737052, 'womens': True, 'date': 1728086400000, 'partner': {'name': 'Brooke Schmelz', 'key': 'brooke-schmelz'}, 'venue': 'Connecticut College', 'raceID': 'f24/stu-nelson-connecticut/4A', 'type': 'fleet', 'scoring': '3 Divisions'}, {'score': 12, 'pos': 'Crew', 'predicted': 5, 'ratio': 0.2142857143, 'change': -23.0029086, 'regAvg': 1279.4861606176, 'cross': 1, 'outLinks': 6, 'skipperRating': 1000.0000000024, 'crewRating': 1752.8014740084, 'womenSkipperRating': 1000.0000000024, 'womenCrewRating': 1639.8565254414, 'tsr': 1000.0000000024, 'tcr': 973.5247270621, 'wtsr': 1000.0000000024, 'wtcr': 1334.9699737052, 'womens': True, 'date': 1728086400000, 'partner': {'name': 'Brooke Schmelz', 'key': 'brooke-schmelz'}, 'venue': 'Connecticut College', 'raceID': 'f24/stu-nelson-connecticut/5A', 'type': 'fleet', 'scoring': '3 Divisions'}, {'score': 5, 'pos': 'Crew', 'predicted': 5, 'ratio': 0.7142857143, 'change': 8.1052577226, 'regAvg': 1279.4861606176, 'cross': 1, 'outLinks': 6, 'skipperRating': 1000.0000000024, 'crewRating': 1752.8014740084, 'womenSkipperRating': 1000.0000000024, 'womenCrewRating': 1647.961783164, 'tsr': 1000.0000000024, 'tcr': 973.5247270621, 'wtsr': 1000.0000000024, 'wtcr': 1334.9699737052, 'womens': True, 'date': 1728086400000, 'partner': {'name': 'Brooke Schmelz', 'key': 'brooke-schmelz'}, 'venue': 'Connecticut College', 'raceID': 'f24/stu-nelson-connecticut/6A', 'type': 'fleet', 'scoring': '3 Divisions'}, {'score': 10, 'pos': 'Crew', 'predicted': 6, 'ratio': 0.3571428571, 'change': -7.1305388152, 'regAvg': 1279.4861606176, 'cross': 1, 'outLinks': 6, 'skipperRating': 1000.0000000024, 'crewRating': 1752.8014740084, 'womenSkipperRating': 1000.0000000024, 'womenCrewRating': 1640.8312443488, 'tsr': 1000.0000000024, 'tcr': 973.5247270621, 'wtsr': 1000.0000000024, 'wtcr': 1334.9699737052, 'womens': True, 'date': 1728086400000, 'partner': {'name': 'Brooke Schmelz', 'key': 'brooke-schmelz'}, 'venue': 'Connecticut College', 'raceID': 'f24/stu-nelson-connecticut/7A', 'type': 'fleet', 'scoring': '3 Divisions'}, {'score': 2, 'pos': 'Crew', 'predicted': 6, 'ratio': 0.9285714286000001, 'change': 13.1703238866, 'regAvg': 1279.4861606176, 'cross': 1, 'outLinks': 6, 'skipperRating': 1000.0000000024, 'crewRating': 1752.8014740084, 'womenSkipperRating': 1000.0000000024, 'womenCrewRating': 1654.0015682354, 'tsr': 1000.0000000024, 'tcr': 973.5247270621, 'wtsr': 1000.0000000024, 'wtcr': 1334.9699737052, 'womens': True, 'date': 1728086400000, 'partner': {'name': 'Brooke Schmelz', 'key': 'brooke-schmelz'}, 'venue': 'Connecticut College', 'raceID': 'f24/stu-nelson-connecticut/8A', 'type': 'fleet', 'scoring': '3 Divisions'}, {'score': 2, 'pos': 'Crew', 'predicted': 6, 'ratio': 0.9285714286000001, 'change': 13.3310903534, 'regAvg': 1279.4861606176, 'cross': 1, 'outLinks': 6, 'skipperRating': 1000.0000000024, 'crewRating': 1752.8014740084, 'womenSkipperRating': 1000.0000000024, 'womenCrewRating': 1667.3326585888, 'tsr': 1000.0000000024, 'tcr': 973.5247270621, 'wtsr': 1000.0000000024, 'wtcr': 1334.9699737052, 'womens': True, 'date': 1728086400000, 'partner': {'name': 'Brooke Schmelz', 'key': 'brooke-schmelz'}, 'venue': 'Connecticut College', 'raceID': 'f24/stu-nelson-connecticut/9A', 'type': 'fleet', 'scoring': '3 Divisions'}, {'score': 10, 'pos': 'Crew', 'predicted': 6, 'ratio': 0.3571428571, 'change': -8.5358108268, 'regAvg': 1279.4861606176, 'cross': 1, 'outLinks': 6, 'skipperRating': 1000.0000000024, 'crewRating': 1752.8014740084, 'womenSkipperRating': 1000.0000000024, 'womenCrewRating': 1658.7968477619, 'tsr': 1000.0000000024, 'tcr': 973.5247270621, 'wtsr': 1000.0000000024, 'wtcr': 1334.9699737052, 'womens': True, 'date': 1728086400000, 'partner': {'name': 'Brooke Schmelz', 'key': 'brooke-schmelz'}, 'venue': 'Connecticut College', 'raceID': 'f24/stu-nelson-connecticut/10A', 'type': 'fleet', 'scoring': '3 Divisions'}, {'score': 17, 'pos': 'Crew', 'predicted': 13, 'ratio': 0.058823529400000005, 'change': -3.4664594181, 'regAvg': 1443.3924891955, 'cross': 1, 'outLinks': 9, 'skipperRating': 1000.0000000024, 'crewRating': 1752.8014740084, 'womenSkipperRating': 1000.0000000024, 'womenCrewRating': 1655.3303883439, 'tsr': 1000.0000000024, 'tcr': 973.5247270621, 'wtsr': 1000.0000000024, 'wtcr': 1334.9699737052, 'womens': True, 'date': 1728691200000, 'partner': {'name': 'Brooke Schmelz', 'key': 'brooke-schmelz'}, 'venue': 'Navy', 'raceID': 'f24/women-atlantic-coast-finals/1A', 'type': 'fleet', 'scoring': '2 Divisions'}, {'score': 4, 'pos': 'Crew', 'predicted': 13, 'ratio': 0.8235294118, 'change': 14.0144795585, 'regAvg': 1443.3924891955, 'cross': 1, 'outLinks': 9, 'skipperRating': 1000.0000000024, 'crewRating': 1752.8014740084, 'womenSkipperRating': 1000.0000000024, 'womenCrewRating': 1669.3448679024, 'tsr': 1000.0000000024, 'tcr': 973.5247270621, 'wtsr': 1000.0000000024, 'wtcr': 1334.9699737052, 'womens': True, 'date': 1728691200000, 'partner': {'name': 'Brooke Schmelz', 'key': 'brooke-schmelz'}, 'venue': 'Navy', 'raceID': 'f24/women-atlantic-coast-finals/2A', 'type': 'fleet', 'scoring': '2 Divisions'}, {'score': 10, 'pos': 'Crew', 'predicted': 13, 'ratio': 0.4705882353, 'change': 9.6288086793, 'regAvg': 1443.3924891955, 'cross': 1, 'outLinks': 9, 'skipperRating': 1000.0000000024, 'crewRating': 1752.8014740084, 'womenSkipperRating': 1000.0000000024, 'womenCrewRating': 1678.9736765817, 'tsr': 1000.0000000024, 'tcr': 973.5247270621, 'wtsr': 1000.0000000024, 'wtcr': 1334.9699737052, 'womens': True, 'date': 1728691200000, 'partner': {'name': 'Brooke Schmelz', 'key': 'brooke-schmelz'}, 'venue': 'Navy', 'raceID': 'f24/women-atlantic-coast-finals/3A', 'type': 'fleet', 'scoring': '2 Divisions'}, {'score': 2, 'pos': 'Crew', 'predicted': 13, 'ratio': 0.9411764706, 'change': 14.9394392733, 'regAvg': 1443.3924891955, 'cross': 1, 'outLinks': 9, 'skipperRating': 1000.0000000024, 'crewRating': 1752.8014740084, 'womenSkipperRating': 1000.0000000024, 'womenCrewRating': 1693.913115855, 'tsr': 1000.0000000024, 'tcr': 973.5247270621, 'wtsr': 1000.0000000024, 'wtcr': 1334.9699737052, 'womens': True, 'date': 1728691200000, 'partner': {'name': 'Brooke Schmelz', 'key': 'brooke-schmelz'}, 'venue': 'Navy', 'raceID': 'f24/women-atlantic-coast-finals/4A', 'type': 'fleet', 'scoring': '2 Divisions'}, {'score': 9, 'pos': 'Crew', 'predicted': 13, 'ratio': 0.5294117647000001, 'change': 9.5064985215, 'regAvg': 1443.3924891955, 'cross': 1, 'outLinks': 9, 'skipperRating': 1000.0000000024, 'crewRating': 1752.8014740084, 'womenSkipperRating': 1000.0000000024, 'womenCrewRating': 1703.4196143766, 'tsr': 1000.0000000024, 'tcr': 973.5247270621, 'wtsr': 1000.0000000024, 'wtcr': 1334.9699737052, 'womens': True, 'date': 1728691200000, 'partner': {'name': 'Brooke Schmelz', 'key': 'brooke-schmelz'}, 'venue': 'Navy', 'raceID': 'f24/women-atlantic-coast-finals/5A', 'type': 'fleet', 'scoring': '2 Divisions'}, {'score': 15, 'pos': 'Crew', 'predicted': 13, 'ratio': 0.1764705882, 'change': 4.0717582618, 'regAvg': 1443.3924891955, 'cross': 1, 'outLinks': 9, 'skipperRating': 1000.0000000024, 'crewRating': 1752.8014740084, 'womenSkipperRating': 1000.0000000024, 'womenCrewRating': 1707.4913726384, 'tsr': 1000.0000000024, 'tcr': 973.5247270621, 'wtsr': 1000.0000000024, 'wtcr': 1334.9699737052, 'womens': True, 'date': 1728691200000, 'partner': {'name': 'Brooke Schmelz', 'key': 'brooke-schmelz'}, 'venue': 'Navy', 'raceID': 'f24/women-atlantic-coast-finals/6A', 'type': 'fleet', 'scoring': '2 Divisions'}, {'score': 13, 'pos': 'Crew', 'predicted': 13, 'ratio': 0.2941176471, 'change': 3.2752236529, 'regAvg': 1443.3924891955, 'cross': 1, 'outLinks': 9, 'skipperRating': 1000.0000000024, 'crewRating': 1752.8014740084, 'womenSkipperRating': 1000.0000000024, 'womenCrewRating': 1710.7665962913, 'tsr': 1000.0000000024, 'tcr': 973.5247270621, 'wtsr': 1000.0000000024, 'wtcr': 1334.9699737052, 'womens': True, 'date': 1728691200000, 'partner': {'name': 'Brooke Schmelz', 'key': 'brooke-schmelz'}, 'venue': 'Navy', 'raceID': 'f24/women-atlantic-coast-finals/7A', 'type': 'fleet', 'scoring': '2 Divisions'}, {'score': 10, 'pos': 'Crew', 'predicted': 13, 'ratio': 0.4705882353, 'change': 9.1702159803, 'regAvg': 1443.3924891955, 'cross': 1, 'outLinks': 9, 'skipperRating': 1000.0000000024, 'crewRating': 1752.8014740084, 'womenSkipperRating': 1000.0000000024, 'womenCrewRating': 1719.9368122717, 'tsr': 1000.0000000024, 'tcr': 973.5247270621, 'wtsr': 1000.0000000024, 'wtcr': 1334.9699737052, 'womens': True, 'date': 1728691200000, 'partner': {'name': 'Brooke Schmelz', 'key': 'brooke-schmelz'}, 'venue': 'Navy', 'raceID': 'f24/women-atlantic-coast-finals/8A', 'type': 'fleet', 'scoring': '2 Divisions'}, {'score': 13, 'pos': 'Crew', 'predicted': 13, 'ratio': 0.2941176471, 'change': 6.8567954391, 'regAvg': 1443.3924891955, 'cross': 1, 'outLinks': 9, 'skipperRating': 1000.0000000024, 'crewRating': 1752.8014740084, 'womenSkipperRating': 1000.0000000024, 'womenCrewRating': 1726.7936077108, 'tsr': 1000.0000000024, 'tcr': 973.5247270621, 'wtsr': 1000.0000000024, 'wtcr': 1334.9699737052, 'womens': True, 'date': 1728691200000, 'partner': {'name': 'Brooke Schmelz', 'key': 'brooke-schmelz'}, 'venue': 'Navy', 'raceID': 'f24/women-atlantic-coast-finals/9A', 'type': 'fleet', 'scoring': '2 Divisions'}, {'score': 12, 'pos': 'Crew', 'predicted': 13, 'ratio': 0.3529411765, 'change': 4.7778354065, 'regAvg': 1443.3924891955, 'cross': 1, 'outLinks': 9, 'skipperRating': 1000.0000000024, 'crewRating': 1752.8014740084, 'womenSkipperRating': 1000.0000000024, 'womenCrewRating': 1731.5714431172, 'tsr': 1000.0000000024, 'tcr': 973.5247270621, 'wtsr': 1000.0000000024, 'wtcr': 1334.9699737052, 'womens': True, 'date': 1728691200000, 'partner': {'name': 'Brooke Schmelz', 'key': 'brooke-schmelz'}, 'venue': 'Navy', 'raceID': 'f24/women-atlantic-coast-finals/10A', 'type': 'fleet', 'scoring': '2 Divisions'}, {'score': 10, 'pos': 'Crew', 'predicted': 13, 'ratio': 0.4705882353, 'change': 8.8329824443, 'regAvg': 1443.3924891955, 'cross': 1, 'outLinks': 9, 'skipperRating': 1000.0000000024, 'crewRating': 1752.8014740084, 'womenSkipperRating': 1000.0000000024, 'womenCrewRating': 1740.4044255616, 'tsr': 1000.0000000024, 'tcr': 973.5247270621, 'wtsr': 1000.0000000024, 'wtcr': 1334.9699737052, 'womens': True, 'date': 1728691200000, 'partner': {'name': 'Brooke Schmelz', 'key': 'brooke-schmelz'}, 'venue': 'Navy', 'raceID': 'f24/women-atlantic-coast-finals/11A', 'type': 'fleet', 'scoring': '2 Divisions'}, {'score': 7, 'pos': 'Crew', 'predicted': 13, 'ratio': 0.6470588235, 'change': 11.623931379, 'regAvg': 1443.3924891955, 'cross': 1, 'outLinks': 9, 'skipperRating': 1000.0000000024, 'crewRating': 1752.8014740084, 'womenSkipperRating': 1000.0000000024, 'womenCrewRating': 1752.0283569405, 'tsr': 1000.0000000024, 'tcr': 973.5247270621, 'wtsr': 1000.0000000024, 'wtcr': 1334.9699737052, 'womens': True, 'date': 1728691200000, 'partner': {'name': 'Brooke Schmelz', 'key': 'brooke-schmelz'}, 'venue': 'Navy', 'raceID': 'f24/women-atlantic-coast-finals/12A', 'type': 'fleet', 'scoring': '2 Divisions'}, {'score': 13, 'pos': 'Crew', 'predicted': 12, 'ratio': 0.2941176471, 'change': 1.0507911476, 'regAvg': 1443.3924891955, 'cross': 1, 'outLinks': 9, 'skipperRating': 1000.0000000024, 'crewRating': 1752.8014740084, 'womenSkipperRating': 1000.0000000024, 'womenCrewRating': 1753.0791480881, 'tsr': 1000.0000000024, 'tcr': 973.5247270621, 'wtsr': 1000.0000000024, 'wtcr': 1334.9699737052, 'womens': True, 'date': 1728691200000, 'partner': {'name': 'Brooke Schmelz', 'key': 'brooke-schmelz'}, 'venue': 'Navy', 'raceID': 'f24/women-atlantic-coast-finals/13A', 'type': 'fleet', 'scoring': '2 Divisions'}, {'score': 12, 'pos': 'Crew', 'predicted': 12, 'ratio': 0.3529411765, 'change': 3.9947057608, 'regAvg': 1443.3924891955, 'cross': 1, 'outLinks': 9, 'skipperRating': 1000.0000000024, 'crewRating': 1752.8014740084, 'womenSkipperRating': 1000.0000000024, 'womenCrewRating': 1757.0738538489, 'tsr': 1000.0000000024, 'tcr': 973.5247270621, 'wtsr': 1000.0000000024, 'wtcr': 1334.9699737052, 'womens': True, 'date': 1728691200000, 'partner': {'name': 'Brooke Schmelz', 'key': 'brooke-schmelz'}, 'venue': 'Navy', 'raceID': 'f24/women-atlantic-coast-finals/14A', 'type': 'fleet', 'scoring': '2 Divisions'}, {'score': 17, 'pos': 'Crew', 'predicted': 11, 'ratio': 0.058823529400000005, 'change': -23.6377673827, 'regAvg': 1443.3924891955, 'cross': 1, 'outLinks': 9, 'skipperRating': 1000.0000000024, 'crewRating': 1752.8014740084, 'womenSkipperRating': 1000.0000000024, 'womenCrewRating': 1733.4360864662, 'tsr': 1000.0000000024, 'tcr': 973.5247270621, 'wtsr': 1000.0000000024, 'wtcr': 1334.9699737052, 'womens': True, 'date': 1728691200000, 'partner': {'name': 'Brooke Schmelz', 'key': 'brooke-schmelz'}, 'venue': 'Navy', 'raceID': 'f24/women-atlantic-coast-finals/15A', 'type': 'fleet', 'scoring': '2 Divisions'}, {'score': 3, 'pos': 'Crew', 'predicted': 11, 'ratio': 0.8823529412000001, 'change': 10.6576249187, 'regAvg': 1443.3924891955, 'cross': 1, 'outLinks': 9, 'skipperRating': 1000.0000000024, 'crewRating': 1752.8014740084, 'womenSkipperRating': 1000.0000000024, 'womenCrewRating': 1744.093711385, 'tsr': 1000.0000000024, 'tcr': 973.5247270621, 'wtsr': 1000.0000000024, 'wtcr': 1334.9699737052, 'womens': True, 'date': 1728691200000, 'partner': {'name': 'Brooke Schmelz', 'key': 'brooke-schmelz'}, 'venue': 'Navy', 'raceID': 'f24/women-atlantic-coast-finals/16A', 'type': 'fleet', 'scoring': '2 Divisions'}, {'score': 2, 'pos': 'Crew', 'predicted': 6, 'ratio': 0.9375, 'change': 11.4768490861, 'regAvg': 1264.3905263598, 'cross': 0, 'outLinks': 0, 'skipperRating': 1000.0000000024, 'crewRating': 1752.8014740084, 'womenSkipperRating': 1000.0000000024, 'womenCrewRating': 1755.5705604711, 'tsr': 1000.0000000024, 'tcr': 973.5247270621, 'wtsr': 1000.0000000024, 'wtcr': 1334.9699737052, 'womens': True, 'date': 1729900800000, 'partner': {'name': 'Brooke Schmelz', 'key': 'brooke-schmelz'}, 'venue': 'Brown', 'raceID': 'f24/women-urn/1A', 'type': 'fleet', 'scoring': '2 Divisions'}, {'score': 7, 'pos': 'Crew', 'predicted': 6, 'ratio': 0.625, 'change': 3.7465695901, 'regAvg': 1264.3905263598, 'cross': 0, 'outLinks': 0, 'skipperRating': 1000.0000000024, 'crewRating': 1752.8014740084, 'womenSkipperRating': 1000.0000000024, 'womenCrewRating': 1759.3171300612, 'tsr': 1000.0000000024, 'tcr': 973.5247270621, 'wtsr': 1000.0000000024, 'wtcr': 1334.9699737052, 'womens': True, 'date': 1729900800000, 'partner': {'name': 'Brooke Schmelz', 'key': 'brooke-schmelz'}, 'venue': 'Brown', 'raceID': 'f24/women-urn/2A', 'type': 'fleet', 'scoring': '2 Divisions'}, {'score': 7, 'pos': 'Crew', 'predicted': 5, 'ratio': 0.625, 'change': 3.2743711247, 'regAvg': 1264.3905263598, 'cross': 0, 'outLinks': 0, 'skipperRating': 1000.0000000024, 'crewRating': 1752.8014740084, 'womenSkipperRating': 1000.0000000024, 'womenCrewRating': 1762.5915011859, 'tsr': 1000.0000000024, 'tcr': 973.5247270621, 'wtsr': 1000.0000000024, 'wtcr': 1334.9699737052, 'womens': True, 'date': 1729900800000, 'partner': {'name': 'Brooke Schmelz', 'key': 'brooke-schmelz'}, 'venue': 'Brown', 'raceID': 'f24/women-urn/7A', 'type': 'fleet', 'scoring': '2 Divisions'}, {'score': 13, 'pos': 'Crew', 'predicted': 6, 'ratio': 0.25, 'change': -18.7683770877, 'regAvg': 1264.3905263598, 'cross': 0, 'outLinks': 0, 'skipperRating': 1000.0000000024, 'crewRating': 1752.8014740084, 'womenSkipperRating': 1000.0000000024, 'womenCrewRating': 1743.8231240982, 'tsr': 1000.0000000024, 'tcr': 973.5247270621, 'wtsr': 1000.0000000024, 'wtcr': 1334.9699737052, 'womens': True, 'date': 1729900800000, 'partner': {'name': 'Brooke Schmelz', 'key': 'brooke-schmelz'}, 'venue': 'Brown', 'raceID': 'f24/women-urn/8A', 'type': 'fleet', 'scoring': '2 Divisions'}, {'score': 4, 'pos': 'Crew', 'predicted': 6, 'ratio': 0.8125, 'change': 10.0213053922, 'regAvg': 1264.3905263598, 'cross': 0, 'outLinks': 0, 'skipperRating': 1000.0000000024, 'crewRating': 1752.8014740084, 'womenSkipperRating': 1000.0000000024, 'womenCrewRating': 1753.8444294904, 'tsr': 1000.0000000024, 'tcr': 973.5247270621, 'wtsr': 1000.0000000024, 'wtcr': 1334.9699737052, 'womens': True, 'date': 1729900800000, 'partner': {'name': 'Brooke Schmelz', 'key': 'brooke-schmelz'}, 'venue': 'Brown', 'raceID': 'f24/women-urn/9A', 'type': 'fleet', 'scoring': '2 Divisions'}, {'score': 3, 'pos': 'Crew', 'predicted': 6, 'ratio': 0.875, 'change': 11.168781001, 'regAvg': 1264.3905263598, 'cross': 0, 'outLinks': 0, 'skipperRating': 1000.0000000024, 'crewRating': 1752.8014740084, 'womenSkipperRating': 1000.0000000024, 'womenCrewRating': 1765.0132104914, 'tsr': 1000.0000000024, 'tcr': 973.5247270621, 'wtsr': 1000.0000000024, 'wtcr': 1334.9699737052, 'womens': True, 'date': 1729900800000, 'partner': {'name': 'Brooke Schmelz', 'key': 'brooke-schmelz'}, 'venue': 'Brown', 'raceID': 'f24/women-urn/10A', 'type': 'fleet', 'scoring': '2 Divisions'}, {'score': 12, 'pos': 'Crew', 'predicted': 7, 'ratio': 0.3125, 'change': -15.2727444306, 'regAvg': 1264.3905263598, 'cross': 0, 'outLinks': 0, 'skipperRating': 1000.0000000024, 'crewRating': 1752.8014740084, 'womenSkipperRating': 1000.0000000024, 'womenCrewRating': 1749.7404660607, 'tsr': 1000.0000000024, 'tcr': 973.5247270621, 'wtsr': 1000.0000000024, 'wtcr': 1334.9699737052, 'womens': True, 'date': 1729900800000, 'partner': {'name': 'Brooke Schmelz', 'key': 'brooke-schmelz'}, 'venue': 'Brown', 'raceID': 'f24/women-urn/11A', 'type': 'fleet', 'scoring': '2 Divisions'}, {'score': 12, 'pos': 'Crew', 'predicted': 7, 'ratio': 0.3125, 'change': -18.0608736431, 'regAvg': 1264.3905263598, 'cross': 0, 'outLinks': 0, 'skipperRating': 1000.0000000024, 'crewRating': 1752.8014740084, 'womenSkipperRating': 1000.0000000024, 'womenCrewRating': 1731.6795924177, 'tsr': 1000.0000000024, 'tcr': 973.5247270621, 'wtsr': 1000.0000000024, 'wtcr': 1334.9699737052, 'womens': True, 'date': 1729900800000, 'partner': {'name': 'Brooke Schmelz', 'key': 'brooke-schmelz'}, 'venue': 'Brown', 'raceID': 'f24/women-urn/12A', 'type': 'fleet', 'scoring': '2 Divisions'}, {'score': 3, 'pos': 'Crew', 'predicted': 7, 'ratio': 0.875, 'change': 10.1733914724, 'regAvg': 1264.3905263598, 'cross': 0, 'outLinks': 0, 'skipperRating': 1000.0000000024, 'crewRating': 1752.8014740084, 'womenSkipperRating': 1000.0000000024, 'womenCrewRating': 1741.8529838901, 'tsr': 1000.0000000024, 'tcr': 973.5247270621, 'wtsr': 1000.0000000024, 'wtcr': 1334.9699737052, 'womens': True, 'date': 1729900800000, 'partner': {'name': 'Brooke Schmelz', 'key': 'brooke-schmelz'}, 'venue': 'Brown', 'raceID': 'f24/women-urn/13A', 'type': 'fleet', 'scoring': '2 Divisions'}, {'score': 4, 'pos': 'Crew', 'predicted': 7, 'ratio': 0.8125, 'change': 9.066832639, 'regAvg': 1264.3905263598, 'cross': 0, 'outLinks': 0, 'skipperRating': 1000.0000000024, 'crewRating': 1752.8014740084, 'womenSkipperRating': 1000.0000000024, 'womenCrewRating': 1750.9198165291, 'tsr': 1000.0000000024, 'tcr': 973.5247270621, 'wtsr': 1000.0000000024, 'wtcr': 1334.9699737052, 'womens': True, 'date': 1729900800000, 'partner': {'name': 'Brooke Schmelz', 'key': 'brooke-schmelz'}, 'venue': 'Brown', 'raceID': 'f24/women-urn/14A', 'type': 'fleet', 'scoring': '2 Divisions'}, {'raceID': 's25/usf-women-team-race/1', 'raceNum': 1, 'round': 'Round 1', 'pos': 'Crew', 'date': 1740182400000, 'womens': True, 'partner': {'key': 'brooke-schmelz', 'name': 'Brooke Schmelz'}, 'opponentTeam': 'Jacksonville', 'opponentNick': 'Fins', 'score': '1-2-6', 'outcome': 'win', 'predicted': 'win', 'skipperRating': 1000.0000000024, 'crewRating': 1752.8014740084, 'womenSkipperRating': 1000.0000000024, 'womenCrewRating': 1750.9198165291, 'tsr': 1000.0000000024, 'tcr': 973.5247270621, 'wtsr': 1000.0000000024, 'wtcr': 1337.7239113728, 'regAvg': 1089.2594584451, 'change': 2.7539376676, 'venue': 'South Florida', 'type': 'team'}, {'raceID': 's25/usf-women-team-race/5', 'raceNum': 5, 'round': 'Round 1', 'pos': 'Crew', 'date': 1740182400000, 'womens': True, 'partner': {'key': 'brooke-schmelz', 'name': 'Brooke Schmelz'}, 'opponentTeam': 'Florida State', 'opponentNick': 'Seminoles', 'score': '1-2-3', 'outcome': 'win', 'predicted': 'win', 'skipperRating': 1000.0000000024, 'crewRating': 1752.8014740084, 'womenSkipperRating': 1000.0000000024, 'womenCrewRating': 1750.9198165291, 'tsr': 1000.0000000024, 'tcr': 973.5247270621, 'wtsr': 1000.0000000024, 'wtcr': 1338.1451327509, 'regAvg': 1089.2594584451, 'change': 0.4212213781, 'venue': 'South Florida', 'type': 'team'}, {'raceID': 's25/usf-women-team-race/9', 'raceNum': 9, 'round': 'Round 1', 'pos': 'Crew', 'date': 1740182400000, 'womens': True, 'partner': {'key': 'brooke-schmelz', 'name': 'Brooke Schmelz'}, 'opponentTeam': 'Charleston', 'opponentNick': 'Cougars', 'score': '3-4-5', 'outcome': 'lose', 'predicted': 'lose', 'skipperRating': 1000.0000000024, 'crewRating': 1752.8014740084, 'womenSkipperRating': 1000.0000000024, 'womenCrewRating': 1750.9198165291, 'tsr': 1000.0000000024, 'tcr': 973.5247270621, 'wtsr': 1000.0000000024, 'wtcr': 1329.4898368004, 'regAvg': 1089.2594584451, 'change': -8.6552959504, 'venue': 'South Florida', 'type': 'team'}, {'raceID': 's25/usf-women-team-race/13', 'raceNum': 13, 'round': 'Round 1', 'pos': 'Crew', 'date': 1740182400000, 'womens': True, 'partner': {'key': 'brooke-schmelz', 'name': 'Brooke Schmelz'}, 'opponentTeam': 'Hawaii', 'opponentNick': 'Rainbows', 'score': '1-2-5', 'outcome': 'win', 'predicted': 'win', 'skipperRating': 1000.0000000024, 'crewRating': 1752.8014740084, 'womenSkipperRating': 1000.0000000024, 'womenCrewRating': 1750.9198165291, 'tsr': 1000.0000000024, 'tcr': 973.5247270621, 'wtsr': 1000.0000000024, 'wtcr': 1334.5060006497, 'regAvg': 1089.2594584451, 'change': 5.0161638493, 'venue': 'South Florida', 'type': 'team'}, {'raceID': 's25/usf-women-team-race/17', 'raceNum': 17, 'round': 'Round 1', 'pos': 'Crew', 'date': 1740182400000, 'womens': True, 'partner': {'key': 'brooke-schmelz', 'name': 'Brooke Schmelz'}, 'opponentTeam': 'Rollins', 'opponentNick': 'Tars', 'score': '1-3-5', 'outcome': 'win', 'predicted': 'win', 'skipperRating': 1000.0000000024, 'crewRating': 1752.8014740084, 'womenSkipperRating': 1000.0000000024, 'womenCrewRating': 1750.9198165291, 'tsr': 1000.0000000024, 'tcr': 973.5247270621, 'wtsr': 1000.0000000024, 'wtcr': 1334.8689694915, 'regAvg': 1089.2594584451, 'change': 0.3629688418, 'venue': 'South Florida', 'type': 'team'}, {'raceID': 's25/usf-women-team-race/21', 'raceNum': 21, 'round': 'Round 1', 'pos': 'Crew', 'date': 1740182400000, 'womens': True, 'partner': {'key': 'brooke-schmelz', 'name': 'Brooke Schmelz'}, 'opponentTeam': 'South Florida', 'opponentNick': 'Bulls', 'score': '1-2-5', 'outcome': 'win', 'predicted': 'win', 'skipperRating': 1000.0000000024, 'crewRating': 1752.8014740084, 'womenSkipperRating': 1000.0000000024, 'womenCrewRating': 1750.9198165291, 'tsr': 1000.0000000024, 'tcr': 973.5247270621, 'wtsr': 1000.0000000024, 'wtcr': 1339.4839651064, 'regAvg': 1089.2594584451, 'change': 4.6149956149, 'venue': 'South Florida', 'type': 'team'}, {'raceID': 's25/usf-women-team-race/23', 'raceNum': 23, 'round': 'Round 2', 'pos': 'Crew', 'date': 1740182400000, 'womens': True, 'partner': {'key': 'brooke-schmelz', 'name': 'Brooke Schmelz'}, 'opponentTeam': 'Florida State', 'opponentNick': 'Seminoles', 'score': '1-2-4', 'outcome': 'win', 'predicted': 'win', 'skipperRating': 1000.0000000024, 'crewRating': 1752.8014740084, 'womenSkipperRating': 1000.0000000024, 'womenCrewRating': 1750.9198165291, 'tsr': 1000.0000000024, 'tcr': 973.5247270621, 'wtsr': 1000.0000000024, 'wtcr': 1339.7282442288, 'regAvg': 1089.2594584451, 'change': 0.24427912240000002, 'venue': 'South Florida', 'type': 'team'}, {'raceID': 's25/usf-women-team-race/27', 'raceNum': 27, 'round': 'Round 2', 'pos': 'Crew', 'date': 1740182400000, 'womens': True, 'partner': {'key': 'brooke-schmelz', 'name': 'Brooke Schmelz'}, 'opponentTeam': 'Charleston', 'opponentNick': 'Cougars', 'score': '3-4-5', 'outcome': 'lose', 'predicted': 'lose', 'skipperRating': 1000.0000000024, 'crewRating': 1752.8014740084, 'womenSkipperRating': 1000.0000000024, 'womenCrewRating': 1750.9198165291, 'tsr': 1000.0000000024, 'tcr': 973.5247270621, 'wtsr': 1000.0000000024, 'wtcr': 1333.3583270958, 'regAvg': 1089.2594584451, 'change': -6.369917133, 'venue': 'South Florida', 'type': 'team'}, {'raceID': 's25/women-team-race/1', 'raceNum': 1, 'round': 'Round 1', 'pos': 'Crew', 'date': 1740787200000, 'womens': True, 'partner': {'key': 'emma-wang', 'name': 'Emma Wang'}, 'opponentTeam': 'Harvard', 'opponentNick': 'Crimson', 'score': '3-4-6', 'outcome': 'lose', 'predicted': 'win', 'skipperRating': 1000.0000000024, 'crewRating': 1752.8014740084, 'womenSkipperRating': 1000.0000000024, 'womenCrewRating': 1750.9198165291, 'tsr': 1000.0000000024, 'tcr': 973.5247270621, 'wtsr': 1000.0000000024, 'wtcr': 1325.2015837459, 'regAvg': 1262.302502837, 'change': -8.1567433499, 'venue': 'Harvard', 'type': 'team'}, {'raceID': 's25/women-team-race/4', 'raceNum': 4, 'round': 'Round 1', 'pos': 'Crew', 'date': 1740787200000, 'womens': True, 'partner': {'key': 'emma-wang', 'name': 'Emma Wang'}, 'opponentTeam': 'Brown', 'opponentNick': 'Bears', 'score': '4-5-6', 'outcome': 'lose', 'predicted': 'lose', 'skipperRating': 1000.0000000024, 'crewRating': 1752.8014740084, 'womenSkipperRating': 1000.0000000024, 'womenCrewRating': 1750.9198165291, 'tsr': 1000.0000000024, 'tcr': 973.5247270621, 'wtsr': 1000.0000000024, 'wtcr': 1323.7492381935, 'regAvg': 1262.302502837, 'change': -1.4523455524, 'venue': 'Harvard', 'type': 'team'}, {'raceID': 's25/women-team-race/7', 'raceNum': 7, 'round': 'Round 1', 'pos': 'Crew', 'date': 1740787200000, 'womens': True, 'partner': {'key': 'emma-wang', 'name': 'Emma Wang'}, 'opponentTeam': 'Yale', 'opponentNick': 'Bulldogs', 'score': '4-5-6', 'outcome': 'lose', 'predicted': 'lose', 'skipperRating': 1000.0000000024, 'crewRating': 1752.8014740084, 'womenSkipperRating': 1000.0000000024, 'womenCrewRating': 1750.9198165291, 'tsr': 1000.0000000024, 'tcr': 973.5247270621, 'wtsr': 1000.0000000024, 'wtcr': 1323.1566173749, 'regAvg': 1262.302502837, 'change': -0.5926208186, 'venue': 'Harvard', 'type': 'team'}, {'raceID': 's25/women-team-race/12', 'raceNum': 12, 'round': 'Round 1', 'pos': 'Crew', 'date': 1740787200000, 'womens': True, 'partner': {'key': 'emma-wang', 'name': 'Emma Wang'}, 'opponentTeam': 'Roger Williams', 'opponentNick': 'Hawks', 'score': '1-2-5', 'outcome': 'win', 'predicted': 'win', 'skipperRating': 1000.0000000024, 'crewRating': 1752.8014740084, 'womenSkipperRating': 1000.0000000024, 'womenCrewRating': 1750.9198165291, 'tsr': 1000.0000000024, 'tcr': 973.5247270621, 'wtsr': 1000.0000000024, 'wtcr': 1333.3585140381, 'regAvg': 1262.302502837, 'change': 10.2018966632, 'venue': 'Harvard', 'type': 'team'}, {'raceID': 's25/women-team-race/15', 'raceNum': 15, 'round': 'Round 1', 'pos': 'Crew', 'date': 1740787200000, 'womens': True, 'partner': {'key': 'emma-wang', 'name': 'Emma Wang'}, 'opponentTeam': 'Tufts', 'opponentNick': 'Jumbos', 'score': '1-2-5', 'outcome': 'win', 'predicted': 'win', 'skipperRating': 1000.0000000024, 'crewRating': 1752.8014740084, 'womenSkipperRating': 1000.0000000024, 'womenCrewRating': 1750.9198165291, 'tsr': 1000.0000000024, 'tcr': 973.5247270621, 'wtsr': 1000.0000000024, 'wtcr': 1339.0258057821, 'regAvg': 1262.302502837, 'change': 5.667291744, 'venue': 'Harvard', 'type': 'team'}, {'raceID': 's25/south-new-england-women-team-race/2', 'raceNum': 2, 'round': 'Round 1', 'pos': 'Crew', 'date': 1741996800000, 'womens': True, 'partner': {'key': 'brooke-schmelz', 'name': 'Brooke Schmelz'}, 'opponentTeam': 'Brown', 'opponentNick': 'Bears', 'score': '1-3-5', 'outcome': 'win', 'predicted': 'lose', 'skipperRating': 1000.0000000024, 'crewRating': 1752.8014740084, 'womenSkipperRating': 1000.0000000024, 'womenCrewRating': 1750.9198165291, 'tsr': 1000.0000000024, 'tcr': 973.5247270621, 'wtsr': 1000.0000000024, 'wtcr': 1369.7830754134, 'regAvg': 1231.484354828, 'change': 30.7572696314, 'venue': 'Connecticut College', 'type': 'team'}, {'raceID': 's25/south-new-england-women-team-race/8', 'raceNum': 8, 'round': 'Round 1', 'pos': 'Crew', 'date': 1741996800000, 'womens': True, 'partner': {'key': 'lucy-brock', 'name': 'Lucy Brock'}, 'opponentTeam': 'Coast Guard', 'opponentNick': 'Bears', 'score': '1-2-3', 'outcome': 'win', 'predicted': 'win', 'skipperRating': 1000.0000000024, 'crewRating': 1752.8014740084, 'womenSkipperRating': 1000.0000000024, 'womenCrewRating': 1750.9198165291, 'tsr': 1000.0000000024, 'tcr': 973.5247270621, 'wtsr': 1000.0000000024, 'wtcr': 1370.9914238621, 'regAvg': 1231.484354828, 'change': 1.2083484487, 'venue': 'Connecticut College', 'type': 'team'}, {'raceID': 's25/south-new-england-women-team-race/10', 'raceNum': 10, 'round': 'Round 1', 'pos': 'Crew', 'date': 1741996800000, 'womens': True, 'partner': {'key': 'lucy-brock', 'name': 'Lucy Brock'}, 'opponentTeam': 'Tufts', 'opponentNick': 'Jumbos', 'score': '1-2-6', 'outcome': 'win', 'predicted': 'win', 'skipperRating': 1000.0000000024, 'crewRating': 1752.8014740084, 'womenSkipperRating': 1000.0000000024, 'womenCrewRating': 1750.9198165291, 'tsr': 1000.0000000024, 'tcr': 973.5247270621, 'wtsr': 1000.0000000024, 'wtcr': 1373.7036649619, 'regAvg': 1231.484354828, 'change': 2.7122410998, 'venue': 'Connecticut College', 'type': 'team'}, {'raceID': 's25/south-new-england-women-team-race/13', 'raceNum': 13, 'round': 'Round 1', 'pos': 'Crew', 'date': 1741996800000, 'womens': True, 'partner': {'key': 'brooke-schmelz', 'name': 'Brooke Schmelz'}, 'opponentTeam': 'Harvard', 'opponentNick': 'Crimson', 'score': '2-4-6', 'outcome': 'lose', 'predicted': 'win', 'skipperRating': 1000.0000000024, 'crewRating': 1752.8014740084, 'womenSkipperRating': 1000.0000000024, 'womenCrewRating': 1750.9198165291, 'tsr': 1000.0000000024, 'tcr': 973.5247270621, 'wtsr': 1000.0000000024, 'wtcr': 1361.1549619532, 'regAvg': 1231.484354828, 'change': -12.5487030087, 'venue': 'Connecticut College', 'type': 'team'}, {'raceID': 's25/south-new-england-women-team-race/17', 'raceNum': 17, 'round': 'Round 2', 'pos': 'Crew', 'date': 1741996800000, 'womens': True, 'partner': {'key': 'brooke-schmelz', 'name': 'Brooke Schmelz'}, 'opponentTeam': 'Brown', 'opponentNick': 'Bears', 'score': '4-5-6', 'outcome': 'lose', 'predicted': 'lose', 'skipperRating': 1000.0000000024, 'crewRating': 1752.8014740084, 'womenSkipperRating': 1000.0000000024, 'womenCrewRating': 1750.9198165291, 'tsr': 1000.0000000024, 'tcr': 973.5247270621, 'wtsr': 1000.0000000024, 'wtcr': 1358.2266991974, 'regAvg': 1231.484354828, 'change': -2.9282627558, 'venue': 'Connecticut College', 'type': 'team'}, {'raceID': 's25/south-new-england-women-team-race/23', 'raceNum': 23, 'round': 'Round 2', 'pos': 'Crew', 'date': 1741996800000, 'womens': True, 'partner': {'key': 'lucy-brock', 'name': 'Lucy Brock'}, 'opponentTeam': 'Coast Guard', 'opponentNick': 'Bears', 'score': '1-2-4', 'outcome': 'win', 'predicted': 'win', 'skipperRating': 1000.0000000024, 'crewRating': 1752.8014740084, 'womenSkipperRating': 1000.0000000024, 'womenCrewRating': 1750.9198165291, 'tsr': 1000.0000000024, 'tcr': 973.5247270621, 'wtsr': 1000.0000000024, 'wtcr': 1359.0066995624, 'regAvg': 1231.484354828, 'change': 0.780000365, 'venue': 'Connecticut College', 'type': 'team'}, {'raceID': 's25/south-new-england-women-team-race/25', 'raceNum': 25, 'round': 'Round 2', 'pos': 'Crew', 'date': 1741996800000, 'womens': True, 'partner': {'key': 'lucy-brock', 'name': 'Lucy Brock'}, 'opponentTeam': 'Tufts', 'opponentNick': 'Jumbos', 'score': '1-2-4', 'outcome': 'win', 'predicted': 'win', 'skipperRating': 1000.0000000024, 'crewRating': 1752.8014740084, 'womenSkipperRating': 1000.0000000024, 'womenCrewRating': 1750.9198165291, 'tsr': 1000.0000000024, 'tcr': 973.5247270621, 'wtsr': 1000.0000000024, 'wtcr': 1360.5062236358, 'regAvg': 1231.484354828, 'change': 1.4995240734, 'venue': 'Connecticut College', 'type': 'team'}, {'raceID': 's25/south-new-england-women-team-race/28', 'raceNum': 28, 'round': 'Round 2', 'pos': 'Crew', 'date': 1741996800000, 'womens': True, 'partner': {'key': 'brooke-schmelz', 'name': 'Brooke Schmelz'}, 'opponentTeam': 'Harvard', 'opponentNick': 'Crimson', 'score': '3-4-6', 'outcome': 'lose', 'predicted': 'lose', 'skipperRating': 1000.0000000024, 'crewRating': 1752.8014740084, 'womenSkipperRating': 1000.0000000024, 'womenCrewRating': 1750.9198165291, 'tsr': 1000.0000000024, 'tcr': 973.5247270621, 'wtsr': 1000.0000000024, 'wtcr': 1352.1541626649, 'regAvg': 1231.484354828, 'change': -8.3520609709, 'venue': 'Connecticut College', 'type': 'team'}, {'raceID': 's25/south-new-england-women-team-race/32', 'raceNum': 32, 'round': 'Round 3', 'pos': 'Crew', 'date': 1741996800000, 'womens': True, 'partner': {'key': 'brooke-schmelz', 'name': 'Brooke Schmelz'}, 'opponentTeam': 'Brown', 'opponentNick': 'Bears', 'score': '4-5-6', 'outcome': 'lose', 'predicted': 'lose', 'skipperRating': 1000.0000000024, 'crewRating': 1752.8014740084, 'womenSkipperRating': 1000.0000000024, 'womenCrewRating': 1750.9198165291, 'tsr': 1000.0000000024, 'tcr': 973.5247270621, 'wtsr': 1000.0000000024, 'wtcr': 1351.2878869615, 'regAvg': 1231.484354828, 'change': -0.8662757035, 'venue': 'Connecticut College', 'type': 'team'}, {'raceID': 's25/south-new-england-women-team-race/40', 'raceNum': 40, 'round': 'Round 3', 'pos': 'Crew', 'date': 1741996800000, 'womens': True, 'partner': {'key': 'brooke-schmelz', 'name': 'Brooke Schmelz'}, 'opponentTeam': 'Tufts', 'opponentNick': 'Jumbos', 'score': '2-3-5', 'outcome': 'win', 'predicted': 'win', 'skipperRating': 1000.0000000024, 'crewRating': 1752.8014740084, 'womenSkipperRating': 1000.0000000024, 'womenCrewRating': 1750.9198165291, 'tsr': 1000.0000000024, 'tcr': 973.5247270621, 'wtsr': 1000.0000000024, 'wtcr': 1356.1485545243, 'regAvg': 1231.484354828, 'change': 4.8606675628, 'venue': 'Connecticut College', 'type': 'team'}, {'raceID': 's25/south-new-england-women-team-race/43', 'raceNum': 43, 'round': 'Round 3', 'pos': 'Crew', 'date': 1741996800000, 'womens': True, 'partner': {'key': 'brooke-schmelz', 'name': 'Brooke Schmelz'}, 'opponentTeam': 'Harvard', 'opponentNick': 'Crimson', 'score': '2-3-4', 'outcome': 'win', 'predicted': 'lose', 'skipperRating': 1000.0000000024, 'crewRating': 1752.8014740084, 'womenSkipperRating': 1000.0000000024, 'womenCrewRating': 1750.9198165291, 'tsr': 1000.0000000024, 'tcr': 973.5247270621, 'wtsr': 1000.0000000024, 'wtcr': 1364.7658584094, 'regAvg': 1231.484354828, 'change': 8.6173038851, 'venue': 'Connecticut College', 'type': 'team'}, {'raceID': 's25/duplin/1', 'raceNum': 1, 'round': 'Round 1', 'pos': 'Crew', 'date': 1742601600000, 'womens': True, 'partner': {'key': 'brooke-schmelz', 'name': 'Brooke Schmelz'}, 'opponentTeam': 'Harvard', 'opponentNick': 'Crimson', 'score': '3-4-6', 'outcome': 'lose', 'predicted': 'lose', 'skipperRating': 1000.0000000024, 'crewRating': 1752.8014740084, 'womenSkipperRating': 1000.0000000024, 'womenCrewRating': 1750.9198165291, 'tsr': 1000.0000000024, 'tcr': 973.5247270621, 'wtsr': 1000.0000000024, 'wtcr': 1359.3306874517, 'regAvg': 1206.3233814976, 'change': -5.4351709578, 'venue': 'Harvard', 'type': 'team'}, {'raceID': 's25/duplin/5', 'raceNum': 5, 'round': 'Round 1', 'pos': 'Crew', 'date': 1742601600000, 'womens': True, 'partner': {'key': 'brooke-schmelz', 'name': 'Brooke Schmelz'}, 'opponentTeam': 'Bowdoin', 'opponentNick': 'Polar Bears', 'score': '1-5-6', 'outcome': 'lose', 'predicted': 'win', 'skipperRating': 1000.0000000024, 'crewRating': 1752.8014740084, 'womenSkipperRating': 1000.0000000024, 'womenCrewRating': 1750.9198165291, 'tsr': 1000.0000000024, 'tcr': 973.5247270621, 'wtsr': 1000.0000000024, 'wtcr': 1339.8253611064, 'regAvg': 1206.3233814976, 'change': -19.5053263453, 'venue': 'Harvard', 'type': 'team'}, {'raceID': 's25/duplin/10', 'raceNum': 10, 'round': 'Round 1', 'pos': 'Crew', 'date': 1742601600000, 'womens': True, 'partner': {'key': 'brooke-schmelz', 'name': 'Brooke Schmelz'}, 'opponentTeam': 'Roger Williams', 'opponentNick': 'Hawks', 'score': '2-4-5', 'outcome': 'lose', 'predicted': 'win', 'skipperRating': 1000.0000000024, 'crewRating': 1752.8014740084, 'womenSkipperRating': 1000.0000000024, 'womenCrewRating': 1750.9198165291, 'tsr': 1000.0000000024, 'tcr': 973.5247270621, 'wtsr': 1000.0000000024, 'wtcr': 1326.0893545866, 'regAvg': 1206.3233814976, 'change': -13.7360065197, 'venue': 'Harvard', 'type': 'team'}, {'raceID': 's25/duplin/13', 'raceNum': 13, 'round': 'Round 1', 'pos': 'Crew', 'date': 1742601600000, 'womens': True, 'partner': {'key': 'brooke-schmelz', 'name': 'Brooke Schmelz'}, 'opponentTeam': 'Boston College', 'opponentNick': 'Eagles', 'score': '1-2-6', 'outcome': 'win', 'predicted': 'win', 'skipperRating': 1000.0000000024, 'crewRating': 1752.8014740084, 'womenSkipperRating': 1000.0000000024, 'womenCrewRating': 1750.9198165291, 'tsr': 1000.0000000024, 'tcr': 973.5247270621, 'wtsr': 1000.0000000024, 'wtcr': 1328.802928175, 'regAvg': 1206.3233814976, 'change': 2.7135735883, 'venue': 'Harvard', 'type': 'team'}, {'raceID': 's25/duplin/19', 'raceNum': 19, 'round': 'Round 1', 'pos': 'Crew', 'date': 1742601600000, 'womens': True, 'partner': {'key': 'brooke-schmelz', 'name': 'Brooke Schmelz'}, 'opponentTeam': 'Yale', 'opponentNick': 'Bulldogs', 'score': '3-4-6', 'outcome': 'lose', 'predicted': 'lose', 'skipperRating': 1000.0000000024, 'crewRating': 1752.8014740084, 'womenSkipperRating': 1000.0000000024, 'womenCrewRating': 1750.9198165291, 'tsr': 1000.0000000024, 'tcr': 973.5247270621, 'wtsr': 1000.0000000024, 'wtcr': 1328.1125076115, 'regAvg': 1206.3233814976, 'change': -0.6904205635, 'venue': 'Harvard', 'type': 'team'}, {'raceID': 's25/duplin/24', 'raceNum': 24, 'round': 'Round 1', 'pos': 'Crew', 'date': 1742601600000, 'womens': True, 'partner': {'key': 'brooke-schmelz', 'name': 'Brooke Schmelz'}, 'opponentTeam': 'Tulane', 'opponentNick': 'Green Wave', 'score': '2-3-4', 'outcome': 'win', 'predicted': 'win', 'skipperRating': 1000.0000000024, 'crewRating': 1752.8014740084, 'womenSkipperRating': 1000.0000000024, 'womenCrewRating': 1750.9198165291, 'tsr': 1000.0000000024, 'tcr': 973.5247270621, 'wtsr': 1000.0000000024, 'wtcr': 1333.1148804759, 'regAvg': 1206.3233814976, 'change': 5.0023728644, 'venue': 'Harvard', 'type': 'team'}, {'raceID': 's25/duplin/29', 'raceNum': 29, 'round': 'Round 1', 'pos': 'Crew', 'date': 1742601600000, 'womens': True, 'partner': {'key': 'brooke-schmelz', 'name': 'Brooke Schmelz'}, 'opponentTeam': 'Brown', 'opponentNick': 'Bears', 'score': '3-4-6', 'outcome': 'lose', 'predicted': 'lose', 'skipperRating': 1000.0000000024, 'crewRating': 1752.8014740084, 'womenSkipperRating': 1000.0000000024, 'womenCrewRating': 1750.9198165291, 'tsr': 1000.0000000024, 'tcr': 973.5247270621, 'wtsr': 1000.0000000024, 'wtcr': 1332.6784435677, 'regAvg': 1206.3233814976, 'change': -0.43643690820000003, 'venue': 'Harvard', 'type': 'team'}, {'raceID': 's25/duplin/32', 'raceNum': 32, 'round': 'Round 1', 'pos': 'Crew', 'date': 1742601600000, 'womens': True, 'partner': {'key': 'brooke-schmelz', 'name': 'Brooke Schmelz'}, 'opponentTeam': 'Charleston', 'opponentNick': 'Cougars', 'score': '1-4-5', 'outcome': 'win', 'predicted': 'lose', 'skipperRating': 1000.0000000024, 'crewRating': 1752.8014740084, 'womenSkipperRating': 1000.0000000024, 'womenCrewRating': 1750.9198165291, 'tsr': 1000.0000000024, 'tcr': 973.5247270621, 'wtsr': 1000.0000000024, 'wtcr': 1351.1133469422, 'regAvg': 1206.3233814976, 'change': 18.4349033745, 'venue': 'Harvard', 'type': 'team'}, {'raceID': 's25/duplin/41', 'raceNum': 41, 'round': 'Round 2', 'pos': 'Crew', 'date': 1742601600000, 'womens': True, 'partner': {'key': 'brooke-schmelz', 'name': 'Brooke Schmelz'}, 'opponentTeam': 'Bowdoin', 'opponentNick': 'Polar Bears', 'score': '2-3-4', 'outcome': 'win', 'predicted': 'win', 'skipperRating': 1000.0000000024, 'crewRating': 1752.8014740084, 'womenSkipperRating': 1000.0000000024, 'womenCrewRating': 1750.9198165291, 'tsr': 1000.0000000024, 'tcr': 973.5247270621, 'wtsr': 1000.0000000024, 'wtcr': 1352.6010968611, 'regAvg': 1206.3233814976, 'change': 1.487749919, 'venue': 'Harvard', 'type': 'team'}, {'raceID': 's25/duplin/46', 'raceNum': 46, 'round': 'Round 2', 'pos': 'Crew', 'date': 1742601600000, 'womens': True, 'partner': {'key': 'brooke-schmelz', 'name': 'Brooke Schmelz'}, 'opponentTeam': 'Roger Williams', 'opponentNick': 'Hawks', 'score': '2-3-4', 'outcome': 'win', 'predicted': 'lose', 'skipperRating': 1000.0000000024, 'crewRating': 1752.8014740084, 'womenSkipperRating': 1000.0000000024, 'womenCrewRating': 1750.9198165291, 'tsr': 1000.0000000024, 'tcr': 973.5247270621, 'wtsr': 1000.0000000024, 'wtcr': 1367.3320991337, 'regAvg': 1206.3233814976, 'change': 14.7310022725, 'venue': 'Harvard', 'type': 'team'}, {'raceID': 's25/duplin/49', 'raceNum': 49, 'round': 'Round 2', 'pos': 'Crew', 'date': 1742601600000, 'womens': True, 'partner': {'key': 'brooke-schmelz', 'name': 'Brooke Schmelz'}, 'opponentTeam': 'Boston College', 'opponentNick': 'Eagles', 'score': '1-5-6', 'outcome': 'lose', 'predicted': 'win', 'skipperRating': 1000.0000000024, 'crewRating': 1752.8014740084, 'womenSkipperRating': 1000.0000000024, 'womenCrewRating': 1750.9198165291, 'tsr': 1000.0000000024, 'tcr': 973.5247270621, 'wtsr': 1000.0000000024, 'wtcr': 1354.6723040868, 'regAvg': 1206.3233814976, 'change': -12.6597950469, 'venue': 'Harvard', 'type': 'team'}, {'raceID': 's25/duplin/60', 'raceNum': 60, 'round': 'Round 2', 'pos': 'Crew', 'date': 1742601600000, 'womens': True, 'partner': {'key': 'brooke-schmelz', 'name': 'Brooke Schmelz'}, 'opponentTeam': 'Tulane', 'opponentNick': 'Green Wave', 'score': '2-3-6', 'outcome': 'lose', 'predicted': 'lose', 'skipperRating': 1000.0000000024, 'crewRating': 1752.8014740084, 'womenSkipperRating': 1000.0000000024, 'womenCrewRating': 1750.9198165291, 'tsr': 1000.0000000024, 'tcr': 973.5247270621, 'wtsr': 1000.0000000024, 'wtcr': 1349.3365149287, 'regAvg': 1206.3233814976, 'change': -5.3357891581, 'venue': 'Harvard', 'type': 'team'}, {'raceID': 's25/duplin/65', 'raceNum': 65, 'round': 'Round 2', 'pos': 'Crew', 'date': 1742601600000, 'womens': True, 'partner': {'key': 'brooke-schmelz', 'name': 'Brooke Schmelz'}, 'opponentTeam': 'Brown', 'opponentNick': 'Bears', 'score': '3-4-6', 'outcome': 'lose', 'predicted': 'lose', 'skipperRating': 1000.0000000024, 'crewRating': 1752.8014740084, 'womenSkipperRating': 1000.0000000024, 'womenCrewRating': 1750.9198165291, 'tsr': 1000.0000000024, 'tcr': 973.5247270621, 'wtsr': 1000.0000000024, 'wtcr': 1348.7439694998, 'regAvg': 1206.3233814976, 'change': -0.5925454289000001, 'venue': 'Harvard', 'type': 'team'}, {'raceID': 's25/dellenbaugh-women-team-race/2', 'raceNum': 2, 'round': 'Round 1', 'pos': 'Crew', 'date': 1743206400000, 'womens': True, 'partner': {'key': 'brooke-schmelz', 'name': 'Brooke Schmelz'}, 'opponentTeam': 'Cornell', 'opponentNick': 'Big Red', 'score': '1-2-3', 'outcome': 'win', 'predicted': 'win', 'skipperRating': 1000.0000000024, 'crewRating': 1752.8014740084, 'womenSkipperRating': 1000.0000000024, 'womenCrewRating': 1750.9198165291, 'tsr': 1000.0000000024, 'tcr': 973.5247270621, 'wtsr': 1000.0000000024, 'wtcr': 1358.368715133, 'regAvg': 1282.055656332, 'change': 9.6247456332, 'venue': 'Brown', 'type': 'team'}, {'raceID': 's25/dellenbaugh-women-team-race/8', 'raceNum': 8, 'round': 'Round 1', 'pos': 'Crew', 'date': 1743206400000, 'womens': True, 'partner': {'key': 'brooke-schmelz', 'name': 'Brooke Schmelz'}, 'opponentTeam': 'Stanford', 'opponentNick': 'Cardinal', 'score': '3-4-6', 'outcome': 'lose', 'predicted': 'lose', 'skipperRating': 1000.0000000024, 'crewRating': 1752.8014740084, 'womenSkipperRating': 1000.0000000024, 'womenCrewRating': 1750.9198165291, 'tsr': 1000.0000000024, 'tcr': 973.5247270621, 'wtsr': 1000.0000000024, 'wtcr': 1357.9467134379, 'regAvg': 1282.055656332, 'change': -0.4220016951, 'venue': 'Brown', 'type': 'team'}, {'raceID': 's25/dellenbaugh-women-team-race/14', 'raceNum': 14, 'round': 'Round 1', 'pos': 'Crew', 'date': 1743206400000, 'womens': True, 'partner': {'key': 'brooke-schmelz', 'name': 'Brooke Schmelz'}, 'opponentTeam': 'Tulane', 'opponentNick': 'Green Wave', 'score': '1-3-5', 'outcome': 'win', 'predicted': 'win', 'skipperRating': 1000.0000000024, 'crewRating': 1752.8014740084, 'womenSkipperRating': 1000.0000000024, 'womenCrewRating': 1750.9198165291, 'tsr': 1000.0000000024, 'tcr': 973.5247270621, 'wtsr': 1000.0000000024, 'wtcr': 1364.4898893493, 'regAvg': 1282.055656332, 'change': 6.5431759114, 'venue': 'Brown', 'type': 'team'}, {'raceID': 's25/dellenbaugh-women-team-race/20', 'raceNum': 20, 'round': 'Round 1', 'pos': 'Crew', 'date': 1743206400000, 'womens': True, 'partner': {'key': 'brooke-schmelz', 'name': 'Brooke Schmelz'}, 'opponentTeam': 'Yale', 'opponentNick': 'Bulldogs', 'score': '3-4-5', 'outcome': 'lose', 'predicted': 'lose', 'skipperRating': 1000.0000000024, 'crewRating': 1752.8014740084, 'womenSkipperRating': 1000.0000000024, 'womenCrewRating': 1750.9198165291, 'tsr': 1000.0000000024, 'tcr': 973.5247270621, 'wtsr': 1000.0000000024, 'wtcr': 1364.1244722111, 'regAvg': 1282.055656332, 'change': -0.3654171382, 'venue': 'Brown', 'type': 'team'}, {'raceID': 's25/dellenbaugh-women-team-race/24', 'raceNum': 24, 'round': 'Round 1', 'pos': 'Crew', 'date': 1743206400000, 'womens': True, 'partner': {'key': 'brooke-schmelz', 'name': 'Brooke Schmelz'}, 'opponentTeam': 'Charleston', 'opponentNick': 'Cougars', 'score': '1-4-5', 'outcome': 'win', 'predicted': 'lose', 'skipperRating': 1000.0000000024, 'crewRating': 1752.8014740084, 'womenSkipperRating': 1000.0000000024, 'womenCrewRating': 1750.9198165291, 'tsr': 1000.0000000024, 'tcr': 973.5247270621, 'wtsr': 1000.0000000024, 'wtcr': 1383.1653127211, 'regAvg': 1282.055656332, 'change': 19.04084051, 'venue': 'Brown', 'type': 'team'}, {'raceID': 's25/dellenbaugh-women-team-race/28', 'raceNum': 28, 'round': 'Round 1', 'pos': 'Crew', 'date': 1743206400000, 'womens': True, 'partner': {'key': 'brooke-schmelz', 'name': 'Brooke Schmelz'}, 'opponentTeam': 'Brown', 'opponentNick': 'Bears', 'score': '4-5-6', 'outcome': 'lose', 'predicted': 'lose', 'skipperRating': 1000.0000000024, 'crewRating': 1752.8014740084, 'womenSkipperRating': 1000.0000000024, 'womenCrewRating': 1750.9198165291, 'tsr': 1000.0000000024, 'tcr': 973.5247270621, 'wtsr': 1000.0000000024, 'wtcr': 1382.747606843, 'regAvg': 1282.055656332, 'change': -0.41770587810000004, 'venue': 'Brown', 'type': 'team'}, {'raceID': 's25/dellenbaugh-women-team-race/32', 'raceNum': 32, 'round': 'Round 1', 'pos': 'Crew', 'date': 1743206400000, 'womens': True, 'partner': {'key': 'brooke-schmelz', 'name': 'Brooke Schmelz'}, 'opponentTeam': 'Tufts', 'opponentNick': 'Jumbos', 'score': '1-2-3', 'outcome': 'win', 'predicted': 'win', 'skipperRating': 1000.0000000024, 'crewRating': 1752.8014740084, 'womenSkipperRating': 1000.0000000024, 'womenCrewRating': 1750.9198165291, 'tsr': 1000.0000000024, 'tcr': 973.5247270621, 'wtsr': 1000.0000000024, 'wtcr': 1384.0480546615, 'regAvg': 1282.055656332, 'change': 1.3004478186, 'venue': 'Brown', 'type': 'team'}, {'raceID': 's25/dellenbaugh-women-team-race/36', 'raceNum': 36, 'round': 'Round 1', 'pos': 'Crew', 'date': 1743206400000, 'womens': True, 'partner': {'key': 'brooke-schmelz', 'name': 'Brooke Schmelz'}, 'opponentTeam': 'Dartmouth', 'opponentNick': 'Big Green', 'score': '2-3-6', 'outcome': 'lose', 'predicted': 'win', 'skipperRating': 1000.0000000024, 'crewRating': 1752.8014740084, 'womenSkipperRating': 1000.0000000024, 'womenCrewRating': 1750.9198165291, 'tsr': 1000.0000000024, 'tcr': 973.5247270621, 'wtsr': 1000.0000000024, 'wtcr': 1370.5420948425, 'regAvg': 1282.055656332, 'change': -13.505959819, 'venue': 'Brown', 'type': 'team'}, {'raceID': 's25/dellenbaugh-women-team-race/41', 'raceNum': 41, 'round': 'Round 1', 'pos': 'Crew', 'date': 1743206400000, 'womens': True, 'partner': {'key': 'brooke-schmelz', 'name': 'Brooke Schmelz'}, 'opponentTeam': 'Harvard', 'opponentNick': 'Crimson', 'score': '1-5-6', 'outcome': 'lose', 'predicted': 'lose', 'skipperRating': 1000.0000000024, 'crewRating': 1752.8014740084, 'womenSkipperRating': 1000.0000000024, 'womenCrewRating': 1750.9198165291, 'tsr': 1000.0000000024, 'tcr': 973.5247270621, 'wtsr': 1000.0000000024, 'wtcr': 1366.5804513532, 'regAvg': 1282.055656332, 'change': -3.9616434894, 'venue': 'Brown', 'type': 'team'}, {'raceID': 's25/dellenbaugh-women-team-race/53', 'raceNum': 53, 'round': 'Silver 6 Round 1', 'pos': 'Crew', 'date': 1743206400000, 'womens': True, 'partner': {'key': 'brooke-schmelz', 'name': 'Brooke Schmelz'}, 'opponentTeam': 'Cornell', 'opponentNick': 'Big Red', 'score': '1-2-5', 'outcome': 'win', 'predicted': 'win', 'skipperRating': 1000.0000000024, 'crewRating': 1752.8014740084, 'womenSkipperRating': 1000.0000000024, 'womenCrewRating': 1750.9198165291, 'tsr': 1000.0000000024, 'tcr': 973.5247270621, 'wtsr': 1000.0000000024, 'wtcr': 1373.7216193591, 'regAvg': 1282.055656332, 'change': 7.141168006, 'venue': 'Brown', 'type': 'team'}, {'raceID': 's25/dellenbaugh-women-team-race/55', 'raceNum': 55, 'round': 'Silver 6 Round 1', 'pos': 'Crew', 'date': 1743206400000, 'womens': True, 'partner': {'key': 'brooke-schmelz', 'name': 'Brooke Schmelz'}, 'opponentTeam': 'Dartmouth', 'opponentNick': 'Big Green', 'score': '1-2-5', 'outcome': 'win', 'predicted': 'lose', 'skipperRating': 1000.0000000024, 'crewRating': 1752.8014740084, 'womenSkipperRating': 1000.0000000024, 'womenCrewRating': 1750.9198165291, 'tsr': 1000.0000000024, 'tcr': 973.5247270621, 'wtsr': 1000.0000000024, 'wtcr': 1388.8522128836, 'regAvg': 1282.055656332, 'change': 15.1305935244, 'venue': 'Brown', 'type': 'team'}, {'raceID': 's25/dellenbaugh-women-team-race/62', 'raceNum': 62, 'round': 'Silver 6 Round 1', 'pos': 'Crew', 'date': 1743206400000, 'womens': True, 'partner': {'key': 'brooke-schmelz', 'name': 'Brooke Schmelz'}, 'opponentTeam': 'Tulane', 'opponentNick': 'Green Wave', 'score': '3-4-6', 'outcome': 'lose', 'predicted': 'win', 'skipperRating': 1000.0000000024, 'crewRating': 1752.8014740084, 'womenSkipperRating': 1000.0000000024, 'womenCrewRating': 1750.9198165291, 'tsr': 1000.0000000024, 'tcr': 973.5247270621, 'wtsr': 1000.0000000024, 'wtcr': 1379.0059366075, 'regAvg': 1282.055656332, 'change': -9.8462762761, 'venue': 'Brown', 'type': 'team'}, {'raceID': 's25/dellenbaugh-women-team-race/66', 'raceNum': 66, 'round': 'Silver 6 Round 1', 'pos': 'Crew', 'date': 1743206400000, 'womens': True, 'partner': {'key': 'brooke-schmelz', 'name': 'Brooke Schmelz'}, 'opponentTeam': 'Charleston', 'opponentNick': 'Cougars', 'score': '1-2-6', 'outcome': 'win', 'predicted': 'lose', 'skipperRating': 1000.0000000024, 'crewRating': 1752.8014740084, 'womenSkipperRating': 1000.0000000024, 'womenCrewRating': 1750.9198165291, 'tsr': 1000.0000000024, 'tcr': 973.5247270621, 'wtsr': 1000.0000000024, 'wtcr': 1395.6808828553, 'regAvg': 1282.055656332, 'change': 16.6749462478, 'venue': 'Brown', 'type': 'team'}, {'raceID': 's25/neisa-women-tr-champs-legler/2', 'raceNum': 2, 'round': 'Round 1', 'pos': 'Crew', 'date': 1744416000000, 'womens': True, 'partner': {'key': 'brooke-schmelz', 'name': 'Brooke Schmelz'}, 'opponentTeam': 'Coast Guard', 'opponentNick': 'Bears', 'score': '1-2-4', 'outcome': 'win', 'predicted': 'win', 'skipperRating': 1000.0000000024, 'crewRating': 1752.8014740084, 'womenSkipperRating': 1000.0000000024, 'womenCrewRating': 1750.9198165291, 'tsr': 1000.0000000024, 'tcr': 973.5247270621, 'wtsr': 1000.0000000024, 'wtcr': 1396.8788432801, 'regAvg': 1243.7561375092, 'change': 1.1979604248, 'venue': 'Brown', 'type': 'team'}, {'raceID': 's25/neisa-women-tr-champs-legler/8', 'raceNum': 8, 'round': 'Round 1', 'pos': 'Crew', 'date': 1744416000000, 'womens': True, 'partner': {'key': 'brooke-schmelz', 'name': 'Brooke Schmelz'}, 'opponentTeam': 'Bowdoin', 'opponentNick': 'Polar Bears', 'score': '2-3-4', 'outcome': 'win', 'predicted': 'win', 'skipperRating': 1000.0000000024, 'crewRating': 1752.8014740084, 'womenSkipperRating': 1000.0000000024, 'womenCrewRating': 1750.9198165291, 'tsr': 1000.0000000024, 'tcr': 973.5247270621, 'wtsr': 1000.0000000024, 'wtcr': 1397.5264391476, 'regAvg': 1243.7561375092, 'change': 0.6475958675, 'venue': 'Brown', 'type': 'team'}, {'raceID': 's25/neisa-women-tr-champs-legler/14', 'raceNum': 14, 'round': 'Round 1', 'pos': 'Crew', 'date': 1744416000000, 'womens': True, 'partner': {'key': 'brooke-schmelz', 'name': 'Brooke Schmelz'}, 'opponentTeam': 'Tufts', 'opponentNick': 'Jumbos', 'score': '1-2-5', 'outcome': 'win', 'predicted': 'win', 'skipperRating': 1000.0000000024, 'crewRating': 1752.8014740084, 'womenSkipperRating': 1000.0000000024, 'womenCrewRating': 1750.9198165291, 'tsr': 1000.0000000024, 'tcr': 973.5247270621, 'wtsr': 1000.0000000024, 'wtcr': 1400.9327834825, 'regAvg': 1243.7561375092, 'change': 3.4063443349, 'venue': 'Brown', 'type': 'team'}, {'raceID': 's25/neisa-women-tr-champs-legler/20', 'raceNum': 20, 'round': 'Round 1', 'pos': 'Crew', 'date': 1744416000000, 'womens': True, 'partner': {'key': 'brooke-schmelz', 'name': 'Brooke Schmelz'}, 'opponentTeam': 'Boston College', 'opponentNick': 'Eagles', 'score': '1-2-5', 'outcome': 'win', 'predicted': 'win', 'skipperRating': 1000.0000000024, 'crewRating': 1752.8014740084, 'womenSkipperRating': 1000.0000000024, 'womenCrewRating': 1750.9198165291, 'tsr': 1000.0000000024, 'tcr': 973.5247270621, 'wtsr': 1000.0000000024, 'wtcr': 1406.8571096974, 'regAvg': 1243.7561375092, 'change': 5.924326215, 'venue': 'Brown', 'type': 'team'}, {'raceID': 's25/neisa-women-tr-champs-legler/28', 'raceNum': 28, 'round': 'Round 1', 'pos': 'Crew', 'date': 1744416000000, 'womens': True, 'partner': {'key': 'brooke-schmelz', 'name': 'Brooke Schmelz'}, 'opponentTeam': 'Brown', 'opponentNick': 'Bears', 'score': '3-4-6', 'outcome': 'lose', 'predicted': 'lose', 'skipperRating': 1000.0000000024, 'crewRating': 1752.8014740084, 'womenSkipperRating': 1000.0000000024, 'womenCrewRating': 1750.9198165291, 'tsr': 1000.0000000024, 'tcr': 973.5247270621, 'wtsr': 1000.0000000024, 'wtcr': 1404.6675576613, 'regAvg': 1243.7561375092, 'change': -2.1895520362, 'venue': 'Brown', 'type': 'team'}, {'raceID': 's25/neisa-women-tr-champs-legler/32', 'raceNum': 32, 'round': 'Round 1', 'pos': 'Crew', 'date': 1744416000000, 'womens': True, 'partner': {'key': 'brooke-schmelz', 'name': 'Brooke Schmelz'}, 'opponentTeam': 'Yale', 'opponentNick': 'Bulldogs', 'score': '3-4-6', 'outcome': 'lose', 'predicted': 'lose', 'skipperRating': 1000.0000000024, 'crewRating': 1752.8014740084, 'womenSkipperRating': 1000.0000000024, 'womenCrewRating': 1750.9198165291, 'tsr': 1000.0000000024, 'tcr': 973.5247270621, 'wtsr': 1000.0000000024, 'wtcr': 1402.9555797129, 'regAvg': 1243.7561375092, 'change': -1.7119779484, 'venue': 'Brown', 'type': 'team'}, {'raceID': 's25/neisa-women-tr-champs-legler/36', 'raceNum': 36, 'round': 'Round 1', 'pos': 'Crew', 'date': 1744416000000, 'womens': True, 'partner': {'key': 'brooke-schmelz', 'name': 'Brooke Schmelz'}, 'opponentTeam': 'Roger Williams', 'opponentNick': 'Hawks', 'score': '1-3-4', 'outcome': 'win', 'predicted': 'win', 'skipperRating': 1000.0000000024, 'crewRating': 1752.8014740084, 'womenSkipperRating': 1000.0000000024, 'womenCrewRating': 1750.9198165291, 'tsr': 1000.0000000024, 'tcr': 973.5247270621, 'wtsr': 1000.0000000024, 'wtcr': 1404.5925910795, 'regAvg': 1243.7561375092, 'change': 1.6370113666000001, 'venue': 'Brown', 'type': 'team'}, {'raceID': 's25/neisa-women-tr-champs-legler/41', 'raceNum': 41, 'round': 'Round 1', 'pos': 'Crew', 'date': 1744416000000, 'womens': True, 'partner': {'key': 'brooke-schmelz', 'name': 'Brooke Schmelz'}, 'opponentTeam': 'Harvard', 'opponentNick': 'Crimson', 'score': '1-2-5', 'outcome': 'win', 'predicted': 'win', 'skipperRating': 1000.0000000024, 'crewRating': 1752.8014740084, 'womenSkipperRating': 1000.0000000024, 'womenCrewRating': 1750.9198165291, 'tsr': 1000.0000000024, 'tcr': 973.5247270621, 'wtsr': 1000.0000000024, 'wtcr': 1420.5270133982, 'regAvg': 1243.7561375092, 'change': 15.9344223187, 'venue': 'Brown', 'type': 'team'}, {'raceID': 's25/neisa-women-tr-champs-legler/46', 'raceNum': 46, 'round': 'Gold Top 6', 'pos': 'Crew', 'date': 1744416000000, 'womens': True, 'partner': {'key': 'brooke-schmelz', 'name': 'Brooke Schmelz'}, 'opponentTeam': 'Dartmouth', 'opponentNick': 'Big Green', 'score': '1-2-6', 'outcome': 'win', 'predicted': 'lose', 'skipperRating': 1000.0000000024, 'crewRating': 1752.8014740084, 'womenSkipperRating': 1000.0000000024, 'womenCrewRating': 1750.9198165291, 'tsr': 1000.0000000024, 'tcr': 973.5247270621, 'wtsr': 1000.0000000024, 'wtcr': 1433.1088921806, 'regAvg': 1243.7561375092, 'change': 12.5818787823, 'venue': 'Brown', 'type': 'team'}, {'raceID': 's25/neisa-women-tr-champs-legler/50', 'raceNum': 50, 'round': 'Gold Top 6', 'pos': 'Crew', 'date': 1744416000000, 'womens': True, 'partner': {'key': 'brooke-schmelz', 'name': 'Brooke Schmelz'}, 'opponentTeam': 'Harvard', 'opponentNick': 'Crimson', 'score': '2-3-4', 'outcome': 'win', 'predicted': 'win', 'skipperRating': 1000.0000000024, 'crewRating': 1752.8014740084, 'womenSkipperRating': 1000.0000000024, 'womenCrewRating': 1750.9198165291, 'tsr': 1000.0000000024, 'tcr': 973.5247270621, 'wtsr': 1000.0000000024, 'wtcr': 1443.8746018569, 'regAvg': 1243.7561375092, 'change': 10.7657096764, 'venue': 'Brown', 'type': 'team'}, {'raceID': 's25/neisa-women-tr-champs-legler/54', 'raceNum': 54, 'round': 'Gold Top 6', 'pos': 'Crew', 'date': 1744416000000, 'womens': True, 'partner': {'key': 'brooke-schmelz', 'name': 'Brooke Schmelz'}, 'opponentTeam': 'Yale', 'opponentNick': 'Bulldogs', 'score': '4-5-6', 'outcome': 'lose', 'predicted': 'lose', 'skipperRating': 1000.0000000024, 'crewRating': 1752.8014740084, 'womenSkipperRating': 1000.0000000024, 'womenCrewRating': 1750.9198165291, 'tsr': 1000.0000000024, 'tcr': 973.5247270621, 'wtsr': 1000.0000000024, 'wtcr': 1443.4748585918, 'regAvg': 1243.7561375092, 'change': -0.3997432651, 'venue': 'Brown', 'type': 'team'}, {'raceID': 's25/neisa-women-tr-champs-legler/56', 'raceNum': 56, 'round': 'Gold Top 6', 'pos': 'Crew', 'date': 1744416000000, 'womens': True, 'partner': {'key': 'brooke-schmelz', 'name': 'Brooke Schmelz'}, 'opponentTeam': 'Brown', 'opponentNick': 'Bears', 'score': '3-5-6', 'outcome': 'lose', 'predicted': 'lose', 'skipperRating': 1000.0000000024, 'crewRating': 1752.8014740084, 'womenSkipperRating': 1000.0000000024, 'womenCrewRating': 1750.9198165291, 'tsr': 1000.0000000024, 'tcr': 973.5247270621, 'wtsr': 1000.0000000024, 'wtcr': 1441.7345513224, 'regAvg': 1243.7561375092, 'change': -1.7403072694000001, 'venue': 'Brown', 'type': 'team'}, {'raceID': 's25/neisa-women-tr-champs-legler/58', 'raceNum': 58, 'round': 'Gold Top 6', 'pos': 'Crew', 'date': 1744416000000, 'womens': True, 'partner': {'key': 'brooke-schmelz', 'name': 'Brooke Schmelz'}, 'opponentTeam': 'Tufts', 'opponentNick': 'Jumbos', 'score': '1-2-5', 'outcome': 'win', 'predicted': 'win', 'skipperRating': 1000.0000000024, 'crewRating': 1752.8014740084, 'womenSkipperRating': 1000.0000000024, 'womenCrewRating': 1750.9198165291, 'tsr': 1000.0000000024, 'tcr': 973.5247270621, 'wtsr': 1000.0000000024, 'wtcr': 1442.2163062032, 'regAvg': 1243.7561375092, 'change': 0.4817548808, 'venue': 'Brown', 'type': 'team'}, {'raceID': 's25/neisa-women-tr-champs-legler/62', 'raceNum': 62, 'round': 'Gold Top 4', 'pos': 'Crew', 'date': 1744416000000, 'womens': True, 'partner': {'key': 'brooke-schmelz', 'name': 'Brooke Schmelz'}, 'opponentTeam': 'Yale', 'opponentNick': 'Bulldogs', 'score': '4-5-6', 'outcome': 'lose', 'predicted': 'lose', 'skipperRating': 1000.0000000024, 'crewRating': 1752.8014740084, 'womenSkipperRating': 1000.0000000024, 'womenCrewRating': 1750.9198165291, 'tsr': 1000.0000000024, 'tcr': 973.5247270621, 'wtsr': 1000.0000000024, 'wtcr': 1441.6127813132, 'regAvg': 1243.7561375092, 'change': -0.60352489, 'venue': 'Brown', 'type': 'team'}, {'raceID': 's25/neisa-women-tr-champs-legler/63', 'raceNum': 63, 'round': 'Gold Top 4', 'pos': 'Crew', 'date': 1744416000000, 'womens': True, 'partner': {'key': 'brooke-schmelz', 'name': 'Brooke Schmelz'}, 'opponentTeam': 'Brown', 'opponentNick': 'Bears', 'score': '3-5-6', 'outcome': 'lose', 'predicted': 'lose', 'skipperRating': 1000.0000000024, 'crewRating': 1752.8014740084, 'womenSkipperRating': 1000.0000000024, 'womenCrewRating': 1750.9198165291, 'tsr': 1000.0000000024, 'tcr': 973.5247270621, 'wtsr': 1000.0000000024, 'wtcr': 1436.2055940085, 'regAvg': 1243.7561375092, 'change': -5.4071873047, 'venue': 'Brown', 'type': 'team'}, {'raceID': 's25/neisa-women-tr-champs-legler/65', 'raceNum': 65, 'round': 'Gold Top 4', 'pos': 'Crew', 'date': 1744416000000, 'womens': True, 'partner': {'key': 'brooke-schmelz', 'name': 'Brooke Schmelz'}, 'opponentTeam': 'Dartmouth', 'opponentNick': 'Big Green', 'score': '1-5-6', 'outcome': 'lose', 'predicted': 'win', 'skipperRating': 1000.0000000024, 'crewRating': 1752.8014740084, 'womenSkipperRating': 1000.0000000024, 'womenCrewRating': 1750.9198165291, 'tsr': 1000.0000000024, 'tcr': 973.5247270621, 'wtsr': 1000.0000000024, 'wtcr': 1427.8630533831, 'regAvg': 1243.7561375092, 'change': -8.3425406254, 'venue': 'Brown', 'type': 'team'}, {'score': 13, 'pos': 'Crew', 'predicted': 7, 'ratio': 0.25, 'change': -9.754791143, 'regAvg': 1253.1723749157, 'cross': 0, 'outLinks': 0, 'skipperRating': 1000.0000000024, 'crewRating': 1752.8014740084, 'womenSkipperRating': 1000.0000000024, 'womenCrewRating': 1741.1650253861, 'tsr': 1000.0000000024, 'tcr': 973.5247270621, 'wtsr': 1000.0000000024, 'wtcr': 1427.8630533831, 'womens': True, 'date': 1745020800000, 'partner': {'name': 'Brooke Schmelz', 'key': 'brooke-schmelz'}, 'venue': 'Yale', 'raceID': 's25/ne-women-fleet-race-spring/1A', 'type': 'fleet', 'scoring': '2 Divisions'}, {'score': 11, 'pos': 'Crew', 'predicted': 7, 'ratio': 0.375, 'change': -7.8449394219, 'regAvg': 1253.1723749157, 'cross': 0, 'outLinks': 0, 'skipperRating': 1000.0000000024, 'crewRating': 1752.8014740084, 'womenSkipperRating': 1000.0000000024, 'womenCrewRating': 1733.3200859641, 'tsr': 1000.0000000024, 'tcr': 973.5247270621, 'wtsr': 1000.0000000024, 'wtcr': 1427.8630533831, 'womens': True, 'date': 1745020800000, 'partner': {'name': 'Brooke Schmelz', 'key': 'brooke-schmelz'}, 'venue': 'Yale', 'raceID': 's25/ne-women-fleet-race-spring/2A', 'type': 'fleet', 'scoring': '2 Divisions'}, {'score': 7, 'pos': 'Crew', 'predicted': 6, 'ratio': 0.625, 'change': 3.102303453, 'regAvg': 1253.1723749157, 'cross': 0, 'outLinks': 0, 'skipperRating': 1000.0000000024, 'crewRating': 1752.8014740084, 'womenSkipperRating': 1000.0000000024, 'womenCrewRating': 1736.4223894172, 'tsr': 1000.0000000024, 'tcr': 973.5247270621, 'wtsr': 1000.0000000024, 'wtcr': 1427.8630533831, 'womens': True, 'date': 1745020800000, 'partner': {'name': 'Brooke Schmelz', 'key': 'brooke-schmelz'}, 'venue': 'Yale', 'raceID': 's25/ne-women-fleet-race-spring/3A', 'type': 'fleet', 'scoring': '2 Divisions'}, {'raceID': 's25/icsa-women-team-race-national/8', 'raceNum': 8, 'round': 'Round 1', 'pos': 'Crew', 'date': 1745712000000, 'womens': True, 'partner': {'key': 'brooke-schmelz', 'name': 'Brooke Schmelz'}, 'opponentTeam': 'Dartmouth', 'opponentNick': 'Big Green', 'score': '2-4-5', 'outcome': 'lose', 'predicted': 'lose', 'skipperRating': 1000.0000000024, 'crewRating': 1752.8014740084, 'womenSkipperRating': 1000.0000000024, 'womenCrewRating': 1736.4223894172, 'tsr': 1000.0000000024, 'tcr': 973.5247270621, 'wtsr': 1000.0000000024, 'wtcr': 1421.8123394536, 'regAvg': 1286.0102944478, 'change': -6.0507139295, 'venue': 'Brown', 'type': 'team'}, {'raceID': 's25/icsa-women-team-race-national/15', 'raceNum': 15, 'round': 'Round 1', 'pos': 'Crew', 'date': 1745712000000, 'womens': True, 'partner': {'key': 'brooke-schmelz', 'name': 'Brooke Schmelz'}, 'opponentTeam': 'Charleston', 'opponentNick': 'Cougars', 'score': '3-5-6', 'outcome': 'lose', 'predicted': 'lose', 'skipperRating': 1000.0000000024, 'crewRating': 1752.8014740084, 'womenSkipperRating': 1000.0000000024, 'womenCrewRating': 1736.4223894172, 'tsr': 1000.0000000024, 'tcr': 973.5247270621, 'wtsr': 1000.0000000024, 'wtcr': 1414.6444881807, 'regAvg': 1286.0102944478, 'change': -7.1678512729, 'venue': 'Brown', 'type': 'team'}, {'raceID': 's25/icsa-women-team-race-national/27', 'raceNum': 27, 'round': 'Round 1', 'pos': 'Crew', 'date': 1745712000000, 'womens': True, 'partner': {'key': 'brooke-schmelz', 'name': 'Brooke Schmelz'}, 'opponentTeam': 'Stanford', 'opponentNick': 'Cardinal', 'score': '1-5-6', 'outcome': 'lose', 'predicted': 'lose', 'skipperRating': 1000.0000000024, 'crewRating': 1752.8014740084, 'womenSkipperRating': 1000.0000000024, 'womenCrewRating': 1736.4223894172, 'tsr': 1000.0000000024, 'tcr': 973.5247270621, 'wtsr': 1000.0000000024, 'wtcr': 1413.4618939742, 'regAvg': 1286.0102944478, 'change': -1.1825942065, 'venue': 'Brown', 'type': 'team'}, {'raceID': 's25/icsa-women-team-race-national/34', 'raceNum': 34, 'round': 'Round 1', 'pos': 'Crew', 'date': 1745712000000, 'womens': True, 'partner': {'key': 'brooke-schmelz', 'name': 'Brooke Schmelz'}, 'opponentTeam': 'Brown', 'opponentNick': 'Bears', 'score': '2-3-4', 'outcome': 'win', 'predicted': 'lose', 'skipperRating': 1000.0000000024, 'crewRating': 1752.8014740084, 'womenSkipperRating': 1000.0000000024, 'womenCrewRating': 1736.4223894172, 'tsr': 1000.0000000024, 'tcr': 973.5247270621, 'wtsr': 1000.0000000024, 'wtcr': 1436.3463497869, 'regAvg': 1286.0102944478, 'change': 22.8844558127, 'venue': 'Brown', 'type': 'team'}, {'raceID': 's25/icsa-women-team-race-national/39', 'raceNum': 39, 'round': 'Round 1', 'pos': 'Crew', 'date': 1745712000000, 'womens': True, 'partner': {'key': 'brooke-schmelz', 'name': 'Brooke Schmelz'}, 'opponentTeam': 'Georgetown', 'opponentNick': 'Hoyas', 'score': '1-2-5', 'outcome': 'win', 'predicted': 'win', 'skipperRating': 1000.0000000024, 'crewRating': 1752.8014740084, 'womenSkipperRating': 1000.0000000024, 'womenCrewRating': 1736.4223894172, 'tsr': 1000.0000000024, 'tcr': 973.5247270621, 'wtsr': 1000.0000000024, 'wtcr': 1447.0030353083, 'regAvg': 1286.0102944478, 'change': 10.6566855213, 'venue': 'Brown', 'type': 'team'}, {'raceID': 's25/icsa-women-team-race-national/54', 'raceNum': 54, 'round': 'Round 1', 'pos': 'Crew', 'date': 1745712000000, 'womens': True, 'partner': {'key': 'brooke-schmelz', 'name': 'Brooke Schmelz'}, 'opponentTeam': 'Tufts', 'opponentNick': 'Jumbos', 'score': '1-2-5', 'outcome': 'win', 'predicted': 'win', 'skipperRating': 1000.0000000024, 'crewRating': 1752.8014740084, 'womenSkipperRating': 1000.0000000024, 'womenCrewRating': 1736.4223894172, 'tsr': 1000.0000000024, 'tcr': 973.5247270621, 'wtsr': 1000.0000000024, 'wtcr': 1449.5233811797, 'regAvg': 1286.0102944478, 'change': 2.5203458714, 'venue': 'Brown', 'type': 'team'}, {'raceID': 's25/icsa-women-team-race-national/56', 'raceNum': 56, 'round': 'Round 1', 'pos': 'Crew', 'date': 1745712000000, 'womens': True, 'partner': {'key': 'brooke-schmelz', 'name': 'Brooke Schmelz'}, 'opponentTeam': 'Yale', 'opponentNick': 'Bulldogs', 'score': '3-5-6', 'outcome': 'lose', 'predicted': 'lose', 'skipperRating': 1000.0000000024, 'crewRating': 1752.8014740084, 'womenSkipperRating': 1000.0000000024, 'womenCrewRating': 1736.4223894172, 'tsr': 1000.0000000024, 'tcr': 973.5247270621, 'wtsr': 1000.0000000024, 'wtcr': 1449.2955914587, 'regAvg': 1286.0102944478, 'change': -0.227789721, 'venue': 'Brown', 'type': 'team'}, {'raceID': 's25/icsa-women-team-race-national/61', 'raceNum': 61, 'round': 'Round 1', 'pos': 'Crew', 'date': 1745712000000, 'womens': True, 'partner': {'key': 'brooke-schmelz', 'name': 'Brooke Schmelz'}, 'opponentTeam': 'Pennsylvania', 'opponentNick': 'Quakers', 'score': '1-2-4', 'outcome': 'win', 'predicted': 'win', 'skipperRating': 1000.0000000024, 'crewRating': 1752.8014740084, 'womenSkipperRating': 1000.0000000024, 'womenCrewRating': 1736.4223894172, 'tsr': 1000.0000000024, 'tcr': 973.5247270621, 'wtsr': 1000.0000000024, 'wtcr': 1450.2597689577, 'regAvg': 1286.0102944478, 'change': 0.964177499, 'venue': 'Brown', 'type': 'team'}, {'raceID': 's25/icsa-women-team-race-national/65', 'raceNum': 65, 'round': 'Round 1', 'pos': 'Crew', 'date': 1745712000000, 'womens': True, 'partner': {'key': 'brooke-schmelz', 'name': 'Brooke Schmelz'}, 'opponentTeam': 'Cornell', 'opponentNick': 'Big Red', 'score': '4-5-6', 'outcome': 'lose', 'predicted': 'lose', 'skipperRating': 1000.0000000024, 'crewRating': 1752.8014740084, 'womenSkipperRating': 1000.0000000024, 'womenCrewRating': 1736.4223894172, 'tsr': 1000.0000000024, 'tcr': 973.5247270621, 'wtsr': 1000.0000000024, 'wtcr': 1448.4952781619, 'regAvg': 1286.0102944478, 'change': -1.7644907958, 'venue': 'Brown', 'type': 'team'}, {'score': 1, 'pos': 'Crew', 'predicted': 9, 'ratio': 1.0, 'change': 12.2162443751, 'regAvg': 1377.383524851, 'cross': 1, 'outLinks': 12, 'skipperRating': 1000.0000000024, 'crewRating': 1752.8014740084, 'womenSkipperRating': 1000.0000000024, 'womenCrewRating': 1748.6386337923, 'tsr': 1000.0000000024, 'tcr': 973.5247270621, 'wtsr': 1000.0000000024, 'wtcr': 1448.4952781619, 'womens': True, 'date': 1747699200000, 'partner': {'name': 'Brooke Schmelz', 'key': 'brooke-schmelz'}, 'venue': \"St. Mary's\", 'raceID': 's25/women-east-national-semi-final/1A', 'type': 'fleet', 'scoring': '2 Divisions'}, {'score': 3, 'pos': 'Crew', 'predicted': 9, 'ratio': 0.8823529412000001, 'change': 10.931745258, 'regAvg': 1377.383524851, 'cross': 1, 'outLinks': 12, 'skipperRating': 1000.0000000024, 'crewRating': 1752.8014740084, 'womenSkipperRating': 1000.0000000024, 'womenCrewRating': 1759.5703790503, 'tsr': 1000.0000000024, 'tcr': 973.5247270621, 'wtsr': 1000.0000000024, 'wtcr': 1448.4952781619, 'womens': True, 'date': 1747699200000, 'partner': {'name': 'Brooke Schmelz', 'key': 'brooke-schmelz'}, 'venue': \"St. Mary's\", 'raceID': 's25/women-east-national-semi-final/2A', 'type': 'fleet', 'scoring': '2 Divisions'}, {'score': 4, 'pos': 'Crew', 'predicted': 8, 'ratio': 0.8333333333, 'change': 9.7606702317, 'regAvg': 1377.383524851, 'cross': 1, 'outLinks': 13, 'skipperRating': 1000.0000000024, 'crewRating': 1752.8014740084, 'womenSkipperRating': 1000.0000000024, 'womenCrewRating': 1769.331049282, 'tsr': 1000.0000000024, 'tcr': 973.5247270621, 'wtsr': 1000.0000000024, 'wtcr': 1448.4952781619, 'womens': True, 'date': 1747699200000, 'partner': {'name': 'Brooke Schmelz', 'key': 'brooke-schmelz'}, 'venue': \"St. Mary's\", 'raceID': 's25/women-east-national-semi-final/3A', 'type': 'fleet', 'scoring': '2 Divisions'}, {'score': 8, 'pos': 'Crew', 'predicted': 7, 'ratio': 0.5882352941, 'change': 4.1146536692, 'regAvg': 1377.383524851, 'cross': 1, 'outLinks': 12, 'skipperRating': 1000.0000000024, 'crewRating': 1752.8014740084, 'womenSkipperRating': 1000.0000000024, 'womenCrewRating': 1773.4457029512, 'tsr': 1000.0000000024, 'tcr': 973.5247270621, 'wtsr': 1000.0000000024, 'wtcr': 1448.4952781619, 'womens': True, 'date': 1747699200000, 'partner': {'name': 'Brooke Schmelz', 'key': 'brooke-schmelz'}, 'venue': \"St. Mary's\", 'raceID': 's25/women-east-national-semi-final/4A', 'type': 'fleet', 'scoring': '2 Divisions'}, {'score': 1, 'pos': 'Crew', 'predicted': 8, 'ratio': 1.0, 'change': 12.6845925919, 'regAvg': 1377.383524851, 'cross': 1, 'outLinks': 12, 'skipperRating': 1000.0000000024, 'crewRating': 1752.8014740084, 'womenSkipperRating': 1000.0000000024, 'womenCrewRating': 1786.1302955431, 'tsr': 1000.0000000024, 'tcr': 973.5247270621, 'wtsr': 1000.0000000024, 'wtcr': 1448.4952781619, 'womens': True, 'date': 1747699200000, 'partner': {'name': 'Brooke Schmelz', 'key': 'brooke-schmelz'}, 'venue': \"St. Mary's\", 'raceID': 's25/women-east-national-semi-final/5A', 'type': 'fleet', 'scoring': '2 Divisions'}, {'score': 13, 'pos': 'Crew', 'predicted': 8, 'ratio': 0.2941176471, 'change': -9.2827496168, 'regAvg': 1377.383524851, 'cross': 1, 'outLinks': 12, 'skipperRating': 1000.0000000024, 'crewRating': 1752.8014740084, 'womenSkipperRating': 1000.0000000024, 'womenCrewRating': 1776.8475459264, 'tsr': 1000.0000000024, 'tcr': 973.5247270621, 'wtsr': 1000.0000000024, 'wtcr': 1448.4952781619, 'womens': True, 'date': 1747699200000, 'partner': {'name': 'Brooke Schmelz', 'key': 'brooke-schmelz'}, 'venue': \"St. Mary's\", 'raceID': 's25/women-east-national-semi-final/6A', 'type': 'fleet', 'scoring': '2 Divisions'}, {'score': 12, 'pos': 'Crew', 'predicted': 8, 'ratio': 0.3529411765, 'change': -7.5763600585, 'regAvg': 1377.383524851, 'cross': 1, 'outLinks': 12, 'skipperRating': 1000.0000000024, 'crewRating': 1752.8014740084, 'womenSkipperRating': 1000.0000000024, 'womenCrewRating': 1769.2711858679, 'tsr': 1000.0000000024, 'tcr': 973.5247270621, 'wtsr': 1000.0000000024, 'wtcr': 1448.4952781619, 'womens': True, 'date': 1747699200000, 'partner': {'name': 'Brooke Schmelz', 'key': 'brooke-schmelz'}, 'venue': \"St. Mary's\", 'raceID': 's25/women-east-national-semi-final/7A', 'type': 'fleet', 'scoring': '2 Divisions'}, {'score': 4, 'pos': 'Crew', 'predicted': 8, 'ratio': 0.8235294118, 'change': 10.5921933397, 'regAvg': 1377.383524851, 'cross': 1, 'outLinks': 12, 'skipperRating': 1000.0000000024, 'crewRating': 1752.8014740084, 'womenSkipperRating': 1000.0000000024, 'womenCrewRating': 1779.8633792076, 'tsr': 1000.0000000024, 'tcr': 973.5247270621, 'wtsr': 1000.0000000024, 'wtcr': 1448.4952781619, 'womens': True, 'date': 1747699200000, 'partner': {'name': 'Brooke Schmelz', 'key': 'brooke-schmelz'}, 'venue': \"St. Mary's\", 'raceID': 's25/women-east-national-semi-final/8A', 'type': 'fleet', 'scoring': '2 Divisions'}, {'score': 1, 'pos': 'Crew', 'predicted': 12, 'ratio': 1.0, 'change': 12.1500860564, 'regAvg': 1463.5998275955, 'cross': 1, 'outLinks': 8, 'skipperRating': 1000.0000000024, 'crewRating': 1752.8014740084, 'womenSkipperRating': 1000.0000000024, 'womenCrewRating': 1792.013465264, 'tsr': 1000.0000000024, 'tcr': 973.5247270621, 'wtsr': 1000.0000000024, 'wtcr': 1448.4952781619, 'womens': True, 'date': 1747872000000, 'partner': {'name': 'Brooke Schmelz', 'key': 'brooke-schmelz'}, 'venue': \"St. Mary's\", 'raceID': 's25/women-fleet-race-national-championships/1A', 'type': 'fleet', 'scoring': '2 Divisions'}, {'score': 12, 'pos': 'Crew', 'predicted': 13, 'ratio': 0.3529411765, 'change': 1.7390419891, 'regAvg': 1463.5998275955, 'cross': 1, 'outLinks': 8, 'skipperRating': 1000.0000000024, 'crewRating': 1752.8014740084, 'womenSkipperRating': 1000.0000000024, 'womenCrewRating': 1793.7525072531, 'tsr': 1000.0000000024, 'tcr': 973.5247270621, 'wtsr': 1000.0000000024, 'wtcr': 1448.4952781619, 'womens': True, 'date': 1747872000000, 'partner': {'name': 'Brooke Schmelz', 'key': 'brooke-schmelz'}, 'venue': \"St. Mary's\", 'raceID': 's25/women-fleet-race-national-championships/2A', 'type': 'fleet', 'scoring': '2 Divisions'}, {'score': 9, 'pos': 'Crew', 'predicted': 13, 'ratio': 0.5294117647000001, 'change': 6.4114849753, 'regAvg': 1463.5998275955, 'cross': 1, 'outLinks': 8, 'skipperRating': 1000.0000000024, 'crewRating': 1752.8014740084, 'womenSkipperRating': 1000.0000000024, 'womenCrewRating': 1800.1639922284, 'tsr': 1000.0000000024, 'tcr': 973.5247270621, 'wtsr': 1000.0000000024, 'wtcr': 1448.4952781619, 'womens': True, 'date': 1747872000000, 'partner': {'name': 'Brooke Schmelz', 'key': 'brooke-schmelz'}, 'venue': \"St. Mary's\", 'raceID': 's25/women-fleet-race-national-championships/3A', 'type': 'fleet', 'scoring': '2 Divisions'}, {'score': 16, 'pos': 'Crew', 'predicted': 12, 'ratio': 0.11764705880000001, 'change': -13.4342642633, 'regAvg': 1463.5998275955, 'cross': 1, 'outLinks': 8, 'skipperRating': 1000.0000000024, 'crewRating': 1752.8014740084, 'womenSkipperRating': 1000.0000000024, 'womenCrewRating': 1786.7297279651, 'tsr': 1000.0000000024, 'tcr': 973.5247270621, 'wtsr': 1000.0000000024, 'wtcr': 1448.4952781619, 'womens': True, 'date': 1747872000000, 'partner': {'name': 'Brooke Schmelz', 'key': 'brooke-schmelz'}, 'venue': \"St. Mary's\", 'raceID': 's25/women-fleet-race-national-championships/4A', 'type': 'fleet', 'scoring': '2 Divisions'}, {'score': 14, 'pos': 'Crew', 'predicted': 12, 'ratio': 0.23529411760000002, 'change': -5.5450540967, 'regAvg': 1463.5998275955, 'cross': 1, 'outLinks': 8, 'skipperRating': 1000.0000000024, 'crewRating': 1752.8014740084, 'womenSkipperRating': 1000.0000000024, 'womenCrewRating': 1781.1846738683, 'tsr': 1000.0000000024, 'tcr': 973.5247270621, 'wtsr': 1000.0000000024, 'wtcr': 1448.4952781619, 'womens': True, 'date': 1747872000000, 'partner': {'name': 'Brooke Schmelz', 'key': 'brooke-schmelz'}, 'venue': \"St. Mary's\", 'raceID': 's25/women-fleet-race-national-championships/5A', 'type': 'fleet', 'scoring': '2 Divisions'}, {'score': 10, 'pos': 'Crew', 'predicted': 12, 'ratio': 0.4705882353, 'change': 3.1811004893, 'regAvg': 1463.5998275955, 'cross': 1, 'outLinks': 8, 'skipperRating': 1000.0000000024, 'crewRating': 1752.8014740084, 'womenSkipperRating': 1000.0000000024, 'womenCrewRating': 1784.3657743577, 'tsr': 1000.0000000024, 'tcr': 973.5247270621, 'wtsr': 1000.0000000024, 'wtcr': 1448.4952781619, 'womens': True, 'date': 1747872000000, 'partner': {'name': 'Brooke Schmelz', 'key': 'brooke-schmelz'}, 'venue': \"St. Mary's\", 'raceID': 's25/women-fleet-race-national-championships/6A', 'type': 'fleet', 'scoring': '2 Divisions'}, {'score': 12, 'pos': 'Crew', 'predicted': 13, 'ratio': 0.3529411765, 'change': 0.5406699419000001, 'regAvg': 1463.5998275955, 'cross': 1, 'outLinks': 8, 'skipperRating': 1000.0000000024, 'crewRating': 1752.8014740084, 'womenSkipperRating': 1000.0000000024, 'womenCrewRating': 1784.9064442996, 'tsr': 1000.0000000024, 'tcr': 973.5247270621, 'wtsr': 1000.0000000024, 'wtcr': 1448.4952781619, 'womens': True, 'date': 1747872000000, 'partner': {'name': 'Brooke Schmelz', 'key': 'brooke-schmelz'}, 'venue': \"St. Mary's\", 'raceID': 's25/women-fleet-race-national-championships/7A', 'type': 'fleet', 'scoring': '2 Divisions'}, {'score': 13, 'pos': 'Crew', 'predicted': 13, 'ratio': 0.2941176471, 'change': 0.19944400610000002, 'regAvg': 1463.5998275955, 'cross': 1, 'outLinks': 8, 'skipperRating': 1000.0000000024, 'crewRating': 1752.8014740084, 'womenSkipperRating': 1000.0000000024, 'womenCrewRating': 1785.1058883057, 'tsr': 1000.0000000024, 'tcr': 973.5247270621, 'wtsr': 1000.0000000024, 'wtcr': 1448.4952781619, 'womens': True, 'date': 1747872000000, 'partner': {'name': 'Brooke Schmelz', 'key': 'brooke-schmelz'}, 'venue': \"St. Mary's\", 'raceID': 's25/women-fleet-race-national-championships/8A', 'type': 'fleet', 'scoring': '2 Divisions'}, {'score': 17, 'pos': 'Crew', 'predicted': 12, 'ratio': 0.058823529400000005, 'change': -14.296996489, 'regAvg': 1463.5998275955, 'cross': 1, 'outLinks': 8, 'skipperRating': 1000.0000000024, 'crewRating': 1752.8014740084, 'womenSkipperRating': 1000.0000000024, 'womenCrewRating': 1770.8088918167, 'tsr': 1000.0000000024, 'tcr': 973.5247270621, 'wtsr': 1000.0000000024, 'wtcr': 1448.4952781619, 'womens': True, 'date': 1747872000000, 'partner': {'name': 'Brooke Schmelz', 'key': 'brooke-schmelz'}, 'venue': \"St. Mary's\", 'raceID': 's25/women-fleet-race-national-championships/9A', 'type': 'fleet', 'scoring': '2 Divisions'}, {'score': 3, 'pos': 'Crew', 'predicted': 12, 'ratio': 0.8823529412000001, 'change': 8.9356713802, 'regAvg': 1463.5998275955, 'cross': 1, 'outLinks': 8, 'skipperRating': 1000.0000000024, 'crewRating': 1752.8014740084, 'womenSkipperRating': 1000.0000000024, 'womenCrewRating': 1779.7445631969, 'tsr': 1000.0000000024, 'tcr': 973.5247270621, 'wtsr': 1000.0000000024, 'wtcr': 1448.4952781619, 'womens': True, 'date': 1747872000000, 'partner': {'name': 'Brooke Schmelz', 'key': 'brooke-schmelz'}, 'venue': \"St. Mary's\", 'raceID': 's25/women-fleet-race-national-championships/10A', 'type': 'fleet', 'scoring': '2 Divisions'}, {'score': 8, 'pos': 'Crew', 'predicted': 13, 'ratio': 0.5882352941, 'change': 8.1481870485, 'regAvg': 1463.5998275955, 'cross': 1, 'outLinks': 8, 'skipperRating': 1000.0000000024, 'crewRating': 1752.8014740084, 'womenSkipperRating': 1000.0000000024, 'womenCrewRating': 1787.8927502454, 'tsr': 1000.0000000024, 'tcr': 973.5247270621, 'wtsr': 1000.0000000024, 'wtcr': 1448.4952781619, 'womens': True, 'date': 1747872000000, 'partner': {'name': 'Brooke Schmelz', 'key': 'brooke-schmelz'}, 'venue': \"St. Mary's\", 'raceID': 's25/women-fleet-race-national-championships/11A', 'type': 'fleet', 'scoring': '2 Divisions'}, {'score': 7, 'pos': 'Crew', 'predicted': 13, 'ratio': 0.6470588235, 'change': 8.3796531009, 'regAvg': 1463.5998275955, 'cross': 1, 'outLinks': 8, 'skipperRating': 1000.0000000024, 'crewRating': 1752.8014740084, 'womenSkipperRating': 1000.0000000024, 'womenCrewRating': 1796.2724033463, 'tsr': 1000.0000000024, 'tcr': 973.5247270621, 'wtsr': 1000.0000000024, 'wtcr': 1448.4952781619, 'womens': True, 'date': 1747872000000, 'partner': {'name': 'Brooke Schmelz', 'key': 'brooke-schmelz'}, 'venue': \"St. Mary's\", 'raceID': 's25/women-fleet-race-national-championships/12A', 'type': 'fleet', 'scoring': '2 Divisions'}, {'score': 11, 'pos': 'Crew', 'predicted': 12, 'ratio': 0.4117647059, 'change': 3.1140861463, 'regAvg': 1463.5998275955, 'cross': 1, 'outLinks': 8, 'skipperRating': 1000.0000000024, 'crewRating': 1752.8014740084, 'womenSkipperRating': 1000.0000000024, 'womenCrewRating': 1799.3864894926, 'tsr': 1000.0000000024, 'tcr': 973.5247270621, 'wtsr': 1000.0000000024, 'wtcr': 1448.4952781619, 'womens': True, 'date': 1747872000000, 'partner': {'name': 'Brooke Schmelz', 'key': 'brooke-schmelz'}, 'venue': \"St. Mary's\", 'raceID': 's25/women-fleet-race-national-championships/13A', 'type': 'fleet', 'scoring': '2 Divisions'}, {'score': 7, 'pos': 'Crew', 'predicted': 12, 'ratio': 0.6470588235, 'change': 6.8843279639, 'regAvg': 1463.5998275955, 'cross': 1, 'outLinks': 8, 'skipperRating': 1000.0000000024, 'crewRating': 1752.8014740084, 'womenSkipperRating': 1000.0000000024, 'womenCrewRating': 1806.2708174565, 'tsr': 1000.0000000024, 'tcr': 973.5247270621, 'wtsr': 1000.0000000024, 'wtcr': 1448.4952781619, 'womens': True, 'date': 1747872000000, 'partner': {'name': 'Brooke Schmelz', 'key': 'brooke-schmelz'}, 'venue': \"St. Mary's\", 'raceID': 's25/women-fleet-race-national-championships/14A', 'type': 'fleet', 'scoring': '2 Divisions'}, {'score': 4, 'pos': 'Crew', 'predicted': 12, 'ratio': 0.8235294118, 'change': 9.5355557106, 'regAvg': 1463.5998275955, 'cross': 1, 'outLinks': 8, 'skipperRating': 1000.0000000024, 'crewRating': 1752.8014740084, 'womenSkipperRating': 1000.0000000024, 'womenCrewRating': 1815.8063731671, 'tsr': 1000.0000000024, 'tcr': 973.5247270621, 'wtsr': 1000.0000000024, 'wtcr': 1448.4952781619, 'womens': True, 'date': 1747872000000, 'partner': {'name': 'Brooke Schmelz', 'key': 'brooke-schmelz'}, 'venue': \"St. Mary's\", 'raceID': 's25/women-fleet-race-national-championships/15A', 'type': 'fleet', 'scoring': '2 Divisions'}, {'score': 12, 'pos': 'Crew', 'predicted': 12, 'ratio': 0.3529411765, 'change': 3.2081817667, 'regAvg': 1463.5998275955, 'cross': 1, 'outLinks': 8, 'skipperRating': 1000.0000000024, 'crewRating': 1752.8014740084, 'womenSkipperRating': 1000.0000000024, 'womenCrewRating': 1819.0145549339, 'tsr': 1000.0000000024, 'tcr': 973.5247270621, 'wtsr': 1000.0000000024, 'wtcr': 1448.4952781619, 'womens': True, 'date': 1747872000000, 'partner': {'name': 'Brooke Schmelz', 'key': 'brooke-schmelz'}, 'venue': \"St. Mary's\", 'raceID': 's25/women-fleet-race-national-championships/16A', 'type': 'fleet', 'scoring': '2 Divisions'}, {'score': 14, 'pos': 'Crew', 'predicted': 17, 'ratio': 0.23529411760000002, 'change': 11.1429596459, 'regAvg': 1617.1847543847, 'cross': 1, 'outLinks': 9, 'skipperRating': 1000.0000000024, 'crewRating': 1763.9444336544, 'womenSkipperRating': 1000.0000000024, 'womenCrewRating': 1819.0145549339, 'tsr': 1000.0000000024, 'tcr': 973.5247270621, 'wtsr': 1000.0000000024, 'wtcr': 1448.4952781619, 'womens': False, 'date': 1748476800000, 'partner': {'name': 'William Kulas', 'key': 'william-kulas'}, 'venue': \"St. Mary's\", 'raceID': 's25/open-fleet-race-national-championships/1B', 'type': 'fleet', 'scoring': '2 Divisions'}, {'score': 12, 'pos': 'Crew', 'predicted': 17, 'ratio': 0.3529411765, 'change': 16.4817728056, 'regAvg': 1617.1847543847, 'cross': 1, 'outLinks': 9, 'skipperRating': 1000.0000000024, 'crewRating': 1780.4262064599, 'womenSkipperRating': 1000.0000000024, 'womenCrewRating': 1819.0145549339, 'tsr': 1000.0000000024, 'tcr': 973.5247270621, 'wtsr': 1000.0000000024, 'wtcr': 1448.4952781619, 'womens': False, 'date': 1748476800000, 'partner': {'name': 'William Kulas', 'key': 'william-kulas'}, 'venue': \"St. Mary's\", 'raceID': 's25/open-fleet-race-national-championships/2B', 'type': 'fleet', 'scoring': '2 Divisions'}, {'score': 17, 'pos': 'Crew', 'predicted': 18, 'ratio': 0.058823529400000005, 'change': -1.2336260858, 'regAvg': 1617.1847543847, 'cross': 1, 'outLinks': 9, 'skipperRating': 1000.0000000024, 'crewRating': 1779.1925803741, 'womenSkipperRating': 1000.0000000024, 'womenCrewRating': 1819.0145549339, 'tsr': 1000.0000000024, 'tcr': 973.5247270621, 'wtsr': 1000.0000000024, 'wtcr': 1448.4952781619, 'womens': False, 'date': 1748476800000, 'partner': {'name': 'Julius Heitkoetter', 'key': 'julius-heitkoetter'}, 'venue': \"St. Mary's\", 'raceID': 's25/open-fleet-race-national-championships/3B', 'type': 'fleet', 'scoring': '2 Divisions'}, {'score': 14, 'pos': 'Crew', 'predicted': 17, 'ratio': 0.23529411760000002, 'change': 7.7314557002, 'regAvg': 1617.1847543847, 'cross': 1, 'outLinks': 9, 'skipperRating': 1000.0000000024, 'crewRating': 1786.9240360743, 'womenSkipperRating': 1000.0000000024, 'womenCrewRating': 1819.0145549339, 'tsr': 1000.0000000024, 'tcr': 973.5247270621, 'wtsr': 1000.0000000024, 'wtcr': 1448.4952781619, 'womens': False, 'date': 1748476800000, 'partner': {'name': 'Julius Heitkoetter', 'key': 'julius-heitkoetter'}, 'venue': \"St. Mary's\", 'raceID': 's25/open-fleet-race-national-championships/4B', 'type': 'fleet', 'scoring': '2 Divisions'}, {'score': 18, 'pos': 'Crew', 'predicted': 18, 'ratio': 0.0, 'change': -28.8290883904, 'regAvg': 1617.1847543847, 'cross': 1, 'outLinks': 9, 'skipperRating': 1000.0000000024, 'crewRating': 1758.094947684, 'womenSkipperRating': 1000.0000000024, 'womenCrewRating': 1819.0145549339, 'tsr': 1000.0000000024, 'tcr': 973.5247270621, 'wtsr': 1000.0000000024, 'wtcr': 1448.4952781619, 'womens': False, 'date': 1748476800000, 'partner': {'name': 'Julius Heitkoetter', 'key': 'julius-heitkoetter'}, 'venue': \"St. Mary's\", 'raceID': 's25/open-fleet-race-national-championships/5B', 'type': 'fleet', 'scoring': '2 Divisions'}, {'score': 17, 'pos': 'Crew', 'predicted': 18, 'ratio': 0.058823529400000005, 'change': -5.3223613428, 'regAvg': 1617.1847543847, 'cross': 1, 'outLinks': 9, 'skipperRating': 1000.0000000024, 'crewRating': 1752.7725863412, 'womenSkipperRating': 1000.0000000024, 'womenCrewRating': 1819.0145549339, 'tsr': 1000.0000000024, 'tcr': 973.5247270621, 'wtsr': 1000.0000000024, 'wtcr': 1448.4952781619, 'womens': False, 'date': 1748476800000, 'partner': {'name': 'Julius Heitkoetter', 'key': 'julius-heitkoetter'}, 'venue': \"St. Mary's\", 'raceID': 's25/open-fleet-race-national-championships/6B', 'type': 'fleet', 'scoring': '2 Divisions'}, {'score': 16, 'pos': 'Crew', 'predicted': 18, 'ratio': 0.11764705880000001, 'change': 7.2516997776, 'regAvg': 1617.1847543847, 'cross': 1, 'outLinks': 9, 'skipperRating': 1000.0000000024, 'crewRating': 1760.0242861188, 'womenSkipperRating': 1000.0000000024, 'womenCrewRating': 1819.0145549339, 'tsr': 1000.0000000024, 'tcr': 973.5247270621, 'wtsr': 1000.0000000024, 'wtcr': 1448.4952781619, 'womens': False, 'date': 1748476800000, 'partner': {'name': 'Julius Heitkoetter', 'key': 'julius-heitkoetter'}, 'venue': \"St. Mary's\", 'raceID': 's25/open-fleet-race-national-championships/7B', 'type': 'fleet', 'scoring': '2 Divisions'}, {'score': 3, 'pos': 'Crew', 'predicted': 13, 'ratio': 0.8823529412000001, 'change': 17.7758336452, 'regAvg': 1470.4712093787, 'cross': 0, 'outLinks': 0, 'skipperRating': 1000.0000000024, 'crewRating': 1777.800119764, 'womenSkipperRating': 1000.0000000024, 'womenCrewRating': 1819.0145549339, 'tsr': 1000.0000000024, 'tcr': 973.5247270621, 'wtsr': 1000.0000000024, 'wtcr': 1448.4952781619, 'womens': False, 'date': 1757116800000, 'partner': {'name': 'Robert Ulmer', 'key': 'robert-ulmer'}, 'venue': 'Yale', 'raceID': 'f25/harry-anderson/1A', 'type': 'fleet', 'scoring': '2 Divisions'}, {'score': 14, 'pos': 'Crew', 'predicted': 13, 'ratio': 0.23529411760000002, 'change': -0.5122642307, 'regAvg': 1470.4712093787, 'cross': 0, 'outLinks': 0, 'skipperRating': 1000.0000000024, 'crewRating': 1777.2878555333, 'womenSkipperRating': 1000.0000000024, 'womenCrewRating': 1819.0145549339, 'tsr': 1000.0000000024, 'tcr': 973.5247270621, 'wtsr': 1000.0000000024, 'wtcr': 1448.4952781619, 'womens': False, 'date': 1757116800000, 'partner': {'name': 'Robert Ulmer', 'key': 'robert-ulmer'}, 'venue': 'Yale', 'raceID': 'f25/harry-anderson/2A', 'type': 'fleet', 'scoring': '2 Divisions'}, {'score': 14, 'pos': 'Crew', 'predicted': 13, 'ratio': 0.23529411760000002, 'change': -7.3979204089, 'regAvg': 1470.4712093787, 'cross': 0, 'outLinks': 0, 'skipperRating': 1000.0000000024, 'crewRating': 1769.8899351244, 'womenSkipperRating': 1000.0000000024, 'womenCrewRating': 1819.0145549339, 'tsr': 1000.0000000024, 'tcr': 973.5247270621, 'wtsr': 1000.0000000024, 'wtcr': 1448.4952781619, 'womens': False, 'date': 1757116800000, 'partner': {'name': 'Robert Ulmer', 'key': 'robert-ulmer'}, 'venue': 'Yale', 'raceID': 'f25/harry-anderson/3A', 'type': 'fleet', 'scoring': '2 Divisions'}, {'score': 15, 'pos': 'Crew', 'predicted': 11, 'ratio': 0.1764705882, 'change': -13.9626213379, 'regAvg': 1470.4712093787, 'cross': 0, 'outLinks': 0, 'skipperRating': 1000.0000000024, 'crewRating': 1755.9273137865, 'womenSkipperRating': 1000.0000000024, 'womenCrewRating': 1819.0145549339, 'tsr': 1000.0000000024, 'tcr': 973.5247270621, 'wtsr': 1000.0000000024, 'wtcr': 1448.4952781619, 'womens': False, 'date': 1757116800000, 'partner': {'name': 'William Kulas', 'key': 'william-kulas'}, 'venue': 'Yale', 'raceID': 'f25/harry-anderson/4B', 'type': 'fleet', 'scoring': '2 Divisions'}, {'score': 3, 'pos': 'Crew', 'predicted': 11, 'ratio': 0.8823529412000001, 'change': 13.5826886379, 'regAvg': 1470.4712093787, 'cross': 0, 'outLinks': 0, 'skipperRating': 1000.0000000024, 'crewRating': 1769.5100024245, 'womenSkipperRating': 1000.0000000024, 'womenCrewRating': 1819.0145549339, 'tsr': 1000.0000000024, 'tcr': 973.5247270621, 'wtsr': 1000.0000000024, 'wtcr': 1448.4952781619, 'womens': False, 'date': 1757116800000, 'partner': {'name': 'William Kulas', 'key': 'william-kulas'}, 'venue': 'Yale', 'raceID': 'f25/harry-anderson/5B', 'type': 'fleet', 'scoring': '2 Divisions'}, {'score': 17, 'pos': 'Crew', 'predicted': 11, 'ratio': 0.058823529400000005, 'change': -31.9946081161, 'regAvg': 1470.4712093787, 'cross': 0, 'outLinks': 0, 'skipperRating': 1000.0000000024, 'crewRating': 1737.5153943084, 'womenSkipperRating': 1000.0000000024, 'womenCrewRating': 1819.0145549339, 'tsr': 1000.0000000024, 'tcr': 973.5247270621, 'wtsr': 1000.0000000024, 'wtcr': 1448.4952781619, 'womens': False, 'date': 1757116800000, 'partner': {'name': 'William Kulas', 'key': 'william-kulas'}, 'venue': 'Yale', 'raceID': 'f25/harry-anderson/6B', 'type': 'fleet', 'scoring': '2 Divisions'}, {'score': 6, 'pos': 'Crew', 'predicted': 10, 'ratio': 0.6875, 'change': 9.5920432873, 'regAvg': 1340.7881169875, 'cross': 0, 'outLinks': 0, 'skipperRating': 1000.0000000024, 'crewRating': 1747.1074375957, 'womenSkipperRating': 1000.0000000024, 'womenCrewRating': 1819.0145549339, 'tsr': 1000.0000000024, 'tcr': 973.5247270621, 'wtsr': 1000.0000000024, 'wtcr': 1448.4952781619, 'womens': False, 'date': 1757721600000, 'partner': {'name': 'William Kulas', 'key': 'william-kulas'}, 'venue': 'MIT', 'raceID': 'f25/hatch-brown-2025/1B', 'type': 'fleet', 'scoring': '3 Divisions'}, {'score': 4, 'pos': 'Crew', 'predicted': 9, 'ratio': 0.8125, 'change': 10.9321294807, 'regAvg': 1340.7881169875, 'cross': 0, 'outLinks': 0, 'skipperRating': 1000.0000000024, 'crewRating': 1758.0395670764, 'womenSkipperRating': 1000.0000000024, 'womenCrewRating': 1819.0145549339, 'tsr': 1000.0000000024, 'tcr': 973.5247270621, 'wtsr': 1000.0000000024, 'wtcr': 1448.4952781619, 'womens': False, 'date': 1757721600000, 'partner': {'name': 'William Kulas', 'key': 'william-kulas'}, 'venue': 'MIT', 'raceID': 'f25/hatch-brown-2025/2B', 'type': 'fleet', 'scoring': '3 Divisions'}, {'score': 3, 'pos': 'Crew', 'predicted': 9, 'ratio': 0.8823529412000001, 'change': 10.9517702411, 'regAvg': 1340.7881169875, 'cross': 0, 'outLinks': 0, 'skipperRating': 1000.0000000024, 'crewRating': 1768.9913373175, 'womenSkipperRating': 1000.0000000024, 'womenCrewRating': 1819.0145549339, 'tsr': 1000.0000000024, 'tcr': 973.5247270621, 'wtsr': 1000.0000000024, 'wtcr': 1448.4952781619, 'womens': False, 'date': 1757721600000, 'partner': {'name': 'William Kulas', 'key': 'william-kulas'}, 'venue': 'MIT', 'raceID': 'f25/hatch-brown-2025/3B', 'type': 'fleet', 'scoring': '3 Divisions'}, {'score': 3, 'pos': 'Crew', 'predicted': 13, 'ratio': 0.8823529412000001, 'change': 17.8666496189, 'regAvg': 1490.3085937358, 'cross': 0, 'outLinks': 0, 'skipperRating': 1000.0000000024, 'crewRating': 1786.8579869349, 'womenSkipperRating': 1000.0000000024, 'womenCrewRating': 1819.014554932, 'tsr': 1000.0000000024, 'tcr': 973.52472706, 'wtsr': 1000.0000000024, 'wtcr': 1448.4952781584, 'womens': False, 'date': 1757116800000, 'partner': {'name': 'Robert Ulmer', 'key': 'robert-ulmer'}, 'venue': 'Yale', 'raceID': 'f25/harry-anderson/1A', 'type': 'fleet', 'scoring': '2 Divisions'}, {'score': 14, 'pos': 'Crew', 'predicted': 13, 'ratio': 0.23529411760000002, 'change': -0.37809073120000003, 'regAvg': 1490.3085937358, 'cross': 0, 'outLinks': 0, 'skipperRating': 1000.0000000024, 'crewRating': 1786.4798962037, 'womenSkipperRating': 1000.0000000024, 'womenCrewRating': 1819.014554932, 'tsr': 1000.0000000024, 'tcr': 973.52472706, 'wtsr': 1000.0000000024, 'wtcr': 1448.4952781584, 'womens': False, 'date': 1757116800000, 'partner': {'name': 'Robert Ulmer', 'key': 'robert-ulmer'}, 'venue': 'Yale', 'raceID': 'f25/harry-anderson/2A', 'type': 'fleet', 'scoring': '2 Divisions'}, {'score': 14, 'pos': 'Crew', 'predicted': 13, 'ratio': 0.23529411760000002, 'change': -8.3844626665, 'regAvg': 1490.3085937358, 'cross': 0, 'outLinks': 0, 'skipperRating': 1000.0000000024, 'crewRating': 1778.0954335372, 'womenSkipperRating': 1000.0000000024, 'womenCrewRating': 1819.014554932, 'tsr': 1000.0000000024, 'tcr': 973.52472706, 'wtsr': 1000.0000000024, 'wtcr': 1448.4952781584, 'womens': False, 'date': 1757116800000, 'partner': {'name': 'Robert Ulmer', 'key': 'robert-ulmer'}, 'venue': 'Yale', 'raceID': 'f25/harry-anderson/3A', 'type': 'fleet', 'scoring': '2 Divisions'}, {'score': 15, 'pos': 'Crew', 'predicted': 12, 'ratio': 0.1764705882, 'change': -14.2952984368, 'regAvg': 1490.3085937358, 'cross': 0, 'outLinks': 0, 'skipperRating': 1000.0000000024, 'crewRating': 1763.8001351004, 'womenSkipperRating': 1000.0000000024, 'womenCrewRating': 1819.014554932, 'tsr': 1000.0000000024, 'tcr': 973.52472706, 'wtsr': 1000.0000000024, 'wtcr': 1448.4952781584, 'womens': False, 'date': 1757116800000, 'partner': {'name': 'William Kulas', 'key': 'william-kulas'}, 'venue': 'Yale', 'raceID': 'f25/harry-anderson/4B', 'type': 'fleet', 'scoring': '2 Divisions'}, {'score': 3, 'pos': 'Crew', 'predicted': 13, 'ratio': 0.8823529412000001, 'change': 13.5832715098, 'regAvg': 1490.3085937358, 'cross': 0, 'outLinks': 0, 'skipperRating': 1000.0000000024, 'crewRating': 1777.3834066102, 'womenSkipperRating': 1000.0000000024, 'womenCrewRating': 1819.014554932, 'tsr': 1000.0000000024, 'tcr': 973.52472706, 'wtsr': 1000.0000000024, 'wtcr': 1448.4952781584, 'womens': False, 'date': 1757116800000, 'partner': {'name': 'William Kulas', 'key': 'william-kulas'}, 'venue': 'Yale', 'raceID': 'f25/harry-anderson/5B', 'type': 'fleet', 'scoring': '2 Divisions'}, {'score': 17, 'pos': 'Crew', 'predicted': 13, 'ratio': 0.058823529400000005, 'change': -34.1719802974, 'regAvg': 1490.3085937358, 'cross': 0, 'outLinks': 0, 'skipperRating': 1000.0000000024, 'crewRating': 1743.2114263128, 'womenSkipperRating': 1000.0000000024, 'womenCrewRating': 1819.014554932, 'tsr': 1000.0000000024, 'tcr': 973.52472706, 'wtsr': 1000.0000000024, 'wtcr': 1448.4952781584, 'womens': False, 'date': 1757116800000, 'partner': {'name': 'William Kulas', 'key': 'william-kulas'}, 'venue': 'Yale', 'raceID': 'f25/harry-anderson/6B', 'type': 'fleet', 'scoring': '2 Divisions'}, {'score': 6, 'pos': 'Crew', 'predicted': 9, 'ratio': 0.6875, 'change': 9.4734641497, 'regAvg': 1353.5782297285, 'cross': 0, 'outLinks': 0, 'skipperRating': 1000.0000000024, 'crewRating': 1752.6848904626, 'womenSkipperRating': 1000.0000000024, 'womenCrewRating': 1819.014554932, 'tsr': 1000.0000000024, 'tcr': 973.52472706, 'wtsr': 1000.0000000024, 'wtcr': 1448.4952781584, 'womens': False, 'date': 1757721600000, 'partner': {'name': 'William Kulas', 'key': 'william-kulas'}, 'venue': 'MIT', 'raceID': 'f25/hatch-brown-2025/1B', 'type': 'fleet', 'scoring': '3 Divisions'}, {'score': 4, 'pos': 'Crew', 'predicted': 9, 'ratio': 0.8125, 'change': 10.7956401173, 'regAvg': 1353.5782297285, 'cross': 0, 'outLinks': 0, 'skipperRating': 1000.0000000024, 'crewRating': 1763.4805305798, 'womenSkipperRating': 1000.0000000024, 'womenCrewRating': 1819.014554932, 'tsr': 1000.0000000024, 'tcr': 973.52472706, 'wtsr': 1000.0000000024, 'wtcr': 1448.4952781584, 'womens': False, 'date': 1757721600000, 'partner': {'name': 'William Kulas', 'key': 'william-kulas'}, 'venue': 'MIT', 'raceID': 'f25/hatch-brown-2025/2B', 'type': 'fleet', 'scoring': '3 Divisions'}, {'score': 3, 'pos': 'Crew', 'predicted': 9, 'ratio': 0.8823529412000001, 'change': 10.7497492436, 'regAvg': 1353.5782297285, 'cross': 0, 'outLinks': 0, 'skipperRating': 1000.0000000024, 'crewRating': 1774.2302798234, 'womenSkipperRating': 1000.0000000024, 'womenCrewRating': 1819.014554932, 'tsr': 1000.0000000024, 'tcr': 973.52472706, 'wtsr': 1000.0000000024, 'wtcr': 1448.4952781584, 'womens': False, 'date': 1757721600000, 'partner': {'name': 'William Kulas', 'key': 'william-kulas'}, 'venue': 'MIT', 'raceID': 'f25/hatch-brown-2025/3B', 'type': 'fleet', 'scoring': '3 Divisions'}]"
   ]
  }
 ],
 "metadata": {
  "kernelspec": {
   "display_name": "3.13.1",
   "language": "python",
   "name": "python3"
  },
  "language_info": {
   "codemirror_mode": {
    "name": "ipython",
    "version": 3
   },
   "file_extension": ".py",
   "mimetype": "text/x-python",
   "name": "python",
   "nbconvert_exporter": "python",
   "pygments_lexer": "ipython3",
   "version": "3.13.1"
  }
 },
 "nbformat": 4,
 "nbformat_minor": 2
}
